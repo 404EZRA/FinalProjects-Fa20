{
 "cells": [
  {
   "cell_type": "markdown",
   "metadata": {},
   "source": [
    "# What Demographic Factors are Related to Smoking and Obesity in Allegheny County, PA?"
   ]
  },
  {
   "cell_type": "markdown",
   "metadata": {},
   "source": [
    "## Overview\n",
    "Our project initially set out to examine the positive correlation between smoking and obesity rate in Allegheny County, PA. To dive deeper, our team explored demographic variables that could affect both the smoking rate and obesity rate at a county-level. We determined that there is a positive correlation between smoking and obesity rate. We noticed that the number of vendors had a strong correlation with smoking rate and that education to have the most effect on obesity rate."
   ]
  },
  {
   "cell_type": "markdown",
   "metadata": {},
   "source": [
    "## Names\n",
    "- Julia Chu                                                                                                           \n",
    "- Emerson Chin                                                                                                       \n",
    "- Paayal Desai                                                                                                       \n",
    "- Eddie Sim                                                                                                         \n",
    "- Andrea Ortiz"
   ]
  },
  {
   "cell_type": "markdown",
   "metadata": {},
   "source": [
    "## Research Question\n",
    "Is there a relationship between smoking and obesity rate? And what other demographic variables affect smoking rate and obesity rate at a county level? Does an area with higher number of tobacco vendors contribute to a higher obesity rate amongst its population?"
   ]
  },
  {
   "cell_type": "markdown",
   "metadata": {},
   "source": [
    "# Background and Prior Work"
   ]
  },
  {
   "cell_type": "markdown",
   "metadata": {},
   "source": [
    "### Why is this question of interest to our group?\n",
    "Our group wanted to research a public health issue that is relevant and important, and that is not COVID-related. Through research, we found that smoking and obesity are the leading causes of prevetable disease and death in the US. Throughout our youth we were taught about the negative consequences of cigarette usage and recognize its large-scale implications on our health. Despite this, we still notice multiple family members and peers who smoke regularly. We understand the effect of smoking on lung and heart health, but we wanted to explore some “hidden” consequences of cigarette use. Additionally, obesity is cited as another major public health issue in the United States and it also leads to a myriad of health complications. With that, our group is interested in the correlation between smoking and obesity as they are both major health issues in the US."
   ]
  },
  {
   "cell_type": "markdown",
   "metadata": {},
   "source": [
    "### What is already known?\n",
    "It is widely known that smoking is unhealthy and can lead to various health complications, especially lung cancer. According to the Center for Disease Control and Prevention (CDC), smoking harms nearly every organ of the body, reduces the overall health of smokers and causes many deaths. Common complications include cardiovascular disease, respiratory disease, and cancer(1). A previous statement had been released stating that current smokers are less likely to be obese, while fromer smokers are more likely to be obese (2). We thought this was interesting as it contradicted our original hypothesis on the correlation between smoking and obesity, which was that smoking leads to a higher chance of obesity. \n",
    "\n",
    "Additionally, we found through research that some populations that are disportationally affected by cigarette use includes: adults that didn't graduate high school and adult making less than $20,000 year (3). With this in mind, these populations are also more subject obeisty and other unhealthy habits. We believe that the density of tobacco vendors plays a role in this. The placement of tobacco vendors can have an effect on the immediate neighborhood. For example, a 2003 study shows trends where poor neighborhoods have more liquor stores than wealthy neighborhoods (4), which could be a reason why people of lower-economic stature tend to have higher rates of alcohol and tobacco use. We believe that we can further investigate and substantiate this claim with our data. We predict that areas with more tobacco vendors have a larger number of the people who use cigarettes, and thus, are more obese."
   ]
  },
  {
   "cell_type": "markdown",
   "metadata": {},
   "source": [
    "### Why this is important? \n",
    "As stated before, smoking and obesity are the leading causes of preventable disease and death in the United States. To make recommendations for preventative measures in the future, we must understand the multiple underlying factors of these two issues. We hope that our insights could inform personal and public health decisions. Additionally, this kind of research informs the consumers to think critically about their habits and can guide them to decide what’s best for their overall health."
   ]
  },
  {
   "cell_type": "markdown",
   "metadata": {},
   "source": [
    "## References\n",
    "1) https://www.cdc.gov/tobacco/data_statistics/fact_sheets/health_effects/effects_cig_smoking/index.htm             \n",
    "2)https://www.ncbi.nlm.nih.gov/pmc/articles/PMC4401671/#:~:text=Among%20smokers%2C%20the%20risk%20of,fell%20with%20time%20from%20quitting\n",
    "\n",
    "3) https://www.lung.org/research/sotc/by-the-numbers/top-10-populations-affected#:~:text=Americans%20making%20less%20than%20%2420%2C000%20a%20year%20have%20a%20smoking,%2420%2C000%20a%20year%20or%20more.&text=People%20living%20in%20poverty%20smoke,three%20times%20the%20poverty%20rate.\n",
    "\n",
    "4) https://cnsmaryland.org/2003/04/18/low-income-neighborhoods-home-to-higher-number-of-liquor-stores/ "
   ]
  },
  {
   "cell_type": "markdown",
   "metadata": {},
   "source": [
    "# Hypothesis\n",
    "\n",
    "We hypothesize that there is a postive correlation between smoking and obsetity rate. The number of tobacco vendors in a city will have the most effect on smoking rate; and areas with higher poverty rate will also have higher obesity rate becauase they have more tobacco vendors, and hence, more exposure to smoking.  "
   ]
  },
  {
   "cell_type": "markdown",
   "metadata": {},
   "source": [
    "# Dataset(s)\n",
    "We want to conduct this study at a county level. All datasets below are pertaining to Allegheny County. Allegheny County (Pennsylvania) and the City of Pittsburgh both publish their data through the Western Pennsylvania Regional Data Center."
   ]
  },
  {
   "cell_type": "markdown",
   "metadata": {},
   "source": [
    "### Dataset 1: Obesity Rates in Allegheny\n",
    "- Link: https://data.wprdc.org/dataset/b049da40-910a-4b9d-9438-ff584e432bb1/resource/fce248f0-8697-4d2a-bbe0-2da826776bfa/download/obesity-ac-2006-2010censustracts.csv                                                         \n",
    "- Number of Observations: 417                                                                                         \n",
    "- This dataset contains the results for the estimated obesity ratein Allegheny county between 2006 and 2010. The data is sorted by Census FIPS tracts, and also identify the respective neighborhood.                   \n",
    "- It includes: \n",
    "    - State Name\n",
    "    - Tractflip\n",
    "    - 2000 Census Tract\n",
    "    - 2010 Census Tract\n",
    "    - Municipality\n",
    "    - City Neighborhood\n",
    "    - 2006-2010 estimate of obsesity\n",
    "- For our research questions, we chose to look at information relative to location and obesity rate:\n",
    "    - Tractfip\n",
    "    - 2000 Census Tract\n",
    "    - City Neighborbood\n",
    "    - 2006-2010 estimate of obsesity"
   ]
  },
  {
   "cell_type": "markdown",
   "metadata": {},
   "source": [
    "### Dataset 2: Smoking Rates in Allegheny\n",
    "- Link: https://data.wprdc.org/dataset/aeaf61da-2533-43b3-8744-2187fccbe163/resource/7cabd3e1-6d14-48e3-abda-6d3c15c26565/download/origional-smokingtractgamephitaugust082013ac.csv                                             \n",
    "- Number of Observations: 3122                                                                                       \n",
    "- This dataset contains the results for the estimated smoking prevalence in Allegheny County between 2006 and 2010. The data is sorted by census FIPS tracts                 \n",
    "- It includes:                                                                                                       \n",
    "    - State Name                                                                                                         \n",
    "    - Tractfips                                                                                                           \n",
    "    - Estimated Smoking Prevalence 2006-2010\n",
    "\n",
    "- For our research, we only want to look at columns tractfips, and estimate smoking prevalence to see the smoking rates during 2006-2010."
   ]
  },
  {
   "cell_type": "markdown",
   "metadata": {},
   "source": [
    "### Dataset 3: Tobacco Vendors in Allegheny County\n",
    "- Link: https://data.wprdc.org/dataset/77e60b5b-1897-45b5-b39a-89f1a0966a13/resource/7cbf057a-2f16-4508-bf1d-99c8f0af9f20/download/data-alleghenycountytobaccoretailerlistingtracking0313261358a.csv                             \n",
    "- Number of Observations: 1248                                                                                       \n",
    "- This dataset contains the license and location information of all tobacco vendors in Allegheny County.                 \n",
    "- It includes:                                                                                                       \n",
    "    - License Number                                                                                                     \n",
    "    - License Type                                                                                                       \n",
    "    - Issue Date                                                                                                         \n",
    "    - License Status                                                                                                     \n",
    "    - Expire Date                                                                                                         \n",
    "    - Legal Name                                                                                                         \n",
    "    - Street1 (address 1)                                                                                                 \n",
    "    - Street2 (address 2)                                                                                                 \n",
    "    - City                                                                                                               \n",
    "    - State                                                                                                               \n",
    "    - Zip (Zip Code)                                                                                                     \n",
    "    - County Code\n",
    "    \n",
    "- For our research, we chose look at the locational information for these vendors:\n",
    "    - Legal Name\n",
    "    \n",
    "    - Street\n",
    "    \n",
    "    - Zip (Zip Code)"
   ]
  },
  {
   "cell_type": "markdown",
   "metadata": {},
   "source": [
    "### Dataset 4: FIPS and ZIP Codes in the US\n",
    "- Because a portion of our data set uses census tracts as a geographic identifier while others uses zipcode, we needed a convertaion dataset to match an areas tract to its zip. \n",
    "\n",
    "- Link: https://www.huduser.gov/portal/datasets/usps_crosswalk.html#codebook\n",
    "\n",
    "- Number of observations: 145819\n",
    "\n",
    "- This data set includes the 2010 census tracts of locations in the United States with it's coresponding zipcode as well as other geographic information. Columns include:\n",
    "    - ZIP: 5 digit USPS ZIP code\n",
    "    \n",
    "    - TRACT: 11 digit unique 2000 or 2010 Census tract GEOID consisting of state FIPS + county FIPS + tract code\n",
    "    \n",
    "    - RES_RATIO: The ratio of residential addresses in the ZIP – Tract\n",
    "    \n",
    "    - BUS_RATIO: The ratio of business addresses in the ZIP – Tract\n",
    "    \n",
    "    - OTH_RATIO: The ratio of other addresses in the ZIP – Tract\n",
    "    \n",
    "    - TOT_RATIO: The ratio of all addresses in the ZIP – Tract\n",
    "\n",
    "- For our research, we are only looking at Allegheny County, so we will be filtering for the tracts and zips of that region."
   ]
  },
  {
   "cell_type": "markdown",
   "metadata": {},
   "source": [
    "### Dataset 5: Education and Income in Allegheny County\n",
    "\n",
    "- Link: https://catalog.data.gov/dataset/state-of-aging-in-allegheny-county-survey/resource/c3eb0038-47a0-49ca-a4af-5dc318593f27\n",
    "\n",
    "- Number of observations: 90\n",
    "\n",
    "- This dataset includes the demographic information such as population, education attainment levels, median income, and poverty rate of the various neighborhoods in Allegheny County from the years 1999 to 2010. The data is sorted by Neighborhood. This includes:\n",
    "    - Neighborhood\n",
    "    - Sector Number\n",
    "    - Population (2010)\n",
    "    - Total Population 25 and older (2010)\n",
    "    - Education attainment: less than high school (2010)\n",
    "    - Education attainment: high school graduate (2010)\n",
    "    - Education attainment: acco./prof. degree (2010)\n",
    "    - Education attainment: bachelor's degree (2010)\n",
    "    - Education attainment: postgraducate degree (2010)\n",
    "    - Median Income (1999)\n",
    "    - Median Income (2009)\n",
    "    - Est. population under Poverty (2010)\n",
    "    - Est percent under Poverty (2010)\n",
    "\n",
    "- For our research question, which is looking at whether education level, income, or poverty rate affects the placements of tobcacco vendors in an area, we will on look at the following information:\n",
    "    - Neightborhood\n",
    "    - Education attainment: high school graduate (2010)\n",
    "    - Median Income (2009)\n",
    "    - Est percent under Poverty (2010)"
   ]
  },
  {
   "cell_type": "markdown",
   "metadata": {},
   "source": [
    "### How we plan on combing the dataset. \n",
    "Because the datasets for smoking and obesity rate (Datasets 1 and 2) use FIPS tract number as its geographic identifier, while the dataset for tobacco vendors (Dataset 3) use zipcode as its geopraphic identifier, we will use the dataset with FIPS and ZIP (Dataset 4) to combine the datasets. Lasetly, to combine the dataset with education and income rate (Dataset 5), we will use neighborhood as it's geoprahic identifier. "
   ]
  },
  {
   "cell_type": "markdown",
   "metadata": {},
   "source": [
    "# Setup"
   ]
  },
  {
   "cell_type": "code",
   "execution_count": 1,
   "metadata": {},
   "outputs": [],
   "source": [
    "#Import statements\n",
    "import pandas as pd\n",
    "import numpy as np\n",
    "#import geopandas as gpd\n",
    "#import plotly.figure_factory as ff\n",
    "\n",
    "#Graphing\n",
    "import seaborn as sns\n",
    "import matplotlib.pyplot as plt\n",
    "#from shapely.geometry import Point, Polygon\n",
    "%matplotlib inline\n",
    "\n",
    "#statistics\n",
    "import patsy\n",
    "import statsmodels.api as sm\n",
    "import scipy.stats as stats\n",
    "\n",
    "#dimensionality reduction\n",
    "from sklearn.preprocessing import StandardScaler\n",
    "from sklearn.decomposition import PCA"
   ]
  },
  {
   "cell_type": "markdown",
   "metadata": {},
   "source": [
    "# Data Cleaning "
   ]
  },
  {
   "cell_type": "markdown",
   "metadata": {},
   "source": [
    "## Dataset 1: Obesity Rates in Allegheny County"
   ]
  },
  {
   "cell_type": "markdown",
   "metadata": {},
   "source": [
    "### Import data"
   ]
  },
  {
   "cell_type": "code",
   "execution_count": 2,
   "metadata": {},
   "outputs": [
    {
     "data": {
      "text/html": [
       "<div>\n",
       "<style scoped>\n",
       "    .dataframe tbody tr th:only-of-type {\n",
       "        vertical-align: middle;\n",
       "    }\n",
       "\n",
       "    .dataframe tbody tr th {\n",
       "        vertical-align: top;\n",
       "    }\n",
       "\n",
       "    .dataframe thead th {\n",
       "        text-align: right;\n",
       "    }\n",
       "</style>\n",
       "<table border=\"1\" class=\"dataframe\">\n",
       "  <thead>\n",
       "    <tr style=\"text-align: right;\">\n",
       "      <th></th>\n",
       "      <th>stname</th>\n",
       "      <th>tractfips</th>\n",
       "      <th>2000 Tract</th>\n",
       "      <th>2010 Tract</th>\n",
       "      <th>MUNICIPALITY</th>\n",
       "      <th>Municipality</th>\n",
       "      <th>City Neighborhood</th>\n",
       "      <th>2006-2010 estimate of obesity</th>\n",
       "    </tr>\n",
       "  </thead>\n",
       "  <tbody>\n",
       "    <tr>\n",
       "      <th>0</th>\n",
       "      <td>Pennsylvania</td>\n",
       "      <td>42003010300</td>\n",
       "      <td>10300</td>\n",
       "      <td>NaN</td>\n",
       "      <td>PITTSBURGH</td>\n",
       "      <td>Pittsburgh</td>\n",
       "      <td>Bluff</td>\n",
       "      <td>0.246936</td>\n",
       "    </tr>\n",
       "    <tr>\n",
       "      <th>1</th>\n",
       "      <td>Pennsylvania</td>\n",
       "      <td>42003020100</td>\n",
       "      <td>20100</td>\n",
       "      <td>NaN</td>\n",
       "      <td>PITTSBURGH</td>\n",
       "      <td>Pittsburgh</td>\n",
       "      <td>Central Business District</td>\n",
       "      <td>0.668012</td>\n",
       "    </tr>\n",
       "    <tr>\n",
       "      <th>2</th>\n",
       "      <td>Pennsylvania</td>\n",
       "      <td>42003020300</td>\n",
       "      <td>20300</td>\n",
       "      <td>NaN</td>\n",
       "      <td>PITTSBURGH</td>\n",
       "      <td>Pittsburgh</td>\n",
       "      <td>Strip District</td>\n",
       "      <td>0.369996</td>\n",
       "    </tr>\n",
       "    <tr>\n",
       "      <th>3</th>\n",
       "      <td>Pennsylvania</td>\n",
       "      <td>42003030500</td>\n",
       "      <td>30500</td>\n",
       "      <td>NaN</td>\n",
       "      <td>PITTSBURGH</td>\n",
       "      <td>Pittsburgh</td>\n",
       "      <td>Crawford Roberts</td>\n",
       "      <td>0.488691</td>\n",
       "    </tr>\n",
       "    <tr>\n",
       "      <th>4</th>\n",
       "      <td>Pennsylvania</td>\n",
       "      <td>42003040200</td>\n",
       "      <td>40200</td>\n",
       "      <td>NaN</td>\n",
       "      <td>PITTSBURGH</td>\n",
       "      <td>Pittsburgh</td>\n",
       "      <td>West oakland</td>\n",
       "      <td>0.366391</td>\n",
       "    </tr>\n",
       "    <tr>\n",
       "      <th>...</th>\n",
       "      <td>...</td>\n",
       "      <td>...</td>\n",
       "      <td>...</td>\n",
       "      <td>...</td>\n",
       "      <td>...</td>\n",
       "      <td>...</td>\n",
       "      <td>...</td>\n",
       "      <td>...</td>\n",
       "    </tr>\n",
       "    <tr>\n",
       "      <th>411</th>\n",
       "      <td>Pennsylvania</td>\n",
       "      <td>42003980600</td>\n",
       "      <td>210800</td>\n",
       "      <td>980600</td>\n",
       "      <td>PITTSBURGH</td>\n",
       "      <td>Pittsburgh</td>\n",
       "      <td>Chateau</td>\n",
       "      <td>0.439386</td>\n",
       "    </tr>\n",
       "    <tr>\n",
       "      <th>412</th>\n",
       "      <td>Pennsylvania</td>\n",
       "      <td>42003980700</td>\n",
       "      <td>192100</td>\n",
       "      <td>980700</td>\n",
       "      <td>PITTSBURGH</td>\n",
       "      <td>Pittsburgh</td>\n",
       "      <td>South Shore</td>\n",
       "      <td>0.354375</td>\n",
       "    </tr>\n",
       "    <tr>\n",
       "      <th>413</th>\n",
       "      <td>Pennsylvania</td>\n",
       "      <td>42003981200</td>\n",
       "      <td>220500</td>\n",
       "      <td>563200 &amp; 981200</td>\n",
       "      <td>PITTSBURGH</td>\n",
       "      <td>Pittsburgh</td>\n",
       "      <td>North Shore</td>\n",
       "      <td>0.121487</td>\n",
       "    </tr>\n",
       "    <tr>\n",
       "      <th>414</th>\n",
       "      <td>Pennsylvania</td>\n",
       "      <td>42003981800</td>\n",
       "      <td>120300</td>\n",
       "      <td>NaN</td>\n",
       "      <td>PITTSBURGH</td>\n",
       "      <td>Pittsburgh</td>\n",
       "      <td>Lincoln-Lemington-Belmar</td>\n",
       "      <td>0.574293</td>\n",
       "    </tr>\n",
       "    <tr>\n",
       "      <th>415</th>\n",
       "      <td>Pennsylvania</td>\n",
       "      <td>42003982200</td>\n",
       "      <td>50700</td>\n",
       "      <td>562000 &amp; 982200</td>\n",
       "      <td>PITTSBURGH</td>\n",
       "      <td>Pittsburgh</td>\n",
       "      <td>North Oakland</td>\n",
       "      <td>0.138806</td>\n",
       "    </tr>\n",
       "  </tbody>\n",
       "</table>\n",
       "<p>416 rows × 8 columns</p>\n",
       "</div>"
      ],
      "text/plain": [
       "           stname    tractfips  2000 Tract       2010 Tract  MUNICIPALITY  \\\n",
       "0    Pennsylvania  42003010300       10300              NaN  PITTSBURGH     \n",
       "1    Pennsylvania  42003020100       20100              NaN  PITTSBURGH     \n",
       "2    Pennsylvania  42003020300       20300              NaN  PITTSBURGH     \n",
       "3    Pennsylvania  42003030500       30500              NaN  PITTSBURGH     \n",
       "4    Pennsylvania  42003040200       40200              NaN  PITTSBURGH     \n",
       "..            ...          ...         ...              ...           ...   \n",
       "411  Pennsylvania  42003980600      210800           980600  PITTSBURGH     \n",
       "412  Pennsylvania  42003980700      192100           980700  PITTSBURGH     \n",
       "413  Pennsylvania  42003981200      220500  563200 & 981200  PITTSBURGH     \n",
       "414  Pennsylvania  42003981800      120300              NaN  PITTSBURGH     \n",
       "415  Pennsylvania  42003982200       50700  562000 & 982200  PITTSBURGH     \n",
       "\n",
       "     Municipality          City Neighborhood  2006-2010 estimate of obesity  \n",
       "0    Pittsburgh                        Bluff                       0.246936  \n",
       "1    Pittsburgh    Central Business District                       0.668012  \n",
       "2    Pittsburgh               Strip District                       0.369996  \n",
       "3    Pittsburgh             Crawford Roberts                       0.488691  \n",
       "4    Pittsburgh                 West oakland                       0.366391  \n",
       "..            ...                        ...                            ...  \n",
       "411  Pittsburgh                      Chateau                       0.439386  \n",
       "412  Pittsburgh                  South Shore                       0.354375  \n",
       "413  Pittsburgh                  North Shore                       0.121487  \n",
       "414  Pittsburgh     Lincoln-Lemington-Belmar                       0.574293  \n",
       "415  Pittsburgh                North Oakland                       0.138806  \n",
       "\n",
       "[416 rows x 8 columns]"
      ]
     },
     "execution_count": 2,
     "metadata": {},
     "output_type": "execute_result"
    }
   ],
   "source": [
    "#Load the data\n",
    "df_obesity_rate = pd.read_csv('obesity-ac-2006-2010censustracts.csv')\n",
    "df_obesity_rate"
   ]
  },
  {
   "cell_type": "code",
   "execution_count": 3,
   "metadata": {},
   "outputs": [
    {
     "data": {
      "text/plain": [
       "stname                            object\n",
       "tractfips                          int64\n",
       "2000 Tract                         int64\n",
       "2010 Tract                        object\n",
       "MUNICIPALITY                      object\n",
       "Municipality                      object\n",
       "City Neighborhood                 object\n",
       "2006-2010 estimate of obesity    float64\n",
       "dtype: object"
      ]
     },
     "execution_count": 3,
     "metadata": {},
     "output_type": "execute_result"
    }
   ],
   "source": [
    "#check the data types\n",
    "df_obesity_rate.dtypes\n",
    "\n",
    "##we notice that 2000 tract is read as an int. Since it is an identifier, will need to change it to an object."
   ]
  },
  {
   "cell_type": "code",
   "execution_count": 4,
   "metadata": {},
   "outputs": [
    {
     "data": {
      "text/plain": [
       "stname                             0\n",
       "tractfips                          0\n",
       "2000 Tract                         0\n",
       "2010 Tract                       359\n",
       "MUNICIPALITY                       0\n",
       "Municipality                       0\n",
       "City Neighborhood                276\n",
       "2006-2010 estimate of obesity      0\n",
       "dtype: int64"
      ]
     },
     "execution_count": 4,
     "metadata": {},
     "output_type": "execute_result"
    }
   ],
   "source": [
    "#checking number of null values in each column\n",
    "df_obesity_rate.isnull().sum()"
   ]
  },
  {
   "cell_type": "code",
   "execution_count": 5,
   "metadata": {},
   "outputs": [
    {
     "name": "stdout",
     "output_type": "stream",
     "text": [
      "Pennsylvania    416\n",
      "Name: stname, dtype: int64\n"
     ]
    }
   ],
   "source": [
    "#checking if all data is in the state Pennsylvania\n",
    "test = df_obesity_rate['stname'].value_counts()\n",
    "print(test)"
   ]
  },
  {
   "cell_type": "markdown",
   "metadata": {},
   "source": [
    "### Select columns\n",
    "We noticed that there are 359 out of 416 missing values for the column '2010 Tract'. Since 2010 Track only has a small percentage of reported values, we will rely on the 2000 Tract, which has no missing values.\n",
    "\n",
    "Since all data values are in the state of Pennsylvania, we can remove the ‘stname’ column.\n",
    "\n",
    "There are two municipality columns and the two columns contain the same value for each row. Thus, we will only keep one of the columns."
   ]
  },
  {
   "cell_type": "code",
   "execution_count": 6,
   "metadata": {},
   "outputs": [
    {
     "data": {
      "text/html": [
       "<div>\n",
       "<style scoped>\n",
       "    .dataframe tbody tr th:only-of-type {\n",
       "        vertical-align: middle;\n",
       "    }\n",
       "\n",
       "    .dataframe tbody tr th {\n",
       "        vertical-align: top;\n",
       "    }\n",
       "\n",
       "    .dataframe thead th {\n",
       "        text-align: right;\n",
       "    }\n",
       "</style>\n",
       "<table border=\"1\" class=\"dataframe\">\n",
       "  <thead>\n",
       "    <tr style=\"text-align: right;\">\n",
       "      <th></th>\n",
       "      <th>tractfips</th>\n",
       "      <th>2000_tract</th>\n",
       "      <th>neighborhood</th>\n",
       "      <th>obesity_rate</th>\n",
       "    </tr>\n",
       "  </thead>\n",
       "  <tbody>\n",
       "    <tr>\n",
       "      <th>0</th>\n",
       "      <td>42003010300</td>\n",
       "      <td>10300</td>\n",
       "      <td>Bluff</td>\n",
       "      <td>0.246936</td>\n",
       "    </tr>\n",
       "    <tr>\n",
       "      <th>1</th>\n",
       "      <td>42003020100</td>\n",
       "      <td>20100</td>\n",
       "      <td>Central Business District</td>\n",
       "      <td>0.668012</td>\n",
       "    </tr>\n",
       "    <tr>\n",
       "      <th>2</th>\n",
       "      <td>42003020300</td>\n",
       "      <td>20300</td>\n",
       "      <td>Strip District</td>\n",
       "      <td>0.369996</td>\n",
       "    </tr>\n",
       "    <tr>\n",
       "      <th>3</th>\n",
       "      <td>42003030500</td>\n",
       "      <td>30500</td>\n",
       "      <td>Crawford Roberts</td>\n",
       "      <td>0.488691</td>\n",
       "    </tr>\n",
       "    <tr>\n",
       "      <th>4</th>\n",
       "      <td>42003040200</td>\n",
       "      <td>40200</td>\n",
       "      <td>West oakland</td>\n",
       "      <td>0.366391</td>\n",
       "    </tr>\n",
       "  </tbody>\n",
       "</table>\n",
       "</div>"
      ],
      "text/plain": [
       "     tractfips  2000_tract               neighborhood  obesity_rate\n",
       "0  42003010300       10300                      Bluff      0.246936\n",
       "1  42003020100       20100  Central Business District      0.668012\n",
       "2  42003020300       20300             Strip District      0.369996\n",
       "3  42003030500       30500           Crawford Roberts      0.488691\n",
       "4  42003040200       40200               West oakland      0.366391"
      ]
     },
     "execution_count": 6,
     "metadata": {},
     "output_type": "execute_result"
    }
   ],
   "source": [
    "#renaming the columns\n",
    "df_obesity_rate.columns = ['state', 'tractfips', '2000_tract', '2010_tract', 'municipality', 'municipality', 'neighborhood', 'obesity_rate'] \n",
    "\n",
    "#select necessary columns\n",
    "df_obesity_rate = df_obesity_rate.drop (columns = ['state', '2010_tract', 'municipality'])\n",
    "\n",
    "df_obesity_rate.head()\n",
    "\n"
   ]
  },
  {
   "cell_type": "markdown",
   "metadata": {},
   "source": [
    "## Dataset 2: Smoking Rates in Allegheny"
   ]
  },
  {
   "cell_type": "markdown",
   "metadata": {},
   "source": [
    "### Import Data"
   ]
  },
  {
   "cell_type": "code",
   "execution_count": 7,
   "metadata": {},
   "outputs": [
    {
     "data": {
      "text/html": [
       "<div>\n",
       "<style scoped>\n",
       "    .dataframe tbody tr th:only-of-type {\n",
       "        vertical-align: middle;\n",
       "    }\n",
       "\n",
       "    .dataframe tbody tr th {\n",
       "        vertical-align: top;\n",
       "    }\n",
       "\n",
       "    .dataframe thead th {\n",
       "        text-align: right;\n",
       "    }\n",
       "</style>\n",
       "<table border=\"1\" class=\"dataframe\">\n",
       "  <thead>\n",
       "    <tr style=\"text-align: right;\">\n",
       "      <th></th>\n",
       "      <th>stname</th>\n",
       "      <th>tractfips</th>\n",
       "      <th>estimated smoking prevalence, 2006-2010</th>\n",
       "    </tr>\n",
       "  </thead>\n",
       "  <tbody>\n",
       "    <tr>\n",
       "      <th>0</th>\n",
       "      <td>Pennsylvania</td>\n",
       "      <td>42001030101</td>\n",
       "      <td>0.231677</td>\n",
       "    </tr>\n",
       "    <tr>\n",
       "      <th>1</th>\n",
       "      <td>Pennsylvania</td>\n",
       "      <td>42001030102</td>\n",
       "      <td>0.235425</td>\n",
       "    </tr>\n",
       "    <tr>\n",
       "      <th>2</th>\n",
       "      <td>Pennsylvania</td>\n",
       "      <td>42001030200</td>\n",
       "      <td>0.249149</td>\n",
       "    </tr>\n",
       "    <tr>\n",
       "      <th>3</th>\n",
       "      <td>Pennsylvania</td>\n",
       "      <td>42001030300</td>\n",
       "      <td>0.251572</td>\n",
       "    </tr>\n",
       "    <tr>\n",
       "      <th>4</th>\n",
       "      <td>Pennsylvania</td>\n",
       "      <td>42001030400</td>\n",
       "      <td>0.241008</td>\n",
       "    </tr>\n",
       "    <tr>\n",
       "      <th>...</th>\n",
       "      <td>...</td>\n",
       "      <td>...</td>\n",
       "      <td>...</td>\n",
       "    </tr>\n",
       "    <tr>\n",
       "      <th>3117</th>\n",
       "      <td>Pennsylvania</td>\n",
       "      <td>42133023810</td>\n",
       "      <td>0.218732</td>\n",
       "    </tr>\n",
       "    <tr>\n",
       "      <th>3118</th>\n",
       "      <td>Pennsylvania</td>\n",
       "      <td>42133023821</td>\n",
       "      <td>0.190992</td>\n",
       "    </tr>\n",
       "    <tr>\n",
       "      <th>3119</th>\n",
       "      <td>Pennsylvania</td>\n",
       "      <td>42133023822</td>\n",
       "      <td>0.198977</td>\n",
       "    </tr>\n",
       "    <tr>\n",
       "      <th>3120</th>\n",
       "      <td>Pennsylvania</td>\n",
       "      <td>42133023900</td>\n",
       "      <td>0.227510</td>\n",
       "    </tr>\n",
       "    <tr>\n",
       "      <th>3121</th>\n",
       "      <td>Pennsylvania</td>\n",
       "      <td>42133024000</td>\n",
       "      <td>0.253825</td>\n",
       "    </tr>\n",
       "  </tbody>\n",
       "</table>\n",
       "<p>3122 rows × 3 columns</p>\n",
       "</div>"
      ],
      "text/plain": [
       "            stname    tractfips  estimated smoking prevalence, 2006-2010\n",
       "0     Pennsylvania  42001030101                                 0.231677\n",
       "1     Pennsylvania  42001030102                                 0.235425\n",
       "2     Pennsylvania  42001030200                                 0.249149\n",
       "3     Pennsylvania  42001030300                                 0.251572\n",
       "4     Pennsylvania  42001030400                                 0.241008\n",
       "...            ...          ...                                      ...\n",
       "3117  Pennsylvania  42133023810                                 0.218732\n",
       "3118  Pennsylvania  42133023821                                 0.190992\n",
       "3119  Pennsylvania  42133023822                                 0.198977\n",
       "3120  Pennsylvania  42133023900                                 0.227510\n",
       "3121  Pennsylvania  42133024000                                 0.253825\n",
       "\n",
       "[3122 rows x 3 columns]"
      ]
     },
     "execution_count": 7,
     "metadata": {},
     "output_type": "execute_result"
    }
   ],
   "source": [
    "#Load the data\n",
    "df_smoking_rates = pd.read_csv('origional-smokingtractgamephitaugust082013ac.csv')\n",
    "df_smoking_rates"
   ]
  },
  {
   "cell_type": "code",
   "execution_count": 8,
   "metadata": {},
   "outputs": [
    {
     "data": {
      "text/plain": [
       "stname                                      object\n",
       "tractfips                                    int64\n",
       "estimated smoking prevalence, 2006-2010    float64\n",
       "dtype: object"
      ]
     },
     "execution_count": 8,
     "metadata": {},
     "output_type": "execute_result"
    }
   ],
   "source": [
    "#First, let's check the datatypes for each column\n",
    "df_smoking_rates.dtypes"
   ]
  },
  {
   "cell_type": "markdown",
   "metadata": {},
   "source": [
    "The column tracfips is an int type, however it is an identifier, so we want it to be of object type. After running the code below, tractfips will be casted to an object type."
   ]
  },
  {
   "cell_type": "code",
   "execution_count": 9,
   "metadata": {},
   "outputs": [
    {
     "data": {
      "text/plain": [
       "0       42001030101\n",
       "1       42001030102\n",
       "2       42001030200\n",
       "3       42001030300\n",
       "4       42001030400\n",
       "           ...     \n",
       "3117    42133023810\n",
       "3118    42133023821\n",
       "3119    42133023822\n",
       "3120    42133023900\n",
       "3121    42133024000\n",
       "Name: tractfips, Length: 3122, dtype: object"
      ]
     },
     "execution_count": 9,
     "metadata": {},
     "output_type": "execute_result"
    }
   ],
   "source": [
    "#casting 'tracfips' to be an object type\n",
    "df_smoking_rates['tractfips'].astype(int).astype(str)"
   ]
  },
  {
   "cell_type": "markdown",
   "metadata": {},
   "source": [
    "### Missing Values"
   ]
  },
  {
   "cell_type": "code",
   "execution_count": 10,
   "metadata": {},
   "outputs": [
    {
     "data": {
      "text/plain": [
       "stname                                     0\n",
       "tractfips                                  0\n",
       "estimated smoking prevalence, 2006-2010    0\n",
       "dtype: int64"
      ]
     },
     "execution_count": 10,
     "metadata": {},
     "output_type": "execute_result"
    }
   ],
   "source": [
    "#Now that we have imported the data, let's check for missing values\n",
    "df_smoking_rates.isnull().sum()"
   ]
  },
  {
   "cell_type": "markdown",
   "metadata": {},
   "source": [
    "There are no missing values, so there is no need to remove any rows with null values! Now, we can move on to renaming the columns and removing any uneccesary columns."
   ]
  },
  {
   "cell_type": "markdown",
   "metadata": {},
   "source": [
    "### Renaming/Removing Columns"
   ]
  },
  {
   "cell_type": "markdown",
   "metadata": {},
   "source": [
    "Most rows in the column 'stname' have the same value of Pennsylvania. However, we do not know if this is the case for all values in that column, so let's check the value counts of that column before we remove it. "
   ]
  },
  {
   "cell_type": "code",
   "execution_count": 11,
   "metadata": {},
   "outputs": [
    {
     "data": {
      "text/plain": [
       "Pennsylvania    3122\n",
       "Name: stname, dtype: int64"
      ]
     },
     "execution_count": 11,
     "metadata": {},
     "output_type": "execute_result"
    }
   ],
   "source": [
    "#checking the value counts for the 'stname' column\n",
    "df_smoking_rates['stname'].value_counts()"
   ]
  },
  {
   "cell_type": "markdown",
   "metadata": {},
   "source": [
    "As we can see from above, all 3122 rows in the column 'stname' have the same value of Pennsylvania, so we can remove this column to make the data less crowded."
   ]
  },
  {
   "cell_type": "code",
   "execution_count": 12,
   "metadata": {},
   "outputs": [],
   "source": [
    "#remove 'stname' column\n",
    "df_smoking_rates = df_smoking_rates.drop(columns = ['stname'])"
   ]
  },
  {
   "cell_type": "markdown",
   "metadata": {},
   "source": [
    "Now that have taken care of removing unneccesary columns, we are going to rename our columns to make them a little more clearer."
   ]
  },
  {
   "cell_type": "code",
   "execution_count": 13,
   "metadata": {},
   "outputs": [
    {
     "data": {
      "text/html": [
       "<div>\n",
       "<style scoped>\n",
       "    .dataframe tbody tr th:only-of-type {\n",
       "        vertical-align: middle;\n",
       "    }\n",
       "\n",
       "    .dataframe tbody tr th {\n",
       "        vertical-align: top;\n",
       "    }\n",
       "\n",
       "    .dataframe thead th {\n",
       "        text-align: right;\n",
       "    }\n",
       "</style>\n",
       "<table border=\"1\" class=\"dataframe\">\n",
       "  <thead>\n",
       "    <tr style=\"text-align: right;\">\n",
       "      <th></th>\n",
       "      <th>tract_number</th>\n",
       "      <th>smoking_rate</th>\n",
       "    </tr>\n",
       "  </thead>\n",
       "  <tbody>\n",
       "    <tr>\n",
       "      <th>0</th>\n",
       "      <td>42001030101</td>\n",
       "      <td>0.231677</td>\n",
       "    </tr>\n",
       "    <tr>\n",
       "      <th>1</th>\n",
       "      <td>42001030102</td>\n",
       "      <td>0.235425</td>\n",
       "    </tr>\n",
       "    <tr>\n",
       "      <th>2</th>\n",
       "      <td>42001030200</td>\n",
       "      <td>0.249149</td>\n",
       "    </tr>\n",
       "    <tr>\n",
       "      <th>3</th>\n",
       "      <td>42001030300</td>\n",
       "      <td>0.251572</td>\n",
       "    </tr>\n",
       "    <tr>\n",
       "      <th>4</th>\n",
       "      <td>42001030400</td>\n",
       "      <td>0.241008</td>\n",
       "    </tr>\n",
       "    <tr>\n",
       "      <th>...</th>\n",
       "      <td>...</td>\n",
       "      <td>...</td>\n",
       "    </tr>\n",
       "    <tr>\n",
       "      <th>3117</th>\n",
       "      <td>42133023810</td>\n",
       "      <td>0.218732</td>\n",
       "    </tr>\n",
       "    <tr>\n",
       "      <th>3118</th>\n",
       "      <td>42133023821</td>\n",
       "      <td>0.190992</td>\n",
       "    </tr>\n",
       "    <tr>\n",
       "      <th>3119</th>\n",
       "      <td>42133023822</td>\n",
       "      <td>0.198977</td>\n",
       "    </tr>\n",
       "    <tr>\n",
       "      <th>3120</th>\n",
       "      <td>42133023900</td>\n",
       "      <td>0.227510</td>\n",
       "    </tr>\n",
       "    <tr>\n",
       "      <th>3121</th>\n",
       "      <td>42133024000</td>\n",
       "      <td>0.253825</td>\n",
       "    </tr>\n",
       "  </tbody>\n",
       "</table>\n",
       "<p>3122 rows × 2 columns</p>\n",
       "</div>"
      ],
      "text/plain": [
       "      tract_number  smoking_rate\n",
       "0      42001030101      0.231677\n",
       "1      42001030102      0.235425\n",
       "2      42001030200      0.249149\n",
       "3      42001030300      0.251572\n",
       "4      42001030400      0.241008\n",
       "...            ...           ...\n",
       "3117   42133023810      0.218732\n",
       "3118   42133023821      0.190992\n",
       "3119   42133023822      0.198977\n",
       "3120   42133023900      0.227510\n",
       "3121   42133024000      0.253825\n",
       "\n",
       "[3122 rows x 2 columns]"
      ]
     },
     "execution_count": 13,
     "metadata": {},
     "output_type": "execute_result"
    }
   ],
   "source": [
    "#renaming columns\n",
    "df_smoking_rates = df_smoking_rates.rename(columns={'tractfips': 'tract_number',\n",
    "                                                   'estimated smoking prevalence, 2006-2010' : 'smoking_rate'})\n",
    "df_smoking_rates"
   ]
  },
  {
   "cell_type": "markdown",
   "metadata": {},
   "source": [
    "## Dataset 3: Number of Tobacco Vendors per County"
   ]
  },
  {
   "cell_type": "markdown",
   "metadata": {},
   "source": [
    "### Import Data"
   ]
  },
  {
   "cell_type": "code",
   "execution_count": 14,
   "metadata": {},
   "outputs": [
    {
     "data": {
      "text/html": [
       "<div>\n",
       "<style scoped>\n",
       "    .dataframe tbody tr th:only-of-type {\n",
       "        vertical-align: middle;\n",
       "    }\n",
       "\n",
       "    .dataframe tbody tr th {\n",
       "        vertical-align: top;\n",
       "    }\n",
       "\n",
       "    .dataframe thead th {\n",
       "        text-align: right;\n",
       "    }\n",
       "</style>\n",
       "<table border=\"1\" class=\"dataframe\">\n",
       "  <thead>\n",
       "    <tr style=\"text-align: right;\">\n",
       "      <th></th>\n",
       "      <th>License_No</th>\n",
       "      <th>License_Type</th>\n",
       "      <th>Issue_Date</th>\n",
       "      <th>License_Status</th>\n",
       "      <th>Expire_date</th>\n",
       "      <th>Legal_Name</th>\n",
       "      <th>Street1</th>\n",
       "      <th>Street2</th>\n",
       "      <th>City</th>\n",
       "      <th>State</th>\n",
       "      <th>Zip</th>\n",
       "      <th>County_Code</th>\n",
       "    </tr>\n",
       "  </thead>\n",
       "  <tbody>\n",
       "    <tr>\n",
       "      <th>0</th>\n",
       "      <td>70159035</td>\n",
       "      <td>Cig/OTP Retail</td>\n",
       "      <td>1/4/2016</td>\n",
       "      <td>Issued</td>\n",
       "      <td>2/28/2017</td>\n",
       "      <td>WALGREEN EASTERN CO INC</td>\n",
       "      <td>112 W STEUBEN ST                              ...</td>\n",
       "      <td></td>\n",
       "      <td>CRAFTON</td>\n",
       "      <td>PA</td>\n",
       "      <td>15205-2604</td>\n",
       "      <td>2</td>\n",
       "    </tr>\n",
       "    <tr>\n",
       "      <th>1</th>\n",
       "      <td>70167117</td>\n",
       "      <td>Cig/OTP Retail</td>\n",
       "      <td>12/21/2015</td>\n",
       "      <td>Issued</td>\n",
       "      <td>2/28/2017</td>\n",
       "      <td>SHEETZ INC</td>\n",
       "      <td>5300 RTE 8                                    ...</td>\n",
       "      <td>HAMPTON</td>\n",
       "      <td>GIBSONIA</td>\n",
       "      <td>PA</td>\n",
       "      <td>15044</td>\n",
       "      <td>2</td>\n",
       "    </tr>\n",
       "    <tr>\n",
       "      <th>2</th>\n",
       "      <td>70159040</td>\n",
       "      <td>Cig/OTP Retail</td>\n",
       "      <td>12/23/2015</td>\n",
       "      <td>Issued</td>\n",
       "      <td>2/28/2017</td>\n",
       "      <td>WALGREEN EASTERN CO INC</td>\n",
       "      <td>1741 WASHINGTON RD                            ...</td>\n",
       "      <td></td>\n",
       "      <td>PITTSBURGH</td>\n",
       "      <td>PA</td>\n",
       "      <td>15241-1201</td>\n",
       "      <td>2</td>\n",
       "    </tr>\n",
       "    <tr>\n",
       "      <th>3</th>\n",
       "      <td>70159042</td>\n",
       "      <td>Cig/OTP Retail</td>\n",
       "      <td>12/23/2015</td>\n",
       "      <td>Issued</td>\n",
       "      <td>2/28/2017</td>\n",
       "      <td>WALGREEN EASTERN CO INC</td>\n",
       "      <td>4 OLD CLAIRTON RD                             ...</td>\n",
       "      <td></td>\n",
       "      <td>PITTSBURGH</td>\n",
       "      <td>PA</td>\n",
       "      <td>15236-3905</td>\n",
       "      <td>2</td>\n",
       "    </tr>\n",
       "    <tr>\n",
       "      <th>4</th>\n",
       "      <td>70159043</td>\n",
       "      <td>Cig/OTP Retail</td>\n",
       "      <td>12/23/2015</td>\n",
       "      <td>Issued</td>\n",
       "      <td>2/28/2017</td>\n",
       "      <td>WALGREEN EASTERN CO INC</td>\n",
       "      <td>10707 FRANKSTOWN RD                           ...</td>\n",
       "      <td></td>\n",
       "      <td>PITTSBURGH</td>\n",
       "      <td>PA</td>\n",
       "      <td>15235-3040</td>\n",
       "      <td>2</td>\n",
       "    </tr>\n",
       "    <tr>\n",
       "      <th>...</th>\n",
       "      <td>...</td>\n",
       "      <td>...</td>\n",
       "      <td>...</td>\n",
       "      <td>...</td>\n",
       "      <td>...</td>\n",
       "      <td>...</td>\n",
       "      <td>...</td>\n",
       "      <td>...</td>\n",
       "      <td>...</td>\n",
       "      <td>...</td>\n",
       "      <td>...</td>\n",
       "      <td>...</td>\n",
       "    </tr>\n",
       "    <tr>\n",
       "      <th>1243</th>\n",
       "      <td>2291870</td>\n",
       "      <td>Retail</td>\n",
       "      <td>8/23/2016</td>\n",
       "      <td>Issued</td>\n",
       "      <td>2/28/2017</td>\n",
       "      <td>VAPORIUM EMPIRE LLC</td>\n",
       "      <td>110 MONROEVILLE MALL                          ...</td>\n",
       "      <td></td>\n",
       "      <td>MONROEVILLE</td>\n",
       "      <td>PA</td>\n",
       "      <td>15146-2225</td>\n",
       "      <td>2</td>\n",
       "    </tr>\n",
       "    <tr>\n",
       "      <th>1244</th>\n",
       "      <td>2291953</td>\n",
       "      <td>Cig/OTP Retail</td>\n",
       "      <td>8/17/2016</td>\n",
       "      <td>Issued</td>\n",
       "      <td>2/28/2017</td>\n",
       "      <td>RIGHT MARKET TWO INC</td>\n",
       "      <td>10045 FRANKSTOWN RD                           ...</td>\n",
       "      <td></td>\n",
       "      <td>PENN HILLS</td>\n",
       "      <td>PA</td>\n",
       "      <td>15235-1631</td>\n",
       "      <td>2</td>\n",
       "    </tr>\n",
       "    <tr>\n",
       "      <th>1245</th>\n",
       "      <td>298229</td>\n",
       "      <td>OTP Retail</td>\n",
       "      <td>10/1/2016</td>\n",
       "      <td>Issued</td>\n",
       "      <td>2/28/2017</td>\n",
       "      <td>VAPOR SHACK INC</td>\n",
       "      <td>1002 PRESTON DR                               ...</td>\n",
       "      <td></td>\n",
       "      <td>N VERSAILLES</td>\n",
       "      <td>PA</td>\n",
       "      <td>15137</td>\n",
       "      <td>2</td>\n",
       "    </tr>\n",
       "    <tr>\n",
       "      <th>1246</th>\n",
       "      <td>292289</td>\n",
       "      <td>OTP Retail</td>\n",
       "      <td>10/1/2016</td>\n",
       "      <td>Issued</td>\n",
       "      <td>2/28/2017</td>\n",
       "      <td>VAPOR CONNECTION LLC</td>\n",
       "      <td>610 CENTER AVE                                ...</td>\n",
       "      <td></td>\n",
       "      <td>BLAWNOX</td>\n",
       "      <td>PA</td>\n",
       "      <td>15238-3213</td>\n",
       "      <td>2</td>\n",
       "    </tr>\n",
       "    <tr>\n",
       "      <th>1247</th>\n",
       "      <td>293904</td>\n",
       "      <td>OTP Retail</td>\n",
       "      <td>10/1/2016</td>\n",
       "      <td>Issued</td>\n",
       "      <td>2/28/2017</td>\n",
       "      <td>VAPOR LOUNGE LLC</td>\n",
       "      <td>606 E 2ND AVE                                 ...</td>\n",
       "      <td></td>\n",
       "      <td>TARENTUM</td>\n",
       "      <td>PA</td>\n",
       "      <td>15084-2002</td>\n",
       "      <td>2</td>\n",
       "    </tr>\n",
       "  </tbody>\n",
       "</table>\n",
       "<p>1248 rows × 12 columns</p>\n",
       "</div>"
      ],
      "text/plain": [
       "      License_No    License_Type  Issue_Date License_Status Expire_date  \\\n",
       "0       70159035  Cig/OTP Retail    1/4/2016         Issued   2/28/2017   \n",
       "1       70167117  Cig/OTP Retail  12/21/2015         Issued   2/28/2017   \n",
       "2       70159040  Cig/OTP Retail  12/23/2015         Issued   2/28/2017   \n",
       "3       70159042  Cig/OTP Retail  12/23/2015         Issued   2/28/2017   \n",
       "4       70159043  Cig/OTP Retail  12/23/2015         Issued   2/28/2017   \n",
       "...          ...             ...         ...            ...         ...   \n",
       "1243     2291870          Retail   8/23/2016         Issued   2/28/2017   \n",
       "1244     2291953  Cig/OTP Retail   8/17/2016         Issued   2/28/2017   \n",
       "1245      298229      OTP Retail   10/1/2016         Issued   2/28/2017   \n",
       "1246      292289      OTP Retail   10/1/2016         Issued   2/28/2017   \n",
       "1247      293904      OTP Retail   10/1/2016         Issued   2/28/2017   \n",
       "\n",
       "                   Legal_Name  \\\n",
       "0     WALGREEN EASTERN CO INC   \n",
       "1                  SHEETZ INC   \n",
       "2     WALGREEN EASTERN CO INC   \n",
       "3     WALGREEN EASTERN CO INC   \n",
       "4     WALGREEN EASTERN CO INC   \n",
       "...                       ...   \n",
       "1243      VAPORIUM EMPIRE LLC   \n",
       "1244     RIGHT MARKET TWO INC   \n",
       "1245          VAPOR SHACK INC   \n",
       "1246     VAPOR CONNECTION LLC   \n",
       "1247         VAPOR LOUNGE LLC   \n",
       "\n",
       "                                                Street1  \\\n",
       "0     112 W STEUBEN ST                              ...   \n",
       "1     5300 RTE 8                                    ...   \n",
       "2     1741 WASHINGTON RD                            ...   \n",
       "3     4 OLD CLAIRTON RD                             ...   \n",
       "4     10707 FRANKSTOWN RD                           ...   \n",
       "...                                                 ...   \n",
       "1243  110 MONROEVILLE MALL                          ...   \n",
       "1244  10045 FRANKSTOWN RD                           ...   \n",
       "1245  1002 PRESTON DR                               ...   \n",
       "1246  610 CENTER AVE                                ...   \n",
       "1247  606 E 2ND AVE                                 ...   \n",
       "\n",
       "                                       Street2  \\\n",
       "0                                                \n",
       "1     HAMPTON                                    \n",
       "2                                                \n",
       "3                                                \n",
       "4                                                \n",
       "...                                        ...   \n",
       "1243                                             \n",
       "1244                                             \n",
       "1245                                             \n",
       "1246                                             \n",
       "1247                                             \n",
       "\n",
       "                                          City State         Zip  County_Code  \n",
       "0     CRAFTON                                    PA   15205-2604            2  \n",
       "1     GIBSONIA                                   PA   15044                 2  \n",
       "2     PITTSBURGH                                 PA   15241-1201            2  \n",
       "3     PITTSBURGH                                 PA   15236-3905            2  \n",
       "4     PITTSBURGH                                 PA   15235-3040            2  \n",
       "...                                        ...   ...         ...          ...  \n",
       "1243  MONROEVILLE                                PA   15146-2225            2  \n",
       "1244  PENN HILLS                                 PA   15235-1631            2  \n",
       "1245  N VERSAILLES                               PA   15137                 2  \n",
       "1246  BLAWNOX                                    PA   15238-3213            2  \n",
       "1247  TARENTUM                                   PA   15084-2002            2  \n",
       "\n",
       "[1248 rows x 12 columns]"
      ]
     },
     "execution_count": 14,
     "metadata": {},
     "output_type": "execute_result"
    }
   ],
   "source": [
    "#Load the data\n",
    "df_tobacco_vendors = pd.read_csv('data-alleghenycountytobaccoretailerlistingtracking0313261358a.csv')\n",
    "df_tobacco_vendors"
   ]
  },
  {
   "cell_type": "code",
   "execution_count": 15,
   "metadata": {},
   "outputs": [
    {
     "data": {
      "text/plain": [
       "License_No         int64\n",
       "License_Type      object\n",
       "Issue_Date        object\n",
       "License_Status    object\n",
       "Expire_date       object\n",
       "Legal_Name        object\n",
       "Street1           object\n",
       "Street2           object\n",
       "City              object\n",
       "State             object\n",
       "Zip               object\n",
       "County_Code        int64\n",
       "dtype: object"
      ]
     },
     "execution_count": 15,
     "metadata": {},
     "output_type": "execute_result"
    }
   ],
   "source": [
    "#checking the types\n",
    "df_tobacco_vendors.dtypes"
   ]
  },
  {
   "cell_type": "markdown",
   "metadata": {},
   "source": [
    "All types are either object or int types which is fine for our dataset."
   ]
  },
  {
   "cell_type": "markdown",
   "metadata": {},
   "source": [
    "### Removing/ Renaming Columns\n",
    "Given our goal to examine presence of tobacco vendors and the effects they have, the only relevant information\n",
    "would be the location data of these vendors and an identifier. Therefor we we will take out the following columns:\n",
    "- License_No\n",
    "- License_Type\n",
    "- Issue_Date\n",
    "- Issue_Status\n",
    "- Expire_Date"
   ]
  },
  {
   "cell_type": "code",
   "execution_count": 16,
   "metadata": {},
   "outputs": [
    {
     "name": "stdout",
     "output_type": "stream",
     "text": [
      "PA     1247\n",
      "          1\n",
      "Name: State, dtype: int64\n",
      "2    1248\n",
      "Name: County_Code, dtype: int64\n"
     ]
    }
   ],
   "source": [
    "#checking if all values in column 'State' is the same\n",
    "state = df_tobacco_vendors['State'].value_counts()\n",
    "print(state)\n",
    "\n",
    "#checking if all values in column 'County Code' is the same\n",
    "county_code = df_tobacco_vendors['County_Code'].value_counts()\n",
    "print(county_code)"
   ]
  },
  {
   "cell_type": "markdown",
   "metadata": {},
   "source": [
    "Additionally, since all vendor have the same state and country code, we can also remove the columns \"State\" and \"Country Code\". "
   ]
  },
  {
   "cell_type": "code",
   "execution_count": 17,
   "metadata": {},
   "outputs": [
    {
     "data": {
      "text/html": [
       "<div>\n",
       "<style scoped>\n",
       "    .dataframe tbody tr th:only-of-type {\n",
       "        vertical-align: middle;\n",
       "    }\n",
       "\n",
       "    .dataframe tbody tr th {\n",
       "        vertical-align: top;\n",
       "    }\n",
       "\n",
       "    .dataframe thead th {\n",
       "        text-align: right;\n",
       "    }\n",
       "</style>\n",
       "<table border=\"1\" class=\"dataframe\">\n",
       "  <thead>\n",
       "    <tr style=\"text-align: right;\">\n",
       "      <th></th>\n",
       "      <th>name</th>\n",
       "      <th>address</th>\n",
       "      <th>city</th>\n",
       "      <th>zip</th>\n",
       "    </tr>\n",
       "  </thead>\n",
       "  <tbody>\n",
       "    <tr>\n",
       "      <th>0</th>\n",
       "      <td>WALGREEN EASTERN CO INC</td>\n",
       "      <td>112 W STEUBEN ST                              ...</td>\n",
       "      <td>CRAFTON</td>\n",
       "      <td>15205</td>\n",
       "    </tr>\n",
       "    <tr>\n",
       "      <th>1</th>\n",
       "      <td>SHEETZ INC</td>\n",
       "      <td>5300 RTE 8                                    ...</td>\n",
       "      <td>GIBSONIA</td>\n",
       "      <td>15044</td>\n",
       "    </tr>\n",
       "    <tr>\n",
       "      <th>2</th>\n",
       "      <td>WALGREEN EASTERN CO INC</td>\n",
       "      <td>1741 WASHINGTON RD                            ...</td>\n",
       "      <td>PITTSBURGH</td>\n",
       "      <td>15241</td>\n",
       "    </tr>\n",
       "    <tr>\n",
       "      <th>3</th>\n",
       "      <td>WALGREEN EASTERN CO INC</td>\n",
       "      <td>4 OLD CLAIRTON RD                             ...</td>\n",
       "      <td>PITTSBURGH</td>\n",
       "      <td>15236</td>\n",
       "    </tr>\n",
       "    <tr>\n",
       "      <th>4</th>\n",
       "      <td>WALGREEN EASTERN CO INC</td>\n",
       "      <td>10707 FRANKSTOWN RD                           ...</td>\n",
       "      <td>PITTSBURGH</td>\n",
       "      <td>15235</td>\n",
       "    </tr>\n",
       "  </tbody>\n",
       "</table>\n",
       "</div>"
      ],
      "text/plain": [
       "                      name                                            address  \\\n",
       "0  WALGREEN EASTERN CO INC  112 W STEUBEN ST                              ...   \n",
       "1               SHEETZ INC  5300 RTE 8                                    ...   \n",
       "2  WALGREEN EASTERN CO INC  1741 WASHINGTON RD                            ...   \n",
       "3  WALGREEN EASTERN CO INC  4 OLD CLAIRTON RD                             ...   \n",
       "4  WALGREEN EASTERN CO INC  10707 FRANKSTOWN RD                           ...   \n",
       "\n",
       "                                       city    zip  \n",
       "0  CRAFTON                                   15205  \n",
       "1  GIBSONIA                                  15044  \n",
       "2  PITTSBURGH                                15241  \n",
       "3  PITTSBURGH                                15236  \n",
       "4  PITTSBURGH                                15235  "
      ]
     },
     "execution_count": 17,
     "metadata": {},
     "output_type": "execute_result"
    }
   ],
   "source": [
    "#Drop unnecessary columns for our analysis\n",
    "df_tobacco_vendors = df_tobacco_vendors[['Legal_Name', 'Street1', 'City', 'Zip']]\n",
    "\n",
    "#Add identifier column\n",
    "df_tobacco_vendors = df_tobacco_vendors.assign(Zip = df_tobacco_vendors['Zip'].str[:5])\n",
    "\n",
    "#Rename columns \n",
    "df_tobacco_vendors = df_tobacco_vendors.rename({'Street1':'address', \n",
    "                                                'Legal_Name':'name', \n",
    "                                                'City':'city', \n",
    "                                                'Zip':'zip'}, axis = 'columns')\n",
    "df_tobacco_vendors.head()"
   ]
  },
  {
   "cell_type": "markdown",
   "metadata": {},
   "source": [
    "### Missing Values\n",
    "Now that we have removed and rename our necessary columns, let's check if there are any missing values in these columns."
   ]
  },
  {
   "cell_type": "code",
   "execution_count": 18,
   "metadata": {},
   "outputs": [
    {
     "data": {
      "text/plain": [
       "name       0\n",
       "address    0\n",
       "city       0\n",
       "zip        0\n",
       "dtype: int64"
      ]
     },
     "execution_count": 18,
     "metadata": {},
     "output_type": "execute_result"
    }
   ],
   "source": [
    "#checking for missing values\n",
    "df_tobacco_vendors.isnull().sum()"
   ]
  },
  {
   "cell_type": "markdown",
   "metadata": {},
   "source": [
    "## Dataset 4: FIPS and ZIP Code in US\n",
    "### Getting the zip codes from the tract values"
   ]
  },
  {
   "cell_type": "markdown",
   "metadata": {},
   "source": [
    "Import a dictionary of the relation between zip codes and tract values"
   ]
  },
  {
   "cell_type": "code",
   "execution_count": 19,
   "metadata": {},
   "outputs": [
    {
     "data": {
      "text/html": [
       "<div>\n",
       "<style scoped>\n",
       "    .dataframe tbody tr th:only-of-type {\n",
       "        vertical-align: middle;\n",
       "    }\n",
       "\n",
       "    .dataframe tbody tr th {\n",
       "        vertical-align: top;\n",
       "    }\n",
       "\n",
       "    .dataframe thead th {\n",
       "        text-align: right;\n",
       "    }\n",
       "</style>\n",
       "<table border=\"1\" class=\"dataframe\">\n",
       "  <thead>\n",
       "    <tr style=\"text-align: right;\">\n",
       "      <th></th>\n",
       "      <th>ZIP</th>\n",
       "      <th>TRACT</th>\n",
       "      <th>RES_RATIO</th>\n",
       "      <th>BUS_RATIO</th>\n",
       "      <th>OTH_RATIO</th>\n",
       "      <th>TOT_RATIO</th>\n",
       "    </tr>\n",
       "  </thead>\n",
       "  <tbody>\n",
       "    <tr>\n",
       "      <th>0</th>\n",
       "      <td>501</td>\n",
       "      <td>36103158607</td>\n",
       "      <td>0.000000</td>\n",
       "      <td>1.000000</td>\n",
       "      <td>0.000000</td>\n",
       "      <td>1.000000</td>\n",
       "    </tr>\n",
       "    <tr>\n",
       "      <th>1</th>\n",
       "      <td>544</td>\n",
       "      <td>36103158607</td>\n",
       "      <td>0.000000</td>\n",
       "      <td>1.000000</td>\n",
       "      <td>0.000000</td>\n",
       "      <td>1.000000</td>\n",
       "    </tr>\n",
       "    <tr>\n",
       "      <th>2</th>\n",
       "      <td>601</td>\n",
       "      <td>72001956300</td>\n",
       "      <td>0.004253</td>\n",
       "      <td>0.005141</td>\n",
       "      <td>0.000000</td>\n",
       "      <td>0.004257</td>\n",
       "    </tr>\n",
       "    <tr>\n",
       "      <th>3</th>\n",
       "      <td>601</td>\n",
       "      <td>72001956600</td>\n",
       "      <td>0.740766</td>\n",
       "      <td>0.452442</td>\n",
       "      <td>0.558442</td>\n",
       "      <td>0.715183</td>\n",
       "    </tr>\n",
       "    <tr>\n",
       "      <th>4</th>\n",
       "      <td>601</td>\n",
       "      <td>72001956700</td>\n",
       "      <td>0.254981</td>\n",
       "      <td>0.542416</td>\n",
       "      <td>0.441558</td>\n",
       "      <td>0.280560</td>\n",
       "    </tr>\n",
       "    <tr>\n",
       "      <th>...</th>\n",
       "      <td>...</td>\n",
       "      <td>...</td>\n",
       "      <td>...</td>\n",
       "      <td>...</td>\n",
       "      <td>...</td>\n",
       "      <td>...</td>\n",
       "    </tr>\n",
       "    <tr>\n",
       "      <th>145815</th>\n",
       "      <td>99925</td>\n",
       "      <td>2201000200</td>\n",
       "      <td>0.000000</td>\n",
       "      <td>0.000000</td>\n",
       "      <td>1.000000</td>\n",
       "      <td>1.000000</td>\n",
       "    </tr>\n",
       "    <tr>\n",
       "      <th>145816</th>\n",
       "      <td>99926</td>\n",
       "      <td>2201000400</td>\n",
       "      <td>0.000000</td>\n",
       "      <td>0.000000</td>\n",
       "      <td>1.000000</td>\n",
       "      <td>1.000000</td>\n",
       "    </tr>\n",
       "    <tr>\n",
       "      <th>145817</th>\n",
       "      <td>99927</td>\n",
       "      <td>2201000100</td>\n",
       "      <td>0.000000</td>\n",
       "      <td>0.000000</td>\n",
       "      <td>1.000000</td>\n",
       "      <td>1.000000</td>\n",
       "    </tr>\n",
       "    <tr>\n",
       "      <th>145818</th>\n",
       "      <td>99928</td>\n",
       "      <td>2130000100</td>\n",
       "      <td>0.000000</td>\n",
       "      <td>0.000000</td>\n",
       "      <td>1.000000</td>\n",
       "      <td>1.000000</td>\n",
       "    </tr>\n",
       "    <tr>\n",
       "      <th>145819</th>\n",
       "      <td>99929</td>\n",
       "      <td>2280000300</td>\n",
       "      <td>0.000000</td>\n",
       "      <td>0.000000</td>\n",
       "      <td>1.000000</td>\n",
       "      <td>1.000000</td>\n",
       "    </tr>\n",
       "  </tbody>\n",
       "</table>\n",
       "<p>145820 rows × 6 columns</p>\n",
       "</div>"
      ],
      "text/plain": [
       "          ZIP        TRACT  RES_RATIO  BUS_RATIO  OTH_RATIO  TOT_RATIO\n",
       "0         501  36103158607   0.000000   1.000000   0.000000   1.000000\n",
       "1         544  36103158607   0.000000   1.000000   0.000000   1.000000\n",
       "2         601  72001956300   0.004253   0.005141   0.000000   0.004257\n",
       "3         601  72001956600   0.740766   0.452442   0.558442   0.715183\n",
       "4         601  72001956700   0.254981   0.542416   0.441558   0.280560\n",
       "...       ...          ...        ...        ...        ...        ...\n",
       "145815  99925   2201000200   0.000000   0.000000   1.000000   1.000000\n",
       "145816  99926   2201000400   0.000000   0.000000   1.000000   1.000000\n",
       "145817  99927   2201000100   0.000000   0.000000   1.000000   1.000000\n",
       "145818  99928   2130000100   0.000000   0.000000   1.000000   1.000000\n",
       "145819  99929   2280000300   0.000000   0.000000   1.000000   1.000000\n",
       "\n",
       "[145820 rows x 6 columns]"
      ]
     },
     "execution_count": 19,
     "metadata": {},
     "output_type": "execute_result"
    }
   ],
   "source": [
    "df_tract_to_zip = pd.read_csv('ZIP_TRACT_2010.csv')\n",
    "df_tract_to_zip"
   ]
  },
  {
   "cell_type": "markdown",
   "metadata": {},
   "source": [
    "### Extract Relevant FIPS Codes\n",
    "The FIPS code represents a portion of land allocated for census purposes. The  first 2 digits correspond to a state and the following 3 correspond to the county. Since we want to only examine Allegheny, PA, the  rst  ve digits are su ciently precise.\n",
    "\n",
    "We want to have the corresponding ZIP codes for the FIPS code available for later use.\n",
    "\n",
    "We will remove all necessary columns. Because we are using this data frame for conversion between FIPS and ZIP, we will only keep these two columns."
   ]
  },
  {
   "cell_type": "code",
   "execution_count": 20,
   "metadata": {},
   "outputs": [
    {
     "name": "stdout",
     "output_type": "stream",
     "text": [
      "ZIP            int64\n",
      "TRACT          int64\n",
      "RES_RATIO    float64\n",
      "BUS_RATIO    float64\n",
      "OTH_RATIO    float64\n",
      "TOT_RATIO    float64\n",
      "dtype: object\n"
     ]
    }
   ],
   "source": [
    "#Define first 5 digits of FIPS for Allegheny, PA\n",
    "fips_code = '42003'\n",
    "\n",
    "#Check data types of our dictionary\n",
    "print(df_tract_to_zip.dtypes)\n",
    "\n",
    "#Convert smoking tract to str\n",
    "df_smoking_rates['tract_number'] = df_smoking_rates['tract_number'].astype(str)\n",
    "df_tract_to_zip['TRACT'] = df_tract_to_zip['TRACT'].astype(str)\n",
    "\n",
    "#Removes FIPS samples not from Allegheny, PA. Trims the dictionary\n",
    "df_temp_smoking_tract = df_smoking_rates[df_smoking_rates['tract_number'].str.contains(fips_code)]\n",
    "\n",
    "#Drop unnecessary columns\n",
    "df_tract_to_zip = df_tract_to_zip[['ZIP', 'TRACT']]\n",
    "\n",
    "#Add 5 digit identifier column\n",
    "df_tract_to_zip = df_tract_to_zip.assign(ID = df_tract_to_zip['TRACT'].str[:5])\n",
    "\n",
    "#Check for identifier for Allegheny, PA\n",
    "df_tract_to_zip = df_tract_to_zip[df_tract_to_zip['ID'].str.contains(fips_code)]\n",
    "#Rename TRACT to unified naming convention\n",
    "df_tract_to_zip = df_tract_to_zip.rename({'TRACT':'tract_number',\n",
    "                                         'ZIP':'zip'},axis ='columns')"
   ]
  },
  {
   "cell_type": "markdown",
   "metadata": {},
   "source": [
    "The dataframw df_tract_to_zip should now only contain tracts relevant to Allegheny, PA. Later this will be used in merging dataframes by common elements for further analysis."
   ]
  },
  {
   "cell_type": "code",
   "execution_count": 21,
   "metadata": {},
   "outputs": [
    {
     "data": {
      "text/html": [
       "<div>\n",
       "<style scoped>\n",
       "    .dataframe tbody tr th:only-of-type {\n",
       "        vertical-align: middle;\n",
       "    }\n",
       "\n",
       "    .dataframe tbody tr th {\n",
       "        vertical-align: top;\n",
       "    }\n",
       "\n",
       "    .dataframe thead th {\n",
       "        text-align: right;\n",
       "    }\n",
       "</style>\n",
       "<table border=\"1\" class=\"dataframe\">\n",
       "  <thead>\n",
       "    <tr style=\"text-align: right;\">\n",
       "      <th></th>\n",
       "      <th>zip</th>\n",
       "      <th>tract_number</th>\n",
       "      <th>ID</th>\n",
       "    </tr>\n",
       "  </thead>\n",
       "  <tbody>\n",
       "    <tr>\n",
       "      <th>20760</th>\n",
       "      <td>15001</td>\n",
       "      <td>42003449000</td>\n",
       "      <td>42003</td>\n",
       "    </tr>\n",
       "    <tr>\n",
       "      <th>20776</th>\n",
       "      <td>15003</td>\n",
       "      <td>42003439000</td>\n",
       "      <td>42003</td>\n",
       "    </tr>\n",
       "    <tr>\n",
       "      <th>20777</th>\n",
       "      <td>15003</td>\n",
       "      <td>42003447000</td>\n",
       "      <td>42003</td>\n",
       "    </tr>\n",
       "    <tr>\n",
       "      <th>20778</th>\n",
       "      <td>15003</td>\n",
       "      <td>42003448000</td>\n",
       "      <td>42003</td>\n",
       "    </tr>\n",
       "    <tr>\n",
       "      <th>20785</th>\n",
       "      <td>15005</td>\n",
       "      <td>42003411000</td>\n",
       "      <td>42003</td>\n",
       "    </tr>\n",
       "    <tr>\n",
       "      <th>...</th>\n",
       "      <td>...</td>\n",
       "      <td>...</td>\n",
       "      <td>...</td>\n",
       "    </tr>\n",
       "    <tr>\n",
       "      <th>22849</th>\n",
       "      <td>16046</td>\n",
       "      <td>42003411000</td>\n",
       "      <td>42003</td>\n",
       "    </tr>\n",
       "    <tr>\n",
       "      <th>22877</th>\n",
       "      <td>16055</td>\n",
       "      <td>42003406000</td>\n",
       "      <td>42003</td>\n",
       "    </tr>\n",
       "    <tr>\n",
       "      <th>22895</th>\n",
       "      <td>16059</td>\n",
       "      <td>42003408001</td>\n",
       "      <td>42003</td>\n",
       "    </tr>\n",
       "    <tr>\n",
       "      <th>22896</th>\n",
       "      <td>16059</td>\n",
       "      <td>42003409000</td>\n",
       "      <td>42003</td>\n",
       "    </tr>\n",
       "    <tr>\n",
       "      <th>22909</th>\n",
       "      <td>16066</td>\n",
       "      <td>42003411000</td>\n",
       "      <td>42003</td>\n",
       "    </tr>\n",
       "  </tbody>\n",
       "</table>\n",
       "<p>825 rows × 3 columns</p>\n",
       "</div>"
      ],
      "text/plain": [
       "         zip tract_number     ID\n",
       "20760  15001  42003449000  42003\n",
       "20776  15003  42003439000  42003\n",
       "20777  15003  42003447000  42003\n",
       "20778  15003  42003448000  42003\n",
       "20785  15005  42003411000  42003\n",
       "...      ...          ...    ...\n",
       "22849  16046  42003411000  42003\n",
       "22877  16055  42003406000  42003\n",
       "22895  16059  42003408001  42003\n",
       "22896  16059  42003409000  42003\n",
       "22909  16066  42003411000  42003\n",
       "\n",
       "[825 rows x 3 columns]"
      ]
     },
     "execution_count": 21,
     "metadata": {},
     "output_type": "execute_result"
    }
   ],
   "source": [
    "df_tract_to_zip"
   ]
  },
  {
   "cell_type": "markdown",
   "metadata": {},
   "source": [
    "### Create Dataframe with a count of vendors by ZIP Code "
   ]
  },
  {
   "cell_type": "markdown",
   "metadata": {},
   "source": [
    "For analysis later, we want to look at the number of vendors per city. To do this, we created a new dataframe which containsthe zup code with its respective number of vendors. "
   ]
  },
  {
   "cell_type": "code",
   "execution_count": 22,
   "metadata": {},
   "outputs": [
    {
     "data": {
      "text/html": [
       "<div>\n",
       "<style scoped>\n",
       "    .dataframe tbody tr th:only-of-type {\n",
       "        vertical-align: middle;\n",
       "    }\n",
       "\n",
       "    .dataframe tbody tr th {\n",
       "        vertical-align: top;\n",
       "    }\n",
       "\n",
       "    .dataframe thead th {\n",
       "        text-align: right;\n",
       "    }\n",
       "</style>\n",
       "<table border=\"1\" class=\"dataframe\">\n",
       "  <thead>\n",
       "    <tr style=\"text-align: right;\">\n",
       "      <th></th>\n",
       "      <th>zip</th>\n",
       "    </tr>\n",
       "  </thead>\n",
       "  <tbody>\n",
       "    <tr>\n",
       "      <th>15235</th>\n",
       "      <td>46</td>\n",
       "    </tr>\n",
       "    <tr>\n",
       "      <th>15132</th>\n",
       "      <td>43</td>\n",
       "    </tr>\n",
       "    <tr>\n",
       "      <th>15237</th>\n",
       "      <td>39</td>\n",
       "    </tr>\n",
       "    <tr>\n",
       "      <th>15210</th>\n",
       "      <td>38</td>\n",
       "    </tr>\n",
       "    <tr>\n",
       "      <th>15206</th>\n",
       "      <td>34</td>\n",
       "    </tr>\n",
       "    <tr>\n",
       "      <th>...</th>\n",
       "      <td>...</td>\n",
       "    </tr>\n",
       "    <tr>\n",
       "      <th></th>\n",
       "      <td>1</td>\n",
       "    </tr>\n",
       "    <tr>\n",
       "      <th>15127</th>\n",
       "      <td>1</td>\n",
       "    </tr>\n",
       "    <tr>\n",
       "      <th>15230</th>\n",
       "      <td>1</td>\n",
       "    </tr>\n",
       "    <tr>\n",
       "      <th>15086</th>\n",
       "      <td>1</td>\n",
       "    </tr>\n",
       "    <tr>\n",
       "      <th>15033</th>\n",
       "      <td>1</td>\n",
       "    </tr>\n",
       "  </tbody>\n",
       "</table>\n",
       "<p>100 rows × 1 columns</p>\n",
       "</div>"
      ],
      "text/plain": [
       "       zip\n",
       "15235   46\n",
       "15132   43\n",
       "15237   39\n",
       "15210   38\n",
       "15206   34\n",
       "...    ...\n",
       "         1\n",
       "15127    1\n",
       "15230    1\n",
       "15086    1\n",
       "15033    1\n",
       "\n",
       "[100 rows x 1 columns]"
      ]
     },
     "execution_count": 22,
     "metadata": {},
     "output_type": "execute_result"
    }
   ],
   "source": [
    "#Checking for dominant store chains in the county\n",
    "name_counts = df_tobacco_vendors['name'].value_counts()\n",
    "city_counts = df_tobacco_vendors['city'].value_counts()\n",
    "zip_counts = df_tobacco_vendors['zip'].value_counts()\n",
    "df_zip_vendor_counts = zip_counts.to_frame()\n",
    "df_zip_vendor_counts"
   ]
  },
  {
   "cell_type": "markdown",
   "metadata": {},
   "source": [
    "## Dataset 5: Education and Income in Allegheny County"
   ]
  },
  {
   "cell_type": "markdown",
   "metadata": {},
   "source": [
    "### Import Data"
   ]
  },
  {
   "cell_type": "code",
   "execution_count": 23,
   "metadata": {},
   "outputs": [
    {
     "data": {
      "text/html": [
       "<div>\n",
       "<style scoped>\n",
       "    .dataframe tbody tr th:only-of-type {\n",
       "        vertical-align: middle;\n",
       "    }\n",
       "\n",
       "    .dataframe tbody tr th {\n",
       "        vertical-align: top;\n",
       "    }\n",
       "\n",
       "    .dataframe thead th {\n",
       "        text-align: right;\n",
       "    }\n",
       "</style>\n",
       "<table border=\"1\" class=\"dataframe\">\n",
       "  <thead>\n",
       "    <tr style=\"text-align: right;\">\n",
       "      <th></th>\n",
       "      <th>Neighborhood</th>\n",
       "      <th>Sector #</th>\n",
       "      <th>Population (2010)</th>\n",
       "      <th>Total Pop, 25 and older (2010)</th>\n",
       "      <th>Edu. Attainment: Less than High School (2010)</th>\n",
       "      <th>Edu. Attainment: High School Graduate (2010)</th>\n",
       "      <th>Edu. Attainment: Assoc./Prof. Degree (2010)</th>\n",
       "      <th>Edu. Attainment: Bachelor's Degree (2010)</th>\n",
       "      <th>Edu. Attainment: Postgraduate Degree (2010)</th>\n",
       "      <th>1999 Median Income ('99 Dollars)</th>\n",
       "      <th>2009 Med. Income (’09 Dollars)</th>\n",
       "      <th>Est. Pop. for which Poverty Calc. (2010)</th>\n",
       "      <th>Est. Percent Under Poverty (2010)</th>\n",
       "    </tr>\n",
       "  </thead>\n",
       "  <tbody>\n",
       "    <tr>\n",
       "      <th>0</th>\n",
       "      <td>Allegheny Center</td>\n",
       "      <td>3</td>\n",
       "      <td>933</td>\n",
       "      <td>609</td>\n",
       "      <td>18.70%</td>\n",
       "      <td>44.50%</td>\n",
       "      <td>17.20%</td>\n",
       "      <td>15.80%</td>\n",
       "      <td>3.80%</td>\n",
       "      <td>$16,964.00</td>\n",
       "      <td>$22,793.00</td>\n",
       "      <td>954</td>\n",
       "      <td>34.00%</td>\n",
       "    </tr>\n",
       "    <tr>\n",
       "      <th>1</th>\n",
       "      <td>Allegheny West</td>\n",
       "      <td>3</td>\n",
       "      <td>462</td>\n",
       "      <td>239</td>\n",
       "      <td>9.20%</td>\n",
       "      <td>28.90%</td>\n",
       "      <td>6.70%</td>\n",
       "      <td>44.80%</td>\n",
       "      <td>10.50%</td>\n",
       "      <td>$26,638.00</td>\n",
       "      <td>$45,519.00</td>\n",
       "      <td>239</td>\n",
       "      <td>5.00%</td>\n",
       "    </tr>\n",
       "    <tr>\n",
       "      <th>2</th>\n",
       "      <td>Allentown</td>\n",
       "      <td>6</td>\n",
       "      <td>2,500</td>\n",
       "      <td>1,729</td>\n",
       "      <td>23.00%</td>\n",
       "      <td>63.30%</td>\n",
       "      <td>6.60%</td>\n",
       "      <td>5.60%</td>\n",
       "      <td>1.50%</td>\n",
       "      <td>$22,539.00</td>\n",
       "      <td>$31,909.00</td>\n",
       "      <td>2,212</td>\n",
       "      <td>28.50%</td>\n",
       "    </tr>\n",
       "    <tr>\n",
       "      <th>3</th>\n",
       "      <td>Arlington</td>\n",
       "      <td>7</td>\n",
       "      <td>1,869</td>\n",
       "      <td>1,232</td>\n",
       "      <td>14.90%</td>\n",
       "      <td>65.30%</td>\n",
       "      <td>10.10%</td>\n",
       "      <td>7.10%</td>\n",
       "      <td>2.50%</td>\n",
       "      <td>$27,167.00</td>\n",
       "      <td>$27,380.00</td>\n",
       "      <td>1,779</td>\n",
       "      <td>20.30%</td>\n",
       "    </tr>\n",
       "    <tr>\n",
       "      <th>4</th>\n",
       "      <td>Arlington Heights</td>\n",
       "      <td>7</td>\n",
       "      <td>244</td>\n",
       "      <td>166</td>\n",
       "      <td>18.10%</td>\n",
       "      <td>74.10%</td>\n",
       "      <td>0.00%</td>\n",
       "      <td>7.80%</td>\n",
       "      <td>0.00%</td>\n",
       "      <td>$18,646.00</td>\n",
       "      <td>$10,265.00</td>\n",
       "      <td>293</td>\n",
       "      <td>57.70%</td>\n",
       "    </tr>\n",
       "  </tbody>\n",
       "</table>\n",
       "</div>"
      ],
      "text/plain": [
       "        Neighborhood  Sector # Population (2010)  \\\n",
       "0   Allegheny Center         3               933   \n",
       "1     Allegheny West         3               462   \n",
       "2          Allentown         6             2,500   \n",
       "3          Arlington         7             1,869   \n",
       "4  Arlington Heights         7               244   \n",
       "\n",
       "  Total Pop, 25 and older (2010)  \\\n",
       "0                            609   \n",
       "1                            239   \n",
       "2                          1,729   \n",
       "3                          1,232   \n",
       "4                            166   \n",
       "\n",
       "  Edu. Attainment: Less than High School (2010)  \\\n",
       "0                                        18.70%   \n",
       "1                                         9.20%   \n",
       "2                                        23.00%   \n",
       "3                                        14.90%   \n",
       "4                                        18.10%   \n",
       "\n",
       "  Edu. Attainment: High School Graduate (2010)  \\\n",
       "0                                       44.50%   \n",
       "1                                       28.90%   \n",
       "2                                       63.30%   \n",
       "3                                       65.30%   \n",
       "4                                       74.10%   \n",
       "\n",
       "  Edu. Attainment: Assoc./Prof. Degree (2010)  \\\n",
       "0                                      17.20%   \n",
       "1                                       6.70%   \n",
       "2                                       6.60%   \n",
       "3                                      10.10%   \n",
       "4                                       0.00%   \n",
       "\n",
       "  Edu. Attainment: Bachelor's Degree (2010)  \\\n",
       "0                                    15.80%   \n",
       "1                                    44.80%   \n",
       "2                                     5.60%   \n",
       "3                                     7.10%   \n",
       "4                                     7.80%   \n",
       "\n",
       "  Edu. Attainment: Postgraduate Degree (2010)  \\\n",
       "0                                       3.80%   \n",
       "1                                      10.50%   \n",
       "2                                       1.50%   \n",
       "3                                       2.50%   \n",
       "4                                       0.00%   \n",
       "\n",
       "  1999 Median Income ('99 Dollars) 2009 Med. Income (’09 Dollars)  \\\n",
       "0                      $16,964.00                     $22,793.00    \n",
       "1                      $26,638.00                     $45,519.00    \n",
       "2                      $22,539.00                     $31,909.00    \n",
       "3                      $27,167.00                     $27,380.00    \n",
       "4                      $18,646.00                     $10,265.00    \n",
       "\n",
       "  Est. Pop. for which Poverty Calc. (2010) Est. Percent Under Poverty (2010)  \n",
       "0                                      954                            34.00%  \n",
       "1                                      239                             5.00%  \n",
       "2                                    2,212                            28.50%  \n",
       "3                                    1,779                            20.30%  \n",
       "4                                      293                            57.70%  "
      ]
     },
     "execution_count": 23,
     "metadata": {},
     "output_type": "execute_result"
    }
   ],
   "source": [
    "#load the data\n",
    "df_edu_income = pd.read_csv('education-income.csv')\n",
    "df_edu_income.head()"
   ]
  },
  {
   "cell_type": "code",
   "execution_count": 24,
   "metadata": {},
   "outputs": [
    {
     "data": {
      "text/plain": [
       "Neighborhood                                     0\n",
       "Sector #                                         0\n",
       "Population (2010)                                0\n",
       "Total Pop, 25 and older (2010)                   0\n",
       "Edu. Attainment: Less than High School (2010)    1\n",
       "Edu. Attainment: High School Graduate (2010)     1\n",
       "Edu. Attainment: Assoc./Prof. Degree (2010)      1\n",
       "Edu. Attainment: Bachelor's Degree (2010)        1\n",
       "Edu. Attainment: Postgraduate Degree (2010)      1\n",
       "1999 Median Income ('99 Dollars)                 0\n",
       "2009 Med. Income (’09 Dollars)                   0\n",
       "Est. Pop. for which Poverty Calc. (2010)         0\n",
       "Est. Percent Under Poverty (2010)                0\n",
       "dtype: int64"
      ]
     },
     "execution_count": 24,
     "metadata": {},
     "output_type": "execute_result"
    }
   ],
   "source": [
    "#checking number of null values in each column\n",
    "df_edu_income.isnull().sum()"
   ]
  },
  {
   "cell_type": "markdown",
   "metadata": {},
   "source": [
    "### Select columns\n",
    "When looking at the education and income levels of the neeighborhood, we only need the following information:\n",
    "- neighborhood\n",
    "- high school graduation rate\n",
    "- median income\n",
    "- poverty rate\n",
    "\n",
    "We chose to look at high school graduation rate as opposed to other education indicators because it is a standard indicator of education. This is the level of education that an average student should recieve, as it is supplied by the state. \n",
    "\n",
    "We chose to look at the 2009 income rate since it falls in the timeframe of our other datasets (2006-2010).\n",
    "\n",
    "We chose to look at percentage under poperty as opposed to popultion under poverty because it provides a relative value, making it easier to compare across regions.\n",
    "\n",
    "To clean the up column names, we will rename the columns."
   ]
  },
  {
   "cell_type": "code",
   "execution_count": 25,
   "metadata": {},
   "outputs": [
    {
     "data": {
      "text/html": [
       "<div>\n",
       "<style scoped>\n",
       "    .dataframe tbody tr th:only-of-type {\n",
       "        vertical-align: middle;\n",
       "    }\n",
       "\n",
       "    .dataframe tbody tr th {\n",
       "        vertical-align: top;\n",
       "    }\n",
       "\n",
       "    .dataframe thead th {\n",
       "        text-align: right;\n",
       "    }\n",
       "</style>\n",
       "<table border=\"1\" class=\"dataframe\">\n",
       "  <thead>\n",
       "    <tr style=\"text-align: right;\">\n",
       "      <th></th>\n",
       "      <th>neighborhood</th>\n",
       "      <th>hs_grad_rate</th>\n",
       "      <th>median_income</th>\n",
       "      <th>poverty_rate</th>\n",
       "    </tr>\n",
       "  </thead>\n",
       "  <tbody>\n",
       "    <tr>\n",
       "      <th>0</th>\n",
       "      <td>Allegheny Center</td>\n",
       "      <td>44.50%</td>\n",
       "      <td>$22,793.00</td>\n",
       "      <td>34.00%</td>\n",
       "    </tr>\n",
       "    <tr>\n",
       "      <th>1</th>\n",
       "      <td>Allegheny West</td>\n",
       "      <td>28.90%</td>\n",
       "      <td>$45,519.00</td>\n",
       "      <td>5.00%</td>\n",
       "    </tr>\n",
       "    <tr>\n",
       "      <th>2</th>\n",
       "      <td>Allentown</td>\n",
       "      <td>63.30%</td>\n",
       "      <td>$31,909.00</td>\n",
       "      <td>28.50%</td>\n",
       "    </tr>\n",
       "    <tr>\n",
       "      <th>3</th>\n",
       "      <td>Arlington</td>\n",
       "      <td>65.30%</td>\n",
       "      <td>$27,380.00</td>\n",
       "      <td>20.30%</td>\n",
       "    </tr>\n",
       "    <tr>\n",
       "      <th>4</th>\n",
       "      <td>Arlington Heights</td>\n",
       "      <td>74.10%</td>\n",
       "      <td>$10,265.00</td>\n",
       "      <td>57.70%</td>\n",
       "    </tr>\n",
       "  </tbody>\n",
       "</table>\n",
       "</div>"
      ],
      "text/plain": [
       "        neighborhood hs_grad_rate median_income poverty_rate\n",
       "0   Allegheny Center       44.50%   $22,793.00        34.00%\n",
       "1     Allegheny West       28.90%   $45,519.00         5.00%\n",
       "2          Allentown       63.30%   $31,909.00        28.50%\n",
       "3          Arlington       65.30%   $27,380.00        20.30%\n",
       "4  Arlington Heights       74.10%   $10,265.00        57.70%"
      ]
     },
     "execution_count": 25,
     "metadata": {},
     "output_type": "execute_result"
    }
   ],
   "source": [
    "#select necessary columns\n",
    "df_edu_income = df_edu_income[['Neighborhood', 'Edu. Attainment: High School Graduate (2010)', '2009 Med. Income (’09 Dollars)', 'Est. Percent Under Poverty (2010)']]\n",
    "\n",
    "#remaming the columns\n",
    "df_edu_income = df_edu_income.rename(columns={'Edu. Attainment: High School Graduate (2010)': 'hs_grad_rate',\n",
    "                       '2009 Med. Income (’09 Dollars)' : 'median_income',\n",
    "                       'Est. Percent Under Poverty (2010)' : 'poverty_rate',\n",
    "                                              'Neighborhood':'neighborhood'\n",
    "                      })\n",
    "\n",
    "df_edu_income.head()"
   ]
  },
  {
   "cell_type": "code",
   "execution_count": 26,
   "metadata": {},
   "outputs": [
    {
     "data": {
      "text/html": [
       "<div>\n",
       "<style scoped>\n",
       "    .dataframe tbody tr th:only-of-type {\n",
       "        vertical-align: middle;\n",
       "    }\n",
       "\n",
       "    .dataframe tbody tr th {\n",
       "        vertical-align: top;\n",
       "    }\n",
       "\n",
       "    .dataframe thead th {\n",
       "        text-align: right;\n",
       "    }\n",
       "</style>\n",
       "<table border=\"1\" class=\"dataframe\">\n",
       "  <thead>\n",
       "    <tr style=\"text-align: right;\">\n",
       "      <th></th>\n",
       "      <th>neighborhood</th>\n",
       "      <th>hs_grad_rate</th>\n",
       "      <th>median_income</th>\n",
       "      <th>poverty_rate</th>\n",
       "    </tr>\n",
       "  </thead>\n",
       "  <tbody>\n",
       "    <tr>\n",
       "      <th>0</th>\n",
       "      <td>Allegheny Center</td>\n",
       "      <td>44.50%</td>\n",
       "      <td>$22,793.00</td>\n",
       "      <td>34.00%</td>\n",
       "    </tr>\n",
       "    <tr>\n",
       "      <th>1</th>\n",
       "      <td>Allegheny West</td>\n",
       "      <td>28.90%</td>\n",
       "      <td>$45,519.00</td>\n",
       "      <td>5.00%</td>\n",
       "    </tr>\n",
       "    <tr>\n",
       "      <th>2</th>\n",
       "      <td>Allentown</td>\n",
       "      <td>63.30%</td>\n",
       "      <td>$31,909.00</td>\n",
       "      <td>28.50%</td>\n",
       "    </tr>\n",
       "    <tr>\n",
       "      <th>3</th>\n",
       "      <td>Arlington</td>\n",
       "      <td>65.30%</td>\n",
       "      <td>$27,380.00</td>\n",
       "      <td>20.30%</td>\n",
       "    </tr>\n",
       "    <tr>\n",
       "      <th>4</th>\n",
       "      <td>Arlington Heights</td>\n",
       "      <td>74.10%</td>\n",
       "      <td>$10,265.00</td>\n",
       "      <td>57.70%</td>\n",
       "    </tr>\n",
       "    <tr>\n",
       "      <th>...</th>\n",
       "      <td>...</td>\n",
       "      <td>...</td>\n",
       "      <td>...</td>\n",
       "      <td>...</td>\n",
       "    </tr>\n",
       "    <tr>\n",
       "      <th>85</th>\n",
       "      <td>Upper Lawrenceville</td>\n",
       "      <td>65.70%</td>\n",
       "      <td>$34,639.00</td>\n",
       "      <td>25.70%</td>\n",
       "    </tr>\n",
       "    <tr>\n",
       "      <th>86</th>\n",
       "      <td>West End</td>\n",
       "      <td>36.00%</td>\n",
       "      <td>$44,963.00</td>\n",
       "      <td>0.00%</td>\n",
       "    </tr>\n",
       "    <tr>\n",
       "      <th>87</th>\n",
       "      <td>West Oakland</td>\n",
       "      <td>46.70%</td>\n",
       "      <td>$22,849.00</td>\n",
       "      <td>46.60%</td>\n",
       "    </tr>\n",
       "    <tr>\n",
       "      <th>88</th>\n",
       "      <td>Westwood</td>\n",
       "      <td>51.40%</td>\n",
       "      <td>$54,366.00</td>\n",
       "      <td>5.80%</td>\n",
       "    </tr>\n",
       "    <tr>\n",
       "      <th>89</th>\n",
       "      <td>Windgap</td>\n",
       "      <td>67.10%</td>\n",
       "      <td>$44,670.00</td>\n",
       "      <td>5.40%</td>\n",
       "    </tr>\n",
       "  </tbody>\n",
       "</table>\n",
       "<p>90 rows × 4 columns</p>\n",
       "</div>"
      ],
      "text/plain": [
       "           neighborhood hs_grad_rate median_income poverty_rate\n",
       "0      Allegheny Center       44.50%   $22,793.00        34.00%\n",
       "1        Allegheny West       28.90%   $45,519.00         5.00%\n",
       "2             Allentown       63.30%   $31,909.00        28.50%\n",
       "3             Arlington       65.30%   $27,380.00        20.30%\n",
       "4     Arlington Heights       74.10%   $10,265.00        57.70%\n",
       "..                  ...          ...           ...          ...\n",
       "85  Upper Lawrenceville       65.70%   $34,639.00        25.70%\n",
       "86             West End       36.00%   $44,963.00         0.00%\n",
       "87         West Oakland       46.70%   $22,849.00        46.60%\n",
       "88             Westwood       51.40%   $54,366.00         5.80%\n",
       "89              Windgap       67.10%   $44,670.00         5.40%\n",
       "\n",
       "[90 rows x 4 columns]"
      ]
     },
     "execution_count": 26,
     "metadata": {},
     "output_type": "execute_result"
    }
   ],
   "source": [
    "df_edu_income"
   ]
  },
  {
   "cell_type": "markdown",
   "metadata": {},
   "source": [
    "## Merging Dataframes"
   ]
  },
  {
   "cell_type": "markdown",
   "metadata": {},
   "source": [
    "### Merge Smoking and Obesity\n",
    "To conduct further analysis on smoking and obesity rates in an area, we will merge the two into a single dataframe. This will be done through their FIPS (tract number), which is indicated in both of these two datasets. Data is merged based on whether or not they have the same tract number."
   ]
  },
  {
   "cell_type": "code",
   "execution_count": 27,
   "metadata": {},
   "outputs": [
    {
     "data": {
      "text/html": [
       "<div>\n",
       "<style scoped>\n",
       "    .dataframe tbody tr th:only-of-type {\n",
       "        vertical-align: middle;\n",
       "    }\n",
       "\n",
       "    .dataframe tbody tr th {\n",
       "        vertical-align: top;\n",
       "    }\n",
       "\n",
       "    .dataframe thead th {\n",
       "        text-align: right;\n",
       "    }\n",
       "</style>\n",
       "<table border=\"1\" class=\"dataframe\">\n",
       "  <thead>\n",
       "    <tr style=\"text-align: right;\">\n",
       "      <th></th>\n",
       "      <th>tract_number</th>\n",
       "      <th>smoking_rate</th>\n",
       "      <th>2000_tract</th>\n",
       "      <th>neighborhood</th>\n",
       "      <th>obesity_rate</th>\n",
       "    </tr>\n",
       "  </thead>\n",
       "  <tbody>\n",
       "    <tr>\n",
       "      <th>0</th>\n",
       "      <td>42003010300</td>\n",
       "      <td>0.343375</td>\n",
       "      <td>10300</td>\n",
       "      <td>Bluff</td>\n",
       "      <td>0.246936</td>\n",
       "    </tr>\n",
       "    <tr>\n",
       "      <th>1</th>\n",
       "      <td>42003020100</td>\n",
       "      <td>0.156767</td>\n",
       "      <td>20100</td>\n",
       "      <td>Central Business District</td>\n",
       "      <td>0.668012</td>\n",
       "    </tr>\n",
       "    <tr>\n",
       "      <th>2</th>\n",
       "      <td>42003020300</td>\n",
       "      <td>0.237874</td>\n",
       "      <td>20300</td>\n",
       "      <td>Strip District</td>\n",
       "      <td>0.369996</td>\n",
       "    </tr>\n",
       "    <tr>\n",
       "      <th>3</th>\n",
       "      <td>42003030500</td>\n",
       "      <td>0.174871</td>\n",
       "      <td>30500</td>\n",
       "      <td>Crawford Roberts</td>\n",
       "      <td>0.488691</td>\n",
       "    </tr>\n",
       "    <tr>\n",
       "      <th>4</th>\n",
       "      <td>42003040200</td>\n",
       "      <td>0.235755</td>\n",
       "      <td>40200</td>\n",
       "      <td>West oakland</td>\n",
       "      <td>0.366391</td>\n",
       "    </tr>\n",
       "  </tbody>\n",
       "</table>\n",
       "</div>"
      ],
      "text/plain": [
       "  tract_number  smoking_rate  2000_tract               neighborhood  \\\n",
       "0  42003010300      0.343375       10300                      Bluff   \n",
       "1  42003020100      0.156767       20100  Central Business District   \n",
       "2  42003020300      0.237874       20300             Strip District   \n",
       "3  42003030500      0.174871       30500           Crawford Roberts   \n",
       "4  42003040200      0.235755       40200               West oakland   \n",
       "\n",
       "   obesity_rate  \n",
       "0      0.246936  \n",
       "1      0.668012  \n",
       "2      0.369996  \n",
       "3      0.488691  \n",
       "4      0.366391  "
      ]
     },
     "execution_count": 27,
     "metadata": {},
     "output_type": "execute_result"
    }
   ],
   "source": [
    "#Unifies tract column name\n",
    "df_temp_obesity_tract = df_obesity_rate.rename({'tractfips':'tract_number'},axis = 'columns')\n",
    "\n",
    " #Convert tract to string for comparison uses\n",
    "df_temp_obesity_tract['tract_number'] = df_temp_obesity_tract['tract_number'].astype(str)\n",
    "\n",
    "#Merges the two frames based on common tract number\n",
    "df_merged_tract = pd.merge(df_temp_smoking_tract, df_temp_obesity_tract, on=['tract_number'], how='inner')\n",
    "\n",
    "#Check the first few rows' data\n",
    "df_merged_tract.head()"
   ]
  },
  {
   "cell_type": "markdown",
   "metadata": {},
   "source": [
    "Now we will create a merged dataset which attaches ZIP codes to our data."
   ]
  },
  {
   "cell_type": "code",
   "execution_count": 28,
   "metadata": {},
   "outputs": [
    {
     "name": "stdout",
     "output_type": "stream",
     "text": [
      "(136, 6)\n"
     ]
    },
    {
     "data": {
      "text/html": [
       "<div>\n",
       "<style scoped>\n",
       "    .dataframe tbody tr th:only-of-type {\n",
       "        vertical-align: middle;\n",
       "    }\n",
       "\n",
       "    .dataframe tbody tr th {\n",
       "        vertical-align: top;\n",
       "    }\n",
       "\n",
       "    .dataframe thead th {\n",
       "        text-align: right;\n",
       "    }\n",
       "</style>\n",
       "<table border=\"1\" class=\"dataframe\">\n",
       "  <thead>\n",
       "    <tr style=\"text-align: right;\">\n",
       "      <th></th>\n",
       "      <th>tract_number</th>\n",
       "      <th>smoking_rate</th>\n",
       "      <th>2000_tract</th>\n",
       "      <th>neighborhood</th>\n",
       "      <th>obesity_rate</th>\n",
       "      <th>zip</th>\n",
       "    </tr>\n",
       "  </thead>\n",
       "  <tbody>\n",
       "    <tr>\n",
       "      <th>0</th>\n",
       "      <td>42003010300</td>\n",
       "      <td>0.343375</td>\n",
       "      <td>10300.0</td>\n",
       "      <td>Bluff</td>\n",
       "      <td>0.246936</td>\n",
       "      <td>15219</td>\n",
       "    </tr>\n",
       "    <tr>\n",
       "      <th>1</th>\n",
       "      <td>42003030500</td>\n",
       "      <td>0.174871</td>\n",
       "      <td>30500.0</td>\n",
       "      <td>Crawford Roberts</td>\n",
       "      <td>0.488691</td>\n",
       "      <td>15219</td>\n",
       "    </tr>\n",
       "    <tr>\n",
       "      <th>2</th>\n",
       "      <td>42003040600</td>\n",
       "      <td>0.282867</td>\n",
       "      <td>40600.0</td>\n",
       "      <td>Central Oakland</td>\n",
       "      <td>0.144556</td>\n",
       "      <td>15213</td>\n",
       "    </tr>\n",
       "    <tr>\n",
       "      <th>3</th>\n",
       "      <td>42003050100</td>\n",
       "      <td>0.189398</td>\n",
       "      <td>50100.0</td>\n",
       "      <td>Middle Hill</td>\n",
       "      <td>0.608099</td>\n",
       "      <td>15219</td>\n",
       "    </tr>\n",
       "    <tr>\n",
       "      <th>4</th>\n",
       "      <td>42003050900</td>\n",
       "      <td>0.226598</td>\n",
       "      <td>50900.0</td>\n",
       "      <td>Bedford Dwellings</td>\n",
       "      <td>0.636222</td>\n",
       "      <td>15219</td>\n",
       "    </tr>\n",
       "  </tbody>\n",
       "</table>\n",
       "</div>"
      ],
      "text/plain": [
       "  tract_number  smoking_rate  2000_tract       neighborhood  obesity_rate  \\\n",
       "0  42003010300      0.343375     10300.0              Bluff      0.246936   \n",
       "1  42003030500      0.174871     30500.0   Crawford Roberts      0.488691   \n",
       "2  42003040600      0.282867     40600.0    Central Oakland      0.144556   \n",
       "3  42003050100      0.189398     50100.0        Middle Hill      0.608099   \n",
       "4  42003050900      0.226598     50900.0  Bedford Dwellings      0.636222   \n",
       "\n",
       "     zip  \n",
       "0  15219  \n",
       "1  15219  \n",
       "2  15213  \n",
       "3  15219  \n",
       "4  15219  "
      ]
     },
     "execution_count": 28,
     "metadata": {},
     "output_type": "execute_result"
    }
   ],
   "source": [
    "#Matches dataframe with variable information to our zip to tract dictionary\n",
    "df_merge_zip = pd.merge(df_merged_tract, df_tract_to_zip, on = ['tract_number'], how = 'outer')\n",
    "\n",
    "#Deletes created\n",
    "df_merge_zip = df_merge_zip.drop_duplicates(subset = 'tract_number', keep = False)\n",
    "\n",
    "#Throws out any rows that are left over from the dictionary\n",
    "df_merge_zip = df_merge_zip[df_merge_zip['smoking_rate'].notna()]\n",
    "\n",
    "#Delete unecessary information, reformat dataframe\n",
    "df_merge_zip = df_merge_zip.reset_index()\n",
    "df_merge_zip = df_merge_zip.drop(['index', 'ID'], axis=1) \n",
    "df_merge_zip['zip'] = df_merge_zip['zip'].astype(str) \n",
    "\n",
    "#Check shape. We have significantly fewer samples now \n",
    "print(df_merge_zip.shape)\n",
    "\n",
    "#Take a look at the data\n",
    "df_merge_zip.head()"
   ]
  },
  {
   "cell_type": "markdown",
   "metadata": {},
   "source": [
    "### Merge Smoking and Obesity Datasets\n",
    "Merges smoking and obesity rates to one dataframe based on whether or not they have the same tract number."
   ]
  },
  {
   "cell_type": "code",
   "execution_count": 29,
   "metadata": {},
   "outputs": [
    {
     "data": {
      "text/html": [
       "<div>\n",
       "<style scoped>\n",
       "    .dataframe tbody tr th:only-of-type {\n",
       "        vertical-align: middle;\n",
       "    }\n",
       "\n",
       "    .dataframe tbody tr th {\n",
       "        vertical-align: top;\n",
       "    }\n",
       "\n",
       "    .dataframe thead th {\n",
       "        text-align: right;\n",
       "    }\n",
       "</style>\n",
       "<table border=\"1\" class=\"dataframe\">\n",
       "  <thead>\n",
       "    <tr style=\"text-align: right;\">\n",
       "      <th></th>\n",
       "      <th>tract_number</th>\n",
       "      <th>smoking_rate</th>\n",
       "      <th>2000_tract</th>\n",
       "      <th>neighborhood</th>\n",
       "      <th>obesity_rate</th>\n",
       "    </tr>\n",
       "  </thead>\n",
       "  <tbody>\n",
       "    <tr>\n",
       "      <th>0</th>\n",
       "      <td>42003010300</td>\n",
       "      <td>0.343375</td>\n",
       "      <td>10300</td>\n",
       "      <td>Bluff</td>\n",
       "      <td>0.246936</td>\n",
       "    </tr>\n",
       "    <tr>\n",
       "      <th>1</th>\n",
       "      <td>42003020100</td>\n",
       "      <td>0.156767</td>\n",
       "      <td>20100</td>\n",
       "      <td>Central Business District</td>\n",
       "      <td>0.668012</td>\n",
       "    </tr>\n",
       "    <tr>\n",
       "      <th>2</th>\n",
       "      <td>42003020300</td>\n",
       "      <td>0.237874</td>\n",
       "      <td>20300</td>\n",
       "      <td>Strip District</td>\n",
       "      <td>0.369996</td>\n",
       "    </tr>\n",
       "    <tr>\n",
       "      <th>3</th>\n",
       "      <td>42003030500</td>\n",
       "      <td>0.174871</td>\n",
       "      <td>30500</td>\n",
       "      <td>Crawford Roberts</td>\n",
       "      <td>0.488691</td>\n",
       "    </tr>\n",
       "    <tr>\n",
       "      <th>4</th>\n",
       "      <td>42003040200</td>\n",
       "      <td>0.235755</td>\n",
       "      <td>40200</td>\n",
       "      <td>West oakland</td>\n",
       "      <td>0.366391</td>\n",
       "    </tr>\n",
       "  </tbody>\n",
       "</table>\n",
       "</div>"
      ],
      "text/plain": [
       "  tract_number  smoking_rate  2000_tract               neighborhood  \\\n",
       "0  42003010300      0.343375       10300                      Bluff   \n",
       "1  42003020100      0.156767       20100  Central Business District   \n",
       "2  42003020300      0.237874       20300             Strip District   \n",
       "3  42003030500      0.174871       30500           Crawford Roberts   \n",
       "4  42003040200      0.235755       40200               West oakland   \n",
       "\n",
       "   obesity_rate  \n",
       "0      0.246936  \n",
       "1      0.668012  \n",
       "2      0.369996  \n",
       "3      0.488691  \n",
       "4      0.366391  "
      ]
     },
     "execution_count": 29,
     "metadata": {},
     "output_type": "execute_result"
    }
   ],
   "source": [
    "df_temp_obesity_tract = df_obesity_rate.rename({'tractfips':'tract_number'}, axis = 'columns')\n",
    "\n",
    "df_temp_obesity_tract['tract_number'] = df_temp_obesity_tract['tract_number'].astype(str)\n",
    "\n",
    "df_merged_tract = pd.merge(df_temp_smoking_tract, df_temp_obesity_tract, on=['tract_number'], how='inner')\n",
    "\n",
    "df_merged_tract.head()"
   ]
  },
  {
   "cell_type": "markdown",
   "metadata": {},
   "source": [
    "### Merge vendor counts and primary dataframe to find number of vendors associated with zips and smoking rates"
   ]
  },
  {
   "cell_type": "code",
   "execution_count": 30,
   "metadata": {},
   "outputs": [
    {
     "data": {
      "text/html": [
       "<div>\n",
       "<style scoped>\n",
       "    .dataframe tbody tr th:only-of-type {\n",
       "        vertical-align: middle;\n",
       "    }\n",
       "\n",
       "    .dataframe tbody tr th {\n",
       "        vertical-align: top;\n",
       "    }\n",
       "\n",
       "    .dataframe thead th {\n",
       "        text-align: right;\n",
       "    }\n",
       "</style>\n",
       "<table border=\"1\" class=\"dataframe\">\n",
       "  <thead>\n",
       "    <tr style=\"text-align: right;\">\n",
       "      <th></th>\n",
       "      <th>number_of_vendors</th>\n",
       "      <th>zip</th>\n",
       "      <th>tract_number</th>\n",
       "      <th>smoking_rate</th>\n",
       "      <th>2000_tract</th>\n",
       "      <th>neighborhood</th>\n",
       "      <th>obesity_rate</th>\n",
       "    </tr>\n",
       "  </thead>\n",
       "  <tbody>\n",
       "    <tr>\n",
       "      <th>0</th>\n",
       "      <td>46</td>\n",
       "      <td>15235</td>\n",
       "      <td>42003523400</td>\n",
       "      <td>0.249323</td>\n",
       "      <td>523400.0</td>\n",
       "      <td>NaN</td>\n",
       "      <td>0.299322</td>\n",
       "    </tr>\n",
       "    <tr>\n",
       "      <th>1</th>\n",
       "      <td>46</td>\n",
       "      <td>15235</td>\n",
       "      <td>42003523502</td>\n",
       "      <td>0.262209</td>\n",
       "      <td>523502.0</td>\n",
       "      <td>NaN</td>\n",
       "      <td>0.306757</td>\n",
       "    </tr>\n",
       "    <tr>\n",
       "      <th>2</th>\n",
       "      <td>46</td>\n",
       "      <td>15235</td>\n",
       "      <td>42003523600</td>\n",
       "      <td>0.225732</td>\n",
       "      <td>523600.0</td>\n",
       "      <td>NaN</td>\n",
       "      <td>0.282029</td>\n",
       "    </tr>\n",
       "    <tr>\n",
       "      <th>3</th>\n",
       "      <td>43</td>\n",
       "      <td>15132</td>\n",
       "      <td>42003501000</td>\n",
       "      <td>0.251734</td>\n",
       "      <td>501000.0</td>\n",
       "      <td>NaN</td>\n",
       "      <td>0.293406</td>\n",
       "    </tr>\n",
       "    <tr>\n",
       "      <th>4</th>\n",
       "      <td>43</td>\n",
       "      <td>15132</td>\n",
       "      <td>42003550900</td>\n",
       "      <td>0.271556</td>\n",
       "      <td>550900.0</td>\n",
       "      <td>NaN</td>\n",
       "      <td>0.428708</td>\n",
       "    </tr>\n",
       "    <tr>\n",
       "      <th>...</th>\n",
       "      <td>...</td>\n",
       "      <td>...</td>\n",
       "      <td>...</td>\n",
       "      <td>...</td>\n",
       "      <td>...</td>\n",
       "      <td>...</td>\n",
       "      <td>...</td>\n",
       "    </tr>\n",
       "    <tr>\n",
       "      <th>146</th>\n",
       "      <td>4</td>\n",
       "      <td>15144</td>\n",
       "      <td>42003417100</td>\n",
       "      <td>0.264051</td>\n",
       "      <td>417100.0</td>\n",
       "      <td>NaN</td>\n",
       "      <td>0.300268</td>\n",
       "    </tr>\n",
       "    <tr>\n",
       "      <th>147</th>\n",
       "      <td>4</td>\n",
       "      <td>15144</td>\n",
       "      <td>42003417200</td>\n",
       "      <td>0.282508</td>\n",
       "      <td>417200.0</td>\n",
       "      <td>NaN</td>\n",
       "      <td>0.299906</td>\n",
       "    </tr>\n",
       "    <tr>\n",
       "      <th>148</th>\n",
       "      <td>4</td>\n",
       "      <td>15014</td>\n",
       "      <td>42003402000</td>\n",
       "      <td>0.271090</td>\n",
       "      <td>402000.0</td>\n",
       "      <td>NaN</td>\n",
       "      <td>0.293870</td>\n",
       "    </tr>\n",
       "    <tr>\n",
       "      <th>150</th>\n",
       "      <td>4</td>\n",
       "      <td>15129</td>\n",
       "      <td>42003490004</td>\n",
       "      <td>0.296016</td>\n",
       "      <td>490004.0</td>\n",
       "      <td>NaN</td>\n",
       "      <td>0.257086</td>\n",
       "    </tr>\n",
       "    <tr>\n",
       "      <th>161</th>\n",
       "      <td>2</td>\n",
       "      <td>15225</td>\n",
       "      <td>42003461000</td>\n",
       "      <td>0.260944</td>\n",
       "      <td>461000.0</td>\n",
       "      <td>NaN</td>\n",
       "      <td>0.290218</td>\n",
       "    </tr>\n",
       "  </tbody>\n",
       "</table>\n",
       "<p>136 rows × 7 columns</p>\n",
       "</div>"
      ],
      "text/plain": [
       "     number_of_vendors    zip tract_number  smoking_rate  2000_tract  \\\n",
       "0                   46  15235  42003523400      0.249323    523400.0   \n",
       "1                   46  15235  42003523502      0.262209    523502.0   \n",
       "2                   46  15235  42003523600      0.225732    523600.0   \n",
       "3                   43  15132  42003501000      0.251734    501000.0   \n",
       "4                   43  15132  42003550900      0.271556    550900.0   \n",
       "..                 ...    ...          ...           ...         ...   \n",
       "146                  4  15144  42003417100      0.264051    417100.0   \n",
       "147                  4  15144  42003417200      0.282508    417200.0   \n",
       "148                  4  15014  42003402000      0.271090    402000.0   \n",
       "150                  4  15129  42003490004      0.296016    490004.0   \n",
       "161                  2  15225  42003461000      0.260944    461000.0   \n",
       "\n",
       "    neighborhood  obesity_rate  \n",
       "0            NaN      0.299322  \n",
       "1            NaN      0.306757  \n",
       "2            NaN      0.282029  \n",
       "3            NaN      0.293406  \n",
       "4            NaN      0.428708  \n",
       "..           ...           ...  \n",
       "146          NaN      0.300268  \n",
       "147          NaN      0.299906  \n",
       "148          NaN      0.293870  \n",
       "150          NaN      0.257086  \n",
       "161          NaN      0.290218  \n",
       "\n",
       "[136 rows x 7 columns]"
      ]
     },
     "execution_count": 30,
     "metadata": {},
     "output_type": "execute_result"
    }
   ],
   "source": [
    "#Merge vendor counts and primary dataframe to find number of vendors associated with zips and smoking rates\n",
    "df_zip_vendor_counts = df_zip_vendor_counts.rename({'zip':'number_of_vendors'}, axis = 'columns')\n",
    "\n",
    "\n",
    "kwargs = {'zip': df_zip_vendor_counts.index}\n",
    "\n",
    "df_zip_vendor_counts = df_zip_vendor_counts.assign(**kwargs)\n",
    "\n",
    "df_zip_vendor_counts = df_zip_vendor_counts.reset_index() \n",
    "df_zip_vendor_counts = df_zip_vendor_counts.drop(['index'], axis = 1)\n",
    "\n",
    "\n",
    "df_zip_vendor_counts['zip'] = df_zip_vendor_counts['zip'].astype(str)\n",
    "\n",
    "\n",
    "df_merge_vendor_zip = pd.merge(df_zip_vendor_counts, df_merge_zip, how = 'outer', on = 'zip')\n",
    "df_merge_vendor_zip = df_merge_vendor_zip[df_merge_vendor_zip['smoking_rate'].notna()] \n",
    "\n",
    "\n",
    "df_merge_vendor_zip"
   ]
  },
  {
   "cell_type": "markdown",
   "metadata": {},
   "source": [
    "### Merge df_merge_vendor_zip with Education and Income Dataframe"
   ]
  },
  {
   "cell_type": "code",
   "execution_count": 31,
   "metadata": {},
   "outputs": [
    {
     "data": {
      "text/html": [
       "<div>\n",
       "<style scoped>\n",
       "    .dataframe tbody tr th:only-of-type {\n",
       "        vertical-align: middle;\n",
       "    }\n",
       "\n",
       "    .dataframe tbody tr th {\n",
       "        vertical-align: top;\n",
       "    }\n",
       "\n",
       "    .dataframe thead th {\n",
       "        text-align: right;\n",
       "    }\n",
       "</style>\n",
       "<table border=\"1\" class=\"dataframe\">\n",
       "  <thead>\n",
       "    <tr style=\"text-align: right;\">\n",
       "      <th></th>\n",
       "      <th>number_of_vendors</th>\n",
       "      <th>zip</th>\n",
       "      <th>tract_number</th>\n",
       "      <th>smoking_rate</th>\n",
       "      <th>2000_tract</th>\n",
       "      <th>neighborhood</th>\n",
       "      <th>obesity_rate</th>\n",
       "      <th>hs_grad_rate</th>\n",
       "      <th>median_income</th>\n",
       "      <th>poverty_rate</th>\n",
       "    </tr>\n",
       "  </thead>\n",
       "  <tbody>\n",
       "    <tr>\n",
       "      <th>101</th>\n",
       "      <td>38.0</td>\n",
       "      <td>15210</td>\n",
       "      <td>42003290200</td>\n",
       "      <td>0.291499</td>\n",
       "      <td>290200.0</td>\n",
       "      <td>Carrick</td>\n",
       "      <td>0.310517</td>\n",
       "      <td>0.587</td>\n",
       "      <td>40943.0</td>\n",
       "      <td>0.148</td>\n",
       "    </tr>\n",
       "    <tr>\n",
       "      <th>102</th>\n",
       "      <td>38.0</td>\n",
       "      <td>15210</td>\n",
       "      <td>42003300100</td>\n",
       "      <td>0.285518</td>\n",
       "      <td>300100.0</td>\n",
       "      <td>Knoxville</td>\n",
       "      <td>0.390727</td>\n",
       "      <td>0.602</td>\n",
       "      <td>30403.0</td>\n",
       "      <td>0.286</td>\n",
       "    </tr>\n",
       "    <tr>\n",
       "      <th>103</th>\n",
       "      <td>34.0</td>\n",
       "      <td>15206</td>\n",
       "      <td>42003070800</td>\n",
       "      <td>0.197981</td>\n",
       "      <td>70800.0</td>\n",
       "      <td>Shadyside</td>\n",
       "      <td>0.134520</td>\n",
       "      <td>0.157</td>\n",
       "      <td>49393.0</td>\n",
       "      <td>0.193</td>\n",
       "    </tr>\n",
       "    <tr>\n",
       "      <th>104</th>\n",
       "      <td>5.0</td>\n",
       "      <td>15232</td>\n",
       "      <td>42003070300</td>\n",
       "      <td>0.165556</td>\n",
       "      <td>70300.0</td>\n",
       "      <td>Shadyside</td>\n",
       "      <td>0.128451</td>\n",
       "      <td>0.157</td>\n",
       "      <td>49393.0</td>\n",
       "      <td>0.193</td>\n",
       "    </tr>\n",
       "    <tr>\n",
       "      <th>105</th>\n",
       "      <td>34.0</td>\n",
       "      <td>15206</td>\n",
       "      <td>42003110200</td>\n",
       "      <td>0.224399</td>\n",
       "      <td>110200.0</td>\n",
       "      <td>Highland Park</td>\n",
       "      <td>0.243037</td>\n",
       "      <td>0.255</td>\n",
       "      <td>66985.0</td>\n",
       "      <td>0.092</td>\n",
       "    </tr>\n",
       "  </tbody>\n",
       "</table>\n",
       "</div>"
      ],
      "text/plain": [
       "     number_of_vendors    zip tract_number  smoking_rate  2000_tract  \\\n",
       "101               38.0  15210  42003290200      0.291499    290200.0   \n",
       "102               38.0  15210  42003300100      0.285518    300100.0   \n",
       "103               34.0  15206  42003070800      0.197981     70800.0   \n",
       "104                5.0  15232  42003070300      0.165556     70300.0   \n",
       "105               34.0  15206  42003110200      0.224399    110200.0   \n",
       "\n",
       "      neighborhood  obesity_rate  hs_grad_rate  median_income  poverty_rate  \n",
       "101        Carrick      0.310517         0.587        40943.0         0.148  \n",
       "102      Knoxville      0.390727         0.602        30403.0         0.286  \n",
       "103      Shadyside      0.134520         0.157        49393.0         0.193  \n",
       "104      Shadyside      0.128451         0.157        49393.0         0.193  \n",
       "105  Highland Park      0.243037         0.255        66985.0         0.092  "
      ]
     },
     "execution_count": 31,
     "metadata": {},
     "output_type": "execute_result"
    }
   ],
   "source": [
    "#Create unified dataframe will all relevant data columns\n",
    "df_merge_master = pd.merge(df_merge_vendor_zip, df_edu_income, on = 'neighborhood', how = 'outer')\n",
    "df_merge_master = df_merge_master[df_merge_master['smoking_rate'].notna()]\n",
    "df_merge_master = df_merge_master[df_merge_master['poverty_rate'].notna()]\n",
    "\n",
    "#changing hs_grad_rate from string to float\n",
    "df_merge_master['hs_grad_rate'] = df_merge_master['hs_grad_rate'].str.replace('%', '')\n",
    "df_merge_master['hs_grad_rate'] = df_merge_master['hs_grad_rate'].astype(float)\n",
    "df_merge_master['hs_grad_rate'] = df_merge_master['hs_grad_rate'].div(100)\n",
    "\n",
    "#changing poverty rate from string to float\n",
    "df_merge_master['poverty_rate'] = df_merge_master['poverty_rate'].str.replace('%', '')\n",
    "df_merge_master['poverty_rate'] = df_merge_master['poverty_rate'].astype(float)\n",
    "df_merge_master['poverty_rate'] = df_merge_master['poverty_rate'].div(100)\n",
    "\n",
    "#changing median income from string to float\n",
    "df_merge_master['median_income'] = df_merge_master['median_income'].replace('[\\$,]', '', regex=True).astype(float)\n",
    "\n",
    "\n",
    "df_merge_master.head()"
   ]
  },
  {
   "cell_type": "markdown",
   "metadata": {},
   "source": [
    "# Data Analysis"
   ]
  },
  {
   "cell_type": "markdown",
   "metadata": {},
   "source": [
    "For our analyses, we need to explore the relationships (if any) between smoking rate, obesity rate, number of tobacco vendors, poverty rate, education, and median income. We essentially want to see which predictor variable is affecting smoking rate the most. We will look at each relationship with a predictor variable and smoking rate, and then we will take our analysis further. But first, let's look at the relationship between smoking and obesity rate. As coded above, we first cleaned the smoking rate dataset to obtain only the tractfips of those in Allegheny County, and then we merged the smoking rate and obesity rate dataset together. This new dataset called df_merged_tract will help make EDA and analysis better. "
   ]
  },
  {
   "cell_type": "code",
   "execution_count": 32,
   "metadata": {},
   "outputs": [
    {
     "data": {
      "text/html": [
       "<div>\n",
       "<style scoped>\n",
       "    .dataframe tbody tr th:only-of-type {\n",
       "        vertical-align: middle;\n",
       "    }\n",
       "\n",
       "    .dataframe tbody tr th {\n",
       "        vertical-align: top;\n",
       "    }\n",
       "\n",
       "    .dataframe thead th {\n",
       "        text-align: right;\n",
       "    }\n",
       "</style>\n",
       "<table border=\"1\" class=\"dataframe\">\n",
       "  <thead>\n",
       "    <tr style=\"text-align: right;\">\n",
       "      <th></th>\n",
       "      <th>tract_number</th>\n",
       "      <th>smoking_rate</th>\n",
       "      <th>2000_tract</th>\n",
       "      <th>neighborhood</th>\n",
       "      <th>obesity_rate</th>\n",
       "    </tr>\n",
       "  </thead>\n",
       "  <tbody>\n",
       "    <tr>\n",
       "      <th>0</th>\n",
       "      <td>42003010300</td>\n",
       "      <td>0.343375</td>\n",
       "      <td>10300</td>\n",
       "      <td>Bluff</td>\n",
       "      <td>0.246936</td>\n",
       "    </tr>\n",
       "    <tr>\n",
       "      <th>1</th>\n",
       "      <td>42003020100</td>\n",
       "      <td>0.156767</td>\n",
       "      <td>20100</td>\n",
       "      <td>Central Business District</td>\n",
       "      <td>0.668012</td>\n",
       "    </tr>\n",
       "    <tr>\n",
       "      <th>2</th>\n",
       "      <td>42003020300</td>\n",
       "      <td>0.237874</td>\n",
       "      <td>20300</td>\n",
       "      <td>Strip District</td>\n",
       "      <td>0.369996</td>\n",
       "    </tr>\n",
       "    <tr>\n",
       "      <th>3</th>\n",
       "      <td>42003030500</td>\n",
       "      <td>0.174871</td>\n",
       "      <td>30500</td>\n",
       "      <td>Crawford Roberts</td>\n",
       "      <td>0.488691</td>\n",
       "    </tr>\n",
       "    <tr>\n",
       "      <th>4</th>\n",
       "      <td>42003040200</td>\n",
       "      <td>0.235755</td>\n",
       "      <td>40200</td>\n",
       "      <td>West oakland</td>\n",
       "      <td>0.366391</td>\n",
       "    </tr>\n",
       "    <tr>\n",
       "      <th>...</th>\n",
       "      <td>...</td>\n",
       "      <td>...</td>\n",
       "      <td>...</td>\n",
       "      <td>...</td>\n",
       "      <td>...</td>\n",
       "    </tr>\n",
       "    <tr>\n",
       "      <th>355</th>\n",
       "      <td>42003561000</td>\n",
       "      <td>0.235330</td>\n",
       "      <td>561000</td>\n",
       "      <td>NaN</td>\n",
       "      <td>0.496650</td>\n",
       "    </tr>\n",
       "    <tr>\n",
       "      <th>356</th>\n",
       "      <td>42003561100</td>\n",
       "      <td>0.205057</td>\n",
       "      <td>561100</td>\n",
       "      <td>NaN</td>\n",
       "      <td>0.605003</td>\n",
       "    </tr>\n",
       "    <tr>\n",
       "      <th>357</th>\n",
       "      <td>42003561200</td>\n",
       "      <td>0.185467</td>\n",
       "      <td>561200</td>\n",
       "      <td>NaN</td>\n",
       "      <td>0.506953</td>\n",
       "    </tr>\n",
       "    <tr>\n",
       "      <th>358</th>\n",
       "      <td>42003561400</td>\n",
       "      <td>0.207687</td>\n",
       "      <td>561400</td>\n",
       "      <td>NaN</td>\n",
       "      <td>0.385815</td>\n",
       "    </tr>\n",
       "    <tr>\n",
       "      <th>359</th>\n",
       "      <td>42003561500</td>\n",
       "      <td>0.216785</td>\n",
       "      <td>561500</td>\n",
       "      <td>NaN</td>\n",
       "      <td>0.388965</td>\n",
       "    </tr>\n",
       "  </tbody>\n",
       "</table>\n",
       "<p>360 rows × 5 columns</p>\n",
       "</div>"
      ],
      "text/plain": [
       "    tract_number  smoking_rate  2000_tract               neighborhood  \\\n",
       "0    42003010300      0.343375       10300                      Bluff   \n",
       "1    42003020100      0.156767       20100  Central Business District   \n",
       "2    42003020300      0.237874       20300             Strip District   \n",
       "3    42003030500      0.174871       30500           Crawford Roberts   \n",
       "4    42003040200      0.235755       40200               West oakland   \n",
       "..           ...           ...         ...                        ...   \n",
       "355  42003561000      0.235330      561000                        NaN   \n",
       "356  42003561100      0.205057      561100                        NaN   \n",
       "357  42003561200      0.185467      561200                        NaN   \n",
       "358  42003561400      0.207687      561400                        NaN   \n",
       "359  42003561500      0.216785      561500                        NaN   \n",
       "\n",
       "     obesity_rate  \n",
       "0        0.246936  \n",
       "1        0.668012  \n",
       "2        0.369996  \n",
       "3        0.488691  \n",
       "4        0.366391  \n",
       "..            ...  \n",
       "355      0.496650  \n",
       "356      0.605003  \n",
       "357      0.506953  \n",
       "358      0.385815  \n",
       "359      0.388965  \n",
       "\n",
       "[360 rows x 5 columns]"
      ]
     },
     "execution_count": 32,
     "metadata": {},
     "output_type": "execute_result"
    }
   ],
   "source": [
    "# looking at the df_merged_tract dataset again\n",
    "df_merged_tract"
   ]
  },
  {
   "cell_type": "markdown",
   "metadata": {},
   "source": [
    "## Verify that smoking affects obesity rate"
   ]
  },
  {
   "cell_type": "markdown",
   "metadata": {},
   "source": [
    "We will first look take a close look into the smoking and obesity rates. \n",
    "\n",
    "To conduct EDA, we will be using boxplots to examine the mean, percentile (25th and 75th), as well as the range and outliers of smoking and obesity rate respectively."
   ]
  },
  {
   "cell_type": "code",
   "execution_count": 33,
   "metadata": {},
   "outputs": [
    {
     "data": {
      "image/png": "[encoded data removed]",
      "text/plain": [
       "<Figure size 432x288 with 1 Axes>"
      ]
     },
     "metadata": {
      "needs_background": "light"
     },
     "output_type": "display_data"
    }
   ],
   "source": [
    "#creating a boxplot\n",
    "#x_value = [float(i) for i in df_merged_tract['smoking_rate']]\n",
    "ay = sns.boxplot(x='smoking_rate', data=df_merged_tract)\n",
    "#making sure the boxplot has the correct features to make ensure it communicates the information effectively\n",
    "ay.set_title('Smoking Rate Range and Outliers')\n",
    "ay.set_xlabel('Smoking Rate');"
   ]
  },
  {
   "cell_type": "markdown",
   "metadata": {},
   "source": [
    "So, from the graph, we can see that the smoking rate median is about 0.24. This means that 50% of the data is less that 0.24 (aka 25%), while the other 50% is over 0.25. Its' 25th percentile seems to be about a bit over 0.20 while the 75th percentile is about 0.26. Thankfully, we can check our estimates to ensure we were able to accurately extract the rates."
   ]
  },
  {
   "cell_type": "code",
   "execution_count": 34,
   "metadata": {},
   "outputs": [
    {
     "name": "stdout",
     "output_type": "stream",
     "text": [
      "median: 0.23976032949999998\n",
      "25th percentile: 0.20415822849999998\n",
      "75th percentile: 0.26418717\n",
      "interquartile range: 0.060028941500000044\n",
      "lower boundary: 0.11411481624999992\n",
      "upper boundary: 0.3542305822500001\n"
     ]
    }
   ],
   "source": [
    "#figuring out the 50th percentile (aka the median)\n",
    "median = np.percentile(df_merged_tract['smoking_rate'], 50)\n",
    "print(\"median: \" + str(median))\n",
    "\n",
    "#figuring out the 25th and 75th percentile \n",
    "lower, upper = np.percentile(df_merged_tract['smoking_rate'], [25, 75])\n",
    "print(\"25th percentile: \" + str(lower))\n",
    "print(\"75th percentile: \" + str(upper))\n",
    "\n",
    "#figuring out outliers by first calculating inter-quartile range (iqr)\n",
    "iqr = upper - lower\n",
    "print(\"interquartile range: \" + str(iqr))\n",
    "\n",
    "#values below or above are outliers\n",
    "lower_boundary = lower - 1.5 * iqr\n",
    "upper_boundary = upper + 1.5 *iqr\n",
    "print (\"lower boundary: \" + str(lower_boundary))\n",
    "print (\"upper boundary: \" + str(upper_boundary))"
   ]
  },
  {
   "cell_type": "markdown",
   "metadata": {},
   "source": [
    "From our calculations, we can see that the inter-quartile range is just 0.06. We also know that anything below 0.11 or above 0.35 is considered an outlier.\n",
    "\n",
    "We will now look at obesity rate."
   ]
  },
  {
   "cell_type": "code",
   "execution_count": 35,
   "metadata": {},
   "outputs": [
    {
     "data": {
      "image/png": "[encoded data removed]",
      "text/plain": [
       "<Figure size 432x288 with 1 Axes>"
      ]
     },
     "metadata": {
      "needs_background": "light"
     },
     "output_type": "display_data"
    }
   ],
   "source": [
    "#x_value = [float(i) for i in df_merged_tract['obesity_rate']]\n",
    "#creating the boxplot for obesity_rate\n",
    "az = sns.boxplot(x='obesity_rate', data=df_merged_tract)\n",
    "#refining the boxplot to make it a strong visualization \n",
    "az.set_title('Obesity Rate Range and Outliers')\n",
    "az.set_xlabel('Obesity Rate');"
   ]
  },
  {
   "cell_type": "markdown",
   "metadata": {},
   "source": [
    "So, from the graph, we can see that the smoking rate median is about less than 0.28. This means that 50% of the data is less than about 0.28 (aka 25%), while the other 50% is over 0.28. Its' 25th percentile seems to be about 0.21 while the 75th percentile is about 0.3. In this graph it is a bit harder to read the numbers off the graph. However, we can check our estimates to ensure we were able to accurately extract the rates."
   ]
  },
  {
   "cell_type": "code",
   "execution_count": 36,
   "metadata": {},
   "outputs": [
    {
     "name": "stdout",
     "output_type": "stream",
     "text": [
      "median: 0.281797601\n",
      "25th percentile: 0.24069907550000003\n",
      "75th percentile: 0.30985808475\n",
      "interquartile range: 0.06915900924999996\n",
      "lower boundary: 0.1369605616250001\n",
      "upper boundary: 0.4135965986249999\n"
     ]
    }
   ],
   "source": [
    "#figuring out the 50th percentile (aka the median)\n",
    "median = np.percentile(df_merged_tract['obesity_rate'], 50)\n",
    "print(\"median: \" + str(median))\n",
    "\n",
    "#figuring out the 25th and 75th percentile \n",
    "lower, upper = np.percentile(df_merged_tract['obesity_rate'], [25, 75])\n",
    "print(\"25th percentile: \" + str(lower))\n",
    "print(\"75th percentile: \" + str(upper))\n",
    "\n",
    "#figuring out outliers by first calculating inter-quartile range (iqr)\n",
    "iqr = upper - lower\n",
    "print(\"interquartile range: \" + str(iqr))\n",
    "\n",
    "#values below or above are outliers\n",
    "lower_boundary = lower - 1.5 * iqr\n",
    "upper_boundary = upper + 1.5 *iqr\n",
    "print (\"lower boundary: \" + str(lower_boundary))\n",
    "print (\"upper boundary: \" + str(upper_boundary))"
   ]
  },
  {
   "cell_type": "markdown",
   "metadata": {},
   "source": [
    "We can see in this case our numbers were slightly off. We can see that the inter-quartile range is just 0.069. We also know that anything below 0.14 or above 0.41 is considered an outlier. \n",
    "\n",
    "The range and mean for obesity and smoking rates are similar. Even the inter-quartile range isn't that far apart from one another. However, the obesity rate does have a lot more outliers. This could be partially due to the slight differences in where the boundaries are. These similarilities do not mean there's a correlation between them. A boxplot helps more with understanding the variable's range and outliers. From the graph above, we can notice that there are many outliers that it many be worth it to try to see what is contributing to this trend."
   ]
  },
  {
   "cell_type": "markdown",
   "metadata": {},
   "source": [
    "Now, we can move on to look at the relationship between smoking and obesity rate. First, we need to check if our dataframes are normally distributed."
   ]
  },
  {
   "cell_type": "code",
   "execution_count": 37,
   "metadata": {},
   "outputs": [
    {
     "data": {
      "text/plain": [
       "Text(0, 0.5, 'Count')"
      ]
     },
     "execution_count": 37,
     "metadata": {},
     "output_type": "execute_result"
    },
    {
     "data": {
      "image/png": "[encoded data removed]",
      "text/plain": [
       "<Figure size 432x288 with 2 Axes>"
      ]
     },
     "metadata": {
      "needs_background": "light"
     },
     "output_type": "display_data"
    }
   ],
   "source": [
    "#first look to see if the data is normally distributed\n",
    "#sns.distplot(df_merge_zip['smoking_rate'][df_merge_zip['obesity_rate'].notnull()],hist=True).set_title('Distribution of Obesity Rate by Smoking Rate')\n",
    "#plt.xlabel('Smoking Rate')\n",
    "#plt.ylabel('Obesity Rate')\n",
    "\n",
    "plt.subplot(121)\n",
    "sns.distplot(df_merge_zip['smoking_rate']).set_title(\"Distribution of Smoking Rate\")\n",
    "plt.xlabel('Smoking Rate')\n",
    "plt.ylabel('Count')\n",
    "\n",
    "#transfrom obesity rate\n",
    "df_merge_zip['obesity_rate10'] = np.log10(df_merge_zip['obesity_rate'])\n",
    "\n",
    "plt.subplot(122)\n",
    "sns.distplot(df_merge_zip['obesity_rate10']).set_title(\"Log Distribution of Obesity Rate\")\n",
    "plt.xlabel('Log Transformed Obesity Rate')\n",
    "plt.ylabel('Count')"
   ]
  },
  {
   "cell_type": "markdown",
   "metadata": {},
   "source": [
    "This displot demonstrates how the data is close to normally distributed which means that the distribution is closely symmetric acount the mean. We see that after our transformation, both smoking rate and obesity rate are normally distributed. Next, we will look at these two variables relationship in a linear regression. This quick overview will let us know if it is worth looking into their relationship further."
   ]
  },
  {
   "cell_type": "code",
   "execution_count": 38,
   "metadata": {},
   "outputs": [
    {
     "name": "stdout",
     "output_type": "stream",
     "text": [
      "Normal test p-value for smoking rate 1.451261199628363e-15\n",
      "Normal test p-value for obesity rate 0.019210798749532708\n"
     ]
    }
   ],
   "source": [
    "#Create variables to test for normality\n",
    "h_smoke = df_merge_zip['smoking_rate'].values\n",
    "h_obesity = df_merge_zip['obesity_rate'].values\n",
    "st_smoke, p_smoke = stats.normaltest(h_smoke)\n",
    "st_obesity, p_obesity = stats.normaltest(h_obesity)\n",
    "print('Normal test p-value for smoking rate ' + str(p_obesity))\n",
    "print('Normal test p-value for obesity rate ' + str(p_smoke))"
   ]
  },
  {
   "cell_type": "markdown",
   "metadata": {},
   "source": [
    "It looks like the p-value for both smoking and obesity rate are very low (both are under 0.01), indicating strong evidence against the null hypothesis that there is no significant relationship between smoking and obesisty rate. Thus, we can reject the null hypothesis and say that there IS a signi cant relationship between smoking and obesity rate."
   ]
  },
  {
   "cell_type": "code",
   "execution_count": 39,
   "metadata": {},
   "outputs": [
    {
     "data": {
      "text/plain": [
       "[<matplotlib.lines.Line2D at 0x7feb2f5bc390>]"
      ]
     },
     "execution_count": 39,
     "metadata": {},
     "output_type": "execute_result"
    },
    {
     "data": {
      "image/png": "[encoded data removed]",
      "text/plain": [
       "<Figure size 432x288 with 1 Axes>"
      ]
     },
     "metadata": {
      "needs_background": "light"
     },
     "output_type": "display_data"
    }
   ],
   "source": [
    "#check for linear relationship between smoking and obesity rate\n",
    "ax = sns.scatterplot(x = 'smoking_rate', y = 'obesity_rate10', data = df_merge_zip)\n",
    "ax.set_title('Is there a relationship between Smoking Rate and Obesity Rate in Allegheny County?')\n",
    "plt.xlabel('Smoking Rate')\n",
    "plt.ylabel('Logged Obesity Rate')\n",
    "\n",
    "#Using polyfit to fit a 1-degree linear model, predicting obesity rate from smoking rate\n",
    "a1, b1 = np.polyfit(df_merge_zip['smoking_rate'].values, df_merge_zip['obesity_rate10'].values, 1)\n",
    "yfit = [b1 + a1 * xi for xi in df_merge_zip['smoking_rate']]\n",
    "plt.plot(df_merge_zip['smoking_rate'], yfit, 'Red')"
   ]
  },
  {
   "cell_type": "markdown",
   "metadata": {},
   "source": [
    "We can see a pretty strong postiive relationship between smoking and obeisty rate. With this and the p-values, we can conlcude that there is a linear relationship between the smoking and obsesity rate in Allegheny County. Now that we know that there is a relationship between smoking and obesity rate, we want to meaure that relationship."
   ]
  },
  {
   "cell_type": "code",
   "execution_count": 40,
   "metadata": {},
   "outputs": [
    {
     "name": "stdout",
     "output_type": "stream",
     "text": [
      "                            OLS Regression Results                            \n",
      "==============================================================================\n",
      "Dep. Variable:         obesity_rate10   R-squared:                       0.114\n",
      "Model:                            OLS   Adj. R-squared:                  0.108\n",
      "Method:                 Least Squares   F-statistic:                     17.26\n",
      "Date:                Wed, 16 Dec 2020   Prob (F-statistic):           5.77e-05\n",
      "Time:                        23:34:30   Log-Likelihood:                 78.091\n",
      "No. Observations:                 136   AIC:                            -152.2\n",
      "Df Residuals:                     134   BIC:                            -146.4\n",
      "Df Model:                           1                                         \n",
      "Covariance Type:            nonrobust                                         \n",
      "================================================================================\n",
      "                   coef    std err          t      P>|t|      [0.025      0.975]\n",
      "--------------------------------------------------------------------------------\n",
      "Intercept       -0.7905      0.066    -11.971      0.000      -0.921      -0.660\n",
      "smoking_rate     1.1151      0.268      4.155      0.000       0.584       1.646\n",
      "==============================================================================\n",
      "Omnibus:                       21.759   Durbin-Watson:                   1.310\n",
      "Prob(Omnibus):                  0.000   Jarque-Bera (JB):               27.168\n",
      "Skew:                           0.947   Prob(JB):                     1.26e-06\n",
      "Kurtosis:                       4.098   Cond. No.                         24.1\n",
      "==============================================================================\n",
      "\n",
      "Warnings:\n",
      "[1] Standard Errors assume that the covariance matrix of the errors is correctly specified.\n"
     ]
    }
   ],
   "source": [
    "outcome, predictors = patsy.dmatrices('obesity_rate10 ~ smoking_rate', df_merge_zip)\n",
    "mod = sm.OLS(outcome, predictors)\n",
    "res = mod.fit()\n",
    "print(res.summary())"
   ]
  },
  {
   "cell_type": "markdown",
   "metadata": {},
   "source": [
    "From this, we can see that smoking rate has as postitive effect on Obseity Rate. \n",
    "$$ Obesity Rate = 0.16 + (0.66  * Smoking Rate)  $$\n",
    "\n",
    "This means that if the obesity rate was 0, the smoking rate would be ~-0.80 (the intercept). For every 1 unit increae in smoking rate, you can expect a ~1.12 increase in smoking rate (the effect size).\n",
    "\n",
    "In conclusion, as stated before, there is a positive relationship between smoking and obesity rate in Allegheny County and the equation displayed above can be used as a model to to predict the obseity rate of an area given its smoking rate"
   ]
  },
  {
   "cell_type": "markdown",
   "metadata": {},
   "source": [
    "## How does poverty rate, median income, and education level affect smoking rate? \n",
    "We now want use the same process to create models for the following: poverty rate vs. smoking rate, median income vs. smoking rate, and high school grad rate vs smoking rate. "
   ]
  },
  {
   "cell_type": "markdown",
   "metadata": {},
   "source": [
    "#### Poverty Rate vs Smoking Rate\n",
    "We can first look at poverty rate vs. smoking rate. We already know from above that smoking rate is normally distributed. We will first need to check if poverty rate is normally distributed. If not, we will need to use log to transform it. "
   ]
  },
  {
   "cell_type": "code",
   "execution_count": 41,
   "metadata": {},
   "outputs": [
    {
     "data": {
      "text/plain": [
       "Text(0, 0.5, 'Count')"
      ]
     },
     "execution_count": 41,
     "metadata": {},
     "output_type": "execute_result"
    },
    {
     "data": {
      "image/png": "[encoded data removed]",
      "text/plain": [
       "<Figure size 432x288 with 1 Axes>"
      ]
     },
     "metadata": {
      "needs_background": "light"
     },
     "output_type": "display_data"
    }
   ],
   "source": [
    "#transfrom poverty rate\n",
    "df_merge_master['poverty_rate10'] = np.log10(df_merge_master['poverty_rate'])\n",
    "\n",
    "sns.distplot(df_merge_master['poverty_rate10']).set_title(\"Distribution of Transformed Poverty Rate\")\n",
    "plt.xlabel('Log Transformed Poverty Rate')\n",
    "plt.ylabel('Count')"
   ]
  },
  {
   "cell_type": "code",
   "execution_count": 42,
   "metadata": {},
   "outputs": [
    {
     "data": {
      "text/plain": [
       "[<matplotlib.lines.Line2D at 0x7feb2f6d9450>]"
      ]
     },
     "execution_count": 42,
     "metadata": {},
     "output_type": "execute_result"
    },
    {
     "data": {
      "image/png": "[encoded data removed]",
      "text/plain": [
       "<Figure size 432x288 with 1 Axes>"
      ]
     },
     "metadata": {
      "needs_background": "light"
     },
     "output_type": "display_data"
    }
   ],
   "source": [
    "#looking at correlation between poverty and obseity\n",
    "sns.scatterplot(x='poverty_rate10', y='smoking_rate', data=df_merge_master).set_title('Is there a relationship between poverty and smoking rate?')\n",
    "plt.xlabel('Log Transformed Poverty Rate')\n",
    "plt.ylabel('Smoking Rate');\n",
    "\n",
    "#Using polyfit to fit a 1-degree linear model, predicting smoking rate from poverty rate\n",
    "a1, b1 = np.polyfit(df_merge_master['poverty_rate10'].values, df_merge_master['smoking_rate'].values, 1)\n",
    "yfit = [b1 + a1 * xi for xi in df_merge_master['poverty_rate10']]\n",
    "plt.plot(df_merge_master['poverty_rate10'], yfit, 'Red')"
   ]
  },
  {
   "cell_type": "code",
   "execution_count": 43,
   "metadata": {},
   "outputs": [
    {
     "name": "stdout",
     "output_type": "stream",
     "text": [
      "                            OLS Regression Results                            \n",
      "==============================================================================\n",
      "Dep. Variable:           smoking_rate   R-squared:                       0.118\n",
      "Model:                            OLS   Adj. R-squared:                  0.090\n",
      "Method:                 Least Squares   F-statistic:                     4.268\n",
      "Date:                Wed, 16 Dec 2020   Prob (F-statistic):             0.0470\n",
      "Time:                        23:34:31   Log-Likelihood:                 53.881\n",
      "No. Observations:                  34   AIC:                            -103.8\n",
      "Df Residuals:                      32   BIC:                            -100.7\n",
      "Df Model:                           1                                         \n",
      "Covariance Type:            nonrobust                                         \n",
      "==================================================================================\n",
      "                     coef    std err          t      P>|t|      [0.025      0.975]\n",
      "----------------------------------------------------------------------------------\n",
      "Intercept          0.2886      0.024     12.257      0.000       0.241       0.337\n",
      "poverty_rate10     0.0690      0.033      2.066      0.047       0.001       0.137\n",
      "==============================================================================\n",
      "Omnibus:                        1.827   Durbin-Watson:                   1.873\n",
      "Prob(Omnibus):                  0.401   Jarque-Bera (JB):                1.150\n",
      "Skew:                           0.102   Prob(JB):                        0.563\n",
      "Kurtosis:                       2.122   Cond. No.                         5.52\n",
      "==============================================================================\n",
      "\n",
      "Warnings:\n",
      "[1] Standard Errors assume that the covariance matrix of the errors is correctly specified.\n"
     ]
    }
   ],
   "source": [
    "outcome, predictors = patsy.dmatrices('smoking_rate ~ poverty_rate10', df_merge_master)\n",
    "mod = sm.OLS(outcome, predictors)\n",
    "res = mod.fit()\n",
    "print(res.summary())"
   ]
  },
  {
   "cell_type": "markdown",
   "metadata": {},
   "source": [
    "From this, we can see that poverty rate has as postitive effect on smoking rate. \n",
    "$$ Smoking Rate = 0.29 + (0.07  * Poverty Rate)  $$\n",
    "\n",
    "This means that if the smoking rate was 0, the poverty rate would be ~0.29 and for every 1 unit increae in poverty rate, you can expect a 0.07 increase in smoking rate.\n",
    "\n",
    "The p value is 0.047. This means that **there is significant relationship between poverty and smoking rate, but it is not strong.**"
   ]
  },
  {
   "cell_type": "markdown",
   "metadata": {},
   "source": [
    "#### Median Income vs Smoking Rate\n",
    "Because all other values are \"rates\" (numbers ranging from 0-1), we also want to turn median income into a \"rate\". This will also be useful for later analysis. To do this, we scaled the median income date to fit at scale from 0-10."
   ]
  },
  {
   "cell_type": "code",
   "execution_count": 44,
   "metadata": {},
   "outputs": [
    {
     "data": {
      "text/plain": [
       "Text(0, 0.5, 'Count')"
      ]
     },
     "execution_count": 44,
     "metadata": {},
     "output_type": "execute_result"
    },
    {
     "data": {
      "image/png": "[encoded data removed]",
      "text/plain": [
       "<Figure size 432x288 with 1 Axes>"
      ]
     },
     "metadata": {
      "needs_background": "light"
     },
     "output_type": "display_data"
    }
   ],
   "source": [
    "#change median income to a rate to make analysis easier\n",
    "x_temp = df_merge_master['median_income']\n",
    "type(x_temp)\n",
    "def scale(val, src, dst):\n",
    "    return ((val - src[0]) / (src[1]-src[0])) * (dst[1]-dst[0]) + dst[0]\n",
    "y = []\n",
    "for index, value in x_temp.items():\n",
    "    y.append(scale(val=value, src = [10891,91409], dst = [0,1]))\n",
    "df_merge_master = df_merge_master.assign(median_income10 = y)\n",
    "\n",
    "#checking for normal distributions\n",
    "sns.distplot(df_merge_master['median_income10']).set_title(\"Distribution of Scaled Median Income\")\n",
    "plt.xlabel('Scaled Median Income')\n",
    "plt.ylabel('Count')"
   ]
  },
  {
   "cell_type": "markdown",
   "metadata": {},
   "source": [
    "It looks like the scaled median income is pretty normally distributed. Since we know that smoking rate normally distribued from above calculations, we can move forward with this the scatter plot. "
   ]
  },
  {
   "cell_type": "code",
   "execution_count": 45,
   "metadata": {},
   "outputs": [
    {
     "data": {
      "text/plain": [
       "[<matplotlib.lines.Line2D at 0x7feb2f42d910>]"
      ]
     },
     "execution_count": 45,
     "metadata": {},
     "output_type": "execute_result"
    },
    {
     "data": {
      "image/png": "[encoded data removed]",
      "text/plain": [
       "<Figure size 432x288 with 1 Axes>"
      ]
     },
     "metadata": {
      "needs_background": "light"
     },
     "output_type": "display_data"
    }
   ],
   "source": [
    "#looking at correlation between median income and obseity\n",
    "sns.scatterplot(x='median_income10', y='smoking_rate', data=df_merge_master).set_title('Is there a relationship between median income and smoking rate?')\n",
    "plt.xlabel('Median Income')\n",
    "plt.ylabel('Smoking Rate');\n",
    "\n",
    "#Using polyfit to fit a 1-degree linear model, predicting smoking rate from median income\n",
    "a1, b1 = np.polyfit(df_merge_master['median_income10'].values, df_merge_master['smoking_rate'].values, 1)\n",
    "yfit = [b1 + a1 * xi for xi in df_merge_master['median_income10']]\n",
    "plt.plot(df_merge_master['median_income10'], yfit, 'Red')"
   ]
  },
  {
   "cell_type": "code",
   "execution_count": 46,
   "metadata": {},
   "outputs": [
    {
     "name": "stdout",
     "output_type": "stream",
     "text": [
      "                            OLS Regression Results                            \n",
      "==============================================================================\n",
      "Dep. Variable:           smoking_rate   R-squared:                       0.229\n",
      "Model:                            OLS   Adj. R-squared:                  0.205\n",
      "Method:                 Least Squares   F-statistic:                     9.488\n",
      "Date:                Wed, 16 Dec 2020   Prob (F-statistic):            0.00423\n",
      "Time:                        23:34:32   Log-Likelihood:                 56.167\n",
      "No. Observations:                  34   AIC:                            -108.3\n",
      "Df Residuals:                      32   BIC:                            -105.3\n",
      "Df Model:                           1                                         \n",
      "Covariance Type:            nonrobust                                         \n",
      "===================================================================================\n",
      "                      coef    std err          t      P>|t|      [0.025      0.975]\n",
      "-----------------------------------------------------------------------------------\n",
      "Intercept           0.2827      0.015     18.658      0.000       0.252       0.314\n",
      "median_income10    -0.1183      0.038     -3.080      0.004      -0.197      -0.040\n",
      "==============================================================================\n",
      "Omnibus:                        2.719   Durbin-Watson:                   2.016\n",
      "Prob(Omnibus):                  0.257   Jarque-Bera (JB):                1.373\n",
      "Skew:                          -0.068   Prob(JB):                        0.503\n",
      "Kurtosis:                       2.025   Cond. No.                         5.22\n",
      "==============================================================================\n",
      "\n",
      "Warnings:\n",
      "[1] Standard Errors assume that the covariance matrix of the errors is correctly specified.\n"
     ]
    }
   ],
   "source": [
    "outcome, predictors = patsy.dmatrices('smoking_rate ~ median_income10', df_merge_master)\n",
    "mod = sm.OLS(outcome, predictors)\n",
    "res = mod.fit()\n",
    "print(res.summary())"
   ]
  },
  {
   "cell_type": "markdown",
   "metadata": {},
   "source": [
    "From this, we can see that poverty rate has as negative effect on smoking rate. \n",
    "\n",
    "$$ Smoking Rate = 0.28 + (-0.12  * Median Income)  $$\n",
    "\n",
    "This means that if the smoking rate was 0, the poverty rate would be ~0.28 and for every 1 unit increae in \"scaled income\", you can expect a 0.12 decrease in smoking rate.\n",
    "\n",
    "The p value is 0.004. This means that there is significant relationship between median income and smoking rate. **In conclusion, the lower one's income, the more likely they are to smoke, which is consistent with our research.**"
   ]
  },
  {
   "cell_type": "markdown",
   "metadata": {},
   "source": [
    "#### High School Graduation Rate vs Smoking Rate"
   ]
  },
  {
   "cell_type": "markdown",
   "metadata": {},
   "source": [
    "When looking at the normal distribution and the scatterplot with HS graduation rate, we noticed there were outliers with graduation rates under 0.3. We believe that these can be removed since they are very far from the rest of the data and logically, it is (near) impossible to have such a low graduation rate."
   ]
  },
  {
   "cell_type": "code",
   "execution_count": 47,
   "metadata": {},
   "outputs": [
    {
     "data": {
      "text/plain": [
       "Text(0, 0.5, 'Count')"
      ]
     },
     "execution_count": 47,
     "metadata": {},
     "output_type": "execute_result"
    },
    {
     "data": {
      "image/png": "[encoded data removed]",
      "text/plain": [
       "<Figure size 432x288 with 1 Axes>"
      ]
     },
     "metadata": {
      "needs_background": "light"
     },
     "output_type": "display_data"
    }
   ],
   "source": [
    "#removing outliers\n",
    "df_merge_master = df_merge_master[df_merge_master['hs_grad_rate'] > 0.3]\n",
    "\n",
    "#check for normal distribution\n",
    "sns.distplot(df_merge_master['hs_grad_rate']).set_title('Distribution of Transformed Poverty Rate')\n",
    "plt.xlabel('Log Transformed Poverty Rate')\n",
    "plt.ylabel('Count')"
   ]
  },
  {
   "cell_type": "code",
   "execution_count": 48,
   "metadata": {},
   "outputs": [
    {
     "data": {
      "text/plain": [
       "[<matplotlib.lines.Line2D at 0x7feb2f316450>]"
      ]
     },
     "execution_count": 48,
     "metadata": {},
     "output_type": "execute_result"
    },
    {
     "data": {
      "image/png": "[encoded data removed]",
      "text/plain": [
       "<Figure size 432x288 with 1 Axes>"
      ]
     },
     "metadata": {
      "needs_background": "light"
     },
     "output_type": "display_data"
    }
   ],
   "source": [
    "df_merge_master = df_merge_master[df_merge_master['hs_grad_rate'] > 0.3]\n",
    "\n",
    "#looking at correlation between poverty and obseity\n",
    "sns.scatterplot(x='hs_grad_rate', y='smoking_rate', data=df_merge_master).set_title('Is there a relationship between high school graduation rate and smoking rate?')\n",
    "plt.xlabel('High School Graduation Rate')\n",
    "plt.ylabel('Smoking Rate');\n",
    "\n",
    "#Using polyfit to fit a 1-degree linear model, predicting smoking rate from high school grad rate\n",
    "a1, b1 = np.polyfit(df_merge_master['hs_grad_rate'].values, df_merge_master['smoking_rate'].values, 1)\n",
    "yfit = [b1 + a1 * xi for xi in df_merge_master['hs_grad_rate']]\n",
    "plt.plot(df_merge_master['hs_grad_rate'], yfit, 'Red')"
   ]
  },
  {
   "cell_type": "code",
   "execution_count": 49,
   "metadata": {},
   "outputs": [
    {
     "name": "stdout",
     "output_type": "stream",
     "text": [
      "                            OLS Regression Results                            \n",
      "==============================================================================\n",
      "Dep. Variable:           smoking_rate   R-squared:                       0.002\n",
      "Model:                            OLS   Adj. R-squared:                 -0.037\n",
      "Method:                 Least Squares   F-statistic:                   0.04049\n",
      "Date:                Wed, 16 Dec 2020   Prob (F-statistic):              0.842\n",
      "Time:                        23:34:32   Log-Likelihood:                 46.018\n",
      "No. Observations:                  28   AIC:                            -88.04\n",
      "Df Residuals:                      26   BIC:                            -85.37\n",
      "Df Model:                           1                                         \n",
      "Covariance Type:            nonrobust                                         \n",
      "================================================================================\n",
      "                   coef    std err          t      P>|t|      [0.025      0.975]\n",
      "--------------------------------------------------------------------------------\n",
      "Intercept        0.2454      0.058      4.259      0.000       0.127       0.364\n",
      "hs_grad_rate     0.0202      0.101      0.201      0.842      -0.186       0.227\n",
      "==============================================================================\n",
      "Omnibus:                        1.907   Durbin-Watson:                   2.124\n",
      "Prob(Omnibus):                  0.385   Jarque-Bera (JB):                1.157\n",
      "Skew:                           0.496   Prob(JB):                        0.561\n",
      "Kurtosis:                       3.079   Cond. No.                         14.5\n",
      "==============================================================================\n",
      "\n",
      "Warnings:\n",
      "[1] Standard Errors assume that the covariance matrix of the errors is correctly specified.\n"
     ]
    }
   ],
   "source": [
    "outcome, predictors = patsy.dmatrices('smoking_rate ~ hs_grad_rate', df_merge_master)\n",
    "mod = sm.OLS(outcome, predictors)\n",
    "res = mod.fit()\n",
    "print(res.summary())"
   ]
  },
  {
   "cell_type": "markdown",
   "metadata": {},
   "source": [
    "From this, we can see that high school graduation rate has a very little effect on smoking rate.\n",
    "$$ SmokingRate = 0.25 + (0.02 * HSGraduationRate) $$\n",
    "\n",
    "The pvalue is 0.842. Because this number is so high, this means there is **no significant relationship** between hs graduation rate and smoking rate."
   ]
  },
  {
   "cell_type": "markdown",
   "metadata": {},
   "source": [
    "#### Looking at all 3 variables"
   ]
  },
  {
   "cell_type": "markdown",
   "metadata": {},
   "source": [
    "We will now look at all 3 variables together to see what affects smoking rate the most."
   ]
  },
  {
   "cell_type": "code",
   "execution_count": 50,
   "metadata": {},
   "outputs": [
    {
     "data": {
      "text/plain": [
       "[<matplotlib.lines.Line2D at 0x7feb2f26fa10>]"
      ]
     },
     "execution_count": 50,
     "metadata": {},
     "output_type": "execute_result"
    },
    {
     "data": {
      "image/png": "[encoded data removed]",
      "text/plain": [
       "<Figure size 432x288 with 1 Axes>"
      ]
     },
     "metadata": {
      "needs_background": "light"
     },
     "output_type": "display_data"
    }
   ],
   "source": [
    "#plotting one scatterplot with predictor variables\n",
    "plt.scatter(df_merge_master['poverty_rate'], df_merge_master['smoking_rate'], c='b', marker='x', label='Poverty Rate')\n",
    "plt.scatter(df_merge_master['median_income10'], df_merge_master['smoking_rate'], c='g', marker='*', label='Median Income')\n",
    "plt.scatter(df_merge_master['hs_grad_rate'], df_merge_master['smoking_rate'], c='r', marker='s', label='HS Grad Rate')\n",
    "plt.legend(loc='upper right')\n",
    "plt.title(\"How does poverty rate, median income, and high school graduation rate affect smoking?\")\n",
    "plt.ylabel('Smoking Rate')\n",
    "\n",
    "#finding best fit line for poverty vs smoking rate\n",
    "a1, b1 = np.polyfit(df_merge_master['poverty_rate'].values, df_merge_master['smoking_rate'].values, 1)\n",
    "yfit1 = [b1 + a1 * xi for xi in df_merge_master['poverty_rate']]\n",
    "plt.plot(df_merge_master['poverty_rate'], yfit1, 'Blue')\n",
    "\n",
    "#finding best fit line for median income vs smoking rate\n",
    "a2, b2 = np.polyfit(df_merge_master['median_income10'].values, df_merge_master['smoking_rate'].values, 1)\n",
    "yfit2 = [b2 + a2 * xi for xi in df_merge_master['median_income10']]\n",
    "plt.plot(df_merge_master['median_income10'], yfit2, 'Green')\n",
    "\n",
    "#finding best fit line for hs grad vs smoking rate\n",
    "a3, b3 = np.polyfit(df_merge_master['hs_grad_rate'].values, df_merge_master['smoking_rate'].values, 1)\n",
    "yfit3 = [b2 + a2 * xi for xi in df_merge_master['hs_grad_rate']]\n",
    "plt.plot(df_merge_master['hs_grad_rate'], yfit3, 'Red')"
   ]
  },
  {
   "cell_type": "code",
   "execution_count": 51,
   "metadata": {},
   "outputs": [
    {
     "name": "stdout",
     "output_type": "stream",
     "text": [
      "                            OLS Regression Results                            \n",
      "==============================================================================\n",
      "Dep. Variable:           smoking_rate   R-squared:                       0.083\n",
      "Model:                            OLS   Adj. R-squared:                 -0.032\n",
      "Method:                 Least Squares   F-statistic:                    0.7225\n",
      "Date:                Wed, 16 Dec 2020   Prob (F-statistic):              0.548\n",
      "Time:                        23:34:32   Log-Likelihood:                 47.207\n",
      "No. Observations:                  28   AIC:                            -86.41\n",
      "Df Residuals:                      24   BIC:                            -81.08\n",
      "Df Model:                           3                                         \n",
      "Covariance Type:            nonrobust                                         \n",
      "===================================================================================\n",
      "                      coef    std err          t      P>|t|      [0.025      0.975]\n",
      "-----------------------------------------------------------------------------------\n",
      "Intercept           0.1929      0.081      2.381      0.026       0.026       0.360\n",
      "poverty_rate        0.1287      0.098      1.312      0.202      -0.074       0.331\n",
      "median_income10     0.0930      0.120      0.773      0.447      -0.155       0.341\n",
      "hs_grad_rate        0.0026      0.101      0.025      0.980      -0.207       0.212\n",
      "==============================================================================\n",
      "Omnibus:                        2.042   Durbin-Watson:                   2.049\n",
      "Prob(Omnibus):                  0.360   Jarque-Bera (JB):                0.961\n",
      "Skew:                           0.406   Prob(JB):                        0.619\n",
      "Kurtosis:                       3.404   Cond. No.                         21.5\n",
      "==============================================================================\n",
      "\n",
      "Warnings:\n",
      "[1] Standard Errors assume that the covariance matrix of the errors is correctly specified.\n"
     ]
    }
   ],
   "source": [
    "outcome, predictors = patsy.dmatrices('smoking_rate ~ poverty_rate + median_income10 + hs_grad_rate', df_merge_master)\n",
    "mod = sm.OLS(outcome, predictors)\n",
    "res = mod.fit()\n",
    "print(res.summary())"
   ]
  },
  {
   "cell_type": "markdown",
   "metadata": {},
   "source": [
    "The following relationship can describe the relationship between poverty rate, median income, and high school graduation rate on smoking rate\n",
    "\n",
    "$$ Smoking Rate = 0.19 + (0.13  * Poverty Rate) + (0.09 * MedianIncome) + (0.002 * HSGraduationRate) $$\n",
    "\n",
    "**From this, we can conclude that high school graduation rate has the most effect on smoking.**"
   ]
  },
  {
   "cell_type": "markdown",
   "metadata": {},
   "source": [
    "## Does number of tobacco vendors affects obesity rate?"
   ]
  },
  {
   "cell_type": "markdown",
   "metadata": {},
   "source": [
    "We thought that the number of tobacco vendors in an area could serve as a confounding variable. This is because we believe that the number of vendors in an area affects the smoking rate of that area. Additionally, we found research stating that tobacco vendors and liquor stores are placed in lower-income areas. Let's test this out!"
   ]
  },
  {
   "cell_type": "markdown",
   "metadata": {},
   "source": [
    "### Understanding Number of Vendors\n",
    "Before we look at the relationship between number of vendors per zip code and obesity rate, we want to explore which areas have the highest density of tobacco vendors. When conducting data cleaning, we found the number of vendors per city. With that, we were curious to see which cities have the most amount of vendors, because we thought that areas with higher amounts of tobacco vendors could lead to a higher smoking rate, and thus lead to a higher obesity rate."
   ]
  },
  {
   "cell_type": "code",
   "execution_count": 52,
   "metadata": {},
   "outputs": [
    {
     "data": {
      "text/html": [
       "<div>\n",
       "<style scoped>\n",
       "    .dataframe tbody tr th:only-of-type {\n",
       "        vertical-align: middle;\n",
       "    }\n",
       "\n",
       "    .dataframe tbody tr th {\n",
       "        vertical-align: top;\n",
       "    }\n",
       "\n",
       "    .dataframe thead th {\n",
       "        text-align: right;\n",
       "    }\n",
       "</style>\n",
       "<table border=\"1\" class=\"dataframe\">\n",
       "  <thead>\n",
       "    <tr style=\"text-align: right;\">\n",
       "      <th></th>\n",
       "      <th>name</th>\n",
       "      <th>address</th>\n",
       "      <th>city</th>\n",
       "      <th>zip</th>\n",
       "    </tr>\n",
       "  </thead>\n",
       "  <tbody>\n",
       "    <tr>\n",
       "      <th>0</th>\n",
       "      <td>WALGREEN EASTERN CO INC</td>\n",
       "      <td>112 W STEUBEN ST                              ...</td>\n",
       "      <td>CRAFTON</td>\n",
       "      <td>15205</td>\n",
       "    </tr>\n",
       "    <tr>\n",
       "      <th>1</th>\n",
       "      <td>SHEETZ INC</td>\n",
       "      <td>5300 RTE 8                                    ...</td>\n",
       "      <td>GIBSONIA</td>\n",
       "      <td>15044</td>\n",
       "    </tr>\n",
       "    <tr>\n",
       "      <th>2</th>\n",
       "      <td>WALGREEN EASTERN CO INC</td>\n",
       "      <td>1741 WASHINGTON RD                            ...</td>\n",
       "      <td>PITTSBURGH</td>\n",
       "      <td>15241</td>\n",
       "    </tr>\n",
       "    <tr>\n",
       "      <th>3</th>\n",
       "      <td>WALGREEN EASTERN CO INC</td>\n",
       "      <td>4 OLD CLAIRTON RD                             ...</td>\n",
       "      <td>PITTSBURGH</td>\n",
       "      <td>15236</td>\n",
       "    </tr>\n",
       "    <tr>\n",
       "      <th>4</th>\n",
       "      <td>WALGREEN EASTERN CO INC</td>\n",
       "      <td>10707 FRANKSTOWN RD                           ...</td>\n",
       "      <td>PITTSBURGH</td>\n",
       "      <td>15235</td>\n",
       "    </tr>\n",
       "    <tr>\n",
       "      <th>...</th>\n",
       "      <td>...</td>\n",
       "      <td>...</td>\n",
       "      <td>...</td>\n",
       "      <td>...</td>\n",
       "    </tr>\n",
       "    <tr>\n",
       "      <th>1243</th>\n",
       "      <td>VAPORIUM EMPIRE LLC</td>\n",
       "      <td>110 MONROEVILLE MALL                          ...</td>\n",
       "      <td>MONROEVILLE</td>\n",
       "      <td>15146</td>\n",
       "    </tr>\n",
       "    <tr>\n",
       "      <th>1244</th>\n",
       "      <td>RIGHT MARKET TWO INC</td>\n",
       "      <td>10045 FRANKSTOWN RD                           ...</td>\n",
       "      <td>PENN HILLS</td>\n",
       "      <td>15235</td>\n",
       "    </tr>\n",
       "    <tr>\n",
       "      <th>1245</th>\n",
       "      <td>VAPOR SHACK INC</td>\n",
       "      <td>1002 PRESTON DR                               ...</td>\n",
       "      <td>N VERSAILLES</td>\n",
       "      <td>15137</td>\n",
       "    </tr>\n",
       "    <tr>\n",
       "      <th>1246</th>\n",
       "      <td>VAPOR CONNECTION LLC</td>\n",
       "      <td>610 CENTER AVE                                ...</td>\n",
       "      <td>BLAWNOX</td>\n",
       "      <td>15238</td>\n",
       "    </tr>\n",
       "    <tr>\n",
       "      <th>1247</th>\n",
       "      <td>VAPOR LOUNGE LLC</td>\n",
       "      <td>606 E 2ND AVE                                 ...</td>\n",
       "      <td>TARENTUM</td>\n",
       "      <td>15084</td>\n",
       "    </tr>\n",
       "  </tbody>\n",
       "</table>\n",
       "<p>1248 rows × 4 columns</p>\n",
       "</div>"
      ],
      "text/plain": [
       "                         name  \\\n",
       "0     WALGREEN EASTERN CO INC   \n",
       "1                  SHEETZ INC   \n",
       "2     WALGREEN EASTERN CO INC   \n",
       "3     WALGREEN EASTERN CO INC   \n",
       "4     WALGREEN EASTERN CO INC   \n",
       "...                       ...   \n",
       "1243      VAPORIUM EMPIRE LLC   \n",
       "1244     RIGHT MARKET TWO INC   \n",
       "1245          VAPOR SHACK INC   \n",
       "1246     VAPOR CONNECTION LLC   \n",
       "1247         VAPOR LOUNGE LLC   \n",
       "\n",
       "                                                address  \\\n",
       "0     112 W STEUBEN ST                              ...   \n",
       "1     5300 RTE 8                                    ...   \n",
       "2     1741 WASHINGTON RD                            ...   \n",
       "3     4 OLD CLAIRTON RD                             ...   \n",
       "4     10707 FRANKSTOWN RD                           ...   \n",
       "...                                                 ...   \n",
       "1243  110 MONROEVILLE MALL                          ...   \n",
       "1244  10045 FRANKSTOWN RD                           ...   \n",
       "1245  1002 PRESTON DR                               ...   \n",
       "1246  610 CENTER AVE                                ...   \n",
       "1247  606 E 2ND AVE                                 ...   \n",
       "\n",
       "                                          city    zip  \n",
       "0     CRAFTON                                   15205  \n",
       "1     GIBSONIA                                  15044  \n",
       "2     PITTSBURGH                                15241  \n",
       "3     PITTSBURGH                                15236  \n",
       "4     PITTSBURGH                                15235  \n",
       "...                                        ...    ...  \n",
       "1243  MONROEVILLE                               15146  \n",
       "1244  PENN HILLS                                15235  \n",
       "1245  N VERSAILLES                              15137  \n",
       "1246  BLAWNOX                                   15238  \n",
       "1247  TARENTUM                                  15084  \n",
       "\n",
       "[1248 rows x 4 columns]"
      ]
     },
     "execution_count": 52,
     "metadata": {},
     "output_type": "execute_result"
    }
   ],
   "source": [
    "#looking at tobacco vendors dataset again\n",
    "df_tobacco_vendors"
   ]
  },
  {
   "cell_type": "code",
   "execution_count": 53,
   "metadata": {},
   "outputs": [
    {
     "data": {
      "text/plain": [
       "PITTSBURGH                                  610\n",
       "MCKEESPORT                                   52\n",
       "MONROEVILLE                                  32\n",
       "CORAOPOLIS                                   25\n",
       "WEST MIFFLIN                                 22\n",
       "                                           ... \n",
       "MT OLIVER                                     1\n",
       "WARRENDALE                                    1\n",
       "UPPR ST CLAIR                                 1\n",
       "HEIDELBERG                                    1\n",
       "ETNA                                          1\n",
       "Name: city, Length: 95, dtype: int64"
      ]
     },
     "execution_count": 53,
     "metadata": {},
     "output_type": "execute_result"
    }
   ],
   "source": [
    "#number of vendors per city, as calculated when data cleaning\n",
    "city_counts"
   ]
  },
  {
   "cell_type": "markdown",
   "metadata": {},
   "source": [
    "Due to the large list of cities, we wanted to only look at relevant ones. Thus, we chose to look at cities with more than 4 tobacco vendor. We chose to visualize through bar plot with count as the x axis and city as the y axis. "
   ]
  },
  {
   "cell_type": "code",
   "execution_count": 54,
   "metadata": {},
   "outputs": [
    {
     "data": {
      "image/png": "[encoded data removed]",
      "text/plain": [
       "<Figure size 864x576 with 1 Axes>"
      ]
     },
     "metadata": {
      "needs_background": "light"
     },
     "output_type": "display_data"
    }
   ],
   "source": [
    "#bar chart - looking at neighborhoods with highest amount of vendors\n",
    "city_counts = city_counts[city_counts > 4].index.to_list()\n",
    "city_counts_subset = df_tobacco_vendors[df_tobacco_vendors['city'].isin(city_counts)]\n",
    "city_counts_order = city_counts_subset['city'].value_counts(ascending = False).index\n",
    "\n",
    "fig_dims = (12, 8)\n",
    "fig, ax = plt.subplots(figsize=fig_dims)\n",
    "\n",
    "chart = sns.countplot(y = \"city\",ax=ax, data = df_tobacco_vendors, order = city_counts_order).set_title('Cities with > 4 Tobacco Vendors')"
   ]
  },
  {
   "cell_type": "markdown",
   "metadata": {},
   "source": [
    "As can be seen, Pittsburgh has significantly a lot more tobacco vendors. This makes sense since Pittsburg is a city, which is a lot more densely populated. Now that we can visually see which areas have more tobacco vendors, we can look at the relationship between number of vendors and obesity rate."
   ]
  },
  {
   "cell_type": "code",
   "execution_count": 55,
   "metadata": {},
   "outputs": [
    {
     "data": {
      "text/html": [
       "<div>\n",
       "<style scoped>\n",
       "    .dataframe tbody tr th:only-of-type {\n",
       "        vertical-align: middle;\n",
       "    }\n",
       "\n",
       "    .dataframe tbody tr th {\n",
       "        vertical-align: top;\n",
       "    }\n",
       "\n",
       "    .dataframe thead th {\n",
       "        text-align: right;\n",
       "    }\n",
       "</style>\n",
       "<table border=\"1\" class=\"dataframe\">\n",
       "  <thead>\n",
       "    <tr style=\"text-align: right;\">\n",
       "      <th></th>\n",
       "      <th>number_of_vendors</th>\n",
       "      <th>zip</th>\n",
       "      <th>tract_number</th>\n",
       "      <th>smoking_rate</th>\n",
       "      <th>2000_tract</th>\n",
       "      <th>neighborhood</th>\n",
       "      <th>obesity_rate</th>\n",
       "    </tr>\n",
       "  </thead>\n",
       "  <tbody>\n",
       "    <tr>\n",
       "      <th>0</th>\n",
       "      <td>46</td>\n",
       "      <td>15235</td>\n",
       "      <td>42003523400</td>\n",
       "      <td>0.249323</td>\n",
       "      <td>523400.0</td>\n",
       "      <td>NaN</td>\n",
       "      <td>0.299322</td>\n",
       "    </tr>\n",
       "    <tr>\n",
       "      <th>1</th>\n",
       "      <td>46</td>\n",
       "      <td>15235</td>\n",
       "      <td>42003523502</td>\n",
       "      <td>0.262209</td>\n",
       "      <td>523502.0</td>\n",
       "      <td>NaN</td>\n",
       "      <td>0.306757</td>\n",
       "    </tr>\n",
       "    <tr>\n",
       "      <th>2</th>\n",
       "      <td>46</td>\n",
       "      <td>15235</td>\n",
       "      <td>42003523600</td>\n",
       "      <td>0.225732</td>\n",
       "      <td>523600.0</td>\n",
       "      <td>NaN</td>\n",
       "      <td>0.282029</td>\n",
       "    </tr>\n",
       "    <tr>\n",
       "      <th>3</th>\n",
       "      <td>43</td>\n",
       "      <td>15132</td>\n",
       "      <td>42003501000</td>\n",
       "      <td>0.251734</td>\n",
       "      <td>501000.0</td>\n",
       "      <td>NaN</td>\n",
       "      <td>0.293406</td>\n",
       "    </tr>\n",
       "    <tr>\n",
       "      <th>4</th>\n",
       "      <td>43</td>\n",
       "      <td>15132</td>\n",
       "      <td>42003550900</td>\n",
       "      <td>0.271556</td>\n",
       "      <td>550900.0</td>\n",
       "      <td>NaN</td>\n",
       "      <td>0.428708</td>\n",
       "    </tr>\n",
       "    <tr>\n",
       "      <th>...</th>\n",
       "      <td>...</td>\n",
       "      <td>...</td>\n",
       "      <td>...</td>\n",
       "      <td>...</td>\n",
       "      <td>...</td>\n",
       "      <td>...</td>\n",
       "      <td>...</td>\n",
       "    </tr>\n",
       "    <tr>\n",
       "      <th>146</th>\n",
       "      <td>4</td>\n",
       "      <td>15144</td>\n",
       "      <td>42003417100</td>\n",
       "      <td>0.264051</td>\n",
       "      <td>417100.0</td>\n",
       "      <td>NaN</td>\n",
       "      <td>0.300268</td>\n",
       "    </tr>\n",
       "    <tr>\n",
       "      <th>147</th>\n",
       "      <td>4</td>\n",
       "      <td>15144</td>\n",
       "      <td>42003417200</td>\n",
       "      <td>0.282508</td>\n",
       "      <td>417200.0</td>\n",
       "      <td>NaN</td>\n",
       "      <td>0.299906</td>\n",
       "    </tr>\n",
       "    <tr>\n",
       "      <th>148</th>\n",
       "      <td>4</td>\n",
       "      <td>15014</td>\n",
       "      <td>42003402000</td>\n",
       "      <td>0.271090</td>\n",
       "      <td>402000.0</td>\n",
       "      <td>NaN</td>\n",
       "      <td>0.293870</td>\n",
       "    </tr>\n",
       "    <tr>\n",
       "      <th>150</th>\n",
       "      <td>4</td>\n",
       "      <td>15129</td>\n",
       "      <td>42003490004</td>\n",
       "      <td>0.296016</td>\n",
       "      <td>490004.0</td>\n",
       "      <td>NaN</td>\n",
       "      <td>0.257086</td>\n",
       "    </tr>\n",
       "    <tr>\n",
       "      <th>161</th>\n",
       "      <td>2</td>\n",
       "      <td>15225</td>\n",
       "      <td>42003461000</td>\n",
       "      <td>0.260944</td>\n",
       "      <td>461000.0</td>\n",
       "      <td>NaN</td>\n",
       "      <td>0.290218</td>\n",
       "    </tr>\n",
       "  </tbody>\n",
       "</table>\n",
       "<p>136 rows × 7 columns</p>\n",
       "</div>"
      ],
      "text/plain": [
       "     number_of_vendors    zip tract_number  smoking_rate  2000_tract  \\\n",
       "0                   46  15235  42003523400      0.249323    523400.0   \n",
       "1                   46  15235  42003523502      0.262209    523502.0   \n",
       "2                   46  15235  42003523600      0.225732    523600.0   \n",
       "3                   43  15132  42003501000      0.251734    501000.0   \n",
       "4                   43  15132  42003550900      0.271556    550900.0   \n",
       "..                 ...    ...          ...           ...         ...   \n",
       "146                  4  15144  42003417100      0.264051    417100.0   \n",
       "147                  4  15144  42003417200      0.282508    417200.0   \n",
       "148                  4  15014  42003402000      0.271090    402000.0   \n",
       "150                  4  15129  42003490004      0.296016    490004.0   \n",
       "161                  2  15225  42003461000      0.260944    461000.0   \n",
       "\n",
       "    neighborhood  obesity_rate  \n",
       "0            NaN      0.299322  \n",
       "1            NaN      0.306757  \n",
       "2            NaN      0.282029  \n",
       "3            NaN      0.293406  \n",
       "4            NaN      0.428708  \n",
       "..           ...           ...  \n",
       "146          NaN      0.300268  \n",
       "147          NaN      0.299906  \n",
       "148          NaN      0.293870  \n",
       "150          NaN      0.257086  \n",
       "161          NaN      0.290218  \n",
       "\n",
       "[136 rows x 7 columns]"
      ]
     },
     "execution_count": 55,
     "metadata": {},
     "output_type": "execute_result"
    }
   ],
   "source": [
    "#looking at the merged dataset again\n",
    "df_merge_vendor_zip"
   ]
  },
  {
   "cell_type": "markdown",
   "metadata": {},
   "source": [
    "### Does number of vendors affect obesity rate?"
   ]
  },
  {
   "cell_type": "code",
   "execution_count": 56,
   "metadata": {},
   "outputs": [
    {
     "data": {
      "text/plain": [
       "Text(0, 0.5, 'Obesity Rate')"
      ]
     },
     "execution_count": 56,
     "metadata": {},
     "output_type": "execute_result"
    },
    {
     "data": {
      "image/png": "[encoded data removed]",
      "text/plain": [
       "<Figure size 432x288 with 1 Axes>"
      ]
     },
     "metadata": {
      "needs_background": "light"
     },
     "output_type": "display_data"
    }
   ],
   "source": [
    "#first look to see if the data is normally distributed\n",
    "sns.distplot(df_merge_vendor_zip['number_of_vendors'][df_merge_vendor_zip['obesity_rate'].notnull()],hist=True).set_title('Distribution of Obesity Rate by Vendor Count')\n",
    "plt.xlabel('Vendor Count')\n",
    "plt.ylabel('Obesity Rate')"
   ]
  },
  {
   "cell_type": "markdown",
   "metadata": {},
   "source": [
    "Ok, so this data seems to be skewed a little to right. Let's apply normality tests to see if we need to log transform our data."
   ]
  },
  {
   "cell_type": "markdown",
   "metadata": {},
   "source": [
    "The p-values for number of vendors per zip and obesity are very small (less than the alpha of 0.01), so we can confidently say that there is evidence against the null hypothesis which states there is no relationship between vendor counts and obesity rates. Therefore, we can say that there IS a significant relationship between these two variables. Let's continue our analysis by applying a log transformation on obesity rate."
   ]
  },
  {
   "cell_type": "code",
   "execution_count": 57,
   "metadata": {},
   "outputs": [
    {
     "name": "stdout",
     "output_type": "stream",
     "text": [
      "Normal test p-value for obesity rate (log transformed): 0.017052369482300534\n"
     ]
    }
   ],
   "source": [
    "#transform obesity_rate\n",
    "df_merge_vendor_zip['obesity_rate10'] = np.log10(df_merge_vendor_zip['obesity_rate'])\n",
    "\n",
    "#test normality on transformed data\n",
    "h_obesity_rate10 = df_merge_vendor_zip['obesity_rate10'].values\n",
    "st_obesity_rate10, p_obesity_rate10 = stats.normaltest(h_obesity_rate10)\n",
    "\n",
    "#print p-values\n",
    "print('Normal test p-value for obesity rate (log transformed): ' + str(p_obesity_rate10))"
   ]
  },
  {
   "cell_type": "code",
   "execution_count": 58,
   "metadata": {},
   "outputs": [
    {
     "data": {
      "text/plain": [
       "Text(0, 0.5, 'Count')"
      ]
     },
     "execution_count": 58,
     "metadata": {},
     "output_type": "execute_result"
    },
    {
     "data": {
      "image/png": "[encoded data removed]",
      "text/plain": [
       "<Figure size 432x288 with 1 Axes>"
      ]
     },
     "metadata": {
      "needs_background": "light"
     },
     "output_type": "display_data"
    }
   ],
   "source": [
    "#using seaborns distplot function to graph this transformation \n",
    "sns.distplot(df_merge_vendor_zip['obesity_rate10'][df_merge_vendor_zip['obesity_rate'].notnull()],hist=True).set_title('Distribution of Obesity Rate Under Log Transformation')\n",
    "plt.xlabel('Log transformed obesity rate')\n",
    "plt.ylabel('Count')"
   ]
  },
  {
   "cell_type": "markdown",
   "metadata": {},
   "source": [
    "Given an alpha of 0.01, we can see that after our transformation of obesity rate, it is closer to normally distributed. Next, let’s try to fit a model predicting obesity rate from the number of vendors per zip code."
   ]
  },
  {
   "cell_type": "code",
   "execution_count": 59,
   "metadata": {},
   "outputs": [
    {
     "data": {
      "text/plain": [
       "Text(0, 0.5, 'Obesity Rate (Log Transformed)')"
      ]
     },
     "execution_count": 59,
     "metadata": {},
     "output_type": "execute_result"
    },
    {
     "data": {
      "image/png": "[encoded data removed]",
      "text/plain": [
       "<Figure size 432x288 with 1 Axes>"
      ]
     },
     "metadata": {
      "needs_background": "light"
     },
     "output_type": "display_data"
    }
   ],
   "source": [
    "#plot obesity_rate vs number of vendors per zip\n",
    "sns.scatterplot(x='number_of_vendors', y='obesity_rate10', data=df_merge_vendor_zip, s=100).set_title('Obesity Rate vs Vendor Count per Zip')\n",
    "plt.xlabel('Vendor Count per Zip')\n",
    "plt.ylabel('Obesity Rate (Log Transformed)')"
   ]
  },
  {
   "cell_type": "markdown",
   "metadata": {},
   "source": [
    "At first glance, there does seem to be some sort of small relationship between the two. Let's attempt to fit the model to see this closer. "
   ]
  },
  {
   "cell_type": "code",
   "execution_count": 60,
   "metadata": {},
   "outputs": [
    {
     "name": "stdout",
     "output_type": "stream",
     "text": [
      "                            OLS Regression Results                            \n",
      "==============================================================================\n",
      "Dep. Variable:         obesity_rate10   R-squared:                       0.016\n",
      "Model:                            OLS   Adj. R-squared:                  0.008\n",
      "Method:                 Least Squares   F-statistic:                     2.114\n",
      "Date:                Wed, 16 Dec 2020   Prob (F-statistic):              0.148\n",
      "Time:                        23:34:33   Log-Likelihood:                 70.915\n",
      "No. Observations:                 136   AIC:                            -137.8\n",
      "Df Residuals:                     134   BIC:                            -132.0\n",
      "Df Model:                           1                                         \n",
      "Covariance Type:            nonrobust                                         \n",
      "=====================================================================================\n",
      "                        coef    std err          t      P>|t|      [0.025      0.975]\n",
      "-------------------------------------------------------------------------------------\n",
      "Intercept            -0.5533      0.026    -21.517      0.000      -0.604      -0.502\n",
      "number_of_vendors     0.0016      0.001      1.454      0.148      -0.001       0.004\n",
      "==============================================================================\n",
      "Omnibus:                        9.621   Durbin-Watson:                   1.323\n",
      "Prob(Omnibus):                  0.008   Jarque-Bera (JB):               12.604\n",
      "Skew:                           0.412   Prob(JB):                      0.00183\n",
      "Kurtosis:                       4.243   Cond. No.                         49.1\n",
      "==============================================================================\n",
      "\n",
      "Warnings:\n",
      "[1] Standard Errors assume that the covariance matrix of the errors is correctly specified.\n"
     ]
    }
   ],
   "source": [
    "#attempting to fit the model \n",
    "df_merge_vendor_zip['obesity_rate10'] = np.log10(df_merge_vendor_zip['obesity_rate'])\n",
    "outcomeObesityRate, predictorNumVendors = patsy.dmatrices('obesity_rate10 ~ number_of_vendors', df_merge_vendor_zip)\n",
    "mod1 = sm.OLS(outcomeObesityRate, predictorNumVendors)\n",
    "res1 = mod1.fit()\n",
    "print(res1.summary())"
   ]
  },
  {
   "cell_type": "markdown",
   "metadata": {},
   "source": [
    "As seen above, it appears the number of vendors could explain some of the variance for obesity rate. When looking at the OLS model, we can see that our p-value is 0.148 which is much greater than the alpha value of 0.01, so **we cannot conclude that a strong relationship exists.**\n",
    "\n",
    "Additionally, we see that our r-sqaure value is extremely low (0.016), leading to an r-value of 0.13. This also pertains to a very weak relationship between these two variables. We can conclude that number of vendors has a small/weak effect on obesity rate. However, we saw previously that number of vendors also affected smoking rate. Could there be a possibility that number of vendors is a confounding variable, meaning that number of vendors affects both smoking rate and obesity rate? Let's take a look!\n",
    "\n",
    "We will categorize areas by the number of vendors they have. Areas with less than or equal to 10 tobacco vendors is considered Low, and areas with more than 10 is considered High."
   ]
  },
  {
   "cell_type": "code",
   "execution_count": 61,
   "metadata": {},
   "outputs": [
    {
     "data": {
      "text/html": [
       "<div>\n",
       "<style scoped>\n",
       "    .dataframe tbody tr th:only-of-type {\n",
       "        vertical-align: middle;\n",
       "    }\n",
       "\n",
       "    .dataframe tbody tr th {\n",
       "        vertical-align: top;\n",
       "    }\n",
       "\n",
       "    .dataframe thead th {\n",
       "        text-align: right;\n",
       "    }\n",
       "</style>\n",
       "<table border=\"1\" class=\"dataframe\">\n",
       "  <thead>\n",
       "    <tr style=\"text-align: right;\">\n",
       "      <th></th>\n",
       "      <th>number_of_vendors</th>\n",
       "      <th>zip</th>\n",
       "      <th>tract_number</th>\n",
       "      <th>smoking_rate</th>\n",
       "      <th>2000_tract</th>\n",
       "      <th>neighborhood</th>\n",
       "      <th>obesity_rate</th>\n",
       "      <th>obesity_rate10</th>\n",
       "      <th>vendor_count</th>\n",
       "    </tr>\n",
       "  </thead>\n",
       "  <tbody>\n",
       "    <tr>\n",
       "      <th>0</th>\n",
       "      <td>46</td>\n",
       "      <td>15235</td>\n",
       "      <td>42003523400</td>\n",
       "      <td>0.249323</td>\n",
       "      <td>523400.0</td>\n",
       "      <td>NaN</td>\n",
       "      <td>0.299322</td>\n",
       "      <td>-0.523862</td>\n",
       "      <td>High</td>\n",
       "    </tr>\n",
       "    <tr>\n",
       "      <th>1</th>\n",
       "      <td>46</td>\n",
       "      <td>15235</td>\n",
       "      <td>42003523502</td>\n",
       "      <td>0.262209</td>\n",
       "      <td>523502.0</td>\n",
       "      <td>NaN</td>\n",
       "      <td>0.306757</td>\n",
       "      <td>-0.513206</td>\n",
       "      <td>High</td>\n",
       "    </tr>\n",
       "    <tr>\n",
       "      <th>2</th>\n",
       "      <td>46</td>\n",
       "      <td>15235</td>\n",
       "      <td>42003523600</td>\n",
       "      <td>0.225732</td>\n",
       "      <td>523600.0</td>\n",
       "      <td>NaN</td>\n",
       "      <td>0.282029</td>\n",
       "      <td>-0.549706</td>\n",
       "      <td>High</td>\n",
       "    </tr>\n",
       "    <tr>\n",
       "      <th>3</th>\n",
       "      <td>43</td>\n",
       "      <td>15132</td>\n",
       "      <td>42003501000</td>\n",
       "      <td>0.251734</td>\n",
       "      <td>501000.0</td>\n",
       "      <td>NaN</td>\n",
       "      <td>0.293406</td>\n",
       "      <td>-0.532531</td>\n",
       "      <td>High</td>\n",
       "    </tr>\n",
       "    <tr>\n",
       "      <th>4</th>\n",
       "      <td>43</td>\n",
       "      <td>15132</td>\n",
       "      <td>42003550900</td>\n",
       "      <td>0.271556</td>\n",
       "      <td>550900.0</td>\n",
       "      <td>NaN</td>\n",
       "      <td>0.428708</td>\n",
       "      <td>-0.367838</td>\n",
       "      <td>High</td>\n",
       "    </tr>\n",
       "    <tr>\n",
       "      <th>...</th>\n",
       "      <td>...</td>\n",
       "      <td>...</td>\n",
       "      <td>...</td>\n",
       "      <td>...</td>\n",
       "      <td>...</td>\n",
       "      <td>...</td>\n",
       "      <td>...</td>\n",
       "      <td>...</td>\n",
       "      <td>...</td>\n",
       "    </tr>\n",
       "    <tr>\n",
       "      <th>146</th>\n",
       "      <td>4</td>\n",
       "      <td>15144</td>\n",
       "      <td>42003417100</td>\n",
       "      <td>0.264051</td>\n",
       "      <td>417100.0</td>\n",
       "      <td>NaN</td>\n",
       "      <td>0.300268</td>\n",
       "      <td>-0.522491</td>\n",
       "      <td>Low</td>\n",
       "    </tr>\n",
       "    <tr>\n",
       "      <th>147</th>\n",
       "      <td>4</td>\n",
       "      <td>15144</td>\n",
       "      <td>42003417200</td>\n",
       "      <td>0.282508</td>\n",
       "      <td>417200.0</td>\n",
       "      <td>NaN</td>\n",
       "      <td>0.299906</td>\n",
       "      <td>-0.523015</td>\n",
       "      <td>Low</td>\n",
       "    </tr>\n",
       "    <tr>\n",
       "      <th>148</th>\n",
       "      <td>4</td>\n",
       "      <td>15014</td>\n",
       "      <td>42003402000</td>\n",
       "      <td>0.271090</td>\n",
       "      <td>402000.0</td>\n",
       "      <td>NaN</td>\n",
       "      <td>0.293870</td>\n",
       "      <td>-0.531845</td>\n",
       "      <td>Low</td>\n",
       "    </tr>\n",
       "    <tr>\n",
       "      <th>150</th>\n",
       "      <td>4</td>\n",
       "      <td>15129</td>\n",
       "      <td>42003490004</td>\n",
       "      <td>0.296016</td>\n",
       "      <td>490004.0</td>\n",
       "      <td>NaN</td>\n",
       "      <td>0.257086</td>\n",
       "      <td>-0.589922</td>\n",
       "      <td>Low</td>\n",
       "    </tr>\n",
       "    <tr>\n",
       "      <th>161</th>\n",
       "      <td>2</td>\n",
       "      <td>15225</td>\n",
       "      <td>42003461000</td>\n",
       "      <td>0.260944</td>\n",
       "      <td>461000.0</td>\n",
       "      <td>NaN</td>\n",
       "      <td>0.290218</td>\n",
       "      <td>-0.537275</td>\n",
       "      <td>Low</td>\n",
       "    </tr>\n",
       "  </tbody>\n",
       "</table>\n",
       "<p>136 rows × 9 columns</p>\n",
       "</div>"
      ],
      "text/plain": [
       "     number_of_vendors    zip tract_number  smoking_rate  2000_tract  \\\n",
       "0                   46  15235  42003523400      0.249323    523400.0   \n",
       "1                   46  15235  42003523502      0.262209    523502.0   \n",
       "2                   46  15235  42003523600      0.225732    523600.0   \n",
       "3                   43  15132  42003501000      0.251734    501000.0   \n",
       "4                   43  15132  42003550900      0.271556    550900.0   \n",
       "..                 ...    ...          ...           ...         ...   \n",
       "146                  4  15144  42003417100      0.264051    417100.0   \n",
       "147                  4  15144  42003417200      0.282508    417200.0   \n",
       "148                  4  15014  42003402000      0.271090    402000.0   \n",
       "150                  4  15129  42003490004      0.296016    490004.0   \n",
       "161                  2  15225  42003461000      0.260944    461000.0   \n",
       "\n",
       "    neighborhood  obesity_rate  obesity_rate10 vendor_count  \n",
       "0            NaN      0.299322       -0.523862         High  \n",
       "1            NaN      0.306757       -0.513206         High  \n",
       "2            NaN      0.282029       -0.549706         High  \n",
       "3            NaN      0.293406       -0.532531         High  \n",
       "4            NaN      0.428708       -0.367838         High  \n",
       "..           ...           ...             ...          ...  \n",
       "146          NaN      0.300268       -0.522491          Low  \n",
       "147          NaN      0.299906       -0.523015          Low  \n",
       "148          NaN      0.293870       -0.531845          Low  \n",
       "150          NaN      0.257086       -0.589922          Low  \n",
       "161          NaN      0.290218       -0.537275          Low  \n",
       "\n",
       "[136 rows x 9 columns]"
      ]
     },
     "execution_count": 61,
     "metadata": {},
     "output_type": "execute_result"
    }
   ],
   "source": [
    "#add new column in dataframe\n",
    "df_merge_vendor_zip['vendor_count'] = df_merge_vendor_zip['number_of_vendors'].apply(lambda x: 'Low' if x <= 10 else 'High')\n",
    "df_merge_vendor_zip"
   ]
  },
  {
   "cell_type": "code",
   "execution_count": 62,
   "metadata": {},
   "outputs": [
    {
     "data": {
      "image/png": "[encoded data removed]",
      "text/plain": [
       "<Figure size 432x288 with 1 Axes>"
      ]
     },
     "metadata": {
      "needs_background": "light"
     },
     "output_type": "display_data"
    }
   ],
   "source": [
    "#view relationship between smoking and number of vendors through a boxplot\n",
    "sns.boxplot(x='vendor_count', y='smoking_rate', data=df_merge_vendor_zip);"
   ]
  },
  {
   "cell_type": "markdown",
   "metadata": {},
   "source": [
    "Areas with high amount of vendors have a similar smoking rate with areas of low amount of vendors. **We can see that the number of tobacco vendors does not affect the smoking rate of an area. This goes against out original hypothesis.**"
   ]
  },
  {
   "cell_type": "code",
   "execution_count": 63,
   "metadata": {},
   "outputs": [
    {
     "name": "stdout",
     "output_type": "stream",
     "text": [
      "Normal test p-value for number of vendors per zip: 0.002140426408996199\n",
      "Normal test p-value for obesity_rate 1.4512611996284268e-15\n"
     ]
    }
   ],
   "source": [
    "#create variables to test for normality\n",
    "h_num_vendors_per_zip = df_merge_vendor_zip['number_of_vendors'].values\n",
    "h_obesity_rate = df_merge_vendor_zip['obesity_rate'].values\n",
    "st_num_vendors_per_zip, p_num_vendors_per_zip = stats.normaltest(h_num_vendors_per_zip)\n",
    "st_obesity_rate, p_obesity_rate = stats.normaltest(h_obesity_rate)\n",
    "\n",
    "#print pvalues\n",
    "print('Normal test p-value for number of vendors per zip: ' + str(p_num_vendors_per_zip))\n",
    "print('Normal test p-value for obesity_rate ' + str(p_obesity_rate))"
   ]
  },
  {
   "cell_type": "code",
   "execution_count": 64,
   "metadata": {},
   "outputs": [
    {
     "name": "stdout",
     "output_type": "stream",
     "text": [
      "                            OLS Regression Results                            \n",
      "==============================================================================\n",
      "Dep. Variable:         obesity_rate10   R-squared:                       0.115\n",
      "Model:                            OLS   Adj. R-squared:                  0.101\n",
      "Method:                 Least Squares   F-statistic:                     8.615\n",
      "Date:                Wed, 16 Dec 2020   Prob (F-statistic):           0.000303\n",
      "Time:                        23:34:34   Log-Likelihood:                 78.135\n",
      "No. Observations:                 136   AIC:                            -150.3\n",
      "Df Residuals:                     133   BIC:                            -141.5\n",
      "Df Model:                           2                                         \n",
      "Covariance Type:            nonrobust                                         \n",
      "=======================================================================================\n",
      "                          coef    std err          t      P>|t|      [0.025      0.975]\n",
      "---------------------------------------------------------------------------------------\n",
      "Intercept              -0.7950      0.068    -11.691      0.000      -0.930      -0.661\n",
      "vendor_count[T.Low]     0.0083      0.028      0.293      0.770      -0.048       0.065\n",
      "smoking_rate            1.1257      0.272      4.142      0.000       0.588       1.663\n",
      "==============================================================================\n",
      "Omnibus:                       21.861   Durbin-Watson:                   1.178\n",
      "Prob(Omnibus):                  0.000   Jarque-Bera (JB):               27.380\n",
      "Skew:                           0.948   Prob(JB):                     1.13e-06\n",
      "Kurtosis:                       4.111   Cond. No.                         25.1\n",
      "==============================================================================\n",
      "\n",
      "Warnings:\n",
      "[1] Standard Errors assume that the covariance matrix of the errors is correctly specified.\n"
     ]
    }
   ],
   "source": [
    "#do OLS predicting obesity rate from smoking rate and number of vendors\n",
    "outcome_obesity, predictor_multiple = patsy.dmatrices('obesity_rate10 ~ smoking_rate + vendor_count', df_merge_vendor_zip)\n",
    "mod2 = sm.OLS(outcome_obesity, predictor_multiple)\n",
    "res2 = mod2.fit()\n",
    "print(res2.summary())"
   ]
  },
  {
   "cell_type": "markdown",
   "metadata": {},
   "source": [
    "It seems like when looking at 2 predictors, smoking rate accounts for most of the variance. This would go against our opinion that number of vendors is a confounding variable. Let's visualize our results before we conclude anything."
   ]
  },
  {
   "cell_type": "code",
   "execution_count": 65,
   "metadata": {},
   "outputs": [
    {
     "data": {
      "image/png": "[encoded data removed]",
      "text/plain": [
       "<Figure size 432x288 with 1 Axes>"
      ]
     },
     "metadata": {
      "needs_background": "light"
     },
     "output_type": "display_data"
    }
   ],
   "source": [
    "#visualize results and color by vendor_count\n",
    "sns.scatterplot(x='smoking_rate', y='obesity_rate', hue='vendor_count', data=df_merge_vendor_zip, s=200 );"
   ]
  },
  {
   "cell_type": "code",
   "execution_count": 66,
   "metadata": {},
   "outputs": [
    {
     "data": {
      "image/png": "[encoded data removed]",
      "text/plain": [
       "<Figure size 796x360 with 1 Axes>"
      ]
     },
     "metadata": {
      "needs_background": "light"
     },
     "output_type": "display_data"
    }
   ],
   "source": [
    "#plot with regression line\n",
    "sns.lmplot(x='smoking_rate', y='obesity_rate', hue='vendor_count', data = df_merge_vendor_zip, ci=None, aspect=2.0);"
   ]
  },
  {
   "cell_type": "markdown",
   "metadata": {},
   "source": [
    " $$obesity rate = -0.7816  + (1.1332 * smoking rate) + (-0.0167 * vendor count)$$"
   ]
  },
  {
   "cell_type": "markdown",
   "metadata": {},
   "source": [
    "When the number of vendors is less than 10, we see from the regression line that as smoking rate increases, so does obesity rate. This has a strong relationship. When the number of vendors is greater than 10, the regression line isn't as steep as the blue line, however we do see that as smoking rate increases, obesity rate also has a slight increase. These results are not in favor of our assumption that areas with higher number of vendors would greatly increase the smoking rate, and thus increase obesity rate. The results actually show the opposite. In conclusion, even if vendor count is small, more people smoke, and therefore more people are obese than in areas with high vendor counts. Thus, number of vendors is not a confounding variable. "
   ]
  },
  {
   "cell_type": "markdown",
   "metadata": {},
   "source": [
    "## Which variable affects obesity rate the most?"
   ]
  },
  {
   "cell_type": "markdown",
   "metadata": {},
   "source": [
    "Now that we see a strong relationship between obesity rate and smoking rate, we were curious if any other variable (either poverty rate, income, or hs grad rate) had a strong relaitonship with obesity. Our hypothesis states that we believe smoking rate has the strongest affect on obesity rate, but we need to verify this with our other variables"
   ]
  },
  {
   "cell_type": "code",
   "execution_count": 67,
   "metadata": {},
   "outputs": [
    {
     "data": {
      "image/png": "[encoded data removed]",
      "text/plain": [
       "<Figure size 1584x792 with 4 Axes>"
      ]
     },
     "metadata": {
      "needs_background": "light"
     },
     "output_type": "display_data"
    }
   ],
   "source": [
    "#visualize each variables relationship with obesity rate\n",
    "plt.figure(figsize = (22,11))\n",
    "\n",
    "plt.subplot(221)\n",
    "plt.scatter('smoking_rate', 'obesity_rate10', data = df_merge_vendor_zip )\n",
    "plt.title('Smoking Rate vs Obesity Rate')\n",
    "plt.xlabel('Smoking Rate')\n",
    "plt.ylabel('Log Transformed Obesity Rate')\n",
    "\n",
    "plt.subplot(222)\n",
    "plt.scatter('poverty_rate10', 'obesity_rate', data = df_merge_master )\n",
    "plt.title('Poverty Rate vs Obesity Rate')\n",
    "plt.xlabel('Log Transformed Poverty Rate')\n",
    "plt.ylabel('Obesity Rate')\n",
    "\n",
    "plt.subplot(223)\n",
    "plt.scatter('median_income10', 'obesity_rate', data = df_merge_master )\n",
    "plt.title('Median Income vs Obesity Rate')\n",
    "plt.xlabel('Scaled Median Income')\n",
    "plt.ylabel('Obesity Rate')\n",
    "\n",
    "plt.subplot(224)\n",
    "plt.scatter('hs_grad_rate', 'obesity_rate', data = df_merge_master )\n",
    "plt.title('HS Grad Rate vs Obesity Rate')\n",
    "plt.xlabel('HS Grad Rate')\n",
    "plt.ylabel('Obesity Rate')\n",
    "\n",
    "plt.show()"
   ]
  },
  {
   "cell_type": "markdown",
   "metadata": {},
   "source": [
    "At a glance, we see all of these scatterplots do have some relationship with obesity rate! Let's attempt to fit the model using multiple linear regression"
   ]
  },
  {
   "cell_type": "code",
   "execution_count": 68,
   "metadata": {},
   "outputs": [
    {
     "name": "stdout",
     "output_type": "stream",
     "text": [
      "                            OLS Regression Results                            \n",
      "==============================================================================\n",
      "Dep. Variable:           obesity_rate   R-squared:                       0.473\n",
      "Model:                            OLS   Adj. R-squared:                  0.381\n",
      "Method:                 Least Squares   F-statistic:                     5.162\n",
      "Date:                Wed, 16 Dec 2020   Prob (F-statistic):            0.00407\n",
      "Time:                        23:34:35   Log-Likelihood:                 17.619\n",
      "No. Observations:                  28   AIC:                            -25.24\n",
      "Df Residuals:                      23   BIC:                            -18.58\n",
      "Df Model:                           4                                         \n",
      "Covariance Type:            nonrobust                                         \n",
      "===================================================================================\n",
      "                      coef    std err          t      P>|t|      [0.025      0.975]\n",
      "-----------------------------------------------------------------------------------\n",
      "Intercept           0.5006      0.241      2.078      0.049       0.002       0.999\n",
      "smoking_rate       -0.5710      0.580     -0.984      0.335      -1.771       0.629\n",
      "poverty_rate10     -0.3162      0.230     -1.377      0.182      -0.791       0.159\n",
      "median_income10    -1.2244      0.396     -3.091      0.005      -2.044      -0.405\n",
      "hs_grad_rate        0.3358      0.298      1.126      0.272      -0.281       0.952\n",
      "==============================================================================\n",
      "Omnibus:                        4.163   Durbin-Watson:                   1.802\n",
      "Prob(Omnibus):                  0.125   Jarque-Bera (JB):                3.056\n",
      "Skew:                           0.261   Prob(JB):                        0.217\n",
      "Kurtosis:                       4.532   Cond. No.                         30.3\n",
      "==============================================================================\n",
      "\n",
      "Warnings:\n",
      "[1] Standard Errors assume that the covariance matrix of the errors is correctly specified.\n"
     ]
    }
   ],
   "source": [
    "outcome_obesity2, predictor_multiple2 = patsy.dmatrices('obesity_rate ~ smoking_rate + poverty_rate10 + median_income10 + hs_grad_rate', df_merge_master)\n",
    "mod3 = sm.OLS(outcome_obesity2, predictor_multiple2)\n",
    "res3 = mod3.fit()\n",
    "print(res3.summary())"
   ]
  },
  {
   "cell_type": "markdown",
   "metadata": {},
   "source": [
    "The following relationship can describe the relationship between smoking rate, poverty rate, median income, and high school graduation rate on obesity rate\n",
    "\n",
    "$$ ObesityRate = 0.5 + (-0.32  * PovertyRate) + (-0.57 * SmokingRate) + (0.34 * HSGradRate) + (-1.22 * Median Income) $$\n",
    "\n",
    "**From this, we can conclude that median income has the most effect on obesity.**"
   ]
  },
  {
   "cell_type": "code",
   "execution_count": 69,
   "metadata": {},
   "outputs": [
    {
     "data": {
      "image/png": "[encoded data removed]",
      "text/plain": [
       "<Figure size 432x288 with 2 Axes>"
      ]
     },
     "metadata": {
      "needs_background": "light"
     },
     "output_type": "display_data"
    }
   ],
   "source": [
    "#do correlation matrix\n",
    "df = pd.DataFrame(df_merge_master,columns=['smoking_rate','poverty_rate10','hs_grad_rate', 'median_income10', 'obesity_rate'])\n",
    "corrMatrix = df.corr()\n",
    "\n",
    "sns.heatmap(corrMatrix, annot=True, cmap = 'YlGnBu')\n",
    "plt.show()"
   ]
  },
  {
   "cell_type": "markdown",
   "metadata": {},
   "source": [
    "Using our visualization, the largest correlation is between poverty rate and median income, which makes sense since income is a huge factor when calculating poverty rate. When looking at what affected obesity rate, we see that **median income is affecting obesity rate the most!** However, in comparison, there is not a large correlation betweem smoking rate and median income as well as smoking rate and obesity. \n",
    "\n",
    "There must be some other reason areas with lower income tend to be more obese. We are thinking that this could be due to lifestyle differences (diet, exercise, etc), or access to healthcare. If we had more time to observe this relationship, we would definitley try to explore it! As for now, we can conclude that lower **your income, the more you are to be obese.**"
   ]
  },
  {
   "cell_type": "markdown",
   "metadata": {},
   "source": [
    "# Ethics and Privacy"
   ]
  },
  {
   "cell_type": "markdown",
   "metadata": {},
   "source": [
    "The datasets used in this project are all from the website data.gov which is run by the U.S government.The website aims to improve public access to machine readable, high value datasets generated by the Executive Branch of the Federal Government. It is a repository for the state, federal, local, and tribal governments made available to the public. As this is a public accessible website there is no personal information exposed that could warrant privacy concerns. We made sure to  comply with any terms and conditions stated in the website regarding privacy policies.\n",
    "\n",
    "The city count dataset explores areas of high density of tobacco vendors but do not reveal information of the customers nor the vendors operating the sales. This is important due to the fact that the data retains anonymity of people. One bias that could potentially affect our data is if a particular city doesn’t report their data on vendors causing a discrepancy in our data analysis.  We approached this by only including cities in the state that have four or more tobacco vendors. As stated, our data only portrays the density of tobacco vendors in specific cities in the state and doesn’t attribute to revealing personal information regarding individual’s identities. \n",
    "\n",
    "Our information consists primarily of public information. Additionally, our topic concerns public health so we are striving to better the community and to not inflict damage. An ethical concern we have is the potential harm that can occur if this information was released and the tobacco industry uses this research to improve their marketing strategies. The best we can do is be transparent about all findings and emphasize aspects of our research such as the scope, biases, and where the information was gathered so the audience can judge for themselves the validity of our work. We aim to inform the public so they themselves can come to their own conclusions and opinions on this subject which can be gravely impactful on their health and the health of others. "
   ]
  },
  {
   "cell_type": "markdown",
   "metadata": {},
   "source": [
    "# Conclusion & Discussion"
   ]
  },
  {
   "cell_type": "markdown",
   "metadata": {},
   "source": [
    "Prior to starting our project, we came across many articles concerning smoking, obesity, and these can be affected by a variety of demographic factors. We hypothesized that there was a positive correlation between smoking rate and obesity rate and this hypothesis was supported by our study. Our hypothesis also stated that the density of vendors in a city contributed to the increase of smokers in that city, which led to a higher obesity rate as well. The results of our analysis reveal that our hypothesis was not entirely correct. We saw that the number of vendors had no significant correlation with smoking rate and obesity rate. Lastly, we hypothesized that poverty rate had the most effect on the amount of vendors in an area and would this affect smoking and obesity rate the most out of all demographic factors considered (poverty rate, median income, high school graduation rate). Although we were correct in the fact that there was a relationship between smoking rate and obesity rate, we were completely wrong with what variable affects obesity rate the most. We found that the median income of an area has the strongest relationship with obesity rate the most, while poverty rate is most correlated with smoking rate. Though this was not an exact hypothesis, we felt that our result made sense. \n",
    "\n",
    "During our analysis our group ran into plenty of limitations regarding our datasets. First, our datasets were difficult to merge due to some using zip codes and others using FIPS. It was hard to find charts that mapped FIPS to zip codes and vice versa, and this led to us not using certain datasets in our analysis. Many of our data followed the 2000 census while the others followed the 2010 census, which brings us to our second limitation. We felt restricted in our data usage, after merging the necessary datasets to make analysis easier and it constituted some data loss. This could have possibly skewed our data and findings. Finally, one of our datasets considered median income having a higher correlation to obesity rate, exceeding highschool graduation rate. The limitation in this case is that our dataset did not provide an adequate range of education beyond highschool grads. It could be possible that if you had an education beyond high school graduation, then you would have a higher median income, and therefore not be as obese. If provided our outcome could have been different.\n",
    "\n",
    "In conclusion, smoking rate does have a significant effect on obesity rate. However, we found that there were other variables that had a greater effect on our data. Looking at our visualization, we can see that median income had the strongest correlation with obesity rate. We believe that there must be some other reason why areas of lower income tend to have a higher obesity rate. Some confounding variables we had in mind are health habits, such as diet or exercise, as people of varying socio-economic status could have completely different diets or exercise routines. Another confounding variable could be access to healthcare. Areas with higher poverty rates must have insufficient healthcare which therefore affects their health, and possibly affects obesity rate. \n"
   ]
  },
  {
   "cell_type": "markdown",
   "metadata": {},
   "source": [
    "# Team Contributions\n",
    "- Julia Chu: Data analysis, Data cleaning, Datasets, EDA, Data visualization,  Research question, Background, Hypothesis, Project manager, Finalized project\n",
    "\n",
    "\n",
    "- Emerson Chin: Data analysis, Background, Coding, Data Merging, EDA, Ethics/Privacy, Finalized project\n",
    "\n",
    "\n",
    "- Paayal Desai: Data analysis, Background, Data statistics, Data cleaning, Datasets, EDA, Data visualization, Conclusion/Discussion, Finalized project\n",
    "\n",
    "\n",
    "- Eddie Sim: Data analysis, Overview, Research question, Background, Hypothesis, Ethics/Privacy, Conclusion/Discussion, Finalized project\n",
    "\n",
    "\n",
    "- Andrea Ortiz: Data analysis, Data cleaning, Datasets, EDA, Data visualization, Research question, Background, Ethics/Privacy"
   ]
  }
 ],
 "metadata": {
  "kernelspec": {
   "display_name": "Python 3",
   "language": "python",
   "name": "python3"
  },
  "language_info": {
   "codemirror_mode": {
    "name": "ipython",
    "version": 3
   },
   "file_extension": ".py",
   "mimetype": "text/x-python",
   "name": "python",
   "nbconvert_exporter": "python",
   "pygments_lexer": "ipython3",
   "version": "3.7.9"
  }
 },
 "nbformat": 4,
 "nbformat_minor": 4
}
