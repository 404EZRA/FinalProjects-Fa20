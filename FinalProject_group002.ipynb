{
 "cells": [
  {
   "cell_type": "markdown",
   "metadata": {},
   "source": [
    "# COGS 108 Final Project (Fall 2020)\n",
    "\n",
    "Names: Harshi Agrawal, Ido Durst, Parth Shah, Amit Bar, and Alise Bruevich\n",
    "\n",
    "Group: 002"
   ]
  },
  {
   "cell_type": "markdown",
   "metadata": {},
   "source": [
    "# Overview"
   ]
  },
  {
   "cell_type": "markdown",
   "metadata": {},
   "source": [
    "The objective of our project is to give insight into Shark Tank deals, biases, and general information that could be helpful to future Shark Tank pitchers. We combined an already created dataset online with scraped data - together, the datasets contained data on product names, descriptions, industry, entrepreneurs, season of appearance, whether or not they got a deal along with sharks gave the deal, and data on the asked and got equity, dollar amount, and evaluation. \n",
    "\n",
    "In our Exploratory Data Analysis, we were able to observe some trends between gender and scoring a deal with specific sharks, and between industry of the product and scoring a deal. While we could see the impact of this, we wanted to futher explore direct correlation between our features and label. We couldn't perform correlation tests for all features due to data that couldn't be normalized, but from the ones that could we found that gender is strongly correlated to obtaining a deal.\n",
    "\n",
    "Lastly, to further explore how correlated these values are we decided to train a logisitc regression model using 10-fold cross validation. We also used a sequential feature selector to test all permutations of features we wanted to use. From this, we found that the season, gender, and ask equity play a  role in obtaining a deal"
   ]
  },
  {
   "cell_type": "markdown",
   "metadata": {},
   "source": [
    "## Names\n",
    "\n",
    "- Harshi Agrawal\n",
    "- Ido Durst\n",
    "- Parth Shah\n",
    "- Amit Bar\n",
    "- Alise Bruevich"
   ]
  },
  {
   "cell_type": "markdown",
   "metadata": {},
   "source": [
    "# Research Question:\n",
    "\n",
    "To what extent do factors such as gender, industry, ask equity, ask price, ask valuation, and season affect the likelihood of securing a deal in Shark tank?"
   ]
  },
  {
   "cell_type": "markdown",
   "metadata": {},
   "source": [
    "# Background / Prior Work:\n",
    "\n",
    "**General Introduction:**\n",
    "\n",
    "We have always been passionate about entrepreneurship and innovation. A show that covers both of these important aspects of our lives is called Shark Tank in which entrepreneurs showcase their innovations to 5 “sharks” (wealthy entrepreneurs/investors) in hopes of getting funding and a successful mentor to help them expand their business. We want to analyze which factor of the business matters the most when trying to get investments (a pivotal part of the entrepreneurship cycle). It peaked our interest because businesses are so important for our economy, and we wanted to see how businesses can take off. \n",
    "\n",
    "**How we got to our hypothesis (which is in the next cell):**\n",
    "\n",
    "Reading up on some of the deals made on the show, we saw that many of these deals had a pretty successful start to their company. We did not read much about how a company that hadn’t sold any products or had low revenue seemed to make deals. This is partly how it led to our hypothesis.\n",
    "\n",
    "**Why is this topic important?:**\n",
    "\n",
    "This topic is very important since it can be argued that entrepreneurship is the backbone of the American economy. This data science project will help entrepreneurships determine which part of their company/product needs to be focused on when pitching to sharks (and other investors from outside of Shark Tank, as they are similar).\n",
    "\n",
    "**Previous Work:**\n",
    "\n",
    "Previous analyses have been conducted surrounding the show and the success of pitches, but it has mainly focused on the pitch itself. Based on data collected by Halle Tecco, analysis has been done to indicate that gender bias may be occurring. For instance, they found that although women are underrepresented on the show itself, they actually tend to have a higher percentage of deals being made by sharks. The article also demonstrated how the top industry was food and beverage. They also attempt to go into if there is an increase in the amount of deals being made, looking at which sharks make the most amount of deals and analyzing how much money an entrepreneur is willing to give up to make a deal. (https://thehustle.co/shark-tank-data-analysis-10-seasons/). Another resource that we found demonstrated charts on the probabilities of a shark making a deal on gender, and they concluded how there are definite gaps between sharks making deals between the genders, but could not say it was a cause (https://medium.com/dig3st/swimming-or-sinking-in-the-shark-tank-does-gender-matter-aafa88180f7). So, based on some of these sources, we have seen that there is a gap based on gender, so there could be a potential bias. In terms of racial bias, we could not find any data analysis done by previous work on whether or not race affected deals being made, so we are unsure of racial bias (we will take a look at this later in our project). Our research is different in the sense that we wish to look at how all of these factors as well as others (gender, industry, equity, and ask price) all together work to possibly affect their pitch success rather than simply looking individually at specific variables.\n",
    "\n",
    "**References:**\n",
    "\n",
    "1. https://docs.google.com/spreadsheets/d/1Lr0gi_QJB_JU0lBMjJ7WiBRxA0loml1FlM-KlmKsaEY/edit#gid=0 \n",
    "2. https://thehustle.co/shark-tank-data-analysis-10-seasons/\n",
    "3. https://medium.com/dig3st/swimming-or-sinking-in-the-shark-tank-does-gender-matter-aafa88180f7"
   ]
  },
  {
   "cell_type": "markdown",
   "metadata": {},
   "source": [
    "# Hypothesis:\n",
    "\n",
    "Our main hypothesis is that the valuation ((1 / equity ask) * price ask * 100) in comparison with the success of the company (revenue/year, growth, number of consumers) is the most influential in the likelihood of securing a deal with a shark. We believe that this will be the outcome because some of us have watched the show and have noticed that usually sharks will use the valuations to determine if the company is worth investing in."
   ]
  },
  {
   "cell_type": "markdown",
   "metadata": {},
   "source": [
    "# Getting the data:\n",
    "\n",
    "First things first: we need to collect all the data! Thankfully, a data scientist named Halle has already collected plenty of shark tank data that we will be using and building on (source: https://docs.google.com/spreadsheets/d/1Lr0gi_QJB_JU0lBMjJ7WiBRxA0loml1FlM-KlmKsaEY/edit#gid=0). We also scraped data from a site called Shark Tank Tales (source: https://sharktanktales.com/). Below is our process of collecting these datas and combining them into a singular, complete dataframe! The layout is as follows:\n",
    "\n",
    "- First, import and clean Halle's data\n",
    "- Second, scrape and clean Shark Tank Tales data\n",
    "- Third, combine data sets. Then check if there is any invalid data and clean/fix anything that is incorrect"
   ]
  },
  {
   "cell_type": "markdown",
   "metadata": {},
   "source": [
    "## First, import and clean Halle's data (named df)"
   ]
  },
  {
   "cell_type": "code",
   "execution_count": 1,
   "metadata": {},
   "outputs": [],
   "source": [
    "import pandas as pd\n",
    "import requests\n",
    "import bs4\n",
    "from bs4 import BeautifulSoup\n",
    "import time\n",
    "import numpy as np\n",
    "from urllib.request import Request, urlopen\n",
    "import warnings\n",
    "import math\n",
    "import seaborn as sns\n",
    "from scipy.stats import chi2_contingency, normaltest"
   ]
  },
  {
   "cell_type": "code",
   "execution_count": 2,
   "metadata": {},
   "outputs": [],
   "source": [
    "df = pd.read_csv('SharkTankData.csv', header=1)"
   ]
  },
  {
   "cell_type": "code",
   "execution_count": 3,
   "metadata": {
    "scrolled": true
   },
   "outputs": [
    {
     "data": {
      "text/html": [
       "<div>\n",
       "<style scoped>\n",
       "    .dataframe tbody tr th:only-of-type {\n",
       "        vertical-align: middle;\n",
       "    }\n",
       "\n",
       "    .dataframe tbody tr th {\n",
       "        vertical-align: top;\n",
       "    }\n",
       "\n",
       "    .dataframe thead th {\n",
       "        text-align: right;\n",
       "    }\n",
       "</style>\n",
       "<table border=\"1\" class=\"dataframe\">\n",
       "  <thead>\n",
       "    <tr style=\"text-align: right;\">\n",
       "      <th></th>\n",
       "      <th>Season</th>\n",
       "      <th>Episode</th>\n",
       "      <th>Company</th>\n",
       "      <th>Deal</th>\n",
       "      <th>Industry</th>\n",
       "      <th>Entrepreneur Gender</th>\n",
       "      <th>ASK</th>\n",
       "      <th>Unnamed: 11</th>\n",
       "      <th>Unnamed: 12</th>\n",
       "      <th>DEAL</th>\n",
       "      <th>...</th>\n",
       "      <th>Royalty Deal?</th>\n",
       "      <th>Loan?</th>\n",
       "      <th>Barbara\\nCorcoran</th>\n",
       "      <th>Mark\\nCuban</th>\n",
       "      <th>Lori\\nGreiner</th>\n",
       "      <th>Robert Herjavec</th>\n",
       "      <th>Daymond\\nJohn</th>\n",
       "      <th>Kevin\\nO'Leary</th>\n",
       "      <th>Guest</th>\n",
       "      <th># Sharks</th>\n",
       "    </tr>\n",
       "  </thead>\n",
       "  <tbody>\n",
       "    <tr>\n",
       "      <th>0</th>\n",
       "      <td>1.0</td>\n",
       "      <td>1.01</td>\n",
       "      <td>Ava the Elephant</td>\n",
       "      <td>Yes</td>\n",
       "      <td>Health / Wellness</td>\n",
       "      <td>Female</td>\n",
       "      <td>$50,000</td>\n",
       "      <td>15.00%</td>\n",
       "      <td>$333,333</td>\n",
       "      <td>$50,000</td>\n",
       "      <td>...</td>\n",
       "      <td>NaN</td>\n",
       "      <td>NaN</td>\n",
       "      <td>1.0</td>\n",
       "      <td>NaN</td>\n",
       "      <td>NaN</td>\n",
       "      <td>NaN</td>\n",
       "      <td>NaN</td>\n",
       "      <td>NaN</td>\n",
       "      <td>NaN</td>\n",
       "      <td>1.0</td>\n",
       "    </tr>\n",
       "    <tr>\n",
       "      <th>1</th>\n",
       "      <td>1.0</td>\n",
       "      <td>1.01</td>\n",
       "      <td>Mr. Tod's Pie Factory</td>\n",
       "      <td>Yes</td>\n",
       "      <td>Food and Beverage</td>\n",
       "      <td>Male</td>\n",
       "      <td>$460,000</td>\n",
       "      <td>10.00%</td>\n",
       "      <td>$4,600,000</td>\n",
       "      <td>$460,000</td>\n",
       "      <td>...</td>\n",
       "      <td>NaN</td>\n",
       "      <td>NaN</td>\n",
       "      <td>1.0</td>\n",
       "      <td>NaN</td>\n",
       "      <td>NaN</td>\n",
       "      <td>NaN</td>\n",
       "      <td>1.0</td>\n",
       "      <td>NaN</td>\n",
       "      <td>NaN</td>\n",
       "      <td>2.0</td>\n",
       "    </tr>\n",
       "    <tr>\n",
       "      <th>2</th>\n",
       "      <td>1.0</td>\n",
       "      <td>1.01</td>\n",
       "      <td>Wispots</td>\n",
       "      <td>No</td>\n",
       "      <td>Business Services</td>\n",
       "      <td>Male</td>\n",
       "      <td>NaN</td>\n",
       "      <td>NaN</td>\n",
       "      <td>NaN</td>\n",
       "      <td>NaN</td>\n",
       "      <td>...</td>\n",
       "      <td>NaN</td>\n",
       "      <td>NaN</td>\n",
       "      <td>NaN</td>\n",
       "      <td>NaN</td>\n",
       "      <td>NaN</td>\n",
       "      <td>NaN</td>\n",
       "      <td>NaN</td>\n",
       "      <td>NaN</td>\n",
       "      <td>NaN</td>\n",
       "      <td>0.0</td>\n",
       "    </tr>\n",
       "    <tr>\n",
       "      <th>3</th>\n",
       "      <td>1.0</td>\n",
       "      <td>1.01</td>\n",
       "      <td>College Foxes Packing Boxes</td>\n",
       "      <td>No</td>\n",
       "      <td>Lifestyle / Home</td>\n",
       "      <td>Male</td>\n",
       "      <td>NaN</td>\n",
       "      <td>NaN</td>\n",
       "      <td>NaN</td>\n",
       "      <td>NaN</td>\n",
       "      <td>...</td>\n",
       "      <td>NaN</td>\n",
       "      <td>NaN</td>\n",
       "      <td>NaN</td>\n",
       "      <td>NaN</td>\n",
       "      <td>NaN</td>\n",
       "      <td>NaN</td>\n",
       "      <td>NaN</td>\n",
       "      <td>NaN</td>\n",
       "      <td>NaN</td>\n",
       "      <td>0.0</td>\n",
       "    </tr>\n",
       "    <tr>\n",
       "      <th>4</th>\n",
       "      <td>1.0</td>\n",
       "      <td>1.01</td>\n",
       "      <td>Ionic Ear</td>\n",
       "      <td>No</td>\n",
       "      <td>Software / Tech</td>\n",
       "      <td>Male</td>\n",
       "      <td>NaN</td>\n",
       "      <td>NaN</td>\n",
       "      <td>NaN</td>\n",
       "      <td>NaN</td>\n",
       "      <td>...</td>\n",
       "      <td>NaN</td>\n",
       "      <td>NaN</td>\n",
       "      <td>NaN</td>\n",
       "      <td>NaN</td>\n",
       "      <td>NaN</td>\n",
       "      <td>NaN</td>\n",
       "      <td>NaN</td>\n",
       "      <td>NaN</td>\n",
       "      <td>NaN</td>\n",
       "      <td>0.0</td>\n",
       "    </tr>\n",
       "  </tbody>\n",
       "</table>\n",
       "<p>5 rows × 22 columns</p>\n",
       "</div>"
      ],
      "text/plain": [
       "   Season  Episode                      Company Deal           Industry  \\\n",
       "0     1.0     1.01             Ava the Elephant  Yes  Health / Wellness   \n",
       "1     1.0     1.01        Mr. Tod's Pie Factory  Yes  Food and Beverage   \n",
       "2     1.0     1.01                      Wispots   No  Business Services   \n",
       "3     1.0     1.01  College Foxes Packing Boxes   No   Lifestyle / Home   \n",
       "4     1.0     1.01                    Ionic Ear   No    Software / Tech   \n",
       "\n",
       "  Entrepreneur Gender       ASK Unnamed: 11 Unnamed: 12      DEAL  ...  \\\n",
       "0              Female   $50,000      15.00%    $333,333   $50,000  ...   \n",
       "1                Male  $460,000      10.00%  $4,600,000  $460,000  ...   \n",
       "2                Male       NaN         NaN         NaN       NaN  ...   \n",
       "3                Male       NaN         NaN         NaN       NaN  ...   \n",
       "4                Male       NaN         NaN         NaN       NaN  ...   \n",
       "\n",
       "  Royalty Deal? Loan? Barbara\\nCorcoran Mark\\nCuban  Lori\\nGreiner  \\\n",
       "0           NaN   NaN               1.0         NaN            NaN   \n",
       "1           NaN   NaN               1.0         NaN            NaN   \n",
       "2           NaN   NaN               NaN         NaN            NaN   \n",
       "3           NaN   NaN               NaN         NaN            NaN   \n",
       "4           NaN   NaN               NaN         NaN            NaN   \n",
       "\n",
       "   Robert Herjavec  Daymond\\nJohn  Kevin\\nO'Leary  Guest  # Sharks  \n",
       "0              NaN            NaN             NaN    NaN       1.0  \n",
       "1              NaN            1.0             NaN    NaN       2.0  \n",
       "2              NaN            NaN             NaN    NaN       0.0  \n",
       "3              NaN            NaN             NaN    NaN       0.0  \n",
       "4              NaN            NaN             NaN    NaN       0.0  \n",
       "\n",
       "[5 rows x 22 columns]"
      ]
     },
     "execution_count": 3,
     "metadata": {},
     "output_type": "execute_result"
    }
   ],
   "source": [
    "df = df.drop([0, 1])\n",
    "df = df.drop(columns=[\"Unnamed: 0\", \"No. in series\", \"Description\", \"$ per shark\", \"Unnamed: 9\", \"Details / Notes\"])\n",
    "df = df.reset_index(drop=True)\n",
    "df.head()"
   ]
  },
  {
   "cell_type": "code",
   "execution_count": 4,
   "metadata": {},
   "outputs": [],
   "source": [
    "df.rename(columns = {'ASK':'Ask_amount', 'Unnamed: 11':'Ask_equity', \n",
    "                    'Unnamed: 12':'Ask_valuation', 'DEAL':'Deal_amount',\n",
    "                    'Unnamed: 14':'Deal_equity', 'Unnamed: 15':'Deal_valuation',\n",
    "                    'Royalty Deal?': 'Royalty', 'Entrepreneur Gender': 'Gender',\n",
    "                    'Loan?':'Loan', 'Barbara\\nCorcoran':'Barbara', \n",
    "                    'Mark\\nCuban':'Mark', 'Lori\\nGreiner':'Lori',\n",
    "                    'Robert Herjavec':'Robert','Daymond\\nJohn':'Daymond',\n",
    "                    \"Kevin\\nO'Leary\":'Kevin'}, inplace = True)"
   ]
  },
  {
   "cell_type": "code",
   "execution_count": 5,
   "metadata": {},
   "outputs": [
    {
     "data": {
      "text/plain": [
       "array(['Season', 'Episode', 'Company', 'Deal', 'Industry', 'Gender',\n",
       "       'Ask_amount', 'Ask_equity', 'Ask_valuation', 'Deal_amount',\n",
       "       'Deal_equity', 'Deal_valuation', 'Royalty', 'Loan', 'Barbara',\n",
       "       'Mark', 'Lori', 'Robert', 'Daymond', 'Kevin', 'Guest', '# Sharks'],\n",
       "      dtype=object)"
      ]
     },
     "execution_count": 5,
     "metadata": {},
     "output_type": "execute_result"
    }
   ],
   "source": [
    "df.columns.values"
   ]
  },
  {
   "cell_type": "code",
   "execution_count": 6,
   "metadata": {},
   "outputs": [
    {
     "data": {
      "text/plain": [
       "0         $90,909\n",
       "1        $920,000\n",
       "2              -1\n",
       "3              -1\n",
       "4              -1\n",
       "          ...    \n",
       "890    $1,400,000\n",
       "891    $1,666,667\n",
       "892    $5,000,000\n",
       "893      $300,300\n",
       "894            -1\n",
       "Name: Deal_valuation, Length: 895, dtype: object"
      ]
     },
     "execution_count": 6,
     "metadata": {},
     "output_type": "execute_result"
    }
   ],
   "source": [
    "df['Ask_amount'].fillna(value=-1)\n",
    "df['Ask_equity'].fillna(value=-1)\n",
    "df['Ask_valuation'].fillna(value=-1)\n",
    "df['Deal_amount'].fillna(value=-1)\n",
    "df['Deal_equity'].fillna(value=-1)\n",
    "df['Deal_valuation'].fillna(value=-1)"
   ]
  },
  {
   "cell_type": "code",
   "execution_count": 7,
   "metadata": {},
   "outputs": [],
   "source": [
    "def standardize_binary(string):\n",
    "    if math.isnan(float(string)):\n",
    "        return 0\n",
    "    else:\n",
    "        return 1"
   ]
  },
  {
   "cell_type": "code",
   "execution_count": 8,
   "metadata": {},
   "outputs": [],
   "source": [
    "df['Barbara'] = df['Barbara'].apply(standardize_binary)\n",
    "df['Lori']= df['Lori'].apply(standardize_binary)\n",
    "df['Mark'] = df['Mark'].apply(standardize_binary)\n",
    "df['Robert'] = df['Robert'].apply(standardize_binary)\n",
    "df['Daymond'] = df['Daymond'].apply(standardize_binary)\n",
    "df['Kevin'] = df['Kevin'].apply(standardize_binary)\n",
    "df['Guest'] = df['Guest'].apply(standardize_binary)"
   ]
  },
  {
   "cell_type": "code",
   "execution_count": 9,
   "metadata": {},
   "outputs": [],
   "source": [
    "def standardize_yesNo(string):\n",
    "    try:\n",
    "        if 'Y' in string:\n",
    "            return 1\n",
    "        else:\n",
    "            return 0\n",
    "    except:\n",
    "        return -1"
   ]
  },
  {
   "cell_type": "code",
   "execution_count": 10,
   "metadata": {},
   "outputs": [],
   "source": [
    "df['Royalty'] = df['Royalty'].apply(standardize_yesNo)\n",
    "df['Loan'] = df['Loan'].apply(standardize_yesNo) #-1 dont know, 0 for no, 1 for yes"
   ]
  },
  {
   "cell_type": "code",
   "execution_count": 11,
   "metadata": {},
   "outputs": [],
   "source": [
    "def standardize_dollar(string):\n",
    "    try:\n",
    "        string = string.lower()\n",
    "        string = string.strip()\n",
    "    \n",
    "        string = string.replace('$', '')\n",
    "        string = string.replace(',', '')\n",
    "    \n",
    "        string = string.strip()\n",
    "        \n",
    "        return int(string)\n",
    "    except:\n",
    "        return -1"
   ]
  },
  {
   "cell_type": "code",
   "execution_count": 12,
   "metadata": {},
   "outputs": [],
   "source": [
    "def standardize_percent(string):\n",
    "    try:\n",
    "        string = string.lower()\n",
    "        string = string.strip()\n",
    "    \n",
    "        string = string.replace('%', '')\n",
    "        string = string.replace(',', '')\n",
    "    \n",
    "        string = string.strip()\n",
    "    \n",
    "        return float(string)\n",
    "    except:\n",
    "        return -1"
   ]
  },
  {
   "cell_type": "code",
   "execution_count": 13,
   "metadata": {},
   "outputs": [],
   "source": [
    "df['Ask_amount'] = df['Ask_amount'].apply(standardize_dollar)\n",
    "df['Ask_valuation'] = df['Ask_valuation'].apply(standardize_dollar)\n",
    "df['Deal_amount'] = df['Deal_amount'].apply(standardize_dollar)\n",
    "df['Deal_valuation'] = df['Deal_valuation'].apply(standardize_dollar)\n",
    "df['Deal_equity'] = df['Deal_equity'].apply(standardize_percent)\n",
    "df['Ask_equity'] = df['Ask_equity'].apply(standardize_percent)\n",
    "df['# Sharks'] = df['Barbara'] + df['Mark'] + df['Lori'] + df['Robert'] + df['Daymond'] + df['Kevin'] + df['Guest']"
   ]
  },
  {
   "cell_type": "code",
   "execution_count": 14,
   "metadata": {},
   "outputs": [
    {
     "data": {
      "text/plain": [
       "-1           265\n",
       " 1000000      59\n",
       " 500000       46\n",
       " 2500000      39\n",
       " 2000000      39\n",
       "            ... \n",
       " 28000000      1\n",
       " 120000        1\n",
       " 1140000       1\n",
       " 1166667       1\n",
       " 13157895      1\n",
       "Name: Ask_valuation, Length: 111, dtype: int64"
      ]
     },
     "execution_count": 14,
     "metadata": {},
     "output_type": "execute_result"
    }
   ],
   "source": [
    "df['Ask_valuation'].value_counts()"
   ]
  },
  {
   "cell_type": "code",
   "execution_count": 15,
   "metadata": {},
   "outputs": [
    {
     "data": {
      "text/plain": [
       "-1.0     400\n",
       " 25.0     78\n",
       " 20.0     73\n",
       " 30.0     46\n",
       " 10.0     45\n",
       "Name: Deal_equity, dtype: int64"
      ]
     },
     "execution_count": 15,
     "metadata": {},
     "output_type": "execute_result"
    }
   ],
   "source": [
    "df['Deal_equity'].value_counts()[:10]"
   ]
  },
  {
   "cell_type": "code",
   "execution_count": 16,
   "metadata": {},
   "outputs": [],
   "source": [
    "def standarize_gender(string):\n",
    "    if 'Male' in string:\n",
    "        return 0\n",
    "    elif 'Female' in string:\n",
    "        return 1\n",
    "    else:\n",
    "        return 2"
   ]
  },
  {
   "cell_type": "code",
   "execution_count": 17,
   "metadata": {},
   "outputs": [
    {
     "data": {
      "text/plain": [
       "0    535\n",
       "1    221\n",
       "2    139\n",
       "Name: Gender, dtype: int64"
      ]
     },
     "execution_count": 17,
     "metadata": {},
     "output_type": "execute_result"
    }
   ],
   "source": [
    "df['Gender'] = df['Gender'].apply(standarize_gender)\n",
    "df['Gender'].value_counts()"
   ]
  },
  {
   "cell_type": "code",
   "execution_count": 18,
   "metadata": {},
   "outputs": [],
   "source": [
    "def standarize_deal(string):\n",
    "    if 'Yes' in string:\n",
    "        return 1\n",
    "    else:\n",
    "        return 0"
   ]
  },
  {
   "cell_type": "code",
   "execution_count": 19,
   "metadata": {},
   "outputs": [
    {
     "data": {
      "text/plain": [
       "1    499\n",
       "0    396\n",
       "Name: Deal, dtype: int64"
      ]
     },
     "execution_count": 19,
     "metadata": {},
     "output_type": "execute_result"
    }
   ],
   "source": [
    "df['Deal'] = df['Deal'].apply(standarize_deal)\n",
    "df['Deal'].value_counts()"
   ]
  },
  {
   "cell_type": "code",
   "execution_count": 20,
   "metadata": {},
   "outputs": [
    {
     "data": {
      "text/plain": [
       "Food and Beverage              182\n",
       "Fashion / Beauty               167\n",
       "Lifestyle / Home               140\n",
       "Children / Education            93\n",
       "Fitness / Sports / Outdoors     93\n",
       "Software / Tech                 60\n",
       "Pet Products                    41\n",
       "Health / Wellness               36\n",
       "Media / Entertainment           23\n",
       "Business Services               17\n",
       "Automotive                      12\n",
       "Travel                          11\n",
       "Green/CleanTech                 11\n",
       "Uncertain / Other                9\n",
       "Name: Industry, dtype: int64"
      ]
     },
     "execution_count": 20,
     "metadata": {},
     "output_type": "execute_result"
    }
   ],
   "source": [
    "df['Industry'].value_counts()"
   ]
  },
  {
   "cell_type": "code",
   "execution_count": 21,
   "metadata": {},
   "outputs": [],
   "source": [
    "industries = list(df['Industry'].unique())\n",
    "d = {}\n",
    "for i, industry in enumerate(industries):\n",
    "    d[industry] = i"
   ]
  },
  {
   "cell_type": "code",
   "execution_count": 22,
   "metadata": {},
   "outputs": [],
   "source": [
    "def standarize_industry(string):\n",
    "    return d[string]"
   ]
  },
  {
   "cell_type": "code",
   "execution_count": 23,
   "metadata": {},
   "outputs": [
    {
     "data": {
      "text/plain": [
       "1     182\n",
       "7     167\n",
       "3     140\n",
       "9      93\n",
       "5      93\n",
       "4      60\n",
       "10     41\n",
       "0      36\n",
       "8      23\n",
       "2      17\n",
       "6      12\n",
       "12     11\n",
       "11     11\n",
       "13      9\n",
       "Name: Industry, dtype: int64"
      ]
     },
     "execution_count": 23,
     "metadata": {},
     "output_type": "execute_result"
    }
   ],
   "source": [
    "df['Industry'] = df['Industry'].apply(standarize_industry)\n",
    "df['Industry'].value_counts()"
   ]
  },
  {
   "cell_type": "markdown",
   "metadata": {},
   "source": [
    "## Second, scrape and clean Shark Tank Tales data (named df2)\n",
    "\n",
    "First, we set global variables that we can use throughout scraping the data. We then create an \"immutable dataset\", the purpose of which is so that we don't have to continually re-scrape all the data if we make a mistake while cleaning the data (it takes at least 15-20 minutes to scrape all the data...):"
   ]
  },
  {
   "cell_type": "code",
   "execution_count": 24,
   "metadata": {},
   "outputs": [],
   "source": [
    "# Global vars here that are used throughout scraping second data set (can use to easily rename columns, avoid typos, etc)\n",
    "PRODUCT = 'Product'\n",
    "SEASON_EPISODE = 'Season/Episode'\n",
    "SEASON = 'Season'\n",
    "DESCRIPTION = 'Description'\n",
    "ENTREPRENEUR = 'Entrepreneur'\n",
    "DEAL_ASKED_FOR = 'Deal Asked For'\n",
    "DEAL_GOT = 'Deal Got'\n",
    "SHARKS = 'Sharks'\n",
    "CURRENT_STATUS = 'Current Status'\n",
    "CATEGORIES = 'Categories'\n",
    "\n",
    "NUM_SEASONS = 10"
   ]
  },
  {
   "cell_type": "code",
   "execution_count": 25,
   "metadata": {},
   "outputs": [],
   "source": [
    "immutable_data = pd.DataFrame(columns=[PRODUCT, SEASON_EPISODE, DESCRIPTION, ENTREPRENEUR, DEAL_ASKED_FOR, DEAL_GOT, SHARKS, CURRENT_STATUS])"
   ]
  },
  {
   "cell_type": "markdown",
   "metadata": {},
   "source": [
    "#### Scraping the data\n",
    "Here is the first function we wrote! This function scrapes a specific product page URL and returns the product information we require:"
   ]
  },
  {
   "cell_type": "code",
   "execution_count": 26,
   "metadata": {},
   "outputs": [],
   "source": [
    "# Create a function that scrapes a specific product_page url\n",
    "def get_product_from_url(url):\n",
    "    product_page = requests.get(url)\n",
    "    product_page_soup = BeautifulSoup(product_page.content, 'html.parser')\n",
    "\n",
    "    product = product_page_soup.find('h1', class_='entry-title')\n",
    "    season_episode = product_page_soup.find('p', class_='post-ep')\n",
    "    \n",
    "    # use this to handle class name typos that editors created\n",
    "    if len(season_episode) == 0:\n",
    "        season_episode = product_page_soup.find('h3', class_='post-ep')\n",
    "        if len(season_episode) == 0:\n",
    "            raise Exception\n",
    "\n",
    "    # use this to handle other class name typos that editors created (using h3 tags instead of p tags)\n",
    "    try:\n",
    "        scraped = product_page_soup.find_all('p', class_='post-desc')\n",
    "        # trigger an exception if using p tag is incorrect (should use h3 tag instead)\n",
    "        if (scraped == []):\n",
    "            raise Exception\n",
    "            \n",
    "        # handle when the current status is unknown\n",
    "        if len(scraped) == 6:\n",
    "            return {\n",
    "                PRODUCT: product.text,\n",
    "                SEASON_EPISODE: season_episode.text,\n",
    "                DESCRIPTION: scraped[0].text,\n",
    "                ENTREPRENEUR: scraped[1].text,\n",
    "                DEAL_ASKED_FOR: scraped[2].text,\n",
    "                DEAL_GOT: scraped[3].text,\n",
    "                SHARKS: scraped[4].text,\n",
    "                CURRENT_STATUS: scraped[5].text\n",
    "            }\n",
    "\n",
    "        elif len(scraped) == 5:\n",
    "            return {\n",
    "                PRODUCT: product.text,\n",
    "                SEASON_EPISODE: season_episode.text,\n",
    "                DESCRIPTION: scraped[0].text,\n",
    "                ENTREPRENEUR: scraped[1].text,\n",
    "                DEAL_ASKED_FOR: scraped[2].text,\n",
    "                DEAL_GOT: scraped[3].text,\n",
    "                SHARKS: scraped[4].text,\n",
    "                CURRENT_STATUS: \"NA\"\n",
    "            }\n",
    "\n",
    "\n",
    "    except:\n",
    "        scraped = product_page_soup.find_all('h3', class_='post-desc')\n",
    "\n",
    "        # raise an exception if the h3 tag is also the incorrect tag. this should not occur unless there are typos\n",
    "        # when there are new website edits\n",
    "        if scraped == []:\n",
    "            raise Exception\n",
    "            \n",
    "        # handle when the current status is unknown\n",
    "        if len(scraped) == 6:\n",
    "            return {\n",
    "                PRODUCT: product.text,\n",
    "                SEASON_EPISODE: season_episode.text,\n",
    "                DESCRIPTION: scraped[0].text,\n",
    "                ENTREPRENEUR: scraped[1].text,\n",
    "                DEAL_ASKED_FOR: scraped[2].text,\n",
    "                DEAL_GOT: scraped[3].text,\n",
    "                SHARKS: scraped[4].text,\n",
    "                CURRENT_STATUS: scraped[5].text\n",
    "            }\n",
    "\n",
    "        elif len(scraped) == 5:\n",
    "            return {\n",
    "                PRODUCT: product.text,\n",
    "                SEASON_EPISODE: season_episode.text,\n",
    "                DESCRIPTION: scraped[0].text,\n",
    "                ENTREPRENEUR: scraped[1].text,\n",
    "                DEAL_ASKED_FOR: scraped[2].text,\n",
    "                DEAL_GOT: scraped[3].text,\n",
    "                SHARKS: scraped[4].text,\n",
    "                CURRENT_STATUS: \"NA\"\n",
    "            }\n",
    "        "
   ]
  },
  {
   "cell_type": "markdown",
   "metadata": {},
   "source": [
    "Next, we have the actual code that gets all the data! It uses the function defined above."
   ]
  },
  {
   "cell_type": "code",
   "execution_count": 27,
   "metadata": {},
   "outputs": [
    {
     "name": "stdout",
     "output_type": "stream",
     "text": [
      "3 errors:\n",
      "['https://sharktanktales.com/signalvault-update/', 'https://sharktanktales.com/ora-organic-shark-tank-update/', 'https://sharktanktales.com/barbell-apparel-shark-tank-update/']\n",
      "881 products\n",
      "6 copies of products\n"
     ]
    }
   ],
   "source": [
    "shark_tales_season_url_base = 'https://sharktanktales.com/shark-tank-pitches/shark-tank-season-'\n",
    "\n",
    "# use to track errors\n",
    "errors = []\n",
    "num_products_per_season = {}\n",
    "num_products = 0\n",
    "num_product_copies = 0\n",
    "\n",
    "# loop through all seasons\n",
    "for i in range(1, NUM_SEASONS + 1):\n",
    "    season_base_url = shark_tales_season_url_base + str(i)\n",
    "    # get this season's product urls (for each page)\n",
    "    page = 1\n",
    "    \n",
    "    # shark tank tales' website is designed to query for more products when a user scrolls down far enough. this makes it\n",
    "    # hard to scrape -- to solve this, we query for the specific \"scrolling page number\", which is basically how far down\n",
    "    # a user has scrolled. Since we don't know how many pages there are, we have to keep querying until we've reached an\n",
    "    # unreachable \"scrolling page number\" -- at this point, we've reached the end of the season and can break out of the\n",
    "    # while loop to continue onto the next season.\n",
    "    while (True):\n",
    "        # get current season's \"scrolling page\"\n",
    "        season_page_url = season_base_url + '/page/' + str(page) + '/'\n",
    "        season_page = requests.get(season_page_url)\n",
    "        # break if reached end of the season\n",
    "        if (season_page.status_code == 404):\n",
    "            break\n",
    "        \n",
    "        season_page_soup = BeautifulSoup(season_page.content, 'html.parser')\n",
    "        product_urls_html = season_page_soup.find_all('h2', class_=\"entry-title\")\n",
    "\n",
    "        # for each product, get the product's data\n",
    "        for product_url_html in product_urls_html:\n",
    "            url = product_url_html.find('a').get('href')\n",
    "            \n",
    "            # use to keep track of errors\n",
    "            try:\n",
    "                product_dict = get_product_from_url(url)\n",
    "                \n",
    "                # check if there's a copy\n",
    "                if len(immutable_data[immutable_data[PRODUCT] == product_dict[PRODUCT]].index) > 0:\n",
    "                    num_product_copies += 1\n",
    "                    continue\n",
    "                immutable_data = immutable_data.append(product_dict, ignore_index=True)\n",
    "                \n",
    "                # keep a count of the products\n",
    "                num_products_per_season[i] = num_products_per_season.get(i, 0) + 1\n",
    "                num_products += 1\n",
    "            \n",
    "            except:\n",
    "                errors.append(url)\n",
    "                continue\n",
    "            \n",
    "        page += 1\n",
    "\n",
    "# print errors, which will be handled in the process of cleaning data\n",
    "print(str(len(errors)) + ' errors:')\n",
    "print(errors)\n",
    "print(str(num_products) + ' products')\n",
    "print(str(num_product_copies) + ' copies of products')"
   ]
  },
  {
   "cell_type": "code",
   "execution_count": 28,
   "metadata": {},
   "outputs": [],
   "source": [
    "# IMPORTANT: only change data and not immutable_data in following cells! This allows for us to simply reset the dataframe\n",
    "# to immutable_data (e.g. the original copy of data) so that we don't have to rescrape everything\n",
    "df2 = immutable_data.copy(deep = True)"
   ]
  },
  {
   "cell_type": "markdown",
   "metadata": {},
   "source": [
    "Fantastic! We've scraped all of the data but... oh no! We have a few errors. After looking on Shark Tank Tales' website, we learned that these errors were caused by typos. We fixed them by finding the correct data online (googling and watching YouTube videos of the appropriate Shark Tank episodes) and then set them manually:"
   ]
  },
  {
   "cell_type": "code",
   "execution_count": 29,
   "metadata": {},
   "outputs": [],
   "source": [
    "# Add missing data from shark tank tales website (they had website errors)\n",
    "# https://sharktanktales.com/signalvault-update/\n",
    "df2 = df2.append({\n",
    "        PRODUCT: 'signalvault',\n",
    "        SEASON_EPISODE: 'SEASON 7 EPISODE 1',\n",
    "        DESCRIPTION: 'protects your credit and debit card info from being stolen',\n",
    "        ENTREPRENEUR: 'Chris Gilpin',\n",
    "        DEAL_ASKED_FOR: '$200,000 for 12.5%',\n",
    "        DEAL_GOT: '$200,000 for 25%',\n",
    "        SHARKS: 'Lori and Robert',\n",
    "        CURRENT_STATUS: 'IN BUSINESS'\n",
    "    }, ignore_index=True)\n",
    "\n",
    "# https://sharktanktales.com/ora-organic-shark-tank-update/\n",
    "df2 = df2.append({\n",
    "        PRODUCT: 'ora organic',\n",
    "        SEASON_EPISODE: 'SEASON 8 EPISODE 18',\n",
    "        DESCRIPTION: 'sustainable plant-based supplements',\n",
    "        ENTREPRENEUR: 'Will Smelko and Ronald Chang',\n",
    "        DEAL_ASKED_FOR: '$375,000 for 5%',\n",
    "        DEAL_GOT: 'NO DEAL',\n",
    "        SHARKS: 'NO SHARK',\n",
    "        CURRENT_STATUS: 'IN BUSINESS'\n",
    "    }, ignore_index=True)\n",
    "\n",
    "# https://sharktanktales.com/barbell-apparel-shark-tank-update/\n",
    "df2 = df2.append({\n",
    "        PRODUCT: 'BARBELL APPAREL',\n",
    "        SEASON_EPISODE: 'SEASON 8 EPISODE 9',\n",
    "        DESCRIPTION: 'apparel for muscular bodies',\n",
    "        ENTREPRENEUR: 'Hunter Molzen and Alex Hanson',\n",
    "        DEAL_ASKED_FOR: '$500,000 for 5%',\n",
    "        DEAL_GOT: 'NO DEAL',\n",
    "        SHARKS: 'NO SHARK',\n",
    "        CURRENT_STATUS: 'NA'\n",
    "    }, ignore_index=True)"
   ]
  },
  {
   "cell_type": "markdown",
   "metadata": {},
   "source": [
    "#### Cleaning the data\n",
    "\n",
    "Now, we begin the process of cleaning the data we've scraped! Below, we write a function for each portion of the data we want to \"standardize\" (e.g. clean) and then call it on the appropriate data frame column.\n",
    "\n",
    "First, we wrote a function that will be called within each of the standardizing functions (aptly named \"standard_standardize\"). Each of the cells followed are the rest of the standardize functions."
   ]
  },
  {
   "cell_type": "code",
   "execution_count": 30,
   "metadata": {},
   "outputs": [],
   "source": [
    "# Run this before standardizing the data\n",
    "import re\n",
    "\n",
    "# code to run in each standardize function\n",
    "def standard_standardize(string):\n",
    "    string = string.lower()\n",
    "    string = string.strip()\n",
    "    # replace it with the correct dash\n",
    "    string = string.replace('–', '-')\n",
    "    return string"
   ]
  },
  {
   "cell_type": "code",
   "execution_count": 31,
   "metadata": {},
   "outputs": [],
   "source": [
    "# Clean the data\n",
    "def standardize_product(string):\n",
    "    string = standard_standardize(string)\n",
    "    string = string.replace('- update', '')\n",
    "    string = string.replace('-update', '')\n",
    "    string = string.replace('update', '')\n",
    "    string = string.strip()\n",
    "    return string\n",
    "\n",
    "df2[PRODUCT] = df2[PRODUCT].apply(standardize_product)"
   ]
  },
  {
   "cell_type": "code",
   "execution_count": 32,
   "metadata": {},
   "outputs": [],
   "source": [
    "def standardize_season(string):\n",
    "    string = standard_standardize(string)\n",
    "    string = string[string.find('n') + 1: string.find('ep')].strip()\n",
    "    return string\n",
    "\n",
    "df2[SEASON_EPISODE] = df2[SEASON_EPISODE].apply(standardize_season)"
   ]
  },
  {
   "cell_type": "code",
   "execution_count": 33,
   "metadata": {},
   "outputs": [],
   "source": [
    "def standardize_description(string):\n",
    "    string = standard_standardize(string)\n",
    "    return string\n",
    "\n",
    "df2[DESCRIPTION] = df2[DESCRIPTION].apply(standardize_description)"
   ]
  },
  {
   "cell_type": "code",
   "execution_count": 34,
   "metadata": {},
   "outputs": [],
   "source": [
    "def standardize_entrepreneur(string):\n",
    "    string = standard_standardize(string)\n",
    "    # change it to be an array of the entrepreneurs\n",
    "    string_array = [s.strip() for s in re.split('and|,', string)]\n",
    "    return string_array \n",
    "\n",
    "df2[ENTREPRENEUR] = df2[ENTREPRENEUR].apply(standardize_entrepreneur)"
   ]
  },
  {
   "cell_type": "code",
   "execution_count": 35,
   "metadata": {},
   "outputs": [],
   "source": [
    "def standardize_price_for_percentage(string):\n",
    "    string = standard_standardize(string)\n",
    "    split_strings = string.split('for')\n",
    "    no_punc_strings = [s.replace('$', '').replace('%', '').replace(',', '').strip() for s in split_strings]\n",
    "    return no_punc_strings"
   ]
  },
  {
   "cell_type": "code",
   "execution_count": 36,
   "metadata": {},
   "outputs": [],
   "source": [
    "def standardize_asked_for(string):\n",
    "    string = standard_standardize(string)\n",
    "    strings = standardize_price_for_percentage(string)\n",
    "    return strings\n",
    "    \n",
    "df2[DEAL_ASKED_FOR] = df2[DEAL_ASKED_FOR].apply(standardize_asked_for)"
   ]
  },
  {
   "cell_type": "code",
   "execution_count": 37,
   "metadata": {},
   "outputs": [],
   "source": [
    "def standardize_got(string):\n",
    "    string = standard_standardize(string)\n",
    "    if string == \"no deal\":\n",
    "        return string\n",
    "\n",
    "    string = standard_standardize(string)\n",
    "    strings = standardize_price_for_percentage(string)\n",
    "    return strings\n",
    "\n",
    "df2[DEAL_GOT] = df2[DEAL_GOT].apply(standardize_got)"
   ]
  },
  {
   "cell_type": "code",
   "execution_count": 38,
   "metadata": {},
   "outputs": [],
   "source": [
    "def standardize_sharks(string):\n",
    "    string = standard_standardize(string)\n",
    "    if string == 'no shark':\n",
    "        return string\n",
    "\n",
    "    strings = [s.strip() for s in re.split('and|,', string)]\n",
    "    return strings\n",
    "\n",
    "df2[SHARKS] = df2[SHARKS].apply(standardize_sharks)"
   ]
  },
  {
   "cell_type": "code",
   "execution_count": 39,
   "metadata": {},
   "outputs": [],
   "source": [
    "def standardize_status(string):\n",
    "    string = standard_standardize(string)\n",
    "    return string\n",
    "\n",
    "df2[CURRENT_STATUS] = df2[CURRENT_STATUS].apply(standardize_status)"
   ]
  },
  {
   "cell_type": "markdown",
   "metadata": {},
   "source": [
    "We've now correctly standardized all the scraped data! Below we print the head of the dataframe just to make sure that it looks correct."
   ]
  },
  {
   "cell_type": "code",
   "execution_count": 40,
   "metadata": {},
   "outputs": [
    {
     "data": {
      "text/html": [
       "<div>\n",
       "<style scoped>\n",
       "    .dataframe tbody tr th:only-of-type {\n",
       "        vertical-align: middle;\n",
       "    }\n",
       "\n",
       "    .dataframe tbody tr th {\n",
       "        vertical-align: top;\n",
       "    }\n",
       "\n",
       "    .dataframe thead th {\n",
       "        text-align: right;\n",
       "    }\n",
       "</style>\n",
       "<table border=\"1\" class=\"dataframe\">\n",
       "  <thead>\n",
       "    <tr style=\"text-align: right;\">\n",
       "      <th></th>\n",
       "      <th>Product</th>\n",
       "      <th>Season/Episode</th>\n",
       "      <th>Description</th>\n",
       "      <th>Entrepreneur</th>\n",
       "      <th>Deal Asked For</th>\n",
       "      <th>Deal Got</th>\n",
       "      <th>Sharks</th>\n",
       "      <th>Current Status</th>\n",
       "    </tr>\n",
       "  </thead>\n",
       "  <tbody>\n",
       "    <tr>\n",
       "      <th>0</th>\n",
       "      <td>send a ball</td>\n",
       "      <td>1</td>\n",
       "      <td>bouncy ball postcard service</td>\n",
       "      <td>[michele kapustka, melisa moroko]</td>\n",
       "      <td>[86000, 20]</td>\n",
       "      <td>no deal</td>\n",
       "      <td>no shark</td>\n",
       "      <td>in business</td>\n",
       "    </tr>\n",
       "    <tr>\n",
       "      <th>1</th>\n",
       "      <td>pillars of slippers</td>\n",
       "      <td>1</td>\n",
       "      <td>in home shoe shopping experience for women</td>\n",
       "      <td>[nicole jones]</td>\n",
       "      <td>[150000, 15]</td>\n",
       "      <td>no deal</td>\n",
       "      <td>no shark</td>\n",
       "      <td>out of business</td>\n",
       "    </tr>\n",
       "    <tr>\n",
       "      <th>2</th>\n",
       "      <td>qubits - stem building toy set</td>\n",
       "      <td>1</td>\n",
       "      <td>modular construction blocks stem toy</td>\n",
       "      <td>[mark burginger]</td>\n",
       "      <td>[90000, 51]</td>\n",
       "      <td>[90000, 51]</td>\n",
       "      <td>[daymond john]</td>\n",
       "      <td>in business</td>\n",
       "    </tr>\n",
       "    <tr>\n",
       "      <th>3</th>\n",
       "      <td>llama brew</td>\n",
       "      <td>1</td>\n",
       "      <td>liquid llama-based dung fertilizer</td>\n",
       "      <td>[aida lough, phil lough]</td>\n",
       "      <td>[125000, 10]</td>\n",
       "      <td>no deal</td>\n",
       "      <td>no shark</td>\n",
       "      <td>in business</td>\n",
       "    </tr>\n",
       "    <tr>\n",
       "      <th>4</th>\n",
       "      <td>nubrella</td>\n",
       "      <td>1</td>\n",
       "      <td>hands-free umbrella and windbreaker system</td>\n",
       "      <td>[alan kaufman]</td>\n",
       "      <td>[200000, 25]</td>\n",
       "      <td>[200000, 51]</td>\n",
       "      <td>[kevin harrington, daymond john]</td>\n",
       "      <td>in business</td>\n",
       "    </tr>\n",
       "  </tbody>\n",
       "</table>\n",
       "</div>"
      ],
      "text/plain": [
       "                          Product Season/Episode  \\\n",
       "0                     send a ball              1   \n",
       "1             pillars of slippers              1   \n",
       "2  qubits - stem building toy set              1   \n",
       "3                      llama brew              1   \n",
       "4                        nubrella              1   \n",
       "\n",
       "                                  Description  \\\n",
       "0                bouncy ball postcard service   \n",
       "1  in home shoe shopping experience for women   \n",
       "2        modular construction blocks stem toy   \n",
       "3          liquid llama-based dung fertilizer   \n",
       "4  hands-free umbrella and windbreaker system   \n",
       "\n",
       "                        Entrepreneur Deal Asked For      Deal Got  \\\n",
       "0  [michele kapustka, melisa moroko]    [86000, 20]       no deal   \n",
       "1                     [nicole jones]   [150000, 15]       no deal   \n",
       "2                   [mark burginger]    [90000, 51]   [90000, 51]   \n",
       "3           [aida lough, phil lough]   [125000, 10]       no deal   \n",
       "4                     [alan kaufman]   [200000, 25]  [200000, 51]   \n",
       "\n",
       "                             Sharks   Current Status  \n",
       "0                          no shark      in business  \n",
       "1                          no shark  out of business  \n",
       "2                    [daymond john]      in business  \n",
       "3                          no shark      in business  \n",
       "4  [kevin harrington, daymond john]      in business  "
      ]
     },
     "execution_count": 40,
     "metadata": {},
     "output_type": "execute_result"
    }
   ],
   "source": [
    "df2.head()"
   ]
  },
  {
   "cell_type": "markdown",
   "metadata": {},
   "source": [
    "## Third, combine data sets (into a dataframe named df_full)\n",
    "Check if there is any invalid data and clean/fix anything that is incorrect"
   ]
  },
  {
   "cell_type": "markdown",
   "metadata": {},
   "source": [
    "Below, we combine the datasets and also clean the data so that they match eachother.\n",
    "\n",
    "Extra important: We need to make the products match each other perfectly so that we can merge the datasets based on the product name."
   ]
  },
  {
   "cell_type": "code",
   "execution_count": 41,
   "metadata": {},
   "outputs": [],
   "source": [
    "# Create function to standardize the product across both dataframes\n",
    "import string\n",
    "import re\n",
    "def standardize_product(s):\n",
    "    s = s.lower()\n",
    "\n",
    "    s = s.replace(' and ', '')\n",
    "    s = s.replace(' the ', '')\n",
    "    s = s.replace(' ', '')\n",
    "    punc = '''!()-[]{};:'\"\\, <>./?@#$%^&*_~’'''\n",
    "  \n",
    "    for p in punc:  \n",
    "        s = s.replace(p, '') \n",
    "    \n",
    "    return s"
   ]
  },
  {
   "cell_type": "code",
   "execution_count": 42,
   "metadata": {},
   "outputs": [
    {
     "data": {
      "text/html": [
       "<div>\n",
       "<style scoped>\n",
       "    .dataframe tbody tr th:only-of-type {\n",
       "        vertical-align: middle;\n",
       "    }\n",
       "\n",
       "    .dataframe tbody tr th {\n",
       "        vertical-align: top;\n",
       "    }\n",
       "\n",
       "    .dataframe thead th {\n",
       "        text-align: right;\n",
       "    }\n",
       "</style>\n",
       "<table border=\"1\" class=\"dataframe\">\n",
       "  <thead>\n",
       "    <tr style=\"text-align: right;\">\n",
       "      <th></th>\n",
       "      <th>Season</th>\n",
       "      <th>Episode</th>\n",
       "      <th>Company</th>\n",
       "      <th>Deal</th>\n",
       "      <th>Industry</th>\n",
       "      <th>Gender</th>\n",
       "      <th>Ask_amount</th>\n",
       "      <th>Ask_equity</th>\n",
       "      <th>Ask_valuation</th>\n",
       "      <th>Deal_amount</th>\n",
       "      <th>...</th>\n",
       "      <th>Loan</th>\n",
       "      <th>Barbara</th>\n",
       "      <th>Mark</th>\n",
       "      <th>Lori</th>\n",
       "      <th>Robert</th>\n",
       "      <th>Daymond</th>\n",
       "      <th>Kevin</th>\n",
       "      <th>Guest</th>\n",
       "      <th># Sharks</th>\n",
       "      <th>CompanyStandard</th>\n",
       "    </tr>\n",
       "  </thead>\n",
       "  <tbody>\n",
       "    <tr>\n",
       "      <th>0</th>\n",
       "      <td>1.0</td>\n",
       "      <td>1.01</td>\n",
       "      <td>Ava the Elephant</td>\n",
       "      <td>1</td>\n",
       "      <td>0</td>\n",
       "      <td>1</td>\n",
       "      <td>50000</td>\n",
       "      <td>15.0</td>\n",
       "      <td>333333</td>\n",
       "      <td>50000</td>\n",
       "      <td>...</td>\n",
       "      <td>-1</td>\n",
       "      <td>1</td>\n",
       "      <td>0</td>\n",
       "      <td>0</td>\n",
       "      <td>0</td>\n",
       "      <td>0</td>\n",
       "      <td>0</td>\n",
       "      <td>0</td>\n",
       "      <td>1</td>\n",
       "      <td>avaelephant</td>\n",
       "    </tr>\n",
       "    <tr>\n",
       "      <th>1</th>\n",
       "      <td>1.0</td>\n",
       "      <td>1.01</td>\n",
       "      <td>Mr. Tod's Pie Factory</td>\n",
       "      <td>1</td>\n",
       "      <td>1</td>\n",
       "      <td>0</td>\n",
       "      <td>460000</td>\n",
       "      <td>10.0</td>\n",
       "      <td>4600000</td>\n",
       "      <td>460000</td>\n",
       "      <td>...</td>\n",
       "      <td>-1</td>\n",
       "      <td>1</td>\n",
       "      <td>0</td>\n",
       "      <td>0</td>\n",
       "      <td>0</td>\n",
       "      <td>1</td>\n",
       "      <td>0</td>\n",
       "      <td>0</td>\n",
       "      <td>2</td>\n",
       "      <td>mrtodspiefactory</td>\n",
       "    </tr>\n",
       "    <tr>\n",
       "      <th>2</th>\n",
       "      <td>1.0</td>\n",
       "      <td>1.01</td>\n",
       "      <td>Wispots</td>\n",
       "      <td>0</td>\n",
       "      <td>2</td>\n",
       "      <td>0</td>\n",
       "      <td>-1</td>\n",
       "      <td>-1.0</td>\n",
       "      <td>-1</td>\n",
       "      <td>-1</td>\n",
       "      <td>...</td>\n",
       "      <td>-1</td>\n",
       "      <td>0</td>\n",
       "      <td>0</td>\n",
       "      <td>0</td>\n",
       "      <td>0</td>\n",
       "      <td>0</td>\n",
       "      <td>0</td>\n",
       "      <td>0</td>\n",
       "      <td>0</td>\n",
       "      <td>wispots</td>\n",
       "    </tr>\n",
       "    <tr>\n",
       "      <th>3</th>\n",
       "      <td>1.0</td>\n",
       "      <td>1.01</td>\n",
       "      <td>College Foxes Packing Boxes</td>\n",
       "      <td>0</td>\n",
       "      <td>3</td>\n",
       "      <td>0</td>\n",
       "      <td>-1</td>\n",
       "      <td>-1.0</td>\n",
       "      <td>-1</td>\n",
       "      <td>-1</td>\n",
       "      <td>...</td>\n",
       "      <td>-1</td>\n",
       "      <td>0</td>\n",
       "      <td>0</td>\n",
       "      <td>0</td>\n",
       "      <td>0</td>\n",
       "      <td>0</td>\n",
       "      <td>0</td>\n",
       "      <td>0</td>\n",
       "      <td>0</td>\n",
       "      <td>collegefoxespackingboxes</td>\n",
       "    </tr>\n",
       "    <tr>\n",
       "      <th>4</th>\n",
       "      <td>1.0</td>\n",
       "      <td>1.01</td>\n",
       "      <td>Ionic Ear</td>\n",
       "      <td>0</td>\n",
       "      <td>4</td>\n",
       "      <td>0</td>\n",
       "      <td>-1</td>\n",
       "      <td>-1.0</td>\n",
       "      <td>-1</td>\n",
       "      <td>-1</td>\n",
       "      <td>...</td>\n",
       "      <td>-1</td>\n",
       "      <td>0</td>\n",
       "      <td>0</td>\n",
       "      <td>0</td>\n",
       "      <td>0</td>\n",
       "      <td>0</td>\n",
       "      <td>0</td>\n",
       "      <td>0</td>\n",
       "      <td>0</td>\n",
       "      <td>ionicear</td>\n",
       "    </tr>\n",
       "    <tr>\n",
       "      <th>...</th>\n",
       "      <td>...</td>\n",
       "      <td>...</td>\n",
       "      <td>...</td>\n",
       "      <td>...</td>\n",
       "      <td>...</td>\n",
       "      <td>...</td>\n",
       "      <td>...</td>\n",
       "      <td>...</td>\n",
       "      <td>...</td>\n",
       "      <td>...</td>\n",
       "      <td>...</td>\n",
       "      <td>...</td>\n",
       "      <td>...</td>\n",
       "      <td>...</td>\n",
       "      <td>...</td>\n",
       "      <td>...</td>\n",
       "      <td>...</td>\n",
       "      <td>...</td>\n",
       "      <td>...</td>\n",
       "      <td>...</td>\n",
       "      <td>...</td>\n",
       "    </tr>\n",
       "    <tr>\n",
       "      <th>890</th>\n",
       "      <td>10.0</td>\n",
       "      <td>10.22</td>\n",
       "      <td>Cubicall</td>\n",
       "      <td>1</td>\n",
       "      <td>3</td>\n",
       "      <td>0</td>\n",
       "      <td>350000</td>\n",
       "      <td>10.0</td>\n",
       "      <td>3500000</td>\n",
       "      <td>350000</td>\n",
       "      <td>...</td>\n",
       "      <td>-1</td>\n",
       "      <td>1</td>\n",
       "      <td>0</td>\n",
       "      <td>0</td>\n",
       "      <td>0</td>\n",
       "      <td>0</td>\n",
       "      <td>0</td>\n",
       "      <td>0</td>\n",
       "      <td>1</td>\n",
       "      <td>cubicall</td>\n",
       "    </tr>\n",
       "    <tr>\n",
       "      <th>891</th>\n",
       "      <td>10.0</td>\n",
       "      <td>10.23</td>\n",
       "      <td>Fat Shack</td>\n",
       "      <td>1</td>\n",
       "      <td>1</td>\n",
       "      <td>0</td>\n",
       "      <td>250000</td>\n",
       "      <td>7.5</td>\n",
       "      <td>3333333</td>\n",
       "      <td>250000</td>\n",
       "      <td>...</td>\n",
       "      <td>-1</td>\n",
       "      <td>0</td>\n",
       "      <td>1</td>\n",
       "      <td>0</td>\n",
       "      <td>0</td>\n",
       "      <td>0</td>\n",
       "      <td>0</td>\n",
       "      <td>0</td>\n",
       "      <td>1</td>\n",
       "      <td>fatshack</td>\n",
       "    </tr>\n",
       "    <tr>\n",
       "      <th>892</th>\n",
       "      <td>10.0</td>\n",
       "      <td>10.23</td>\n",
       "      <td>Quickflip</td>\n",
       "      <td>1</td>\n",
       "      <td>7</td>\n",
       "      <td>0</td>\n",
       "      <td>500000</td>\n",
       "      <td>5.0</td>\n",
       "      <td>10000000</td>\n",
       "      <td>500000</td>\n",
       "      <td>...</td>\n",
       "      <td>-1</td>\n",
       "      <td>0</td>\n",
       "      <td>0</td>\n",
       "      <td>1</td>\n",
       "      <td>0</td>\n",
       "      <td>0</td>\n",
       "      <td>0</td>\n",
       "      <td>0</td>\n",
       "      <td>1</td>\n",
       "      <td>quickflip</td>\n",
       "    </tr>\n",
       "    <tr>\n",
       "      <th>893</th>\n",
       "      <td>10.0</td>\n",
       "      <td>10.23</td>\n",
       "      <td>BatBnB</td>\n",
       "      <td>1</td>\n",
       "      <td>3</td>\n",
       "      <td>0</td>\n",
       "      <td>100000</td>\n",
       "      <td>16.0</td>\n",
       "      <td>625000</td>\n",
       "      <td>100000</td>\n",
       "      <td>...</td>\n",
       "      <td>-1</td>\n",
       "      <td>0</td>\n",
       "      <td>0</td>\n",
       "      <td>0</td>\n",
       "      <td>0</td>\n",
       "      <td>0</td>\n",
       "      <td>1</td>\n",
       "      <td>0</td>\n",
       "      <td>1</td>\n",
       "      <td>batbnb</td>\n",
       "    </tr>\n",
       "    <tr>\n",
       "      <th>894</th>\n",
       "      <td>10.0</td>\n",
       "      <td>10.23</td>\n",
       "      <td>CoyoteVest</td>\n",
       "      <td>0</td>\n",
       "      <td>10</td>\n",
       "      <td>2</td>\n",
       "      <td>250000</td>\n",
       "      <td>10.0</td>\n",
       "      <td>-1</td>\n",
       "      <td>-1</td>\n",
       "      <td>...</td>\n",
       "      <td>-1</td>\n",
       "      <td>0</td>\n",
       "      <td>0</td>\n",
       "      <td>0</td>\n",
       "      <td>0</td>\n",
       "      <td>0</td>\n",
       "      <td>0</td>\n",
       "      <td>0</td>\n",
       "      <td>0</td>\n",
       "      <td>coyotevest</td>\n",
       "    </tr>\n",
       "  </tbody>\n",
       "</table>\n",
       "<p>895 rows × 23 columns</p>\n",
       "</div>"
      ],
      "text/plain": [
       "     Season  Episode                      Company  Deal  Industry  Gender  \\\n",
       "0       1.0     1.01             Ava the Elephant     1         0       1   \n",
       "1       1.0     1.01        Mr. Tod's Pie Factory     1         1       0   \n",
       "2       1.0     1.01                      Wispots     0         2       0   \n",
       "3       1.0     1.01  College Foxes Packing Boxes     0         3       0   \n",
       "4       1.0     1.01                    Ionic Ear     0         4       0   \n",
       "..      ...      ...                          ...   ...       ...     ...   \n",
       "890    10.0    10.22                     Cubicall     1         3       0   \n",
       "891    10.0    10.23                    Fat Shack     1         1       0   \n",
       "892    10.0    10.23                    Quickflip     1         7       0   \n",
       "893    10.0    10.23                       BatBnB     1         3       0   \n",
       "894    10.0    10.23                   CoyoteVest     0        10       2   \n",
       "\n",
       "     Ask_amount  Ask_equity  Ask_valuation  Deal_amount  ...  Loan  Barbara  \\\n",
       "0         50000        15.0         333333        50000  ...    -1        1   \n",
       "1        460000        10.0        4600000       460000  ...    -1        1   \n",
       "2            -1        -1.0             -1           -1  ...    -1        0   \n",
       "3            -1        -1.0             -1           -1  ...    -1        0   \n",
       "4            -1        -1.0             -1           -1  ...    -1        0   \n",
       "..          ...         ...            ...          ...  ...   ...      ...   \n",
       "890      350000        10.0        3500000       350000  ...    -1        1   \n",
       "891      250000         7.5        3333333       250000  ...    -1        0   \n",
       "892      500000         5.0       10000000       500000  ...    -1        0   \n",
       "893      100000        16.0         625000       100000  ...    -1        0   \n",
       "894      250000        10.0             -1           -1  ...    -1        0   \n",
       "\n",
       "     Mark  Lori  Robert  Daymond  Kevin  Guest  # Sharks  \\\n",
       "0       0     0       0        0      0      0         1   \n",
       "1       0     0       0        1      0      0         2   \n",
       "2       0     0       0        0      0      0         0   \n",
       "3       0     0       0        0      0      0         0   \n",
       "4       0     0       0        0      0      0         0   \n",
       "..    ...   ...     ...      ...    ...    ...       ...   \n",
       "890     0     0       0        0      0      0         1   \n",
       "891     1     0       0        0      0      0         1   \n",
       "892     0     1       0        0      0      0         1   \n",
       "893     0     0       0        0      1      0         1   \n",
       "894     0     0       0        0      0      0         0   \n",
       "\n",
       "              CompanyStandard  \n",
       "0                 avaelephant  \n",
       "1            mrtodspiefactory  \n",
       "2                     wispots  \n",
       "3    collegefoxespackingboxes  \n",
       "4                    ionicear  \n",
       "..                        ...  \n",
       "890                  cubicall  \n",
       "891                  fatshack  \n",
       "892                 quickflip  \n",
       "893                    batbnb  \n",
       "894                coyotevest  \n",
       "\n",
       "[895 rows x 23 columns]"
      ]
     },
     "execution_count": 42,
     "metadata": {},
     "output_type": "execute_result"
    }
   ],
   "source": [
    "# First apply the standardize function to Halle's dataframe\n",
    "df['CompanyStandard'] = df['Company'].apply(standardize_product)\n",
    "df"
   ]
  },
  {
   "cell_type": "code",
   "execution_count": 43,
   "metadata": {},
   "outputs": [
    {
     "data": {
      "text/html": [
       "<div>\n",
       "<style scoped>\n",
       "    .dataframe tbody tr th:only-of-type {\n",
       "        vertical-align: middle;\n",
       "    }\n",
       "\n",
       "    .dataframe tbody tr th {\n",
       "        vertical-align: top;\n",
       "    }\n",
       "\n",
       "    .dataframe thead th {\n",
       "        text-align: right;\n",
       "    }\n",
       "</style>\n",
       "<table border=\"1\" class=\"dataframe\">\n",
       "  <thead>\n",
       "    <tr style=\"text-align: right;\">\n",
       "      <th></th>\n",
       "      <th>Product</th>\n",
       "      <th>Deal Asked For</th>\n",
       "      <th>Deal Got</th>\n",
       "      <th>Current Status</th>\n",
       "      <th>ProductStandard</th>\n",
       "    </tr>\n",
       "  </thead>\n",
       "  <tbody>\n",
       "    <tr>\n",
       "      <th>0</th>\n",
       "      <td>send a ball</td>\n",
       "      <td>[86000, 20]</td>\n",
       "      <td>no deal</td>\n",
       "      <td>in business</td>\n",
       "      <td>sendaball</td>\n",
       "    </tr>\n",
       "    <tr>\n",
       "      <th>1</th>\n",
       "      <td>pillars of slippers</td>\n",
       "      <td>[150000, 15]</td>\n",
       "      <td>no deal</td>\n",
       "      <td>out of business</td>\n",
       "      <td>pillarsofslippers</td>\n",
       "    </tr>\n",
       "    <tr>\n",
       "      <th>2</th>\n",
       "      <td>qubits - stem building toy set</td>\n",
       "      <td>[90000, 51]</td>\n",
       "      <td>[90000, 51]</td>\n",
       "      <td>in business</td>\n",
       "      <td>qubitsstembuildingtoyset</td>\n",
       "    </tr>\n",
       "    <tr>\n",
       "      <th>3</th>\n",
       "      <td>llama brew</td>\n",
       "      <td>[125000, 10]</td>\n",
       "      <td>no deal</td>\n",
       "      <td>in business</td>\n",
       "      <td>llamabrew</td>\n",
       "    </tr>\n",
       "    <tr>\n",
       "      <th>4</th>\n",
       "      <td>nubrella</td>\n",
       "      <td>[200000, 25]</td>\n",
       "      <td>[200000, 51]</td>\n",
       "      <td>in business</td>\n",
       "      <td>nubrella</td>\n",
       "    </tr>\n",
       "    <tr>\n",
       "      <th>...</th>\n",
       "      <td>...</td>\n",
       "      <td>...</td>\n",
       "      <td>...</td>\n",
       "      <td>...</td>\n",
       "      <td>...</td>\n",
       "    </tr>\n",
       "    <tr>\n",
       "      <th>879</th>\n",
       "      <td>bear minimum</td>\n",
       "      <td>[100000, 20]</td>\n",
       "      <td>[100000, 25]</td>\n",
       "      <td>in business</td>\n",
       "      <td>bearminimum</td>\n",
       "    </tr>\n",
       "    <tr>\n",
       "      <th>880</th>\n",
       "      <td>boxlock</td>\n",
       "      <td>[1000000, 5]</td>\n",
       "      <td>no deal</td>\n",
       "      <td>in business</td>\n",
       "      <td>boxlock</td>\n",
       "    </tr>\n",
       "    <tr>\n",
       "      <th>881</th>\n",
       "      <td>signalvault</td>\n",
       "      <td>[200000, 12.5]</td>\n",
       "      <td>[200000, 25]</td>\n",
       "      <td>in business</td>\n",
       "      <td>signalvault</td>\n",
       "    </tr>\n",
       "    <tr>\n",
       "      <th>882</th>\n",
       "      <td>ora organic</td>\n",
       "      <td>[375000, 5]</td>\n",
       "      <td>no deal</td>\n",
       "      <td>in business</td>\n",
       "      <td>oraorganic</td>\n",
       "    </tr>\n",
       "    <tr>\n",
       "      <th>883</th>\n",
       "      <td>barbell apparel</td>\n",
       "      <td>[500000, 5]</td>\n",
       "      <td>no deal</td>\n",
       "      <td>na</td>\n",
       "      <td>barbellapparel</td>\n",
       "    </tr>\n",
       "  </tbody>\n",
       "</table>\n",
       "<p>884 rows × 5 columns</p>\n",
       "</div>"
      ],
      "text/plain": [
       "                            Product  Deal Asked For      Deal Got  \\\n",
       "0                       send a ball     [86000, 20]       no deal   \n",
       "1               pillars of slippers    [150000, 15]       no deal   \n",
       "2    qubits - stem building toy set     [90000, 51]   [90000, 51]   \n",
       "3                        llama brew    [125000, 10]       no deal   \n",
       "4                          nubrella    [200000, 25]  [200000, 51]   \n",
       "..                              ...             ...           ...   \n",
       "879                    bear minimum    [100000, 20]  [100000, 25]   \n",
       "880                         boxlock    [1000000, 5]       no deal   \n",
       "881                     signalvault  [200000, 12.5]  [200000, 25]   \n",
       "882                     ora organic     [375000, 5]       no deal   \n",
       "883                 barbell apparel     [500000, 5]       no deal   \n",
       "\n",
       "      Current Status           ProductStandard  \n",
       "0        in business                 sendaball  \n",
       "1    out of business         pillarsofslippers  \n",
       "2        in business  qubitsstembuildingtoyset  \n",
       "3        in business                 llamabrew  \n",
       "4        in business                  nubrella  \n",
       "..               ...                       ...  \n",
       "879      in business               bearminimum  \n",
       "880      in business                   boxlock  \n",
       "881      in business               signalvault  \n",
       "882      in business                oraorganic  \n",
       "883               na            barbellapparel  \n",
       "\n",
       "[884 rows x 5 columns]"
      ]
     },
     "execution_count": 43,
     "metadata": {},
     "output_type": "execute_result"
    }
   ],
   "source": [
    "# Then apply the standardize function to our scraped data\n",
    "df2['ProductStandard'] = df2['Product'].apply(standardize_product)\n",
    "# Also drop the repeated and unnecessary collected data\n",
    "df2 = df2.drop(columns=[\"Season/Episode\", \"Description\", \"Entrepreneur\", \"Sharks\"])\n",
    "df2 = df2.reset_index(drop=True)\n",
    "df2"
   ]
  },
  {
   "cell_type": "code",
   "execution_count": 44,
   "metadata": {},
   "outputs": [],
   "source": [
    "#find similar products\n",
    "for i, product1 in enumerate(df2['ProductStandard']):\n",
    "    found = False\n",
    "    for product in df['CompanyStandard']:\n",
    "        if product in product1:\n",
    "            if product!=product1:\n",
    "                df2.iloc[i, df2.columns.get_loc('ProductStandard')] = product\n",
    "            found = True\n",
    "            break"
   ]
  },
  {
   "cell_type": "code",
   "execution_count": 45,
   "metadata": {},
   "outputs": [
    {
     "data": {
      "text/plain": [
       "(740, 28)"
      ]
     },
     "execution_count": 45,
     "metadata": {},
     "output_type": "execute_result"
    }
   ],
   "source": [
    "df_full = df.merge(df2, how='inner', left_on='CompanyStandard', right_on=\"ProductStandard\")\n",
    "df_full.shape"
   ]
  },
  {
   "cell_type": "code",
   "execution_count": 46,
   "metadata": {},
   "outputs": [
    {
     "data": {
      "text/plain": [
       "array(['Season', 'Episode', 'Company', 'Deal', 'Industry', 'Gender',\n",
       "       'Ask_amount', 'Ask_equity', 'Ask_valuation', 'Deal_amount',\n",
       "       'Deal_equity', 'Deal_valuation', 'Royalty', 'Loan', 'Barbara',\n",
       "       'Mark', 'Lori', 'Robert', 'Daymond', 'Kevin', 'Guest', '# Sharks',\n",
       "       'CompanyStandard', 'Product', 'Deal Asked For', 'Deal Got',\n",
       "       'Current Status', 'ProductStandard'], dtype=object)"
      ]
     },
     "execution_count": 46,
     "metadata": {},
     "output_type": "execute_result"
    }
   ],
   "source": [
    "df_full.columns.values"
   ]
  },
  {
   "cell_type": "code",
   "execution_count": 47,
   "metadata": {},
   "outputs": [
    {
     "data": {
      "text/html": [
       "<div>\n",
       "<style scoped>\n",
       "    .dataframe tbody tr th:only-of-type {\n",
       "        vertical-align: middle;\n",
       "    }\n",
       "\n",
       "    .dataframe tbody tr th {\n",
       "        vertical-align: top;\n",
       "    }\n",
       "\n",
       "    .dataframe thead th {\n",
       "        text-align: right;\n",
       "    }\n",
       "</style>\n",
       "<table border=\"1\" class=\"dataframe\">\n",
       "  <thead>\n",
       "    <tr style=\"text-align: right;\">\n",
       "      <th></th>\n",
       "      <th>Season</th>\n",
       "      <th>Company</th>\n",
       "      <th>Deal</th>\n",
       "      <th>Industry</th>\n",
       "      <th>Gender</th>\n",
       "      <th>Ask_amount</th>\n",
       "      <th>Ask_equity</th>\n",
       "      <th>Ask_valuation</th>\n",
       "      <th>Deal_amount</th>\n",
       "      <th>Deal_equity</th>\n",
       "      <th>...</th>\n",
       "      <th>Mark</th>\n",
       "      <th>Lori</th>\n",
       "      <th>Robert</th>\n",
       "      <th>Daymond</th>\n",
       "      <th>Kevin</th>\n",
       "      <th>Guest</th>\n",
       "      <th># Sharks</th>\n",
       "      <th>Deal Asked For</th>\n",
       "      <th>Deal Got</th>\n",
       "      <th>Current Status</th>\n",
       "    </tr>\n",
       "  </thead>\n",
       "  <tbody>\n",
       "    <tr>\n",
       "      <th>0</th>\n",
       "      <td>1.0</td>\n",
       "      <td>Ava the Elephant</td>\n",
       "      <td>1</td>\n",
       "      <td>0</td>\n",
       "      <td>1</td>\n",
       "      <td>50000</td>\n",
       "      <td>15.0</td>\n",
       "      <td>333333</td>\n",
       "      <td>50000</td>\n",
       "      <td>55.0</td>\n",
       "      <td>...</td>\n",
       "      <td>0</td>\n",
       "      <td>0</td>\n",
       "      <td>0</td>\n",
       "      <td>0</td>\n",
       "      <td>0</td>\n",
       "      <td>0</td>\n",
       "      <td>1</td>\n",
       "      <td>[50000, 15]</td>\n",
       "      <td>[50000, 55]</td>\n",
       "      <td>in business</td>\n",
       "    </tr>\n",
       "    <tr>\n",
       "      <th>1</th>\n",
       "      <td>1.0</td>\n",
       "      <td>Wispots</td>\n",
       "      <td>0</td>\n",
       "      <td>2</td>\n",
       "      <td>0</td>\n",
       "      <td>-1</td>\n",
       "      <td>-1.0</td>\n",
       "      <td>-1</td>\n",
       "      <td>-1</td>\n",
       "      <td>-1.0</td>\n",
       "      <td>...</td>\n",
       "      <td>0</td>\n",
       "      <td>0</td>\n",
       "      <td>0</td>\n",
       "      <td>0</td>\n",
       "      <td>0</td>\n",
       "      <td>0</td>\n",
       "      <td>0</td>\n",
       "      <td>[1200000, 10]</td>\n",
       "      <td>no deal</td>\n",
       "      <td>out of business</td>\n",
       "    </tr>\n",
       "    <tr>\n",
       "      <th>2</th>\n",
       "      <td>1.0</td>\n",
       "      <td>College Foxes Packing Boxes</td>\n",
       "      <td>0</td>\n",
       "      <td>3</td>\n",
       "      <td>0</td>\n",
       "      <td>-1</td>\n",
       "      <td>-1.0</td>\n",
       "      <td>-1</td>\n",
       "      <td>-1</td>\n",
       "      <td>-1.0</td>\n",
       "      <td>...</td>\n",
       "      <td>0</td>\n",
       "      <td>0</td>\n",
       "      <td>0</td>\n",
       "      <td>0</td>\n",
       "      <td>0</td>\n",
       "      <td>0</td>\n",
       "      <td>0</td>\n",
       "      <td>[250000, 25]</td>\n",
       "      <td>no deal</td>\n",
       "      <td>in business</td>\n",
       "    </tr>\n",
       "    <tr>\n",
       "      <th>3</th>\n",
       "      <td>1.0</td>\n",
       "      <td>Ionic Ear</td>\n",
       "      <td>0</td>\n",
       "      <td>4</td>\n",
       "      <td>0</td>\n",
       "      <td>-1</td>\n",
       "      <td>-1.0</td>\n",
       "      <td>-1</td>\n",
       "      <td>-1</td>\n",
       "      <td>-1.0</td>\n",
       "      <td>...</td>\n",
       "      <td>0</td>\n",
       "      <td>0</td>\n",
       "      <td>0</td>\n",
       "      <td>0</td>\n",
       "      <td>0</td>\n",
       "      <td>0</td>\n",
       "      <td>0</td>\n",
       "      <td>[1000000, 15]</td>\n",
       "      <td>no deal</td>\n",
       "      <td>out of business</td>\n",
       "    </tr>\n",
       "    <tr>\n",
       "      <th>4</th>\n",
       "      <td>1.0</td>\n",
       "      <td>A Perfect Pear</td>\n",
       "      <td>1</td>\n",
       "      <td>1</td>\n",
       "      <td>1</td>\n",
       "      <td>-1</td>\n",
       "      <td>-1.0</td>\n",
       "      <td>-1</td>\n",
       "      <td>500000</td>\n",
       "      <td>50.0</td>\n",
       "      <td>...</td>\n",
       "      <td>0</td>\n",
       "      <td>0</td>\n",
       "      <td>1</td>\n",
       "      <td>0</td>\n",
       "      <td>1</td>\n",
       "      <td>0</td>\n",
       "      <td>2</td>\n",
       "      <td>[500000, 15]</td>\n",
       "      <td>[500000, 50]</td>\n",
       "      <td>out of business</td>\n",
       "    </tr>\n",
       "    <tr>\n",
       "      <th>...</th>\n",
       "      <td>...</td>\n",
       "      <td>...</td>\n",
       "      <td>...</td>\n",
       "      <td>...</td>\n",
       "      <td>...</td>\n",
       "      <td>...</td>\n",
       "      <td>...</td>\n",
       "      <td>...</td>\n",
       "      <td>...</td>\n",
       "      <td>...</td>\n",
       "      <td>...</td>\n",
       "      <td>...</td>\n",
       "      <td>...</td>\n",
       "      <td>...</td>\n",
       "      <td>...</td>\n",
       "      <td>...</td>\n",
       "      <td>...</td>\n",
       "      <td>...</td>\n",
       "      <td>...</td>\n",
       "      <td>...</td>\n",
       "      <td>...</td>\n",
       "    </tr>\n",
       "    <tr>\n",
       "      <th>735</th>\n",
       "      <td>10.0</td>\n",
       "      <td>DoughP</td>\n",
       "      <td>0</td>\n",
       "      <td>1</td>\n",
       "      <td>1</td>\n",
       "      <td>450000</td>\n",
       "      <td>10.0</td>\n",
       "      <td>4500000</td>\n",
       "      <td>-1</td>\n",
       "      <td>-1.0</td>\n",
       "      <td>...</td>\n",
       "      <td>0</td>\n",
       "      <td>0</td>\n",
       "      <td>0</td>\n",
       "      <td>0</td>\n",
       "      <td>0</td>\n",
       "      <td>0</td>\n",
       "      <td>0</td>\n",
       "      <td>[450000, 10]</td>\n",
       "      <td>no deal</td>\n",
       "      <td>in business</td>\n",
       "    </tr>\n",
       "    <tr>\n",
       "      <th>736</th>\n",
       "      <td>10.0</td>\n",
       "      <td>Cubicall</td>\n",
       "      <td>1</td>\n",
       "      <td>3</td>\n",
       "      <td>0</td>\n",
       "      <td>350000</td>\n",
       "      <td>10.0</td>\n",
       "      <td>3500000</td>\n",
       "      <td>350000</td>\n",
       "      <td>25.0</td>\n",
       "      <td>...</td>\n",
       "      <td>0</td>\n",
       "      <td>0</td>\n",
       "      <td>0</td>\n",
       "      <td>0</td>\n",
       "      <td>0</td>\n",
       "      <td>0</td>\n",
       "      <td>1</td>\n",
       "      <td>[350000, 10]</td>\n",
       "      <td>[350000, 25]</td>\n",
       "      <td>in business</td>\n",
       "    </tr>\n",
       "    <tr>\n",
       "      <th>737</th>\n",
       "      <td>10.0</td>\n",
       "      <td>Fat Shack</td>\n",
       "      <td>1</td>\n",
       "      <td>1</td>\n",
       "      <td>0</td>\n",
       "      <td>250000</td>\n",
       "      <td>7.5</td>\n",
       "      <td>3333333</td>\n",
       "      <td>250000</td>\n",
       "      <td>15.0</td>\n",
       "      <td>...</td>\n",
       "      <td>1</td>\n",
       "      <td>0</td>\n",
       "      <td>0</td>\n",
       "      <td>0</td>\n",
       "      <td>0</td>\n",
       "      <td>0</td>\n",
       "      <td>1</td>\n",
       "      <td>[250000, 7.5]</td>\n",
       "      <td>[250000, 15]</td>\n",
       "      <td>in business</td>\n",
       "    </tr>\n",
       "    <tr>\n",
       "      <th>738</th>\n",
       "      <td>10.0</td>\n",
       "      <td>BatBnB</td>\n",
       "      <td>1</td>\n",
       "      <td>3</td>\n",
       "      <td>0</td>\n",
       "      <td>100000</td>\n",
       "      <td>16.0</td>\n",
       "      <td>625000</td>\n",
       "      <td>100000</td>\n",
       "      <td>33.3</td>\n",
       "      <td>...</td>\n",
       "      <td>0</td>\n",
       "      <td>0</td>\n",
       "      <td>0</td>\n",
       "      <td>0</td>\n",
       "      <td>1</td>\n",
       "      <td>0</td>\n",
       "      <td>1</td>\n",
       "      <td>[100000, 16]</td>\n",
       "      <td>[100000, 33.3]</td>\n",
       "      <td>in business</td>\n",
       "    </tr>\n",
       "    <tr>\n",
       "      <th>739</th>\n",
       "      <td>10.0</td>\n",
       "      <td>CoyoteVest</td>\n",
       "      <td>0</td>\n",
       "      <td>10</td>\n",
       "      <td>2</td>\n",
       "      <td>250000</td>\n",
       "      <td>10.0</td>\n",
       "      <td>-1</td>\n",
       "      <td>-1</td>\n",
       "      <td>-1.0</td>\n",
       "      <td>...</td>\n",
       "      <td>0</td>\n",
       "      <td>0</td>\n",
       "      <td>0</td>\n",
       "      <td>0</td>\n",
       "      <td>0</td>\n",
       "      <td>0</td>\n",
       "      <td>0</td>\n",
       "      <td>[250000, 10]</td>\n",
       "      <td>no deal</td>\n",
       "      <td>in business</td>\n",
       "    </tr>\n",
       "  </tbody>\n",
       "</table>\n",
       "<p>740 rows × 24 columns</p>\n",
       "</div>"
      ],
      "text/plain": [
       "     Season                      Company  Deal  Industry  Gender  Ask_amount  \\\n",
       "0       1.0             Ava the Elephant     1         0       1       50000   \n",
       "1       1.0                      Wispots     0         2       0          -1   \n",
       "2       1.0  College Foxes Packing Boxes     0         3       0          -1   \n",
       "3       1.0                    Ionic Ear     0         4       0          -1   \n",
       "4       1.0               A Perfect Pear     1         1       1          -1   \n",
       "..      ...                          ...   ...       ...     ...         ...   \n",
       "735    10.0                       DoughP     0         1       1      450000   \n",
       "736    10.0                     Cubicall     1         3       0      350000   \n",
       "737    10.0                    Fat Shack     1         1       0      250000   \n",
       "738    10.0                       BatBnB     1         3       0      100000   \n",
       "739    10.0                   CoyoteVest     0        10       2      250000   \n",
       "\n",
       "     Ask_equity  Ask_valuation  Deal_amount  Deal_equity  ...  Mark  Lori  \\\n",
       "0          15.0         333333        50000         55.0  ...     0     0   \n",
       "1          -1.0             -1           -1         -1.0  ...     0     0   \n",
       "2          -1.0             -1           -1         -1.0  ...     0     0   \n",
       "3          -1.0             -1           -1         -1.0  ...     0     0   \n",
       "4          -1.0             -1       500000         50.0  ...     0     0   \n",
       "..          ...            ...          ...          ...  ...   ...   ...   \n",
       "735        10.0        4500000           -1         -1.0  ...     0     0   \n",
       "736        10.0        3500000       350000         25.0  ...     0     0   \n",
       "737         7.5        3333333       250000         15.0  ...     1     0   \n",
       "738        16.0         625000       100000         33.3  ...     0     0   \n",
       "739        10.0             -1           -1         -1.0  ...     0     0   \n",
       "\n",
       "     Robert  Daymond  Kevin  Guest  # Sharks  Deal Asked For        Deal Got  \\\n",
       "0         0        0      0      0         1     [50000, 15]     [50000, 55]   \n",
       "1         0        0      0      0         0   [1200000, 10]         no deal   \n",
       "2         0        0      0      0         0    [250000, 25]         no deal   \n",
       "3         0        0      0      0         0   [1000000, 15]         no deal   \n",
       "4         1        0      1      0         2    [500000, 15]    [500000, 50]   \n",
       "..      ...      ...    ...    ...       ...             ...             ...   \n",
       "735       0        0      0      0         0    [450000, 10]         no deal   \n",
       "736       0        0      0      0         1    [350000, 10]    [350000, 25]   \n",
       "737       0        0      0      0         1   [250000, 7.5]    [250000, 15]   \n",
       "738       0        0      1      0         1    [100000, 16]  [100000, 33.3]   \n",
       "739       0        0      0      0         0    [250000, 10]         no deal   \n",
       "\n",
       "      Current Status  \n",
       "0        in business  \n",
       "1    out of business  \n",
       "2        in business  \n",
       "3    out of business  \n",
       "4    out of business  \n",
       "..               ...  \n",
       "735      in business  \n",
       "736      in business  \n",
       "737      in business  \n",
       "738      in business  \n",
       "739      in business  \n",
       "\n",
       "[740 rows x 24 columns]"
      ]
     },
     "execution_count": 47,
     "metadata": {},
     "output_type": "execute_result"
    }
   ],
   "source": [
    "df_full = df_full.drop(columns=[\"Product\", \"Episode\", \"CompanyStandard\", \"ProductStandard\"])\n",
    "df_full = df_full.reset_index(drop=True)\n",
    "df_full"
   ]
  },
  {
   "cell_type": "code",
   "execution_count": 49,
   "metadata": {},
   "outputs": [],
   "source": [
    "warnings.filterwarnings('ignore')\n",
    "#fill in ask_amount\n",
    "for i in range(len(df_full)):\n",
    "    if df_full.loc[i, 'Ask_amount']==-1:\n",
    "        ask_amount = df_full.loc[i,'Deal Asked For']\n",
    "        try:\n",
    "            df_full.loc[i,'Ask_amount']=int(ask_amount[0])\n",
    "        except:\n",
    "            if ask_amount=='':\n",
    "                df_full.loc[i,'Ask_amount'] = -1\n",
    "            #handle specific cases\n",
    "            elif ask_amount[0] == '200k':\n",
    "                df_full.loc[i,'Ask_amount'] = 200000\n",
    "            elif ask_amount[0] == '250k':\n",
    "                df_full.loc[i,'Ask_amount'] = 250000\n",
    "            elif '9000' in ask_amount[0]:\n",
    "                df_full.loc[i,'Ask_amount'] = 9000\n",
    "            elif 'mil' in ask_amount[0]:\n",
    "                df_full.loc[i,'Ask_amount'] = 5000000"
   ]
  },
  {
   "cell_type": "code",
   "execution_count": 50,
   "metadata": {},
   "outputs": [],
   "source": [
    "warnings.filterwarnings('ignore')\n",
    "#fill in ask_equity\n",
    "for i in range(len(df_full)):\n",
    "    if df_full.loc[i, 'Ask_equity']==-1:\n",
    "        ask_equity = df_full.loc[i,'Deal Asked For']\n",
    "        try:\n",
    "            df_full.loc[i,'Ask_equity']=int(ask_equity[1])\n",
    "        except:\n",
    "            if ask_equity[0]=='':\n",
    "                df_full.loc[i,'Ask_equity'] = -1\n",
    "            elif '15' in ask_equity[0]:\n",
    "                df_full.loc[i,'Ask_equity'] = 15\n",
    "            elif ask_equity[1] =='a 20':\n",
    "                df_full.loc[i,'Ask_equity'] = 20\n",
    "            elif ask_equity[1] == '70&':\n",
    "                df_full.loc[i,'Ask_equity'] = 70\n",
    "            elif '100 +' in ask_equity[1]:\n",
    "                df_full.loc[i,'Ask_equity'] = 100\n",
    "            else:\n",
    "                print(ask_equity)"
   ]
  },
  {
   "cell_type": "code",
   "execution_count": 51,
   "metadata": {},
   "outputs": [],
   "source": [
    "df_full = df_full.drop(columns=[\"Deal Asked For\", \"Deal Got\"])\n",
    "df_full = df_full.reset_index(drop=True)"
   ]
  },
  {
   "cell_type": "code",
   "execution_count": 52,
   "metadata": {},
   "outputs": [],
   "source": [
    "# we also want to drop royalty and loan columns since we will not look at that when answering our question\n",
    "df_full = df_full.drop(columns=['Royalty', 'Loan'])\n",
    "df_full = df_full.reset_index(drop=True)"
   ]
  },
  {
   "cell_type": "code",
   "execution_count": 53,
   "metadata": {},
   "outputs": [],
   "source": [
    "def standardize_status(string):\n",
    "    if \"out of business\" in string:\n",
    "        return 0\n",
    "    elif \"in business\" in string or \"acquired\" in string or \"launch\" in string:\n",
    "        return 1\n",
    "    else:\n",
    "        return -1 #na or unknown"
   ]
  },
  {
   "cell_type": "code",
   "execution_count": 54,
   "metadata": {},
   "outputs": [],
   "source": [
    "df_full['Current Status'] = df_full['Current Status'].apply(standardize_status)\n",
    "df_full.rename(columns = {'Current Status':'Status'}, inplace = True)"
   ]
  },
  {
   "cell_type": "code",
   "execution_count": 55,
   "metadata": {},
   "outputs": [
    {
     "data": {
      "text/html": [
       "<div>\n",
       "<style scoped>\n",
       "    .dataframe tbody tr th:only-of-type {\n",
       "        vertical-align: middle;\n",
       "    }\n",
       "\n",
       "    .dataframe tbody tr th {\n",
       "        vertical-align: top;\n",
       "    }\n",
       "\n",
       "    .dataframe thead th {\n",
       "        text-align: right;\n",
       "    }\n",
       "</style>\n",
       "<table border=\"1\" class=\"dataframe\">\n",
       "  <thead>\n",
       "    <tr style=\"text-align: right;\">\n",
       "      <th></th>\n",
       "      <th>Season</th>\n",
       "      <th>Company</th>\n",
       "      <th>Deal</th>\n",
       "      <th>Industry</th>\n",
       "      <th>Gender</th>\n",
       "      <th>Ask_amount</th>\n",
       "      <th>Ask_equity</th>\n",
       "      <th>Ask_valuation</th>\n",
       "      <th>Deal_amount</th>\n",
       "      <th>Deal_equity</th>\n",
       "      <th>Deal_valuation</th>\n",
       "      <th>Barbara</th>\n",
       "      <th>Mark</th>\n",
       "      <th>Lori</th>\n",
       "      <th>Robert</th>\n",
       "      <th>Daymond</th>\n",
       "      <th>Kevin</th>\n",
       "      <th>Guest</th>\n",
       "      <th># Sharks</th>\n",
       "      <th>Status</th>\n",
       "    </tr>\n",
       "  </thead>\n",
       "  <tbody>\n",
       "    <tr>\n",
       "      <th>0</th>\n",
       "      <td>1.0</td>\n",
       "      <td>Ava the Elephant</td>\n",
       "      <td>1</td>\n",
       "      <td>0</td>\n",
       "      <td>1</td>\n",
       "      <td>50000</td>\n",
       "      <td>15.0</td>\n",
       "      <td>333333</td>\n",
       "      <td>50000</td>\n",
       "      <td>55.0</td>\n",
       "      <td>90909</td>\n",
       "      <td>1</td>\n",
       "      <td>0</td>\n",
       "      <td>0</td>\n",
       "      <td>0</td>\n",
       "      <td>0</td>\n",
       "      <td>0</td>\n",
       "      <td>0</td>\n",
       "      <td>1</td>\n",
       "      <td>1</td>\n",
       "    </tr>\n",
       "    <tr>\n",
       "      <th>1</th>\n",
       "      <td>1.0</td>\n",
       "      <td>Wispots</td>\n",
       "      <td>0</td>\n",
       "      <td>2</td>\n",
       "      <td>0</td>\n",
       "      <td>1200000</td>\n",
       "      <td>10.0</td>\n",
       "      <td>-1</td>\n",
       "      <td>-1</td>\n",
       "      <td>-1.0</td>\n",
       "      <td>-1</td>\n",
       "      <td>0</td>\n",
       "      <td>0</td>\n",
       "      <td>0</td>\n",
       "      <td>0</td>\n",
       "      <td>0</td>\n",
       "      <td>0</td>\n",
       "      <td>0</td>\n",
       "      <td>0</td>\n",
       "      <td>0</td>\n",
       "    </tr>\n",
       "    <tr>\n",
       "      <th>2</th>\n",
       "      <td>1.0</td>\n",
       "      <td>College Foxes Packing Boxes</td>\n",
       "      <td>0</td>\n",
       "      <td>3</td>\n",
       "      <td>0</td>\n",
       "      <td>250000</td>\n",
       "      <td>25.0</td>\n",
       "      <td>-1</td>\n",
       "      <td>-1</td>\n",
       "      <td>-1.0</td>\n",
       "      <td>-1</td>\n",
       "      <td>0</td>\n",
       "      <td>0</td>\n",
       "      <td>0</td>\n",
       "      <td>0</td>\n",
       "      <td>0</td>\n",
       "      <td>0</td>\n",
       "      <td>0</td>\n",
       "      <td>0</td>\n",
       "      <td>1</td>\n",
       "    </tr>\n",
       "    <tr>\n",
       "      <th>3</th>\n",
       "      <td>1.0</td>\n",
       "      <td>Ionic Ear</td>\n",
       "      <td>0</td>\n",
       "      <td>4</td>\n",
       "      <td>0</td>\n",
       "      <td>1000000</td>\n",
       "      <td>15.0</td>\n",
       "      <td>-1</td>\n",
       "      <td>-1</td>\n",
       "      <td>-1.0</td>\n",
       "      <td>-1</td>\n",
       "      <td>0</td>\n",
       "      <td>0</td>\n",
       "      <td>0</td>\n",
       "      <td>0</td>\n",
       "      <td>0</td>\n",
       "      <td>0</td>\n",
       "      <td>0</td>\n",
       "      <td>0</td>\n",
       "      <td>0</td>\n",
       "    </tr>\n",
       "    <tr>\n",
       "      <th>4</th>\n",
       "      <td>1.0</td>\n",
       "      <td>A Perfect Pear</td>\n",
       "      <td>1</td>\n",
       "      <td>1</td>\n",
       "      <td>1</td>\n",
       "      <td>500000</td>\n",
       "      <td>15.0</td>\n",
       "      <td>-1</td>\n",
       "      <td>500000</td>\n",
       "      <td>50.0</td>\n",
       "      <td>1000000</td>\n",
       "      <td>0</td>\n",
       "      <td>0</td>\n",
       "      <td>0</td>\n",
       "      <td>1</td>\n",
       "      <td>0</td>\n",
       "      <td>1</td>\n",
       "      <td>0</td>\n",
       "      <td>2</td>\n",
       "      <td>0</td>\n",
       "    </tr>\n",
       "    <tr>\n",
       "      <th>...</th>\n",
       "      <td>...</td>\n",
       "      <td>...</td>\n",
       "      <td>...</td>\n",
       "      <td>...</td>\n",
       "      <td>...</td>\n",
       "      <td>...</td>\n",
       "      <td>...</td>\n",
       "      <td>...</td>\n",
       "      <td>...</td>\n",
       "      <td>...</td>\n",
       "      <td>...</td>\n",
       "      <td>...</td>\n",
       "      <td>...</td>\n",
       "      <td>...</td>\n",
       "      <td>...</td>\n",
       "      <td>...</td>\n",
       "      <td>...</td>\n",
       "      <td>...</td>\n",
       "      <td>...</td>\n",
       "      <td>...</td>\n",
       "    </tr>\n",
       "    <tr>\n",
       "      <th>735</th>\n",
       "      <td>10.0</td>\n",
       "      <td>DoughP</td>\n",
       "      <td>0</td>\n",
       "      <td>1</td>\n",
       "      <td>1</td>\n",
       "      <td>450000</td>\n",
       "      <td>10.0</td>\n",
       "      <td>4500000</td>\n",
       "      <td>-1</td>\n",
       "      <td>-1.0</td>\n",
       "      <td>-1</td>\n",
       "      <td>0</td>\n",
       "      <td>0</td>\n",
       "      <td>0</td>\n",
       "      <td>0</td>\n",
       "      <td>0</td>\n",
       "      <td>0</td>\n",
       "      <td>0</td>\n",
       "      <td>0</td>\n",
       "      <td>1</td>\n",
       "    </tr>\n",
       "    <tr>\n",
       "      <th>736</th>\n",
       "      <td>10.0</td>\n",
       "      <td>Cubicall</td>\n",
       "      <td>1</td>\n",
       "      <td>3</td>\n",
       "      <td>0</td>\n",
       "      <td>350000</td>\n",
       "      <td>10.0</td>\n",
       "      <td>3500000</td>\n",
       "      <td>350000</td>\n",
       "      <td>25.0</td>\n",
       "      <td>1400000</td>\n",
       "      <td>1</td>\n",
       "      <td>0</td>\n",
       "      <td>0</td>\n",
       "      <td>0</td>\n",
       "      <td>0</td>\n",
       "      <td>0</td>\n",
       "      <td>0</td>\n",
       "      <td>1</td>\n",
       "      <td>1</td>\n",
       "    </tr>\n",
       "    <tr>\n",
       "      <th>737</th>\n",
       "      <td>10.0</td>\n",
       "      <td>Fat Shack</td>\n",
       "      <td>1</td>\n",
       "      <td>1</td>\n",
       "      <td>0</td>\n",
       "      <td>250000</td>\n",
       "      <td>7.5</td>\n",
       "      <td>3333333</td>\n",
       "      <td>250000</td>\n",
       "      <td>15.0</td>\n",
       "      <td>1666667</td>\n",
       "      <td>0</td>\n",
       "      <td>1</td>\n",
       "      <td>0</td>\n",
       "      <td>0</td>\n",
       "      <td>0</td>\n",
       "      <td>0</td>\n",
       "      <td>0</td>\n",
       "      <td>1</td>\n",
       "      <td>1</td>\n",
       "    </tr>\n",
       "    <tr>\n",
       "      <th>738</th>\n",
       "      <td>10.0</td>\n",
       "      <td>BatBnB</td>\n",
       "      <td>1</td>\n",
       "      <td>3</td>\n",
       "      <td>0</td>\n",
       "      <td>100000</td>\n",
       "      <td>16.0</td>\n",
       "      <td>625000</td>\n",
       "      <td>100000</td>\n",
       "      <td>33.3</td>\n",
       "      <td>300300</td>\n",
       "      <td>0</td>\n",
       "      <td>0</td>\n",
       "      <td>0</td>\n",
       "      <td>0</td>\n",
       "      <td>0</td>\n",
       "      <td>1</td>\n",
       "      <td>0</td>\n",
       "      <td>1</td>\n",
       "      <td>1</td>\n",
       "    </tr>\n",
       "    <tr>\n",
       "      <th>739</th>\n",
       "      <td>10.0</td>\n",
       "      <td>CoyoteVest</td>\n",
       "      <td>0</td>\n",
       "      <td>10</td>\n",
       "      <td>2</td>\n",
       "      <td>250000</td>\n",
       "      <td>10.0</td>\n",
       "      <td>-1</td>\n",
       "      <td>-1</td>\n",
       "      <td>-1.0</td>\n",
       "      <td>-1</td>\n",
       "      <td>0</td>\n",
       "      <td>0</td>\n",
       "      <td>0</td>\n",
       "      <td>0</td>\n",
       "      <td>0</td>\n",
       "      <td>0</td>\n",
       "      <td>0</td>\n",
       "      <td>0</td>\n",
       "      <td>1</td>\n",
       "    </tr>\n",
       "  </tbody>\n",
       "</table>\n",
       "<p>740 rows × 20 columns</p>\n",
       "</div>"
      ],
      "text/plain": [
       "     Season                      Company  Deal  Industry  Gender  Ask_amount  \\\n",
       "0       1.0             Ava the Elephant     1         0       1       50000   \n",
       "1       1.0                      Wispots     0         2       0     1200000   \n",
       "2       1.0  College Foxes Packing Boxes     0         3       0      250000   \n",
       "3       1.0                    Ionic Ear     0         4       0     1000000   \n",
       "4       1.0               A Perfect Pear     1         1       1      500000   \n",
       "..      ...                          ...   ...       ...     ...         ...   \n",
       "735    10.0                       DoughP     0         1       1      450000   \n",
       "736    10.0                     Cubicall     1         3       0      350000   \n",
       "737    10.0                    Fat Shack     1         1       0      250000   \n",
       "738    10.0                       BatBnB     1         3       0      100000   \n",
       "739    10.0                   CoyoteVest     0        10       2      250000   \n",
       "\n",
       "     Ask_equity  Ask_valuation  Deal_amount  Deal_equity  Deal_valuation  \\\n",
       "0          15.0         333333        50000         55.0           90909   \n",
       "1          10.0             -1           -1         -1.0              -1   \n",
       "2          25.0             -1           -1         -1.0              -1   \n",
       "3          15.0             -1           -1         -1.0              -1   \n",
       "4          15.0             -1       500000         50.0         1000000   \n",
       "..          ...            ...          ...          ...             ...   \n",
       "735        10.0        4500000           -1         -1.0              -1   \n",
       "736        10.0        3500000       350000         25.0         1400000   \n",
       "737         7.5        3333333       250000         15.0         1666667   \n",
       "738        16.0         625000       100000         33.3          300300   \n",
       "739        10.0             -1           -1         -1.0              -1   \n",
       "\n",
       "     Barbara  Mark  Lori  Robert  Daymond  Kevin  Guest  # Sharks  Status  \n",
       "0          1     0     0       0        0      0      0         1       1  \n",
       "1          0     0     0       0        0      0      0         0       0  \n",
       "2          0     0     0       0        0      0      0         0       1  \n",
       "3          0     0     0       0        0      0      0         0       0  \n",
       "4          0     0     0       1        0      1      0         2       0  \n",
       "..       ...   ...   ...     ...      ...    ...    ...       ...     ...  \n",
       "735        0     0     0       0        0      0      0         0       1  \n",
       "736        1     0     0       0        0      0      0         1       1  \n",
       "737        0     1     0       0        0      0      0         1       1  \n",
       "738        0     0     0       0        0      1      0         1       1  \n",
       "739        0     0     0       0        0      0      0         0       1  \n",
       "\n",
       "[740 rows x 20 columns]"
      ]
     },
     "execution_count": 55,
     "metadata": {},
     "output_type": "execute_result"
    }
   ],
   "source": [
    "df_full"
   ]
  },
  {
   "cell_type": "markdown",
   "metadata": {},
   "source": [
    "#### Finishing up data cleaning"
   ]
  },
  {
   "cell_type": "markdown",
   "metadata": {},
   "source": [
    "Before moving on to EDA, we want to double check if there are any invalid amount or equities (i.e. amount or equities with value of -1). We supposedly have all the ask amount data from the scraped website and/or Haley's Google sheet filled with data, so there shouldn't be any -1. "
   ]
  },
  {
   "cell_type": "code",
   "execution_count": 56,
   "metadata": {},
   "outputs": [
    {
     "data": {
      "text/html": [
       "<div>\n",
       "<style scoped>\n",
       "    .dataframe tbody tr th:only-of-type {\n",
       "        vertical-align: middle;\n",
       "    }\n",
       "\n",
       "    .dataframe tbody tr th {\n",
       "        vertical-align: top;\n",
       "    }\n",
       "\n",
       "    .dataframe thead th {\n",
       "        text-align: right;\n",
       "    }\n",
       "</style>\n",
       "<table border=\"1\" class=\"dataframe\">\n",
       "  <thead>\n",
       "    <tr style=\"text-align: right;\">\n",
       "      <th></th>\n",
       "      <th>Season</th>\n",
       "      <th>Company</th>\n",
       "      <th>Deal</th>\n",
       "      <th>Industry</th>\n",
       "      <th>Gender</th>\n",
       "      <th>Ask_amount</th>\n",
       "      <th>Ask_equity</th>\n",
       "      <th>Ask_valuation</th>\n",
       "      <th>Deal_amount</th>\n",
       "      <th>Deal_equity</th>\n",
       "      <th>Deal_valuation</th>\n",
       "      <th>Barbara</th>\n",
       "      <th>Mark</th>\n",
       "      <th>Lori</th>\n",
       "      <th>Robert</th>\n",
       "      <th>Daymond</th>\n",
       "      <th>Kevin</th>\n",
       "      <th>Guest</th>\n",
       "      <th># Sharks</th>\n",
       "      <th>Status</th>\n",
       "    </tr>\n",
       "  </thead>\n",
       "  <tbody>\n",
       "    <tr>\n",
       "      <th>106</th>\n",
       "      <td>3.0</td>\n",
       "      <td>Kisstixx</td>\n",
       "      <td>1</td>\n",
       "      <td>7</td>\n",
       "      <td>0</td>\n",
       "      <td>-1</td>\n",
       "      <td>-1.0</td>\n",
       "      <td>-1</td>\n",
       "      <td>200000</td>\n",
       "      <td>40.0</td>\n",
       "      <td>500000</td>\n",
       "      <td>0</td>\n",
       "      <td>1</td>\n",
       "      <td>0</td>\n",
       "      <td>0</td>\n",
       "      <td>0</td>\n",
       "      <td>0</td>\n",
       "      <td>0</td>\n",
       "      <td>1</td>\n",
       "      <td>0</td>\n",
       "    </tr>\n",
       "  </tbody>\n",
       "</table>\n",
       "</div>"
      ],
      "text/plain": [
       "     Season   Company  Deal  Industry  Gender  Ask_amount  Ask_equity  \\\n",
       "106     3.0  Kisstixx     1         7       0          -1        -1.0   \n",
       "\n",
       "     Ask_valuation  Deal_amount  Deal_equity  Deal_valuation  Barbara  Mark  \\\n",
       "106             -1       200000         40.0          500000        0     1   \n",
       "\n",
       "     Lori  Robert  Daymond  Kevin  Guest  # Sharks  Status  \n",
       "106     0       0        0      0      0         1       0  "
      ]
     },
     "execution_count": 56,
     "metadata": {},
     "output_type": "execute_result"
    }
   ],
   "source": [
    "df_full[df_full['Ask_amount']==-1]"
   ]
  },
  {
   "cell_type": "code",
   "execution_count": 57,
   "metadata": {},
   "outputs": [
    {
     "data": {
      "text/html": [
       "<div>\n",
       "<style scoped>\n",
       "    .dataframe tbody tr th:only-of-type {\n",
       "        vertical-align: middle;\n",
       "    }\n",
       "\n",
       "    .dataframe tbody tr th {\n",
       "        vertical-align: top;\n",
       "    }\n",
       "\n",
       "    .dataframe thead th {\n",
       "        text-align: right;\n",
       "    }\n",
       "</style>\n",
       "<table border=\"1\" class=\"dataframe\">\n",
       "  <thead>\n",
       "    <tr style=\"text-align: right;\">\n",
       "      <th></th>\n",
       "      <th>Product</th>\n",
       "      <th>Deal Asked For</th>\n",
       "      <th>Deal Got</th>\n",
       "      <th>Current Status</th>\n",
       "      <th>ProductStandard</th>\n",
       "    </tr>\n",
       "  </thead>\n",
       "  <tbody>\n",
       "    <tr>\n",
       "      <th>130</th>\n",
       "      <td>kisstixx</td>\n",
       "      <td>[]</td>\n",
       "      <td>[200000, 40]</td>\n",
       "      <td>out of business</td>\n",
       "      <td>kisstixx</td>\n",
       "    </tr>\n",
       "  </tbody>\n",
       "</table>\n",
       "</div>"
      ],
      "text/plain": [
       "      Product Deal Asked For      Deal Got   Current Status ProductStandard\n",
       "130  kisstixx             []  [200000, 40]  out of business        kisstixx"
      ]
     },
     "execution_count": 57,
     "metadata": {},
     "output_type": "execute_result"
    }
   ],
   "source": [
    "df2[df2['Product'].str.contains('kisstixx')]"
   ]
  },
  {
   "cell_type": "markdown",
   "metadata": {},
   "source": [
    "As you can see, Kisstixx has invalid amount and equities so we found their values manually online and will fill it in manually below."
   ]
  },
  {
   "cell_type": "code",
   "execution_count": 58,
   "metadata": {},
   "outputs": [],
   "source": [
    "row = df_full[df_full['Company'].str.contains('stixx')].index[0]\n",
    "df_full.loc[row, 'Ask_amount']=200000\n",
    "df_full.loc[row, 'Ask_equity']=20"
   ]
  },
  {
   "cell_type": "code",
   "execution_count": 59,
   "metadata": {},
   "outputs": [
    {
     "data": {
      "text/html": [
       "<div>\n",
       "<style scoped>\n",
       "    .dataframe tbody tr th:only-of-type {\n",
       "        vertical-align: middle;\n",
       "    }\n",
       "\n",
       "    .dataframe tbody tr th {\n",
       "        vertical-align: top;\n",
       "    }\n",
       "\n",
       "    .dataframe thead th {\n",
       "        text-align: right;\n",
       "    }\n",
       "</style>\n",
       "<table border=\"1\" class=\"dataframe\">\n",
       "  <thead>\n",
       "    <tr style=\"text-align: right;\">\n",
       "      <th></th>\n",
       "      <th>Season</th>\n",
       "      <th>Company</th>\n",
       "      <th>Deal</th>\n",
       "      <th>Industry</th>\n",
       "      <th>Gender</th>\n",
       "      <th>Ask_amount</th>\n",
       "      <th>Ask_equity</th>\n",
       "      <th>Ask_valuation</th>\n",
       "      <th>Deal_amount</th>\n",
       "      <th>Deal_equity</th>\n",
       "      <th>Deal_valuation</th>\n",
       "      <th>Barbara</th>\n",
       "      <th>Mark</th>\n",
       "      <th>Lori</th>\n",
       "      <th>Robert</th>\n",
       "      <th>Daymond</th>\n",
       "      <th>Kevin</th>\n",
       "      <th>Guest</th>\n",
       "      <th># Sharks</th>\n",
       "      <th>Status</th>\n",
       "    </tr>\n",
       "  </thead>\n",
       "  <tbody>\n",
       "  </tbody>\n",
       "</table>\n",
       "</div>"
      ],
      "text/plain": [
       "Empty DataFrame\n",
       "Columns: [Season, Company, Deal, Industry, Gender, Ask_amount, Ask_equity, Ask_valuation, Deal_amount, Deal_equity, Deal_valuation, Barbara, Mark, Lori, Robert, Daymond, Kevin, Guest, # Sharks, Status]\n",
       "Index: []"
      ]
     },
     "execution_count": 59,
     "metadata": {},
     "output_type": "execute_result"
    }
   ],
   "source": [
    "df_full[df_full['Ask_amount']==-1] #Succes!! "
   ]
  },
  {
   "cell_type": "markdown",
   "metadata": {},
   "source": [
    "We want to see if there are any invalid ask equitiies (besides Kisstixx, which we fixed), or in other words, how many companies have ask equity of -1."
   ]
  },
  {
   "cell_type": "code",
   "execution_count": 60,
   "metadata": {},
   "outputs": [
    {
     "data": {
      "text/html": [
       "<div>\n",
       "<style scoped>\n",
       "    .dataframe tbody tr th:only-of-type {\n",
       "        vertical-align: middle;\n",
       "    }\n",
       "\n",
       "    .dataframe tbody tr th {\n",
       "        vertical-align: top;\n",
       "    }\n",
       "\n",
       "    .dataframe thead th {\n",
       "        text-align: right;\n",
       "    }\n",
       "</style>\n",
       "<table border=\"1\" class=\"dataframe\">\n",
       "  <thead>\n",
       "    <tr style=\"text-align: right;\">\n",
       "      <th></th>\n",
       "      <th>Season</th>\n",
       "      <th>Company</th>\n",
       "      <th>Deal</th>\n",
       "      <th>Industry</th>\n",
       "      <th>Gender</th>\n",
       "      <th>Ask_amount</th>\n",
       "      <th>Ask_equity</th>\n",
       "      <th>Ask_valuation</th>\n",
       "      <th>Deal_amount</th>\n",
       "      <th>Deal_equity</th>\n",
       "      <th>Deal_valuation</th>\n",
       "      <th>Barbara</th>\n",
       "      <th>Mark</th>\n",
       "      <th>Lori</th>\n",
       "      <th>Robert</th>\n",
       "      <th>Daymond</th>\n",
       "      <th>Kevin</th>\n",
       "      <th>Guest</th>\n",
       "      <th># Sharks</th>\n",
       "      <th>Status</th>\n",
       "    </tr>\n",
       "  </thead>\n",
       "  <tbody>\n",
       "  </tbody>\n",
       "</table>\n",
       "</div>"
      ],
      "text/plain": [
       "Empty DataFrame\n",
       "Columns: [Season, Company, Deal, Industry, Gender, Ask_amount, Ask_equity, Ask_valuation, Deal_amount, Deal_equity, Deal_valuation, Barbara, Mark, Lori, Robert, Daymond, Kevin, Guest, # Sharks, Status]\n",
       "Index: []"
      ]
     },
     "execution_count": 60,
     "metadata": {},
     "output_type": "execute_result"
    }
   ],
   "source": [
    "df_full[df_full['Ask_equity']==-1]"
   ]
  },
  {
   "cell_type": "markdown",
   "metadata": {},
   "source": [
    "There are no companies with ask equity of -1. Success! Now, for the observations with invalid ask valuation values (i.e. values of -1), we can easily calculate it ourselves with the following formula: valuation = 100 * amount / equity"
   ]
  },
  {
   "cell_type": "code",
   "execution_count": 61,
   "metadata": {},
   "outputs": [
    {
     "data": {
      "text/html": [
       "<div>\n",
       "<style scoped>\n",
       "    .dataframe tbody tr th:only-of-type {\n",
       "        vertical-align: middle;\n",
       "    }\n",
       "\n",
       "    .dataframe tbody tr th {\n",
       "        vertical-align: top;\n",
       "    }\n",
       "\n",
       "    .dataframe thead th {\n",
       "        text-align: right;\n",
       "    }\n",
       "</style>\n",
       "<table border=\"1\" class=\"dataframe\">\n",
       "  <thead>\n",
       "    <tr style=\"text-align: right;\">\n",
       "      <th></th>\n",
       "      <th>Season</th>\n",
       "      <th>Company</th>\n",
       "      <th>Deal</th>\n",
       "      <th>Industry</th>\n",
       "      <th>Gender</th>\n",
       "      <th>Ask_amount</th>\n",
       "      <th>Ask_equity</th>\n",
       "      <th>Ask_valuation</th>\n",
       "      <th>Deal_amount</th>\n",
       "      <th>Deal_equity</th>\n",
       "      <th>Deal_valuation</th>\n",
       "      <th>Barbara</th>\n",
       "      <th>Mark</th>\n",
       "      <th>Lori</th>\n",
       "      <th>Robert</th>\n",
       "      <th>Daymond</th>\n",
       "      <th>Kevin</th>\n",
       "      <th>Guest</th>\n",
       "      <th># Sharks</th>\n",
       "      <th>Status</th>\n",
       "    </tr>\n",
       "  </thead>\n",
       "  <tbody>\n",
       "  </tbody>\n",
       "</table>\n",
       "</div>"
      ],
      "text/plain": [
       "Empty DataFrame\n",
       "Columns: [Season, Company, Deal, Industry, Gender, Ask_amount, Ask_equity, Ask_valuation, Deal_amount, Deal_equity, Deal_valuation, Barbara, Mark, Lori, Robert, Daymond, Kevin, Guest, # Sharks, Status]\n",
       "Index: []"
      ]
     },
     "execution_count": 61,
     "metadata": {},
     "output_type": "execute_result"
    }
   ],
   "source": [
    "df_full['Ask_valuation'] = 100 * df_full['Ask_amount'] / df_full['Ask_equity']\n",
    "df_full[df_full['Ask_valuation']==-1] #Success!\n"
   ]
  },
  {
   "cell_type": "markdown",
   "metadata": {},
   "source": [
    "We also want to make sure that each deal with a \"yes\" (or 1) actually has a deal amount, and that those with a \"no\" (or 0) don't have a deal amount (-1)."
   ]
  },
  {
   "cell_type": "code",
   "execution_count": 62,
   "metadata": {},
   "outputs": [
    {
     "name": "stdout",
     "output_type": "stream",
     "text": [
      "Hand Out Gloves\n",
      "LocTote\n"
     ]
    }
   ],
   "source": [
    "indices=list(df_full[df_full['Deal']==0].index)\n",
    "for index in indices:\n",
    "    if df_full.loc[index, 'Deal_amount']!=-1:\n",
    "        company = df_full.loc[index, 'Company']\n",
    "        print(company)"
   ]
  },
  {
   "cell_type": "code",
   "execution_count": 63,
   "metadata": {},
   "outputs": [
    {
     "data": {
      "text/html": [
       "<div>\n",
       "<style scoped>\n",
       "    .dataframe tbody tr th:only-of-type {\n",
       "        vertical-align: middle;\n",
       "    }\n",
       "\n",
       "    .dataframe tbody tr th {\n",
       "        vertical-align: top;\n",
       "    }\n",
       "\n",
       "    .dataframe thead th {\n",
       "        text-align: right;\n",
       "    }\n",
       "</style>\n",
       "<table border=\"1\" class=\"dataframe\">\n",
       "  <thead>\n",
       "    <tr style=\"text-align: right;\">\n",
       "      <th></th>\n",
       "      <th>Company</th>\n",
       "      <th>Deal_amount</th>\n",
       "      <th>Barbara</th>\n",
       "      <th>Deal</th>\n",
       "    </tr>\n",
       "  </thead>\n",
       "  <tbody>\n",
       "    <tr>\n",
       "      <th>526</th>\n",
       "      <td>Hand Out Gloves</td>\n",
       "      <td>300000</td>\n",
       "      <td>1</td>\n",
       "      <td>0</td>\n",
       "    </tr>\n",
       "  </tbody>\n",
       "</table>\n",
       "</div>"
      ],
      "text/plain": [
       "             Company  Deal_amount  Barbara  Deal\n",
       "526  Hand Out Gloves       300000        1     0"
      ]
     },
     "execution_count": 63,
     "metadata": {},
     "output_type": "execute_result"
    }
   ],
   "source": [
    "df_full[df_full['Company'].str.contains('Hand Out Gloves')][['Company','Deal_amount', 'Barbara','Deal']]"
   ]
  },
  {
   "cell_type": "code",
   "execution_count": 64,
   "metadata": {},
   "outputs": [
    {
     "data": {
      "text/html": [
       "<div>\n",
       "<style scoped>\n",
       "    .dataframe tbody tr th:only-of-type {\n",
       "        vertical-align: middle;\n",
       "    }\n",
       "\n",
       "    .dataframe tbody tr th {\n",
       "        vertical-align: top;\n",
       "    }\n",
       "\n",
       "    .dataframe thead th {\n",
       "        text-align: right;\n",
       "    }\n",
       "</style>\n",
       "<table border=\"1\" class=\"dataframe\">\n",
       "  <thead>\n",
       "    <tr style=\"text-align: right;\">\n",
       "      <th></th>\n",
       "      <th>Company</th>\n",
       "      <th>Deal_amount</th>\n",
       "      <th>Robert</th>\n",
       "      <th>Deal</th>\n",
       "    </tr>\n",
       "  </thead>\n",
       "  <tbody>\n",
       "    <tr>\n",
       "      <th>567</th>\n",
       "      <td>LocTote</td>\n",
       "      <td>150000</td>\n",
       "      <td>1</td>\n",
       "      <td>0</td>\n",
       "    </tr>\n",
       "  </tbody>\n",
       "</table>\n",
       "</div>"
      ],
      "text/plain": [
       "     Company  Deal_amount  Robert  Deal\n",
       "567  LocTote       150000       1     0"
      ]
     },
     "execution_count": 64,
     "metadata": {},
     "output_type": "execute_result"
    }
   ],
   "source": [
    "df_full[df_full['Company'].str.contains('Tote')][['Company','Deal_amount', 'Robert','Deal']]"
   ]
  },
  {
   "cell_type": "markdown",
   "metadata": {},
   "source": [
    "They both clearly got a deal (we also looked up to confirm) and the data is incorrect. To fix this, we decided to change their values manually. "
   ]
  },
  {
   "cell_type": "code",
   "execution_count": 65,
   "metadata": {},
   "outputs": [],
   "source": [
    "row = df_full[df_full['Company'].str.contains('Hand Out Gloves')].index[0]\n",
    "df_full.loc[row, 'Deal']=1\n",
    "row = df_full[df_full['Company'].str.contains('Tote')].index[0]\n",
    "df_full.loc[row, 'Deal']=1"
   ]
  },
  {
   "cell_type": "markdown",
   "metadata": {},
   "source": [
    "We also want to check if any company repeats, and if so, why."
   ]
  },
  {
   "cell_type": "code",
   "execution_count": 66,
   "metadata": {},
   "outputs": [
    {
     "data": {
      "text/plain": [
       "Lumi                 3\n",
       "Sap!                 2\n",
       "Trobo                2\n",
       "Kymera               2\n",
       "ToyBox               2\n",
       "Echo Valley Meats    2\n",
       "Copa di Vino         2\n",
       "Man-Pack             2\n",
       "Umano                1\n",
       "Guzzle Buddy         1\n",
       "Name: Company, dtype: int64"
      ]
     },
     "execution_count": 66,
     "metadata": {},
     "output_type": "execute_result"
    }
   ],
   "source": [
    "df_full['Company'].value_counts()[:10]"
   ]
  },
  {
   "cell_type": "markdown",
   "metadata": {},
   "source": [
    "After manually checking,  Copa appeard twice (season 2 and season 3) and Echo Valley Meats appeared twice (season 4 and 6), as indicated in the dataframe:"
   ]
  },
  {
   "cell_type": "code",
   "execution_count": 67,
   "metadata": {},
   "outputs": [
    {
     "data": {
      "text/html": [
       "<div>\n",
       "<style scoped>\n",
       "    .dataframe tbody tr th:only-of-type {\n",
       "        vertical-align: middle;\n",
       "    }\n",
       "\n",
       "    .dataframe tbody tr th {\n",
       "        vertical-align: top;\n",
       "    }\n",
       "\n",
       "    .dataframe thead th {\n",
       "        text-align: right;\n",
       "    }\n",
       "</style>\n",
       "<table border=\"1\" class=\"dataframe\">\n",
       "  <thead>\n",
       "    <tr style=\"text-align: right;\">\n",
       "      <th></th>\n",
       "      <th>Season</th>\n",
       "      <th>Company</th>\n",
       "      <th>Deal</th>\n",
       "      <th>Industry</th>\n",
       "      <th>Gender</th>\n",
       "      <th>Ask_amount</th>\n",
       "      <th>Ask_equity</th>\n",
       "      <th>Ask_valuation</th>\n",
       "      <th>Deal_amount</th>\n",
       "      <th>Deal_equity</th>\n",
       "      <th>Deal_valuation</th>\n",
       "      <th>Barbara</th>\n",
       "      <th>Mark</th>\n",
       "      <th>Lori</th>\n",
       "      <th>Robert</th>\n",
       "      <th>Daymond</th>\n",
       "      <th>Kevin</th>\n",
       "      <th>Guest</th>\n",
       "      <th># Sharks</th>\n",
       "      <th>Status</th>\n",
       "    </tr>\n",
       "  </thead>\n",
       "  <tbody>\n",
       "    <tr>\n",
       "      <th>52</th>\n",
       "      <td>2.0</td>\n",
       "      <td>Copa di Vino</td>\n",
       "      <td>0</td>\n",
       "      <td>1</td>\n",
       "      <td>0</td>\n",
       "      <td>300000</td>\n",
       "      <td>5.0</td>\n",
       "      <td>6000000.0</td>\n",
       "      <td>-1</td>\n",
       "      <td>-1.0</td>\n",
       "      <td>-1</td>\n",
       "      <td>0</td>\n",
       "      <td>0</td>\n",
       "      <td>0</td>\n",
       "      <td>0</td>\n",
       "      <td>0</td>\n",
       "      <td>0</td>\n",
       "      <td>0</td>\n",
       "      <td>0</td>\n",
       "      <td>1</td>\n",
       "    </tr>\n",
       "    <tr>\n",
       "      <th>53</th>\n",
       "      <td>3.0</td>\n",
       "      <td>Copa di Vino</td>\n",
       "      <td>0</td>\n",
       "      <td>1</td>\n",
       "      <td>0</td>\n",
       "      <td>300000</td>\n",
       "      <td>5.0</td>\n",
       "      <td>6000000.0</td>\n",
       "      <td>-1</td>\n",
       "      <td>-1.0</td>\n",
       "      <td>-1</td>\n",
       "      <td>0</td>\n",
       "      <td>0</td>\n",
       "      <td>0</td>\n",
       "      <td>0</td>\n",
       "      <td>0</td>\n",
       "      <td>0</td>\n",
       "      <td>0</td>\n",
       "      <td>0</td>\n",
       "      <td>1</td>\n",
       "    </tr>\n",
       "    <tr>\n",
       "      <th>193</th>\n",
       "      <td>4.0</td>\n",
       "      <td>Echo Valley Meats</td>\n",
       "      <td>0</td>\n",
       "      <td>1</td>\n",
       "      <td>0</td>\n",
       "      <td>150000</td>\n",
       "      <td>20.0</td>\n",
       "      <td>750000.0</td>\n",
       "      <td>-1</td>\n",
       "      <td>-1.0</td>\n",
       "      <td>-1</td>\n",
       "      <td>0</td>\n",
       "      <td>0</td>\n",
       "      <td>0</td>\n",
       "      <td>0</td>\n",
       "      <td>0</td>\n",
       "      <td>0</td>\n",
       "      <td>0</td>\n",
       "      <td>0</td>\n",
       "      <td>-1</td>\n",
       "    </tr>\n",
       "    <tr>\n",
       "      <th>194</th>\n",
       "      <td>6.0</td>\n",
       "      <td>Echo Valley Meats</td>\n",
       "      <td>1</td>\n",
       "      <td>1</td>\n",
       "      <td>0</td>\n",
       "      <td>150000</td>\n",
       "      <td>20.0</td>\n",
       "      <td>750000.0</td>\n",
       "      <td>150000</td>\n",
       "      <td>25.0</td>\n",
       "      <td>600000</td>\n",
       "      <td>0</td>\n",
       "      <td>1</td>\n",
       "      <td>0</td>\n",
       "      <td>0</td>\n",
       "      <td>0</td>\n",
       "      <td>0</td>\n",
       "      <td>0</td>\n",
       "      <td>1</td>\n",
       "      <td>-1</td>\n",
       "    </tr>\n",
       "  </tbody>\n",
       "</table>\n",
       "</div>"
      ],
      "text/plain": [
       "     Season            Company  Deal  Industry  Gender  Ask_amount  \\\n",
       "52      2.0       Copa di Vino     0         1       0      300000   \n",
       "53      3.0       Copa di Vino     0         1       0      300000   \n",
       "193     4.0  Echo Valley Meats     0         1       0      150000   \n",
       "194     6.0  Echo Valley Meats     1         1       0      150000   \n",
       "\n",
       "     Ask_equity  Ask_valuation  Deal_amount  Deal_equity  Deal_valuation  \\\n",
       "52          5.0      6000000.0           -1         -1.0              -1   \n",
       "53          5.0      6000000.0           -1         -1.0              -1   \n",
       "193        20.0       750000.0           -1         -1.0              -1   \n",
       "194        20.0       750000.0       150000         25.0          600000   \n",
       "\n",
       "     Barbara  Mark  Lori  Robert  Daymond  Kevin  Guest  # Sharks  Status  \n",
       "52         0     0     0       0        0      0      0         0       1  \n",
       "53         0     0     0       0        0      0      0         0       1  \n",
       "193        0     0     0       0        0      0      0         0      -1  \n",
       "194        0     1     0       0        0      0      0         1      -1  "
      ]
     },
     "execution_count": 67,
     "metadata": {},
     "output_type": "execute_result"
    }
   ],
   "source": [
    "df_full[df_full['Company'].str.contains('Copa') | df_full['Company'].str.contains('Meats')]"
   ]
  },
  {
   "cell_type": "markdown",
   "metadata": {},
   "source": [
    "However, the rest of the companies with duplicates did not appear in multiple seasons. Next, we will be fixing this data issue by removing those duplicates:"
   ]
  },
  {
   "cell_type": "code",
   "execution_count": 68,
   "metadata": {},
   "outputs": [],
   "source": [
    "#we want to drop all the other duplicates: \n",
    "df_full = df_full.drop_duplicates()\n",
    "\n",
    "#Man-Pack is in business, so we can drop the row where it says it's not\n",
    "manpack = df_full[df_full['Company']=='Man-Pack']\n",
    "manpack_row = manpack[df_full['Status']==0].index[0]\n",
    "df_full = df_full.drop(manpack_row)\n",
    "\n",
    "#We know the status of Trobo, so we can drop the wrong row\n",
    "trobo = df_full[df_full['Company']=='Trobo']\n",
    "trobo_row = trobo[df_full['Status']==-1].index[0]\n",
    "df_full = df_full.drop(trobo_row)\n",
    "\n",
    "#drop one of Lumi (there's 2 of the same thing)\n",
    "lumi = df_full[df_full['Company']=='Lumi']\n",
    "lumi_row = lumi[df_full['Status']==-1].index[0]\n",
    "df_full = df_full.drop(lumi_row)"
   ]
  },
  {
   "cell_type": "code",
   "execution_count": 69,
   "metadata": {},
   "outputs": [
    {
     "data": {
      "text/plain": [
       "Echo Valley Meats    2\n",
       "Copa di Vino         2\n",
       "M3 Girl Designs      1\n",
       "Solemender           1\n",
       "Coco Taps            1\n",
       "Simple Habit         1\n",
       "Bon Affair           1\n",
       "Foot Fairy           1\n",
       "Guzzle Buddy         1\n",
       "Bermie's             1\n",
       "Name: Company, dtype: int64"
      ]
     },
     "execution_count": 69,
     "metadata": {},
     "output_type": "execute_result"
    }
   ],
   "source": [
    "df_full['Company'].value_counts()[:10] #Success!"
   ]
  },
  {
   "cell_type": "markdown",
   "metadata": {},
   "source": [
    "## Explanation of Data Cleaning Process:\n",
    "\n",
    "Before beginning to analyze the data we took from Halle (df) and the scraped data (df2) from websites linked above, we needed to clean it. We first downloaded the data from her spreadsheet into a csv file, and after importing it we decided to narrow down our table by getting rid of columns such as \"Unnamed: 0\", \"No. in series\", \"Description\", \"$ per shark\", \"Unnamed: 9\", \"Details / Notes.” After doing this, we wanted to rename some of the columns as well to make it clearer on what type of information it held.\n",
    "\n",
    "We then wanted to look at NaN values for any columns that we needed to help answer our research questions, so we looked at amount equity and valuations. We then filled in those values with -1 because 0 could have possibly made sense (i.e. they ask for no money, but are there to still have a chance at a deal). After, we looked at all the sharks and initially they had NaN values for where a shark did not make a deal or ones if they did make a deal; for all the NaN values we changed it to 0. Next, we looked at royalty and loan; in these columns, they held strings as Y for yes, N for no, and NaN for unknown. With this, we changed the Y to 1, N to 0, and NaN to -1. \n",
    "After these steps, we standardized multiple columns (amount, valuation, equity, gender, deal, etc.). By standardizing, we lowered and striped the strings for the appropriate columns. We also removed unnecessary characters such as the percent sign. We also converted strings to number values so we are able to work with it during our analysis (i.e. we represented males as 0, females as 1, and both genders as 2). As you can see from the code above, we have multiple standardize functions we created and then applied to various columns in df. For the industry, we decided to assign every unique industry to its own integer value. \n",
    "\n",
    "After finishing to clean and standardize Halley’s data, we scraped from Shark Tank Tales to get other missing information from Halley’s dataset. For example, Halley has missing data on ask equity/amount and others for some data, which we filled in with data from Shark Tank Tales.\n",
    "\n",
    "The first step in scraping the data was to inspect the website. We went to https://sharktanktales.com/ and searched for how they organized the data by season. We found that they use https://sharktanktales.com/shark-tank-pitches/shark-tank-season-# (where # is the season) to access the products for each season with http calls. So we looped through all appropriate seasons (seasons 1 through 10) and used those numbers appended to the Shark Tank Tales’ url to fetch the list of products in each season. Once we did this, we looped through each listed product and then scraped the information on that product from the corresponding product page. We did this by finding all the links (“a” tags) listed in the season page; then we scraped the product pages associated with those links (we did this by creating a helper function to scrape product information from a product page url).\n",
    "\n",
    "After writing this code, we ran into many issues of human-caused errors (i.e. typos, using the wrong class for a div, etc). To fix these various errors, we had to add several try-catch blocks and if-statements to check for the errors and handle them appropriately. An example that occurred is some product descriptions (within the product page) were using “p” tags (paragraph tags) whereas others were using “h3” tags (header 3 tags). We were able to handle all these errors with try-catch blocks/if-statements except for 3 extreme typos; for these 3 extreme typos, we had to search online for the accurate product information and input them into the dataframe manually.\n",
    "\n",
    "After doing this, we realized that there was a problem: shark tank tales' season page was designed to query for more products when a user scrolls down far enough, instead of querying for all of the products from the beginning. So we had to come up with a workaround where we query for the specific \"scrolling page number\", which is basically how far down a user has scrolled. Shark Tank Tales is designed where you can provide this “scrolling page number” in the fetch url to get products that will be listed later. However, we ran into another issue: we didn’t know how many of these pages existed per season, since we didn’t know how many products existed per season and didn’t know how many products existed per “scrolling page number”. To solve this, we created a while loop to continuously query with increasing “scrolling page numbers” - we did this until we reached an unreachable \"scrolling page number\"; at this point, we’d reached the end of the season and could break out of the while loop to continue onto the next season.\n",
    "\n",
    "Once we had all the scraped data, we moved into the process of cleaning and standardizing it. We first wrote a function that would be called within every other standardize function (it would do a few things like make all strings lowercase, strip space characters, replace weird dashes with normal ones). Then for product description and product status, we only called this function. To standardize the product name, the first thing we did was change everything to be lower case, strip all extra space characters, and replace weird dashes that the website used with normal dashes. Then we cleaned data further by ridding product names of an “update” tag (i.e. “company name - update”), removed the episode and only kept the season, and split the string of entrepreneurs and sharks that gave a deal into an array of the entrepreneurs and an array of the sharks. Furthermore, we removed punctuation (i.e. dollar signs, commas) from all money and percentage strings so that we could handle them later on in our statistical/graphical methods. After this, we successfully cleaned the data and wanted to merge the two datasets together!\n",
    " \n",
    "We wanted to merge using the product names, but both data frames had slightly different names for each company. So, to tackle this, we looked at all of the product names and took away ‘and’, ‘the’, any spaces, and any punctuation. This ultimately resulted in the string being its most general, significant name of the company. After doing this, we noticed that the df names were always a substring of df2 names, so we had to loop through all the different names and see when one was a substring of the other, we changed the df2 name to be the df name. After this, we were able to merge based on the company name and the product name since they were the same.\n",
    "\n",
    "After merging, df still did not hold necessary information that df2 had. So, we basically used df2 to fill in the needed information in each row of df to fill in missing information. (i.e. ask_amount and ask_equity). Then, we dropped columns that were unnecessary in df (i.e. the royalty and loan columns). We then standardized the status column to be zeros if the company was not in business and ones for if they were still in business. With this, we had df_full."
   ]
  },
  {
   "cell_type": "markdown",
   "metadata": {},
   "source": [
    "## What is in our dataset?\n",
    "\n",
    "Now, you are probably thinking, what is in our df_full dataset after cleaning and merging everything? After having our clean df_full, we saw that the table has 740 observations with 20 features. These features included information about the season, industry, gender, amounts asked for, valuations, sharks, status, and deals (these are variables we needed to look at to answer our hypothesis in the analysis portion). How we got to clean it is explained above. Throughout the entire process, the following columns were dropped from either df, df2, or df_full: any unnamed or repeated columns, ‘Description,’ ‘$ per shark,’ ‘Details / Notes,’ ‘Episode,’ 'Royalty,' 'Loan,' and any columns we did not need anymore (i.e. after merging, we did not need any of df2 columns). \n",
    "\n",
    "For the rows, we had episodes from seasons 1-10. For the first few seasons, we had around 50 products and for the later seasons we had about 90 (see EDA section). We dropped some rows (precisely 3) because they were repeated without reason (they were inputted incorrectly). However, there were some rows that we did keep because those companies actually did appear twice on the show for which we manually checked these to ensure it was correct. "
   ]
  },
  {
   "cell_type": "markdown",
   "metadata": {},
   "source": [
    "## Success! We've successfully finished cleaning our data.\n",
    "\n",
    "Now, to start answering our hypothesis, we want to inspect our data with respect to industry, amount asked, season, and see if there's any bias in gender or race (i.e. check if gender or race influences getting a deal). We will inspect each element below in the EDA section."
   ]
  },
  {
   "cell_type": "markdown",
   "metadata": {},
   "source": [
    "# EDA"
   ]
  },
  {
   "cell_type": "code",
   "execution_count": 70,
   "metadata": {},
   "outputs": [],
   "source": [
    "# imports necessary for statistic evaluation\n",
    "import matplotlib.pyplot as plt\n",
    "import patsy\n",
    "import statsmodels.api as sm\n",
    "import scipy.stats as stats\n",
    "from scipy.stats import ttest_ind, chisquare, normaltest, pointbiserialr\n",
    "from statsmodels.stats.proportion import proportions_ztest"
   ]
  },
  {
   "cell_type": "markdown",
   "metadata": {},
   "source": [
    "## Industry:\n",
    "\n",
    "First we will start by inspecting the industry."
   ]
  },
  {
   "cell_type": "code",
   "execution_count": 71,
   "metadata": {},
   "outputs": [
    {
     "data": {
      "image/png": "[encoded data removed]",
      "text/plain": [
       "<Figure size 432x288 with 1 Axes>"
      ]
     },
     "metadata": {
      "needs_background": "light"
     },
     "output_type": "display_data"
    }
   ],
   "source": [
    "industry_counts = df_full['Industry'].value_counts()\n",
    "\n",
    "index = []\n",
    "new_d = {}\n",
    "for i in range(0,len(d)):\n",
    "    for key,value in d.items():\n",
    "        if value==i:\n",
    "            industry = key\n",
    "    index.append(industry)\n",
    "    new_d[industry] = industry_counts[i]\n",
    "\n",
    "new_d = dict(sorted(new_d.items(), key=lambda x: x[1], reverse=True))\n",
    "\n",
    "plt.bar(range(len(new_d)), list(new_d.values()), align='center')\n",
    "plt.xticks(range(len(new_d)), list(new_d.keys()), rotation='vertical')\n",
    "plt.title(\"Pitches Per Industry in All Seasons\")\n",
    "plt.ylabel(\"Number of Pitches\")\n",
    "plt.show()"
   ]
  },
  {
   "cell_type": "markdown",
   "metadata": {},
   "source": [
    "We can clearly notice that there are industries with much more representation on the show, the top three being Food and Beverage, Fashion/Beauty, and Lifestyle/Home. The industries that are not as often seen on the show include the Automotive, Travel, and Green/CleanTech industries.\n",
    "\n",
    "We will now inspect the proportion of deals per industry."
   ]
  },
  {
   "cell_type": "code",
   "execution_count": 72,
   "metadata": {},
   "outputs": [
    {
     "data": {
      "image/png": "[encoded data removed]",
      "text/plain": [
       "<Figure size 432x288 with 1 Axes>"
      ]
     },
     "metadata": {
      "needs_background": "light"
     },
     "output_type": "display_data"
    }
   ],
   "source": [
    "df = df_full[['Industry', 'Deal']].groupby('Industry').sum()\n",
    "df['No Deal'] = industry_counts - df['Deal']\n",
    "\n",
    "df['Sum'] = df['Deal'] + df['No Deal']\n",
    "df = df.sort_values(by='Sum', ascending=False)\n",
    "\n",
    "# make into proportions\n",
    "def make_proportion(num, s):\n",
    "    return num/s\n",
    "\n",
    "df['Deal'] = df.apply(lambda x: make_proportion(df['Deal'], df['Sum']))\n",
    "df['No Deal'] = df.apply(lambda x: make_proportion(df['No Deal'], df['Sum']))\n",
    "df = df.drop(columns=['Sum'])\n",
    "\n",
    "ax = df.plot.bar(stacked=True, title='Deal Results Per Industry in All Seasons')\n",
    "ax.set_ylabel(\"Proportion of Deals\")\n",
    "ax = ax.set_xticklabels(list(new_d.keys()))\n",
    "ax1 = plt.legend(bbox_to_anchor=(1.25, 1), loc='upper right')"
   ]
  },
  {
   "cell_type": "markdown",
   "metadata": {},
   "source": [
    "As you can see from the graph, about half of products from most industries get a deal. There are a few obvious exceptions: about 70% of the Automotive industry pitches get deals whereas only 25% of the Business Services and Travel industry pitches gets deals. This may make it seem that the industry that the company operates in has little to no effect on the likelihood to get a deal; however, something we haven for granted here is that over the 10 seasons the popularity of industries among the sharks hasn't changed. This may not be true and so we have to explore the change in the percentage of deals made by industry over the 10 seasons. The graph below omits industries that have fewer than 50 products over 10 seasons as we feel that the percentage change is not reflective of the change in industry popularity amongst sharks with such few observations. Thus, we are only checking the change in 6 industries, i.e. Fitness / Sports / Outdoors, Food and Beverage, Fashion / Beauty, Lifestyle / Home, Software / Tech, Children / Education. Note that in the graph below, we aren't looking at the percentage change for every season, rather we are looking at the change between season 1 and 10 as we only require the net difference from the beginning and the end. "
   ]
  },
  {
   "cell_type": "code",
   "execution_count": 78,
   "metadata": {},
   "outputs": [
    {
     "data": {
      "image/png": "[encoded data removed]",
      "text/plain": [
       "<Figure size 1008x504 with 1 Axes>"
      ]
     },
     "metadata": {
      "needs_background": "light"
     },
     "output_type": "display_data"
    }
   ],
   "source": [
    "pv_ind_season_deal = pd.pivot_table(df_full[['Deal','Industry','Season']],index=[\"Industry\",\"Deal\"],columns=['Season'], aggfunc=len)\n",
    "pv_ind_season_deal=pv_ind_season_deal.fillna(0)\n",
    "diction={}\n",
    "for i in range(0,14):\n",
    "    ind=(pv_ind_season_deal.loc[i,1]/(pv_ind_season_deal.loc[i,0]+pv_ind_season_deal.loc[i,1]))\n",
    "    ind=ind.fillna(0)\n",
    "    diction[i]=ind.to_dict()\n",
    "dataframe_ind=pd.DataFrame.from_dict(diction)\n",
    "swap_d =  dict([(value, key) for key, value in d.items()]) \n",
    "dataframe_ind = dataframe_ind.rename(columns=swap_d)\n",
    "dataframe_ind.drop(index=[2,3,4,5,6,7,8,9],inplace=True)\n",
    "ax=dataframe_ind[['Fitness / Sports / Outdoors', 'Food and Beverage', 'Fashion / Beauty',\n",
    "       'Lifestyle / Home', 'Software / Tech', 'Children / Education']].plot(figsize=(14,7), title=\"Percentage Change Over 10 Seasons for Products that Obtained Deals by Industry\", xlabel=\"Seasons\",ylabel=\"Percentage of Products that Led to Deals\")\n",
    "ax.xticks=[1,5,10]"
   ]
  },
  {
   "cell_type": "markdown",
   "metadata": {},
   "source": [
    "As you can see in the graph above the 6 industries have considerably changed in popularity over the last 10 seasons. Fitness/Sports/Outdoors has seen the largest decline in deals from 75% in season 1 to 60% in season 10. Lifestyle/Home on the other hand has seen the largest increase in popularity, from 33% to 60%, amongst the sharks. One can say that the line's with a positive slope, show that in the future these industry products are more likely to get deals in shark tank, with the assumption that the popularity change remains around the same. Despite these observed trends, the most popular industries today are still Food and Beverage, Lifestyle/Home, Software/Tech, Fitness/Sports/Outdoors. We can safely say that a new product in shark belonging to these industries is more likely to get a deal than the other industries."
   ]
  },
  {
   "cell_type": "markdown",
   "metadata": {},
   "source": [
    "## Deals Made Per Season"
   ]
  },
  {
   "cell_type": "markdown",
   "metadata": {},
   "source": [
    "We would like to see the proportions of deals secured to deals not made on the show in each season. This will help us determine whether participants of different seasons had more success than those of a different season."
   ]
  },
  {
   "cell_type": "markdown",
   "metadata": {},
   "source": [
    "We will begin by observing the number of deals made and not made in each season."
   ]
  },
  {
   "cell_type": "code",
   "execution_count": 81,
   "metadata": {},
   "outputs": [
    {
     "data": {
      "text/plain": [
       "6.0     99\n",
       "7.0     95\n",
       "8.0     87\n",
       "5.0     86\n",
       "9.0     83\n",
       "10.0    79\n",
       "4.0     70\n",
       "3.0     50\n",
       "1.0     49\n",
       "2.0     35\n",
       "Name: Season, dtype: int64"
      ]
     },
     "execution_count": 81,
     "metadata": {},
     "output_type": "execute_result"
    }
   ],
   "source": [
    "# get number of deals sorted by season\n",
    "df_season = df_full[['Season', 'Deal']].groupby('Season').sum()\n",
    "season_counts = df_full['Season'].value_counts()\n",
    "season_counts"
   ]
  },
  {
   "cell_type": "markdown",
   "metadata": {},
   "source": [
    "Season 6 had the most total observations, while season 2 had the least total observations. We should consider the fact that there is differences in the amount of data between seasons, so we should consider proportions for our next insight: deals secured and deals not secured."
   ]
  },
  {
   "cell_type": "code",
   "execution_count": 82,
   "metadata": {},
   "outputs": [
    {
     "data": {
      "text/html": [
       "<div>\n",
       "<style scoped>\n",
       "    .dataframe tbody tr th:only-of-type {\n",
       "        vertical-align: middle;\n",
       "    }\n",
       "\n",
       "    .dataframe tbody tr th {\n",
       "        vertical-align: top;\n",
       "    }\n",
       "\n",
       "    .dataframe thead th {\n",
       "        text-align: right;\n",
       "    }\n",
       "</style>\n",
       "<table border=\"1\" class=\"dataframe\">\n",
       "  <thead>\n",
       "    <tr style=\"text-align: right;\">\n",
       "      <th></th>\n",
       "      <th>Deal</th>\n",
       "      <th>No Deal</th>\n",
       "    </tr>\n",
       "    <tr>\n",
       "      <th>Season</th>\n",
       "      <th></th>\n",
       "      <th></th>\n",
       "    </tr>\n",
       "  </thead>\n",
       "  <tbody>\n",
       "    <tr>\n",
       "      <th>6.0</th>\n",
       "      <td>0.555556</td>\n",
       "      <td>0.444444</td>\n",
       "    </tr>\n",
       "    <tr>\n",
       "      <th>7.0</th>\n",
       "      <td>0.568421</td>\n",
       "      <td>0.431579</td>\n",
       "    </tr>\n",
       "    <tr>\n",
       "      <th>8.0</th>\n",
       "      <td>0.632184</td>\n",
       "      <td>0.367816</td>\n",
       "    </tr>\n",
       "    <tr>\n",
       "      <th>5.0</th>\n",
       "      <td>0.453488</td>\n",
       "      <td>0.546512</td>\n",
       "    </tr>\n",
       "    <tr>\n",
       "      <th>9.0</th>\n",
       "      <td>0.662651</td>\n",
       "      <td>0.337349</td>\n",
       "    </tr>\n",
       "    <tr>\n",
       "      <th>10.0</th>\n",
       "      <td>0.658228</td>\n",
       "      <td>0.341772</td>\n",
       "    </tr>\n",
       "    <tr>\n",
       "      <th>4.0</th>\n",
       "      <td>0.457143</td>\n",
       "      <td>0.542857</td>\n",
       "    </tr>\n",
       "    <tr>\n",
       "      <th>3.0</th>\n",
       "      <td>0.440000</td>\n",
       "      <td>0.560000</td>\n",
       "    </tr>\n",
       "    <tr>\n",
       "      <th>1.0</th>\n",
       "      <td>0.448980</td>\n",
       "      <td>0.551020</td>\n",
       "    </tr>\n",
       "    <tr>\n",
       "      <th>2.0</th>\n",
       "      <td>0.542857</td>\n",
       "      <td>0.457143</td>\n",
       "    </tr>\n",
       "  </tbody>\n",
       "</table>\n",
       "</div>"
      ],
      "text/plain": [
       "            Deal   No Deal\n",
       "Season                    \n",
       "6.0     0.555556  0.444444\n",
       "7.0     0.568421  0.431579\n",
       "8.0     0.632184  0.367816\n",
       "5.0     0.453488  0.546512\n",
       "9.0     0.662651  0.337349\n",
       "10.0    0.658228  0.341772\n",
       "4.0     0.457143  0.542857\n",
       "3.0     0.440000  0.560000\n",
       "1.0     0.448980  0.551020\n",
       "2.0     0.542857  0.457143"
      ]
     },
     "execution_count": 82,
     "metadata": {},
     "output_type": "execute_result"
    }
   ],
   "source": [
    "# separate into deals and not deals\n",
    "df_season['No Deal'] = season_counts - df_season['Deal']\n",
    "df_season['Sum'] = df_season['Deal'] + df_season['No Deal']\n",
    "df_season = df_season.sort_values(by='Sum', ascending=False)\n",
    "\n",
    "# make into proportions\n",
    "def make_proportion(num, s):\n",
    "    return num/s\n",
    "\n",
    "df_season['Deal'] = df_season.apply(lambda x: make_proportion(df_season['Deal'], df_season['Sum']))\n",
    "df_season['No Deal'] = df_season.apply(lambda x: make_proportion(df_season['No Deal'], df_season['Sum']))\n",
    "df_season = df_season.drop(columns=['Sum'])\n",
    "\n",
    "df_season"
   ]
  },
  {
   "cell_type": "markdown",
   "metadata": {},
   "source": [
    "The above data shows the proportion of deals to no deals for every season. Now, let's take a closer look at the distributions of deals throughout the seasons."
   ]
  },
  {
   "cell_type": "code",
   "execution_count": 83,
   "metadata": {},
   "outputs": [
    {
     "data": {
      "text/html": [
       "<div>\n",
       "<style scoped>\n",
       "    .dataframe tbody tr th:only-of-type {\n",
       "        vertical-align: middle;\n",
       "    }\n",
       "\n",
       "    .dataframe tbody tr th {\n",
       "        vertical-align: top;\n",
       "    }\n",
       "\n",
       "    .dataframe thead th {\n",
       "        text-align: right;\n",
       "    }\n",
       "</style>\n",
       "<table border=\"1\" class=\"dataframe\">\n",
       "  <thead>\n",
       "    <tr style=\"text-align: right;\">\n",
       "      <th></th>\n",
       "      <th>Deal</th>\n",
       "      <th>No Deal</th>\n",
       "    </tr>\n",
       "  </thead>\n",
       "  <tbody>\n",
       "    <tr>\n",
       "      <th>count</th>\n",
       "      <td>10.000000</td>\n",
       "      <td>10.000000</td>\n",
       "    </tr>\n",
       "    <tr>\n",
       "      <th>mean</th>\n",
       "      <td>0.541951</td>\n",
       "      <td>0.458049</td>\n",
       "    </tr>\n",
       "    <tr>\n",
       "      <th>std</th>\n",
       "      <td>0.088928</td>\n",
       "      <td>0.088928</td>\n",
       "    </tr>\n",
       "    <tr>\n",
       "      <th>min</th>\n",
       "      <td>0.440000</td>\n",
       "      <td>0.337349</td>\n",
       "    </tr>\n",
       "    <tr>\n",
       "      <th>25%</th>\n",
       "      <td>0.454402</td>\n",
       "      <td>0.383757</td>\n",
       "    </tr>\n",
       "    <tr>\n",
       "      <th>50%</th>\n",
       "      <td>0.549206</td>\n",
       "      <td>0.450794</td>\n",
       "    </tr>\n",
       "    <tr>\n",
       "      <th>75%</th>\n",
       "      <td>0.616243</td>\n",
       "      <td>0.545598</td>\n",
       "    </tr>\n",
       "    <tr>\n",
       "      <th>max</th>\n",
       "      <td>0.662651</td>\n",
       "      <td>0.560000</td>\n",
       "    </tr>\n",
       "  </tbody>\n",
       "</table>\n",
       "</div>"
      ],
      "text/plain": [
       "            Deal    No Deal\n",
       "count  10.000000  10.000000\n",
       "mean    0.541951   0.458049\n",
       "std     0.088928   0.088928\n",
       "min     0.440000   0.337349\n",
       "25%     0.454402   0.383757\n",
       "50%     0.549206   0.450794\n",
       "75%     0.616243   0.545598\n",
       "max     0.662651   0.560000"
      ]
     },
     "execution_count": 83,
     "metadata": {},
     "output_type": "execute_result"
    }
   ],
   "source": [
    "df_season.describe()"
   ]
  },
  {
   "cell_type": "markdown",
   "metadata": {},
   "source": [
    "The mean and median are very close for both deal and no deal, so we can assume the distribution is not heavily skewed in any direction. We observe that the proportion of deals and no deals centers around 50%, meaning that for any given season we can predict that 50% of pitches will get a deal (within a certain range of error, described in our nonzero standard deviation). "
   ]
  },
  {
   "cell_type": "markdown",
   "metadata": {},
   "source": [
    "Having observed the numerical summaries for the data, we can observe the deal:no deal ratio in a stacked bar plot split by seasons."
   ]
  },
  {
   "cell_type": "code",
   "execution_count": 84,
   "metadata": {},
   "outputs": [
    {
     "data": {
      "image/png": "[encoded data removed]",
      "text/plain": [
       "<Figure size 432x288 with 1 Axes>"
      ]
     },
     "metadata": {
      "needs_background": "light"
     },
     "output_type": "display_data"
    }
   ],
   "source": [
    "# stacked bar plot\n",
    "ax = df_season.plot.bar(stacked=True, title='Deal Results By Season')\n",
    "ax.set_ylabel('Proportion of Deals')\n",
    "ax = ax.set_xticklabels([\"1\", \"2\", \"3\", \"4\", \"5\", \"6\", \"7\", \"8\", \"9\", \"10\"], rotation=0)\n",
    "ax1 = plt.legend(bbox_to_anchor=(1.25, 1), loc='upper right')"
   ]
  },
  {
   "cell_type": "markdown",
   "metadata": {},
   "source": [
    "From this plot, we see that although the proportions of deals made to not made changes slightly between seasons, there is no apparent trend in how these proportions change throughout the first 10 seasons of the show. We can assume that there is no significant influence on whether a deal is secured from which season the product appeared. In any given season, approximately half of the pitches acquire deals (based on our dataset). For this reason, we will not use season as a feature for predicting whether a deal is made."
   ]
  },
  {
   "cell_type": "markdown",
   "metadata": {},
   "source": [
    "## Race"
   ]
  },
  {
   "cell_type": "markdown",
   "metadata": {},
   "source": [
    "In the next few cells, we explore how race comes into play in regards to overall diversity on the show. First, we created our race file by taking 2 random companies from each season and checking their race. Then, we import this csv file and standardize it to be able to merge with our full dataset that has been cleaned."
   ]
  },
  {
   "cell_type": "code",
   "execution_count": 85,
   "metadata": {},
   "outputs": [],
   "source": [
    "def standardize_race(string):\n",
    "    string = string.strip()\n",
    "    return string"
   ]
  },
  {
   "cell_type": "code",
   "execution_count": 86,
   "metadata": {},
   "outputs": [],
   "source": [
    "df_race = pd.read_csv('SharkTank_Races.csv')\n",
    "df_race['Company'] = df_race['Company'].apply(standardize_race)"
   ]
  },
  {
   "cell_type": "code",
   "execution_count": 87,
   "metadata": {},
   "outputs": [],
   "source": [
    "df_race = df_full.merge(df_race, how='inner', on='Company')"
   ]
  },
  {
   "cell_type": "markdown",
   "metadata": {},
   "source": [
    "We can see now that we have a new dataframe with the column 'Race.' We now want to take a look from our sample to see the distribution of races and see if we can find any biases."
   ]
  },
  {
   "cell_type": "code",
   "execution_count": 90,
   "metadata": {},
   "outputs": [
    {
     "data": {
      "image/png": "[encoded data removed]",
      "text/plain": [
       "<Figure size 432x288 with 1 Axes>"
      ]
     },
     "metadata": {
      "needs_background": "light"
     },
     "output_type": "display_data"
    }
   ],
   "source": [
    "race_counts = df_race['Race'].value_counts()\n",
    "overall_race = race_counts.plot.bar(title='Race in Sampled Observations')"
   ]
  },
  {
   "cell_type": "markdown",
   "metadata": {},
   "source": [
    "Taking a look at the barplot above, we can see that there is an overwhelming difference between the amount of white\n",
    "entrepreneurs and the other races. In addition, we can see that there were only 4 categories within race, so there are possibly other races that were just not within our sample. However, despite this possible inconsistency (meaning there could be other races, but we just did not find more), we can see the majority of the sample being white. This could present an idea that Shark Tank entrepreneurs are more likely to be white. Now withing race, let's look at the distrubition of getting a deal"
   ]
  },
  {
   "cell_type": "code",
   "execution_count": 102,
   "metadata": {},
   "outputs": [
    {
     "data": {
      "image/png": "[encoded data removed]",
      "text/plain": [
       "<Figure size 842.4x595.44 with 1 Axes>"
      ]
     },
     "metadata": {},
     "output_type": "display_data"
    }
   ],
   "source": [
    "sns.set(rc={'figure.figsize':(11.7,8.27)})\n",
    "ax = sns.countplot(x=\"Race\", hue=\"Deal\", data=df_race)\n"
   ]
  },
  {
   "cell_type": "markdown",
   "metadata": {},
   "source": [
    "While we can see that White people are more likely to get a deal on shark thank, the proportion of white entrepreneur obtaining a deal on on shark tank is still 8/(8+6)=57%, which is about the same as the general population on shark tank. Africian American and Asian entrepreneurs have very few data points, which isn't enough to understand what the proportion of people from those races do get deals. Similarly, even though the data shows that 75% of Latin American entrepreneurs are likely to get a deal, we must take into account that we only have 4 data points, which isn't sufficient to understand the actual distribution."
   ]
  },
  {
   "cell_type": "code",
   "execution_count": 103,
   "metadata": {},
   "outputs": [
    {
     "data": {
      "text/plain": [
       "count        20\n",
       "unique        4\n",
       "top       White\n",
       "freq         14\n",
       "Name: Race, dtype: object"
      ]
     },
     "execution_count": 103,
     "metadata": {},
     "output_type": "execute_result"
    }
   ],
   "source": [
    "#going to now do descriptive analysis on race\n",
    "df_race['Race'].describe()"
   ]
  },
  {
   "cell_type": "markdown",
   "metadata": {},
   "source": [
    "Going into some descriptive analysis, since race is a categorical variable and we already took a look at the overall barplot for our sample, we can now use describe just to see if we can get more information. Based on the output above, we can see that out of all 4 races, white ended up being the top frequency of 14 out of 20 observations. This again demonstrates that there could be a bias when it comes to selecting the demographic of entrepreneurs on shark tank. If a larger sample was taken, it could be possible that this is slightly different, but with our current random sample, we see that white is the most common race seen on shark tank.Based on the current data, we have We can also infer that there lies no underlying bias for the deal distrubution amongst different races. However, this may not be reflective of reality as we only had access to twenty data points, which may not be enough to make these claims"
   ]
  },
  {
   "cell_type": "markdown",
   "metadata": {},
   "source": [
    "## Gender\n",
    "\n",
    "Now we will evaluate Gender (overall and per shark).\n",
    "\n",
    "First we will take a look at the gender proportions of participants in Shark Tank."
   ]
  },
  {
   "cell_type": "code",
   "execution_count": 104,
   "metadata": {},
   "outputs": [
    {
     "name": "stdout",
     "output_type": "stream",
     "text": [
      "Male      0.596180\n",
      "Female    0.249659\n",
      "Mixed     0.154161\n",
      "Name: Gender, dtype: float64\n"
     ]
    },
    {
     "data": {
      "image/png": "[encoded data removed]",
      "text/plain": [
       "<Figure size 842.4x595.44 with 1 Axes>"
      ]
     },
     "metadata": {},
     "output_type": "display_data"
    }
   ],
   "source": [
    "gender_prop = df_full['Gender'].value_counts() / len(df_full['Gender'])\n",
    "gender_prop.index = ['Male','Female','Mixed']\n",
    "print(gender_prop)\n",
    "gender_prop_plot = sns.barplot(x=gender_prop.index, y=gender_prop, data=df_full).set_title('Total Gender Proportions')"
   ]
  },
  {
   "cell_type": "markdown",
   "metadata": {},
   "source": [
    "At 60%, most of the participants in Shark Tank are men. 25% are women and 15% are a mixed group (i.e. both Male and Female).\n",
    "\n",
    "Next, we go over the proportions of gender that got a deal, grouped by shark."
   ]
  },
  {
   "cell_type": "code",
   "execution_count": 105,
   "metadata": {},
   "outputs": [
    {
     "name": "stdout",
     "output_type": "stream",
     "text": [
      "         Barbara   Daymond      Lori     Kevin      Mark    Robert     Guest\n",
      "Male    0.461538  0.515625  0.495050  0.636364  0.622951  0.739726  0.476190\n",
      "Female  0.415385  0.281250  0.356436  0.196970  0.262295  0.164384  0.261905\n",
      "Mixed   0.123077  0.203125  0.148515  0.166667  0.114754  0.095890  0.261905\n",
      "\n",
      "        Barbara   Daymond      Lori     Kevin      Mark    Robert     Guest\n",
      "count  3.000000  3.000000  3.000000  3.000000  3.000000  3.000000  3.000000\n",
      "mean   0.333333  0.333333  0.333333  0.333333  0.333333  0.333333  0.333333\n",
      "std    0.183544  0.162630  0.174419  0.262869  0.261440  0.353609  0.123718\n",
      "min    0.123077  0.203125  0.148515  0.166667  0.114754  0.095890  0.261905\n",
      "25%    0.269231  0.242188  0.252475  0.181818  0.188525  0.130137  0.261905\n",
      "50%    0.415385  0.281250  0.356436  0.196970  0.262295  0.164384  0.261905\n",
      "75%    0.438462  0.398438  0.425743  0.416667  0.442623  0.452055  0.369048\n",
      "max    0.461538  0.515625  0.495050  0.636364  0.622951  0.739726  0.476190\n"
     ]
    },
    {
     "data": {
      "image/png": "[encoded data removed]",
      "text/plain": [
       "<Figure size 842.4x595.44 with 1 Axes>"
      ]
     },
     "metadata": {},
     "output_type": "display_data"
    }
   ],
   "source": [
    "# proportions of gender that got a deal, grouped by shark\n",
    "dict_shark = {}\n",
    "gender_map = {0:'Male',1:'Female',2:'Mixed'}\n",
    "total_per_shark = {'Barbara': 0,'Daymond': 0,'Lori': 0,'Kevin': 0,'Mark': 0,'Robert': 0,'Guest': 0}\n",
    "for gender in [0,1,2]:\n",
    "    gen=df_full[df_full['Gender']==gender]\n",
    "    for ind, row in gen.iterrows():\n",
    "        for shark in total_per_shark.keys():\n",
    "            if row[shark] == 1:\n",
    "                total_per_shark[shark] += 1\n",
    "                if shark in dict_shark:\n",
    "                    if gender_map[gender] in dict_shark[shark]:\n",
    "                        dict_shark[shark][gender_map[gender]] += 1\n",
    "                    else:\n",
    "                        dict_shark[shark][gender_map[gender]] = 1\n",
    "                else:\n",
    "                    dict_shark[shark] = {}\n",
    "                    dict_shark[shark][gender_map[gender]] = 1\n",
    "\n",
    "# make proportions\n",
    "dict_prop_by_shark = {}\n",
    "for shark in total_per_shark.keys():\n",
    "    for gender in ['Male', 'Female', 'Mixed']:\n",
    "        if shark not in dict_prop_by_shark:\n",
    "            dict_prop_by_shark[shark] = {}\n",
    "        dict_prop_by_shark[shark][gender] = dict_shark[shark][gender] / total_per_shark[shark]\n",
    "                    \n",
    "df_shark_by_gender = pd.DataFrame(dict_prop_by_shark)\n",
    "gender_per_shark_plt = df_shark_by_gender.transpose().plot.bar().set_title('Total Gender Proportions with Deals')\n",
    "\n",
    "print(df_shark_by_gender)\n",
    "print()\n",
    "print(df_shark_by_gender.describe())"
   ]
  },
  {
   "cell_type": "markdown",
   "metadata": {},
   "source": [
    "As you can probably tell, out of all the sharks, Robert gives the highest proportion of deals to men: 74% of his deals go to men, 16% go to women, and 10% go to mixed team. On the other side of the spectrum, Barbara is the shark who gives the most deals to women: 40% of her deals go to women, whereas 48% of her deals go to men and 13% go to a mixed team. If we use the proportion of genders that come on the show as a basis (meaning that sharks should, theoretically, give the same proportion of deals to each gender as the proportions that come on the show), which is 60% male/25% female/15% mixed team, then Barbara and Lori are biased towards women. With this same logic, Kevin and Robert are biased towards men. The rest of the sharks also seem to have some bias, though not as extreme. Let's use a 2-proportion z test to check if these biases are statistically significant.\n",
    "\n",
    "\n",
    "To do so, we first have to recalculate the proportions without the \"Mixed\" gender groups. The 2-proportion z test can only compare 2 proportions, and the 2 proportions we care most about are male and female (which is why we will drop the Mixed gender).\n",
    "\n",
    "First recompute the overall gender proportions without the Mixed gender groups:"
   ]
  },
  {
   "cell_type": "code",
   "execution_count": 106,
   "metadata": {},
   "outputs": [
    {
     "name": "stdout",
     "output_type": "stream",
     "text": [
      "Male      0.704839\n",
      "Female    0.295161\n",
      "Name: Gender, dtype: float64\n"
     ]
    },
    {
     "data": {
      "image/png": "[encoded data removed]",
      "text/plain": [
       "<Figure size 842.4x595.44 with 1 Axes>"
      ]
     },
     "metadata": {},
     "output_type": "display_data"
    }
   ],
   "source": [
    "gender_prop = df_full['Gender'].value_counts()\n",
    "gender_prop.index = ['Male','Female','Mixed']\n",
    "gender_prop = gender_prop.drop(['Mixed'])\n",
    "gender_prop = gender_prop / (gender_prop['Male'] + gender_prop['Female'])\n",
    "print(gender_prop)\n",
    "gender_prop_plot = sns.barplot(x=gender_prop.index, y=gender_prop, data=df_full).set_title('Total Gender Proportions')"
   ]
  },
  {
   "cell_type": "markdown",
   "metadata": {},
   "source": [
    "The proportions between male and female didn't change too much, with the male proportions being 70% and female being 30%.\n",
    "\n",
    "Next, let's recompute the gender proportions for each shark without the Mixed group."
   ]
  },
  {
   "cell_type": "code",
   "execution_count": 107,
   "metadata": {},
   "outputs": [
    {
     "name": "stdout",
     "output_type": "stream",
     "text": [
      "         Barbara   Daymond      Lori     Kevin      Mark    Robert     Guest\n",
      "Male    0.526316  0.647059  0.581395  0.763636  0.703704  0.818182  0.645161\n",
      "Female  0.473684  0.352941  0.418605  0.236364  0.296296  0.181818  0.354839\n",
      "\n",
      "        Barbara   Daymond      Lori     Kevin      Mark    Robert     Guest\n",
      "count  2.000000  2.000000  2.000000  2.000000  2.000000  2.000000  2.000000\n",
      "mean   0.500000  0.500000  0.500000  0.500000  0.500000  0.500000  0.500000\n",
      "std    0.037216  0.207973  0.115110  0.372838  0.288081  0.449977  0.205289\n",
      "min    0.473684  0.352941  0.418605  0.236364  0.296296  0.181818  0.354839\n",
      "25%    0.486842  0.426471  0.459302  0.368182  0.398148  0.340909  0.427419\n",
      "50%    0.500000  0.500000  0.500000  0.500000  0.500000  0.500000  0.500000\n",
      "75%    0.513158  0.573529  0.540698  0.631818  0.601852  0.659091  0.572581\n",
      "max    0.526316  0.647059  0.581395  0.763636  0.703704  0.818182  0.645161\n"
     ]
    },
    {
     "data": {
      "image/png": "[encoded data removed]",
      "text/plain": [
       "<Figure size 842.4x595.44 with 1 Axes>"
      ]
     },
     "metadata": {},
     "output_type": "display_data"
    }
   ],
   "source": [
    "# proportions of gender that got a deal, grouped by shark\n",
    "dict_shark = {}\n",
    "gender_map = {0:'Male',1:'Female'}\n",
    "total_per_shark = {'Barbara': 0,'Daymond': 0,'Lori': 0,'Kevin': 0,'Mark': 0,'Robert': 0,'Guest': 0}\n",
    "for gender in [0,1]:\n",
    "    gen=df_full[df_full['Gender']==gender]\n",
    "    for ind, row in gen.iterrows():\n",
    "        for shark in total_per_shark.keys():\n",
    "            if row[shark] == 1:\n",
    "                total_per_shark[shark] += 1\n",
    "                if shark in dict_shark:\n",
    "                    if gender_map[gender] in dict_shark[shark]:\n",
    "                        dict_shark[shark][gender_map[gender]] += 1\n",
    "                    else:\n",
    "                        dict_shark[shark][gender_map[gender]] = 1\n",
    "                else:\n",
    "                    dict_shark[shark] = {}\n",
    "                    dict_shark[shark][gender_map[gender]] = 1\n",
    "\n",
    "# make proportions\n",
    "dict_prop_by_shark = {}\n",
    "for shark in total_per_shark.keys():\n",
    "    for gender in ['Male', 'Female']:\n",
    "        if shark not in dict_prop_by_shark:\n",
    "            dict_prop_by_shark[shark] = {}\n",
    "        dict_prop_by_shark[shark][gender] = dict_shark[shark][gender] / total_per_shark[shark]\n",
    "                    \n",
    "df_shark_by_gender = pd.DataFrame(dict_prop_by_shark)\n",
    "gender_per_shark_plt = df_shark_by_gender.transpose().plot.bar().set_title('Total Gender Proportions with Deals')\n",
    "\n",
    "print(df_shark_by_gender)\n",
    "print()\n",
    "print(df_shark_by_gender.describe())"
   ]
  },
  {
   "cell_type": "markdown",
   "metadata": {},
   "source": [
    "The values of the sharks' gender distributions didn't change much as well. However, it's vital so that we can test if sharks are independently biased towards different genders. We now will run the 2-proportion z test on every shark with the null hypotheses being that every shark should give deals to the same proportion of genders that give pitches (70% male, 30% female):"
   ]
  },
  {
   "cell_type": "code",
   "execution_count": 108,
   "metadata": {},
   "outputs": [
    {
     "name": "stdout",
     "output_type": "stream",
     "text": [
      "z_stat: -2.788, p_value: 0.005\n",
      "Reject the null hypothesis for Barbara\n",
      "z_stat: -0.866, p_value: 0.387\n",
      "Fail to reject the null hypothesis for Daymond\n",
      "z_stat: -2.319, p_value: 0.020\n",
      "Reject the null hypothesis for Lori\n",
      "z_stat: 0.921, p_value: 0.357\n",
      "Fail to reject the null hypothesis for Kevin\n",
      "z_stat: -0.024, p_value: 0.981\n",
      "Fail to reject the null hypothesis for Mark\n",
      "z_stat: 1.941, p_value: 0.052\n",
      "Reject the null hypothesis for Robert\n",
      "z_stat: -0.709, p_value: 0.478\n",
      "Fail to reject the null hypothesis for Guest\n"
     ]
    }
   ],
   "source": [
    "dict_shark\n",
    "significance = 0.1\n",
    "\n",
    "# get male/female number in population\n",
    "male_pop, female_pop, not_used = df_full['Gender'].value_counts()\n",
    "\n",
    "# loop through shark names\n",
    "for shark in total_per_shark.keys():\n",
    "    male_shark, female_shark = dict_shark[shark].values()\n",
    "    males = np.array([male_shark, male_pop])\n",
    "    totals = np.array([male_shark + female_shark, male_pop + female_pop])\n",
    "    stat, p_value = proportions_ztest(count=males, nobs=totals,  alternative='two-sided')\n",
    "\n",
    "    # report\n",
    "    print('z_stat: %0.3f, p_value: %0.3f' % (stat, p_value))\n",
    "    if p_value > significance:\n",
    "        print(\"Fail to reject the null hypothesis for \" + shark)\n",
    "    else:\n",
    "        print(\"Reject the null hypothesis for \" + shark)"
   ]
  },
  {
   "cell_type": "markdown",
   "metadata": {},
   "source": [
    "From the 2 proportion z-test, we find that for Barbara and Lori we have a low enough p-value (<0.1) to reject the null hypothesis that every shark should give deals to the same proportion of genders that give pitches (70% male, 30% female). For both these sharks we find that they are more likely to give females on the show a deal than other sharks.\n",
    "\n",
    "Alternatively, we find the opposite true for Robert. With a p-value of 0.052, which is less than 0.1, we can reject the null hypothesis and state that Robert favors one gender over the other when giving a deal. Looking closely at graphs made above, we find that Robert is more likely to give a male on the show a deal than other sharks.\n",
    "\n",
    "For the remaining sharks, we fail to reject the null hypothesis due to the p-value being higher than the significance. We can accept the null and state that sharks other than Barbara, Lori, and Robert give deals to the same proportion of genders that give pitches (70% male, 30% female)"
   ]
  },
  {
   "cell_type": "markdown",
   "metadata": {},
   "source": [
    "## Gender vs Status"
   ]
  },
  {
   "cell_type": "code",
   "execution_count": 121,
   "metadata": {},
   "outputs": [
    {
     "data": {
      "text/plain": [
       "{'Male': {'Out of Business': 0.5909090909090909,\n",
       "  'In Business/Aquired': 0.5783132530120482},\n",
       " 'Female': {'Out of Business': 0.2597402597402597,\n",
       "  'In Business/Aquired': 0.26506024096385544},\n",
       " 'Mixed': {'Out of Business': 0.14935064935064934,\n",
       "  'In Business/Aquired': 0.1566265060240964}}"
      ]
     },
     "execution_count": 121,
     "metadata": {},
     "output_type": "execute_result"
    },
    {
     "data": {
      "image/png": "[encoded data removed]",
      "text/plain": [
       "<Figure size 842.4x595.44 with 1 Axes>"
      ]
     },
     "metadata": {},
     "output_type": "display_data"
    }
   ],
   "source": [
    "# Status grouped by gender, proportioned by status\n",
    "dict_status = {'Out of Business': {}, 'In Business/Aquired': {}}\n",
    "total_per_status = {'Out of Business': 0, 'In Business/Aquired': 0} # used to get the proportions\n",
    "gender_map = {0:'Male', 1:'Female', 2:'Mixed'}\n",
    "status_map = {0: 'Out of Business', 1: 'In Business/Aquired'}\n",
    "for gender in [0,1,2]:\n",
    "    gen=df_full[df_full['Gender']==gender]\n",
    "    for ind, row in gen.iterrows():\n",
    "        if row['Status'] == -1: # TODO if you want only deals, add this:  row['Deal'] != 1 or\n",
    "            continue\n",
    "\n",
    "        gender_str = gender_map[gender]\n",
    "        status = status_map[row['Status']]\n",
    "        total_per_status[status] += 1\n",
    "        if gender_str in dict_status[status]:\n",
    "            dict_status[status][gender_str] += 1\n",
    "        else:\n",
    "            dict_status[status][gender_str] = 1\n",
    "\n",
    "# make proportions\n",
    "dict_prop_by_status = {}\n",
    "for s in ['Out of Business', 'In Business/Aquired']:\n",
    "    for gender in gender_map.values():\n",
    "        if gender not in dict_prop_by_status:\n",
    "            dict_prop_by_status[gender] = {}\n",
    "        dict_prop_by_status[gender][s] = dict_status[s][gender] / total_per_status[s]\n",
    "\n",
    "df_status_by_gender = pd.DataFrame(dict_prop_by_status)\n",
    "df_status_by_gender.transpose().plot.bar().set_title('Status Grouped by Gender, Proportioned by Shark')\n",
    "dict_prop_by_status"
   ]
  },
  {
   "cell_type": "markdown",
   "metadata": {},
   "source": [
    "Based on the calculations above, we wanted to take a look at gender versus status to see if there are any significant observations we can make. By the plot above, we can see that the 3 gender categories of male, female, and both male/female all have roughly equal proportions of either going out of business or who stayed in business. This demonstrates that roughly the same amount of male run businesses fail or succeed as female run businesses (and same for businesses run by both genders). Thus, gender probably does not affect whether or not their company stays in or goes out of business. If doing only ones that got deals: after everyone gets deals, the same proportion of male run businesses fail/succeed as female run businesses (same for businesses run by both genders). This could be a result of sharks being unbiased of gender after giving deals, though it's impossible to say for certain since there are many outside influences that determine a business's success or failure."
   ]
  },
  {
   "cell_type": "markdown",
   "metadata": {},
   "source": [
    "## Gender vs Season"
   ]
  },
  {
   "cell_type": "code",
   "execution_count": 118,
   "metadata": {
    "scrolled": true
   },
   "outputs": [],
   "source": [
    "# proportions of gender per season\n",
    "dict_season = {}\n",
    "gender_map = {0:'Male', 1:'Female', 2:'Mixed'}\n",
    "total_per_season = {}\n",
    "for ind, row in df_full.iterrows():\n",
    "    # get gender string and season\n",
    "    gender = gender_map[row['Gender']]\n",
    "    season = int(row['Season'])\n",
    "    \n",
    "    # initialize keys in dataframes\n",
    "    if season not in dict_season:\n",
    "        dict_season[season] = {}\n",
    "    if season not in total_per_season:\n",
    "        total_per_season[season] = 0\n",
    "\n",
    "    # initialize gender key in dataframe value\n",
    "    if gender not in dict_season[season]:\n",
    "        dict_season[season][gender] = 0\n",
    "\n",
    "    dict_season[season][gender] += 1\n",
    "    total_per_season[season] += 1\n",
    "    \n",
    "dict_season = dict(sorted(dict_season.items(), key=lambda x: x[0], reverse=False))\n",
    "    \n",
    "# make proportions\n",
    "for season in dict_season:\n",
    "    for gender in dict_season[season]:\n",
    "        dict_season[season][gender] /= total_per_season[season]\n",
    "        \n"
   ]
  },
  {
   "cell_type": "code",
   "execution_count": 120,
   "metadata": {},
   "outputs": [
    {
     "data": {
      "text/plain": [
       "Text(0, 0.5, 'Proportion')"
      ]
     },
     "execution_count": 120,
     "metadata": {},
     "output_type": "execute_result"
    },
    {
     "data": {
      "image/png": "[encoded data removed]",
      "text/plain": [
       "<Figure size 720x360 with 1 Axes>"
      ]
     },
     "metadata": {},
     "output_type": "display_data"
    }
   ],
   "source": [
    "df_season = pd.DataFrame(dict_season)\n",
    "gender_per_season_plot = df_season.transpose().plot(figsize=(10,5))\n",
    "gender_per_season_plot.set_title('Gender Per Season')\n",
    "gender_per_season_plot.set_xlabel('Season')\n",
    "gender_per_season_plot.set_ylabel('Proportion')"
   ]
  },
  {
   "cell_type": "markdown",
   "metadata": {},
   "source": [
    "Looking at the plot above, we want to now discuss the relationship between gender and season. We are able to see the trends between the proportion of genders as we go through the seasons (1-10) of the show. First looking at Males, we can see that there is a much higher proportion (approximately .55) than females and mixed genders right at the first season. Looking at the trend for males, there is an incline in proportion from seasons 1-3 with a smaller incline from 3-4. From seasons 4-6 we see a decline. From seasons 6-10 we see a sharp 'triangle' of increase and then decrease and then again.\n",
    "\n",
    "Taking a look at Females, we can see that their proportion at the start is appropximately .29/.3, which is much lower than the Males starting point. We then see a decline from seasons 2-3 and a very very small increase from seasons 3-6. Eventually from seasons 7-9 we see an increase then decrease 'triangle' shape again, but almost like an inverse when comparing to the males trend.\n",
    "\n",
    "As for the Mixed group, we can see that overall there is a small increase, but it veries throughout the 10 seasons with decreases in the beginning, but small increases from seasons 2-6. Then we see a smaller 'triangle' shape seasons 7-9 with a sharp increase seasons 9-10.\n",
    "\n",
    "Now we want to see trends between these groups over the seasons. Clearly, we can see that there are many more males on the show per season than females. Females do not even ever reach as close to the shortest proportion point to males. This indicates that the show significantly hosts more males or indicates that there are more male entrepreneurs than female entrepreneurs. In addition, from seasons 7-8 we see that there is a drop of male proportions from approximately .65 to .55 while female proportions increase from approximately .25 to .30. This could indicate that the show wanted to have more female owned companies or in that specific season/year, there tended to be more female entrepreneurs. We see an opposite pattern going from seasons 8-9. From this, it may indicate that the show possibly began to trade between more males versus females on the show to make things even, but this could not be a guarenteed assumption."
   ]
  },
  {
   "cell_type": "markdown",
   "metadata": {},
   "source": [
    "## Deal vs Ask Equity/Valuation\n",
    "\n",
    "Next, we will try to see if ask equity and valuation of the product/company has an effect on whether or not they get a deal.\n",
    "\n",
    "Here is a boxplot of ask equity versus whether or not a company got a deal. This will allow us to figure out if ask equity affects getting a deal. Below that is the written data of the boxplot."
   ]
  },
  {
   "cell_type": "code",
   "execution_count": null,
   "metadata": {
    "scrolled": true
   },
   "outputs": [],
   "source": [
    "print(df_full[df_full['Deal'] == 0]['Ask_equity'].describe())\n",
    "print()\n",
    "print(df_full[df_full['Deal'] == 1]['Ask_equity'].describe())\n",
    "deal_vs_aequity = sns.boxplot(x='Deal', y=\"Ask_equity\", data=df_full, showfliers=False).set_title('Ask Equity vs Got a Deal')"
   ]
  },
  {
   "cell_type": "markdown",
   "metadata": {},
   "source": [
    "The amount of ask equity doesn't seem to have a large effect on whether a product/company gets a deal or not. All of the descriptive variables are similar except for the median, which is slightly lower in the ones that got a deal. This means that products/companies that ask for lower equities could potentially have a slight advantage towards getting a deal, though it might not be significant. We will analyze this further later on."
   ]
  },
  {
   "cell_type": "code",
   "execution_count": null,
   "metadata": {},
   "outputs": [],
   "source": [
    "print(df_full[df_full['Deal'] == 0]['Ask_valuation'].describe())\n",
    "print()\n",
    "print(df_full[df_full['Deal'] == 1]['Ask_valuation'].describe())\n",
    "deal_vs_aval = sns.boxplot(x='Deal', y=\"Ask_valuation\", data=df_full, showfliers=False).set_title('Ask Valuation vs Got a Deal')"
   ]
  },
  {
   "cell_type": "markdown",
   "metadata": {},
   "source": [
    "The amount of ask valuation seems to have a larger effect than ask equity on whether a product/company gets a deal or not. Both mean and median of products/companies that got a deal are lower than those that didn't get a deal. Both those that got and didn't get deals are skewed to the right, meaning that there are fewer companies that give more extreme valuations. Again, we do not yet know if this difference is statistically significant. We will analyze this further later on."
   ]
  },
  {
   "cell_type": "markdown",
   "metadata": {},
   "source": [
    "## Deal vs Status"
   ]
  },
  {
   "cell_type": "markdown",
   "metadata": {},
   "source": [
    "Next, we take a look at whether or not a company got a deal and whether or not they are still in business or went out of business. We get the proportions of the company's status (either out of business or still in business) and we group it according to whether or not they got a deal from a shark."
   ]
  },
  {
   "cell_type": "code",
   "execution_count": null,
   "metadata": {},
   "outputs": [],
   "source": [
    "# experimental: look at proportion of products that got deals are still in business/out of business vs the products that\n",
    "# didn't get deals and are still in business/out of business (i.e. check if getting a shark deal actually helps you to\n",
    "# stay in business). i.e. the question is: does getting a deal actually help your company stay in business\n",
    "\n",
    "# Status grouped by gender, proportioned by status\n",
    "dict_status = {'Out of Business': {}, 'In Business/Aquired': {}}\n",
    "total_per_status = {'Out of Business': 0, 'In Business/Aquired': 0} # used to get the proportions\n",
    "status_map = {0: 'Out of Business', 1: 'In Business/Aquired'}\n",
    "deal_map = {0: 'No Deal', 1: 'Deal'}\n",
    "for ind, row in df_full.iterrows():\n",
    "    # skip unknown statuses\n",
    "    if row['Status'] == -1:\n",
    "        continue\n",
    "        \n",
    "    # get status and deal\n",
    "    status = status_map[row['Status']]\n",
    "    deal = deal_map[row['Deal']]\n",
    "    \n",
    "    # initialize dict_status value if necessary and then increment in dict\n",
    "    if deal not in dict_status[status]:\n",
    "        dict_status[status][deal] = 0\n",
    "    total_per_status[status] += 1\n",
    "    dict_status[status][deal] += 1\n",
    "\n",
    "    \n",
    "# make proportions\n",
    "for status in dict_status:\n",
    "    for deal in dict_status[status]:\n",
    "        dict_status[status][deal] /= total_per_status[status]\n",
    "\n",
    "df_status = pd.DataFrame(dict_status)\n",
    "ax = df_status.plot.bar(stacked=True, title='Deal vs Status', colors=['Orange', 'Blue'])\n",
    "ax.set_xlabel(\"Deal\")\n",
    "ax.set_ylabel(\"Proportion of Status Success\")\n",
    "ax = ax.set_xticklabels([\"No Deal\", \"Deal\"], rotation=0)\n",
    "ax1 = plt.legend(bbox_to_anchor=(1.25, 1), loc='upper right')\n",
    "\n",
    "# analysis: Getting a deal in shark tank actually makes a difference in making you not go out of business."
   ]
  },
  {
   "cell_type": "markdown",
   "metadata": {},
   "source": [
    "Looking at the plot above, we can see that there is a difference in proportions between the groups. Looking at the No Deal category, we can see that roughly 60% of those who did not get a deal went out of business with 40% of them staying in business. On the other hand, the Deal category demonstrates that approximately 45% go out of business while approximately 55% stay in business. This signifies that companies are more likely to stay in business when getting a deal with a shark than not."
   ]
  },
  {
   "cell_type": "markdown",
   "metadata": {},
   "source": [
    "## Feature Correlation"
   ]
  },
  {
   "cell_type": "markdown",
   "metadata": {},
   "source": [
    "We would like to determine which variables are significantly correlated with a deal being made for each of the following: gender, industry, ask equity, ask price, and ask valuation.\n",
    "\n",
    "We're first going to explore gender and industry and their correlation with deal. Since these are all categorical variables, we'll be using the chi-squared test to check for correlation.\n",
    "\n",
    "##### Gender Correlation with Deal"
   ]
  },
  {
   "cell_type": "code",
   "execution_count": 217,
   "metadata": {},
   "outputs": [
    {
     "name": "stdout",
     "output_type": "stream",
     "text": [
      "significance=0.100, p=0.065\n",
      "Variables are associated (reject H0)\n"
     ]
    }
   ],
   "source": [
    "table = df_full[['Gender','Deal']].pivot_table(index='Gender', columns='Deal', \n",
    "                        aggfunc=len, fill_value=0)\n",
    "# Get chi-square value , p-value, degrees of freedom, expected frequencies using the function chi2_contingency\n",
    "stat, p, dof, expected = chi2_contingency(table)\n",
    "# select significance value\n",
    "alpha = 0.1\n",
    "# Determine whether to reject or keep your null hypothesis\n",
    "print('significance=%.3f, p=%.3f' % (alpha, p))\n",
    "if p <= alpha:\n",
    "    print('Variables are associated (reject H0)')\n",
    "else:\n",
    "    print('Variables are not associated(fail to reject H0)')"
   ]
  },
  {
   "cell_type": "markdown",
   "metadata": {},
   "source": [
    "Since the p-value is smaller than the level of significance, we will reject the null hypothesis for the alternative and confirm that the variables are associated. Knowing that gender influences the chance of getting a deal will be important to keep in mind when we attempt to predict the chance of getting a deal based on given features.\n",
    "\n",
    "##### Industry Correlation with Deal"
   ]
  },
  {
   "cell_type": "code",
   "execution_count": 218,
   "metadata": {},
   "outputs": [
    {
     "name": "stdout",
     "output_type": "stream",
     "text": [
      "significance=0.100, p=0.607\n",
      "Variables are not associated(fail to reject H0)\n"
     ]
    }
   ],
   "source": [
    "table = df_full[['Industry','Deal']].pivot_table(index='Industry', columns='Deal', \n",
    "                        aggfunc=len, fill_value=0)\n",
    "# Get chi-square value , p-value, degrees of freedom, expected frequencies using the function chi2_contingency\n",
    "stat, p, dof, expected = chi2_contingency(table)\n",
    "# select significance value\n",
    "alpha = 0.1\n",
    "# Determine whether to reject or keep your null hypothesis\n",
    "print('significance=%.3f, p=%.3f' % (alpha, p))\n",
    "if p <= alpha:\n",
    "    print('Variables are associated (reject H0)')\n",
    "else:\n",
    "    print('Variables are not associated(fail to reject H0)')"
   ]
  },
  {
   "cell_type": "markdown",
   "metadata": {},
   "source": [
    "Since the p-value is greater than the level of significance, we fail to reject the null hypothesis and accept that the variables are not associated. However, we cannot take only this test as fact, so we will take the result with a grain of salt. We can still consider the industry an important feature, even if the chi squared test doesn't show association."
   ]
  },
  {
   "cell_type": "markdown",
   "metadata": {},
   "source": [
    "#### Ask Equity/Amount/Valuation Correlation between Deals\n",
    "\n",
    "Next we will be running statistical analysis on ask equity, ask amount, and ask valuation. These analysis require correlation between a continuous and categorical variable rather than two categorical variables as was with gender vs deal and industry vs deal.\n",
    "\n",
    "Below, we will try to find the correlation between ask equity/amount/valuation and getting a deal. We will first check that the distribution is normal for ask equity, amount, and valuation, as this is a requirement for all correlation tests between continuous (e.g. equity, amount, valuation) and categorical (e.g. deal) variables."
   ]
  },
  {
   "cell_type": "markdown",
   "metadata": {},
   "source": [
    "##### Ask Equity Correlation between Deals"
   ]
  },
  {
   "cell_type": "code",
   "execution_count": 156,
   "metadata": {},
   "outputs": [
    {
     "name": "stdout",
     "output_type": "stream",
     "text": [
      "NormaltestResult(statistic=136.29479854133763, pvalue=2.5348983031872992e-30)\n"
     ]
    },
    {
     "data": {
      "image/png": "[encoded data removed]",
      "text/plain": [
       "<Figure size 842.4x595.44 with 1 Axes>"
      ]
     },
     "metadata": {},
     "output_type": "display_data"
    }
   ],
   "source": [
    "df_ask_equity = df_full[(df_full['Ask_equity'] > 0) & (df_full['Ask_equity'] < 60)] # Removing outliers\n",
    "sns.distplot(df_ask_equity['Ask_equity']).set_xlabel('')\n",
    "\n",
    "print(normaltest(df_ask_equity['Ask_equity'].values))"
   ]
  },
  {
   "cell_type": "markdown",
   "metadata": {},
   "source": [
    "The above data distrubution is not normal as the observed p-value is extremely small. A simple glance at the graph also tells us that it isn't normal.\n",
    "\n",
    "Below, we will try to normalize it by taking the log of the Ask_equity column:"
   ]
  },
  {
   "cell_type": "code",
   "execution_count": 157,
   "metadata": {},
   "outputs": [
    {
     "name": "stdout",
     "output_type": "stream",
     "text": [
      "NormaltestResult(statistic=17.59831710272021, pvalue=0.00015085996261368097)\n"
     ]
    },
    {
     "data": {
      "image/png": "[encoded data removed]",
      "text/plain": [
       "<Figure size 842.4x595.44 with 1 Axes>"
      ]
     },
     "metadata": {},
     "output_type": "display_data"
    }
   ],
   "source": [
    "df_ask_equity['Ask_equity_log'] = np.log(df_full['Ask_equity'])\n",
    "df_ask_equity = df_ask_equity[(df_ask_equity['Ask_equity_log'] > 0)]\n",
    "sns.distplot(df_ask_equity['Ask_equity_log'])\n",
    "\n",
    "print(normaltest(df_ask_equity['Ask_equity_log'].values))"
   ]
  },
  {
   "cell_type": "markdown",
   "metadata": {},
   "source": [
    "Unfortunately, we were unable to get a normal distribution. Thus, we are unable to run the biserial coefficiency computation. Despite this, we cannot completely rule out the effect of ask valuation on the chance of getting a deal. We will still consider the feature when making a prediction about a future deal, since we neither confirm nor reject the association between these two variables."
   ]
  },
  {
   "cell_type": "markdown",
   "metadata": {},
   "source": [
    "##### Amount Correlation between Deals"
   ]
  },
  {
   "cell_type": "code",
   "execution_count": 129,
   "metadata": {},
   "outputs": [
    {
     "name": "stdout",
     "output_type": "stream",
     "text": [
      "NormaltestResult(statistic=294.4171186638509, pvalue=1.1698629669594926e-64)\n"
     ]
    },
    {
     "data": {
      "image/png": "[encoded data removed]",
      "text/plain": [
       "<Figure size 842.4x595.44 with 1 Axes>"
      ]
     },
     "metadata": {},
     "output_type": "display_data"
    }
   ],
   "source": [
    "# Ask amount normal distribution and test\n",
    "df_ask_amount = df_full[(df_full['Ask_amount'] > 0) & (df_full['Ask_amount'] < 1500000)] # use 1500000 to ignore outliers\n",
    "sns.distplot(df_ask_amount['Ask_amount'])\n",
    "\n",
    "print(normaltest(df_ask_amount['Ask_amount'].values))"
   ]
  },
  {
   "cell_type": "markdown",
   "metadata": {},
   "source": [
    "Above, we can see that the distribution is not normal. We can confirm this by running a normal test computation on the distribution and the result tells us that this is not a normal distribution. To fix this, we will attempt to use the log function on the data (just as we did in ask equity)."
   ]
  },
  {
   "cell_type": "code",
   "execution_count": 130,
   "metadata": {},
   "outputs": [
    {
     "name": "stdout",
     "output_type": "stream",
     "text": [
      "NormaltestResult(statistic=4.50325574621146, pvalue=0.10522778757552358)\n"
     ]
    },
    {
     "data": {
      "image/png": "[encoded data removed]",
      "text/plain": [
       "<Figure size 842.4x595.44 with 1 Axes>"
      ]
     },
     "metadata": {},
     "output_type": "display_data"
    }
   ],
   "source": [
    "# Ask amount normal distribution and test with logs\n",
    "df_ask_amount = df_full[(df_full['Ask_amount'] > 0) & (df_full['Ask_amount'] < 1500000)]\n",
    "df_ask_amount['Ask_amount_log'] = np.log(df_ask_amount['Ask_amount'])\n",
    "sns.distplot(df_ask_amount['Ask_amount_log'])\n",
    "\n",
    "print(normaltest(df_ask_amount['Ask_amount_log'].values))"
   ]
  },
  {
   "cell_type": "markdown",
   "metadata": {},
   "source": [
    "The distribution now looks normal. We can confirm this by looking at the p-value of the normaltest computation, which is significantly greater than the alpha of 0.01.\n",
    "\n",
    "Now, we begin to run the biserial correlation analysis:"
   ]
  },
  {
   "cell_type": "code",
   "execution_count": 131,
   "metadata": {},
   "outputs": [
    {
     "name": "stdout",
     "output_type": "stream",
     "text": [
      "significance=0.100, p=0.255\n",
      "Variables are not associated(fail to reject H0)\n"
     ]
    }
   ],
   "source": [
    "# Get correlation value and p value using biserial function in scipy\n",
    "correlation, p = pointbiserialr(df_ask_amount['Deal'], df_ask_amount['Ask_amount_log'])\n",
    "\n",
    "# select significance value\n",
    "alpha = 0.1\n",
    "\n",
    "# Determine whether to reject or keep your null hypothesis\n",
    "print('significance=%.3f, p=%.3f' % (alpha, p))\n",
    "if p <= alpha:\n",
    "    print('Variables are associated (reject H0) with correlation of ' + str(correlation))\n",
    "else:\n",
    "    print('Variables are not associated(fail to reject H0)')"
   ]
  },
  {
   "cell_type": "markdown",
   "metadata": {},
   "source": [
    "From using the biserial function, we find that the p-value is above the significance level, so we cannot reject the null hypothesis and state that the variables ask amount (log'ed) and deal are not associated. In other words, the ask equity does not seem to have a strong influence on the chance of getting a deal."
   ]
  },
  {
   "cell_type": "markdown",
   "metadata": {},
   "source": [
    "##### Valuation Correlation between Deals"
   ]
  },
  {
   "cell_type": "code",
   "execution_count": 150,
   "metadata": {},
   "outputs": [
    {
     "name": "stdout",
     "output_type": "stream",
     "text": [
      "NormaltestResult(statistic=190.5511779312805, pvalue=4.191190993111656e-42)\n"
     ]
    },
    {
     "data": {
      "image/png": "[encoded data removed]",
      "text/plain": [
       "<Figure size 842.4x595.44 with 1 Axes>"
      ]
     },
     "metadata": {},
     "output_type": "display_data"
    }
   ],
   "source": [
    "# Ask valuation normal distribution and test\n",
    "df_ask_val = df_full[(df_full['Ask_valuation'] > 0) & (df_full['Ask_valuation'] < 10000000)] # use 1500000 to ignore outliers\n",
    "sns.distplot(df_ask_val['Ask_valuation'])\n",
    "\n",
    "print(normaltest(df_ask_val['Ask_valuation'].values))"
   ]
  },
  {
   "cell_type": "code",
   "execution_count": 151,
   "metadata": {},
   "outputs": [
    {
     "name": "stdout",
     "output_type": "stream",
     "text": [
      "NormaltestResult(statistic=21.927865027432333, pvalue=1.7315084261812327e-05)\n"
     ]
    },
    {
     "data": {
      "image/png": "[encoded data removed]",
      "text/plain": [
       "<Figure size 842.4x595.44 with 1 Axes>"
      ]
     },
     "metadata": {},
     "output_type": "display_data"
    }
   ],
   "source": [
    "# Ask amount normal distribution and test with logs\n",
    "df_ask_val = df_full[(df_full['Ask_valuation'] > 0) & (df_full['Ask_valuation'] < 10000000)]\n",
    "\n",
    "# Attempted to use several different methods of normalization\n",
    "# average = df_ask_val['Ask_valuation'].mean()\n",
    "# df_ask_val['Ask_valuation_log'] = (df_ask_val['Ask_valuation']-average)/(max(df_ask_val['Ask_valuation'])-min(df_ask_val['Ask_valuation']))\n",
    "\n",
    "df_ask_val['Ask_valuation_log'] = np.log(df_ask_val['Ask_valuation'])\n",
    "sns.distplot(df_ask_val['Ask_valuation_log'])\n",
    "\n",
    "print(normaltest(df_ask_val['Ask_valuation_log'].values))"
   ]
  },
  {
   "cell_type": "markdown",
   "metadata": {},
   "source": [
    "Unfortunately, even after trying to normalize the data for a long time, we were unable to get a normal distribution. Thus, we are unable to run the biserial coefficiency computation.\n",
    "\n",
    "Although we did not run a the biserial coefficiency test, we cannot completely rule out the effect of ask valuation on the chance of getting a deal. We will still consider the feature when making a prediction about a future deal, since we neither confirm nor reject the association between these two variables."
   ]
  },
  {
   "cell_type": "markdown",
   "metadata": {},
   "source": [
    "## Prediction: Logistic Regression\n",
    "\n",
    "To make predictions on which candidate will get a deal (or not), we want to choose the features that are actually meaningful to predicting deals. We use a feature selection on a logisitic regression classifier with up to 6 features that could be meaningful. We use 10-fold CV to standarize our accuracy."
   ]
  },
  {
   "cell_type": "code",
   "execution_count": 216,
   "metadata": {},
   "outputs": [
    {
     "data": {
      "text/plain": [
       "{1: {'feature_idx': (0,),\n",
       "  'cv_scores': array([0.44594595, 0.44594595, 0.82432432, 0.69863014, 0.56164384,\n",
       "         0.54794521, 0.54794521, 0.54794521, 0.54794521, 0.54794521]),\n",
       "  'avg_score': 0.5716216216216218,\n",
       "  'feature_names': ('Season',)},\n",
       " 2: {'feature_idx': (0, 2),\n",
       "  'cv_scores': array([0.44594595, 0.55405405, 0.47297297, 0.68493151, 0.78082192,\n",
       "         0.54794521, 0.54794521, 0.54794521, 0.54794521, 0.54794521]),\n",
       "  'avg_score': 0.5678452425027768,\n",
       "  'feature_names': ('Season', 'Gender')},\n",
       " 3: {'feature_idx': (0, 2, 4),\n",
       "  'cv_scores': array([0.44594595, 0.55405405, 0.63513514, 0.7260274 , 0.68493151,\n",
       "         0.57534247, 0.54794521, 0.56164384, 0.54794521, 0.54794521]),\n",
       "  'avg_score': 0.5826915957052943,\n",
       "  'feature_names': ('Season', 'Gender', 'Ask_equity')},\n",
       " 4: {'feature_idx': (0, 1, 2, 4),\n",
       "  'cv_scores': array([0.44594595, 0.58108108, 0.62162162, 0.7260274 , 0.67123288,\n",
       "         0.57534247, 0.54794521, 0.56164384, 0.54794521, 0.54794521]),\n",
       "  'avg_score': 0.5826730840429472,\n",
       "  'feature_names': ('Season', 'Industry', 'Gender', 'Ask_equity')},\n",
       " 5: {'feature_idx': (0, 1, 2, 4, 5),\n",
       "  'cv_scores': array([0.55405405, 0.55405405, 0.55405405, 0.56164384, 0.56164384,\n",
       "         0.54794521, 0.54794521, 0.54794521, 0.54794521, 0.54794521]),\n",
       "  'avg_score': 0.5525175860792301,\n",
       "  'feature_names': ('Season',\n",
       "   'Industry',\n",
       "   'Gender',\n",
       "   'Ask_equity',\n",
       "   'Ask_valuation')},\n",
       " 6: {'feature_idx': (0, 1, 2, 3, 4, 5),\n",
       "  'cv_scores': array([0.43243243, 0.5       , 0.51351351, 0.54794521, 0.46575342,\n",
       "         0.47945205, 0.49315068, 0.52054795, 0.46575342, 0.52054795]),\n",
       "  'avg_score': 0.49390966308774537,\n",
       "  'feature_names': ('Season',\n",
       "   'Industry',\n",
       "   'Gender',\n",
       "   'Ask_amount',\n",
       "   'Ask_equity',\n",
       "   'Ask_valuation')}}"
      ]
     },
     "execution_count": 216,
     "metadata": {},
     "output_type": "execute_result"
    }
   ],
   "source": [
    "from sklearn.ensemble import RandomForestClassifier\n",
    "from sklearn.linear_model import LogisticRegression\n",
    "from sklearn.metrics import accuracy_score as acc\n",
    "from mlxtend.feature_selection import SequentialFeatureSelector as sfs\n",
    "\n",
    "X = df_full[['Season', 'Industry', 'Gender', 'Ask_amount', 'Ask_equity', 'Ask_valuation']]\n",
    "Y = df_full['Deal']\n",
    "clf= LogisticRegression(C=2)\n",
    "# Build step forward feature selection\n",
    "sfs1 = sfs(clf,\n",
    "           k_features=6,\n",
    "           forward=True,\n",
    "           floating=True,\n",
    "           scoring='accuracy',\n",
    "           cv=10)\n",
    "\n",
    "# Perform SFFS\n",
    "sfs = sfs1.fit(X,Y)\n",
    "sfs1.subsets_"
   ]
  },
  {
   "cell_type": "markdown",
   "metadata": {},
   "source": [
    "We wanted to find which features are meaningful in predicting whether or not a candidate gets a deal on shark tank or not. We used logistic regression as our model prediction, since it is simple, works well for categorical prediction, and intuitive. But first, to programmatically check which features are most important in predicting deals, we used the method of sequential feature selection (SFS). For each possible number of feature subsets (from 1 feature to 6 features), the SFS method loops through all combinations of features and chooses the best ones. (For example, as you can see above, the most significant subset with only one feature was {season}, whereas the most significant subset with only 3 features was {season, gender, ask equity}.) We used 10-folds cross validation to test each subset model against a part of the dataset it hasn’t seen (acting as the validation/testing data). This can help us assess the true accuracy of the models made of each subset, and also to ensure we don’t simply overfit the data. \n",
    "\n",
    "As you can see, the best subset (the one with the highest accuracy) is the 3-feature subset of {season, gender, ask equity}. This subset gave the logistic regression model the accuracy of 58.3%, which is the best accuracy of all other possible subset selections for any other number of features. However, this accuracy was still not desirable; at 58.3%, its prediction power is just a little bit better than random chance (random chance would be 50% accurate, since we only have 2 choices: deal or no deal). With that, we can conclude that using this model we can predict correctly only about 60% of the time whether a candidate, given his or her season, gender, and ask equity, gets a deal on Shark Tank.  \n"
   ]
  },
  {
   "cell_type": "markdown",
   "metadata": {},
   "source": [
    "# ETHICS & PRIVACY: \n",
    "\n",
    "### How did we check the validity of the data and make sure it was accurate based on the show?\n",
    "We had two datasets that we needed to validate. For each, we randomly chose 20 products to manually check if they were inputted correctly into the tables. For each of the 40 episodes we randomly looked at and checked across the datasets, all the values were accurate. Not only that, but when we merged the two datasets, we made sure to check all the values of “deal” were the same. For example, we checked that wherever one dataset had a “deal” so did the other dataset. (With this, we actually came across a few mistakes on Halley’s dataset and corrected them.) \n",
    "### Do/will you have permission to use this data / use it for this purpose?\n",
    "We will use datasets that are publicly available on sites like Kaggle or scraped data from publicly available websites to assure that we have permission to use the data.\n",
    "### Are there privacy concerns regarding your datasets that you need to deal with, and/or terms of use that you need to comply with?\n",
    "Since this data is available on public websites and/or datasets (which were originally gathered from the very public television show), there are no privacy concerns regarding the data or terms of use that we need to comply with.\n",
    "### Are there potential biases in your dataset(s), in terms of who it composes, and how it was collected, that may be problematic in terms of it allowing for equitable analysis? (For example, does your data exclude particular populations, or is it likely to reflect particular human biases in a way that could be a problem?)\n",
    "The dataset doesn’t take into account the race and socioeconomic background of the entrepreneur which could impact an entrepreneur’s ability to score a deal. The dataset composes people who were already on the show and public. \n",
    "We wanted to check if there was bias with respect to race or gender: \n",
    "Race: since the dataset didn’t include any information regarding race, we took a random sample of 20 products from all 10 seasons to try and see the distribution of race. From that random sample, we were able to see that white is the dominant race in the show, but since we had so little data and barely any representation of any other races, we couldn’t conclude whether there was any bias or not in getting a deal for any particular race.  \n",
    "Gender: our dataset did include information on gender, and so in our analysis we checked for any bias with respect to gender. We found the following: (1) There appeared more men than females in the show over its 10 seasons, (2) some sharks (Barbara, Lori, Robert) are more likely to accept deals for one gender over another with statistical significance, (3) gender doesn’t influence being in business or out of business (we can only conclude that with respect to Shark Tank participants, not in general). For more gender bias or evidence, see our analysis part. \n",
    "### Are there any other issues related to your topic area, data, and/or analyses that are potentially problematic in terms of data privacy and equitable impact?\n",
    "Financial information can be a sensitive and private topic of information, so we would not want to use any person’s personal financial information as a factor in our analysis. \n",
    "### How will you handle issues you identified?\n",
    "If any personal information from the pitch is in the data, we will scrap these columns from the set and not take them into account for the analysis. However, with this data, we are simply using publicly released info from the television show, so we should not run into this issue.\n"
   ]
  },
  {
   "cell_type": "markdown",
   "metadata": {},
   "source": [
    "# Conclusion:"
   ]
  },
  {
   "cell_type": "markdown",
   "metadata": {},
   "source": [
    "The goal of the project was to research to what extent do factors such as gender, industry, ask equity, ask price, ask valuation, and season affect the likelihood of securing a deal in Shark Tank.\n",
    "\n",
    "We began by researching pitches that have appeared on the show and pinpointed some important features that may affect the success of a pitch and the chance of securing a deal with a shark. Once we pinpointed the features we wanted to analyze, we looked for available datasets that fit our research question. Although we found some relevant ones, we also found that they were missing some data we wanted, particularly about the monetary details behind the pitches. For this reason, we found websites that described the pitches in greater detail and scraped them for this information. After gathering all the necessary info, we found a way to merge the necessary data in one main dataset.\n",
    "\n",
    "To begin our analysis, we looked at the distributions of each feature and analyzed the relationships between different features in the data. We found that the industry of the project plays an important role in obtaining a deal. Food and Beverages were deemed to be the most popular industry amongst sharks with about a quarter of the products getting a deal. We also saw the gender distribution and how it affected getting a deal from particular sharks. Our results showed us that Barbara and Lori were more likely to invest in female entrpreneurs, where as Robert was less likely to do so. In order to dig deeper and see exactly how a variable is correlated with obtaining a deal, we performed hypothesis testing such as Chi square tests, z-tests, and p tests. We found that gender showed a stronger association to getting a deal than others, but found that we could not fully rule out the influence of any variable on the chance of getting a deal.\n",
    "\n",
    "After finding the relationships between different variables, we tried to validate these findings by seeing what permutation of features gave us the highest accuracy in predicting whether an entrepreneur woudl get a deal or not. First, to programmatically check which features are most important in predicting deals, we used the method of sequential feature selection (SFS), which loops through all combinations of features for each possible number of feature subsets and chooses the best ones. We then used logistic regression as our model prediction, since it is simple, works well for categorical prediction, and is intuitive. We found that our logistic regression model gives us an accuracy of 58.3%, which is slightly higher than the outcome due to pure chance (50%). The features that led to this were season, gender, and the ask equity. While gender was an expected result, season and ask_equity went on to surprise us. Since we couldn't perform a correlation test on ask equity (non-normal distribution), the SFS and Logistic Regression model shows us how it matters and has a part to play in the decision making process of sharks. While we don't have a concrete reasoning for why season was included, we can hypothesise that with the growing popularity of the show, more successful products are found by the production, which lead to an increased percentage of people obtaining a deal."
   ]
  },
  {
   "cell_type": "markdown",
   "metadata": {},
   "source": [
    "# Limitations"
   ]
  },
  {
   "cell_type": "markdown",
   "metadata": {},
   "source": [
    "There are certainly limitations to our analysis. For one, we did not have much data on race, so we had to use random samples. For this reason, we cannot be very sure of the accuracy in regards to the racial bias observed or how race affects the chance of getting a deal on the show. Additionally, we did not find data on revenue or profit of the products pitched on the show, which is typically an important factor for investors to decide whether to invest in a product or company. Lastly, we did not have data from entreprenuers that were not featured on the show to use as a comparison for our results. Although we analyzed features of products who appeared on the show, we did not factor in other characteristics that may have resulted in the choice to actually get the chance to pitch on the show. A heavy influence comes from the directors, who decide which people/products to feature on the show, so we cannot be sure completely of how a neutral pitch would favor on the show (if chosen)."
   ]
  },
  {
   "cell_type": "markdown",
   "metadata": {},
   "source": [
    "# Discussion"
   ]
  },
  {
   "cell_type": "markdown",
   "metadata": {},
   "source": [
    "Although we didn't have incredibly strong results for the predictions, we believe that the analyses made in this project can be useful to many people. For one, the biases in the deal securing process can be analysed by the sharks in order to minimize/remove gender and racial bias in the future seasons. Also, this could be useful for budding entrepreneurs who are thinking about making a pitch on Shark Tank. By understanding the significance of different features, future entrepreneurs could learn what to change in their pitches and companies to set themselves up for success on the show and onwards.\n",
    "\n",
    "As potential extensions of this project, we would wanna focus on issues we weren't able to fix in this first iteration of work on the project. First, we would want to increase the amount of data for race, gender, and revenue to find stronger associations between the variables and use this to create a stronger, more accurate predictor for Shark Tank pitch success."
   ]
  },
  {
   "cell_type": "markdown",
   "metadata": {},
   "source": [
    "# Team Contributions\n",
    "\n",
    "- Ido Durst (Mater - from Cars)\n",
    "    - Cleaned Halley’s dataset\n",
    "    - Merged the two datasets (which took way longer than I imagined…)\n",
    "    - Worked on EDA\n",
    "    - Worked on feature selection\n",
    "    - Wrote analysis and conclusions for parts of EDA (industry, gender, race) and the feature selection/prediction part. \n",
    "    - Attended team meetings\n",
    "- Amit Bar (Dug - from the movie UP)\n",
    "    - Searched for datasets and websites to scrape from\n",
    "    - Scraped from Shark Tank Tales and cleaned/standardized the data, as well as writing the explanations for it\n",
    "    - Assisted on merging the two datasets together and testing to ensure it was correct\n",
    "    - Did the Gender analysis and EDA (including charts and explanations)\n",
    "    - Coded the correlation computations (i.e. ask equity, ask amount, ask evaluation) in the EDA\n",
    "    - Wrote various explanations throughout the entire project\n",
    "    - Attended team meetings\n",
    "- Harshi Agrawal (Jasmine - from Aladdin )\n",
    "    - Searched for datasets and converted spreadsheet to csv files\n",
    "    - Collected random sample to help look at racial bias and described the data found in relation to this\n",
    "    - Cleaned the dataset\n",
    "    - Wrote analysis for gender, race, deals, and status\n",
    "    - Explained the data cleaning process and how we got our full dataset\n",
    "    - Attended team meetings\n",
    "- Alise (Eve - from WALL-E)\n",
    "    - Scraped data\n",
    "    - Cleaned data \n",
    "    - Contributed to EDA on the Season and Gender\n",
    "    - Added analysis for graphs\n",
    "    - Worked on correlations between features\n",
    "    - Attended team meetings\n",
    "    - Conclusion\n",
    "- Parth Shah (Mowgli - from the Jungle Book)\n",
    "    - Looked for different datasets and decided on the most important ones\n",
    "    - Worked on Scraping data from different websites\n",
    "    - Worked on cleaning the data\n",
    "    - Performed EDA for Gender, Race, and performed some of the feature correlations (Hypothesis Testing)\n",
    "    - Wrote analysis for a few graphs and statistical results\n",
    "    - Attended team meetings\n",
    "    - Conclusion\n"
   ]
  },
  {
   "cell_type": "code",
   "execution_count": null,
   "metadata": {},
   "outputs": [],
   "source": []
  }
 ],
 "metadata": {
  "kernelspec": {
   "display_name": "Python 3",
   "language": "python",
   "name": "python3"
  },
  "language_info": {
   "codemirror_mode": {
    "name": "ipython",
    "version": 3
   },
   "file_extension": ".py",
   "mimetype": "text/x-python",
   "name": "python",
   "nbconvert_exporter": "python",
   "pygments_lexer": "ipython3",
   "version": "3.7.9"
  }
 },
 "nbformat": 4,
 "nbformat_minor": 4
}
