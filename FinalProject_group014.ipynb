{
 "cells": [
  {
   "cell_type": "markdown",
   "metadata": {},
   "source": [
    "# Analysis of American Political Semantics - Group 014 COGS 108 Final Project"
   ]
  },
  {
   "cell_type": "markdown",
   "metadata": {},
   "source": [
    "# Overview"
   ]
  },
  {
   "cell_type": "markdown",
   "metadata": {},
   "source": [
    "In this project, we take a look at the semantics of American politics (2018-2020) by analyzing the sentiment of state governor tweets as well as comparing the most important words in their tweets to the most important words that appear in more popular tweets (more likes/retweets). Throughout the process, we calculated the sentiment of Democratic and Republican tweets using VADER and tracked their distributions. Similarly, we used TF-IDF to find the most important words in tweets and we compared those to the words that were most important in popular tweets for each party. At the end, we found that Republicans tend to tweet slightly more positively on average than Democrats, and that there is a clear-cut difference between the words that are deemed \"important\" in tweets and those that appear in more popular tweets."
   ]
  },
  {
   "cell_type": "markdown",
   "metadata": {},
   "source": [
    "# Names\n",
    "\n",
    "- Arjun Tapde\n",
    "- Audrey Zhao\n",
    "- Eamon Aalipour\n",
    "- Likith Palabindela"
   ]
  },
  {
   "cell_type": "markdown",
   "metadata": {},
   "source": [
    "# Research Question"
   ]
  },
  {
   "cell_type": "markdown",
   "metadata": {},
   "source": [
    "Our research question deals with the semantics of American politics, specifically looking at the tweets of US governors. The question we raise is two-fold:\n",
    "\n",
    "- Is there a relationship (if any) between the sentiment in the original tweets, not replies or retweets, from the current state governors of the United States and their party affiliation (Democrat/Republican)?\n",
    "\n",
    "\n",
    "- For each party, is there a difference between the \"most important words\" in all tweets and the \"most important words\" in the tweets that garner the most attention (likes/retweets)?"
   ]
  },
  {
   "cell_type": "markdown",
   "metadata": {},
   "source": [
    "# Background and Prior Work"
   ]
  },
  {
   "cell_type": "markdown",
   "metadata": {},
   "source": [
    "In an age of technology, our group found it pertinent to study how online interactions between governors and their constituents affect political discourse. Specifically, we wanted to examine how governors from the two parties (Republican and Democrat) engage their voters through the use of the most popular social media platform used by politicians: Twitter. By looking at the sentiment of these tweets, we can see how governors strategize in how they choose to communicate with their voter base. Similarly, by using metrics like TF-IDF, we can see how the \"most important\" words in all tweets potentially relate to the \"most important\" words that appear in tweets with more attention (likes and retweets). For voters like ourselves, this is essential as it gives us “immunity” against common tactics used in ‘politician language’ to draw in voters as well as insight on how governors actually try to gain followers.\n",
    "\n",
    "Research on the semantics of American politics has been done before, albeit on mostly presidential candidates. Part of the inspiration of this project came from research done by a UCSD political science group (led by Professor Thad Kousser) Eamon, a member of our group, interned with in 2016. In that project, 2016 presidential candidate tweets were analyzed to see if candidate tweet sentiment/ideology varies based on their polling status in the election. Through a supervised learning approach where humans “hand-coded” the ideology/sentiment of a set of tweets, the group was able to demonstrate that candidates do indeed tend to change their style of tweeting based on their polling status (1). In another study by Tim Hamling and Ankur Agrawal from Manhattan College, the sentiment of tweets posted about the two nominees for the 2016 presidential election were analyzed to see if the favorability of the candidates online corresponded with the results of the election. The study showed that the Twitter sentiments “corresponded with 66.7% of the actual outcome of the Electoral College” (2). In both cases, the research done on sentiment analysis demonstrates the power Twitter has in the political realm in terms of influencing political discourse and election results. In our case, we hope to expand on these themes by looking at tweet sentiment in the context of party affiliation. Similarly, in a study by Michelle Voong et al., the \"political polarity\" of tweets was predicted using methods like TF-IDF and metadata features. The results indicate that the polarity of a tweet can be predicted fairly accurately when trained on TF-IDF and metadata features (3).\n",
    "\n",
    "In terms of defining positive and negative sentiment, we defer to the definitions that were used in VADER (an algorithm for sentiment analysis). VADER makes use of several lexicons and benchmarks to determine positivity and negativity (4). Deferring to VADER allows us to remove our own personal biases from the results and ensure that we have a single standard for evaluating tweet sentiment. Please refer to reference 4 below for more detailed information about VADER's guidelines for defining positive and negative sentiment.\n",
    "  \n",
    "References:\n",
    "- 1) https://drive.google.com/file/d/1eig999zc3WbPgbOMWS6fvVyjPO8X2Ogk/view\n",
    "- 2) https://journals.library.columbia.edu/index.php/cusj/article/download/6359/3023\n",
    "- 3) https://ieeexplore.ieee.org/document/9202835\n",
    "- 4) https://github.com/totalgood/nlpia/blob/master/src/nlpia/data/hutto_ICWSM_2014/vader_icwsm2014_final.pdf"
   ]
  },
  {
   "cell_type": "markdown",
   "metadata": {},
   "source": [
    "# Hypothesis\n"
   ]
  },
  {
   "cell_type": "markdown",
   "metadata": {},
   "source": [
    "We think that there will be a relationship between the sentiment in the tweets from the Democrat and Republican governors and their political affiliations. This comes from Eamon's experience with the Kousser Group and generally seeing more negative tweets being classified as from the Republican Party and more positive tweets being classified as from the Democratic Party. In terms of defining positive and negative, we once again defer to VADER's comprehensive definition (please refer to the publication). Our goal is to see if this relationship that has been seen with presidential candidates applies to state governors as well.\n",
    "\n",
    "For the other portion of our project, we hypothesize that the most important words in the general body of tweets for each party will be different than those seen in the most popular tweets. This is because the tweets that garner attention on social media have to appeal to the voter base and will most likely contain a group of words that is different from tweets that do not go viral."
   ]
  },
  {
   "cell_type": "markdown",
   "metadata": {},
   "source": [
    "# Dataset(s)"
   ]
  },
  {
   "cell_type": "markdown",
   "metadata": {},
   "source": [
    "The data that we are using to answer our question is from the Twitter API. For each US governor’s Twitter account, we use a block of code that utilizes Tweepy. The script takes in each governor’s name and tries to scrape the most recent 5,000 tweets from their account (the actual amount returned by the API is variable based on the governor). For each scraped tweet, the API returns several details: the date the tweet was published, the full text of the tweet, the number of likes the tweet received, the number of retweets the tweet received.\n",
    "\n",
    "After this process has been achieved, we put these tweets into a new DataFrame for each governor’s account that has 4 features by default: date, text, likes, and retweets. We then exported each governor’s tweets into a separate CSV named based on their Twitter username. Within these CSVs, we manually added the number of followers the particular governor had as its own column as well as which state they represented. This brought our feature count up to 6 (date, text, likes, retweets, state, follower count).\n",
    "\n",
    "In terms of observations, this will be covered more in depth in the cleaning section as there was a series of cleaning operations that need to be done before we reach a conclusive observation count. For a brief overview, we took all the CSV files from the Democratic/Republican governors and found the governor with the least number of tweets returned by the API to ensure an equal contribution in our final dataset from all governors. This number turned out to be 377 tweets. Thus, for each party, we took each governor’s most recent tweets (377 of them) and merged them into two final DataFrames (and eventually CSVs). The first CSV for the Democrats has 377 tweets for 24 governors or 9048 observations while the second CSV for the Republicans has 377 tweets for 26 governors or 9802 observations. The final two CSVs (Final_Dem and Final_Rep) can be found in our GitHub repository and the code used to gather the tweets is below. We have commented out the code as it takes an extremely long time to run.  \n",
    "  \n",
    "Please note that further features are added based on the types of analysis that we are doing. The features spoken about earlier are “base features” that we start off within the dataset. For the analysis portion of our project, we add on features that are created using the base features (such as score feature that will be seen in the TF-IDF portion of our project).\n",
    "\n",
    "- 1) Dataset Name: Final_Dem.csv\n",
    "\n",
    "\n",
    "- Link to the dataset: https://github.com/COGS108/group014_fa20/blob/main/Final%20Cleaned%20Datasets/Final_Dem.csv\n",
    "- Number of observations: 9048  \n",
    "  \n",
    " \n",
    "- 2) Dataset Name: Final_Rep.csv\n",
    "\n",
    "\n",
    "- Link to the dataset: https://github.com/COGS108/group014_fa20/blob/main/Final%20Cleaned%20Datasets/Final_Rep.csv\n",
    "- Number of observations: 9802\n",
    "\n",
    "Each observation of the data represents a single tweet made by a single state governor and has columns for the date/time, main text, and the state the governor is from. The other columns' values -- likes, retweets, followers -- depended on the time at which we were able to collect the tweets (12/5/2020)."
   ]
  },
  {
   "cell_type": "markdown",
   "metadata": {},
   "source": [
    "# Setup"
   ]
  },
  {
   "cell_type": "code",
   "execution_count": 1,
   "metadata": {},
   "outputs": [],
   "source": [
    "# importing seaborn, matplotlib for plots\n",
    "import seaborn as sns\n",
    "sns.set(style=\"white\", font_scale=2)\n",
    "\n",
    "import matplotlib as mpl\n",
    "import matplotlib.pyplot as plt\n",
    "# display directly in notebook\n",
    "%matplotlib inline\n",
    "\n",
    "# importing numpy and pandas\n",
    "import numpy as np\n",
    "import pandas as pd\n",
    "\n",
    "# Tweepy used to scrape tweets\n",
    "import tweepy\n",
    "\n",
    "# !pip install vaderSentiment\n",
    "from scipy import stats\n",
    "from scipy.stats import normaltest\n",
    "from scipy.stats import ranksums\n",
    "from vaderSentiment import SentimentIntensityAnalyzer\n",
    "\n",
    "# TF-IDF\n",
    "from sklearn.feature_extraction.text import TfidfVectorizer\n",
    "import os\n",
    "import nltk\n",
    "from nltk.corpus import stopwords\n",
    "from nltk.stem import PorterStemmer\n",
    "import string\n",
    "import re\n",
    "\n",
    "import warnings\n",
    "warnings.filterwarnings('ignore')"
   ]
  },
  {
   "cell_type": "markdown",
   "metadata": {},
   "source": [
    "# Data Cleaning"
   ]
  },
  {
   "cell_type": "markdown",
   "metadata": {},
   "source": [
    "In this portion of our code we run the very time-consuming process of gathering all the tweets for the 50 governors. We have two lists that contain the usernames for the governors. The code runs through each and scrapes the requisite tweets and places them into DataFrames as mentioned by the dataset section.\n",
    "\n",
    "Afterwards, we clean our data by removing any NaNs (tweets that weren't scraped properly) as well as removing tweets that had any \"RT\" in them because we are not going to use any retweets. We also remove any strange symbols like &amp. After this, we calculate the least number of tweets that a governor has after the cleaning process and use that base-line for inserting that number of tweets from each governor into their respective party's DataFrame. Once this is complete, we have the number of observations mentioned in the dataset portion.\n",
    "\n",
    "Also, we added the \"State\" and \"Follower Count\" for each governor manually to each CSV."
   ]
  },
  {
   "cell_type": "code",
   "execution_count": 2,
   "metadata": {},
   "outputs": [],
   "source": [
    "# # Authentication for tweepy, values blocked for privacy reasons\n",
    "# consumer_key = \"*************\"\n",
    "# consumer_secret = \"********************************\"\n",
    "# access_token = \"*******************************\"\n",
    "# access_token_secret = \"****************************\"\n",
    "# auth = tweepy.OAuthHandler(consumer_key, consumer_secret)\n",
    "# auth.set_access_token(access_token, access_token_secret)\n",
    "# api = tweepy.API(auth,wait_on_rate_limit=True)\n",
    "\n",
    "# # Lists of democratic and republican governors' twitter usernames\n",
    "# dem_govs = ['GavinNewsom', 'GinaRaimondo', 'GovAndyBeshear', 'GovernorBullock', 'GovernorTomWolf', 'GovernorVA', 'GovEvers', 'GovHawaii', 'GovInslee','GovJanetMills', 'GovLauraKelly', 'GovMLG', 'GovMurphy', 'GovNedLamont', 'GovofCO', 'GovPritzker', 'GovTimWalz', 'GovWhitmer', 'JohnCarneyDE', 'LouisianaGov', 'NC_Governor', 'NYGovCuomo', 'OregonGovBrown', 'SteveSisolak']\n",
    "# rep_govs = [\"GovernorKayIvey\", \"Go†gitvDunleavy\" ,\"dougducey\", \"AsaHutchinson\", \"GovRonDeSantis\", \"BrianKempGA\", \"GovernorLittle\", \"GovHolcomb\", \"KimReynoldsIA\", \"LarryHogan\", \"MassGovernor\", \"tatereeves\", \"GovParsonMO\", \"GovRicketts\", \"GovChrisSununu\", \"DougBurgum\", \"GovMikeDeWine\", \"GovStitt\", \"henrymcmaster\", \"govkristinoem\", \"GovBillLee\", \"GregAbbott_TX\", \"GovHerbert\", \"GovPhilScott\", \"WVGovernor\", \"GovernorGordon\"]\n",
    "\n",
    "# # New folders for different party governors\n",
    "# os.mkdir(\"Republican_Governors\")\n",
    "# os.mkdir(\"Democratic_Governors\")\n",
    "\n",
    "# # Scraping the last 5,000 tweets and corresponding dates, likes, and retweets for democratic governors\n",
    "# for gov in dem_govs:\n",
    "#     count = 5000\n",
    "#     print(gov)\n",
    "#     try:\n",
    "#         tweets = tweepy.Cursor(api.user_timeline,id=gov, wait_on_rate_limit = True, wait_on_rate_limit_notify = True).items(count)\n",
    "#         status = [(api.get_status(tweet.id, tweet_mode=\"extended\").full_text, tweet.created_at, tweet.favorite_count, tweet.retweet_count) for tweet in tweets]\n",
    "#         df = pd.DataFrame(status)\n",
    "#         print(df.head())\n",
    "#         df.to_csv(\"Democratic_Governors/{username}.csv\".format(username=gov))\n",
    "#     except BaseException as e:\n",
    "#         time.sleep(60)\n",
    "#         continue\n",
    "\n",
    "# # Scraping the last 5,000 tweets and corresponding dates, likes, and retweets for republican governors\n",
    "# for gov in rep_govs:\n",
    "#     count = 5000\n",
    "#     print(gov)\n",
    "#     try:\n",
    "#         tweets = tweepy.Cursor(api.user_timeline,id=gov, wait_on_rate_limit = True, wait_on_rate_limit_notify = True).items(count)\n",
    "#         status = [(api.get_status(tweet.id, tweet_mode=\"extended\").full_text, tweet.created_at, tweet.favorite_count, tweet.retweet_count) for tweet in tweets]\n",
    "#         df = pd.DataFrame(status)\n",
    "#         print(df.head())\n",
    "#         df.to_csv(\"Republican_Governors/{username}.csv\".format(username=gov))\n",
    "#     except BaseException as e:\n",
    "#         time.sleep(60)\n",
    "#         continue\n",
    "\n",
    "# # New directories for cleaned data of each party\n",
    "# os.mkdir(\"Cleaned_Rep\")\n",
    "# os.mkdir(\"Cleaned_Dem\")\n",
    "\n",
    "# # Method used to clean the datasets\n",
    "# def clean_df(df_name, path):\n",
    "#     df = pd.read_csv(df_name)\n",
    "#     df = df.drop(\"Unnamed: 0\", axis=1)\n",
    "#     # Drop NaNs\n",
    "#     df.dropna()\n",
    "#     drops = []\n",
    "#     for x in range(df.shape[0]):\n",
    "#         if \"RT\" in df['Text'][x]: # Not using retweets\n",
    "#             drops.append(x)\n",
    "#         if \"&amp;\" in df['Text'][x]: # Dropping weird symbol that appears in the text\n",
    "#             df['Text'][x] = \" \".join([x for x in df['Text'][x].split() if x != \"&amp;\"])\n",
    "#         df['Text'][x] = \" \".join(df['Text'][x].split()[:-1])\n",
    "#     df = df.drop(drops).reset_index(drop=True) # Drop retweets\n",
    "#     print(df_name)\n",
    "#     df.to_csv(path+df_name)\n",
    "\n",
    "# # Applying cleaning algorithm to all the democratic governors\n",
    "# for x in os.listdir(\"Democratic_Governors\"):\n",
    "#     clean_df(\"Democratic_Governors/\"+x, \"Cleaned_Dem/\")\n",
    "    \n",
    "# # Applying cleaning algorithm to all the republican governors\n",
    "# for x in os.listdir(\"Republican_Governors\"):\n",
    "#     clean_df(\"Republican_Governors/\"+x, \"Cleaned_Rep/\")\n",
    "\n",
    "# # Removing any rows that contain NaNs in the dataframe\n",
    "# for file in os.listdir(\"Cleaned_Dem\"):\n",
    "#     df = pd.read_csv(file, index_col=0)\n",
    "#     df = df.dropna().reset_index(drop=True)\n",
    "#     df.to_csv(\"Cleaned_Dem/\"+file)\n",
    "    \n",
    "# # Removing any rows that contain NaNs in the dataframe\n",
    "# for file in os.listdir(\"Cleaned_Rep\"):\n",
    "#     df = pd.read_csv(file, index_col=0)\n",
    "#     df = df.dropna().reset_index(drop=True)\n",
    "#     df.to_csv(\"Cleaned_Rep/\"+file)\n",
    "    \n",
    "# # Finding the minimum number of tweets for a democratic governor\n",
    "# minimum1 = len(pd.read_csv(os.listdir(\"Cleaned_Dem\")[0]))\n",
    "# for file in os.listdir(\"Cleaned_Dem\"):\n",
    "#     if len(pd.read_csv(\"Cleaned_Dem/\"+file)) < minimum1:\n",
    "#         minimum1 = len(pd.read_csv(\"Cleaned_Dem/\"+file))\n",
    "\n",
    "# # Finding the minimum number of tweets for a republican governor\n",
    "# minimum2 = len(pd.read_csv(os.listdir(\"Cleaned_Rep\")[0]))\n",
    "# for file in os.listdir(\"Cleaned_Rep\"):\n",
    "#     if len(pd.read_csv(\"Cleaned_Rep/\"+file)) < minimum1:\n",
    "#         minimum1 = len(pd.read_csv(\"Cleaned_Rep/\"+file))\n",
    "        \n",
    "# # Finding the minimum of both parties, turned out to be 377 in our case\n",
    "# minimum = min(minimum1, minimum2)\n",
    "\n",
    "# # Getting the first \"minimum\" number of tweets from each democratic governor\n",
    "# dfs = []\n",
    "# for file in os.listdir(\"Cleaned_Dem\"):\n",
    "#     print(file)\n",
    "#     df = pd.read_csv(\"Cleaned_Dem/\"+file, index_col=0)\n",
    "#     df = df[:minimum]\n",
    "#     dfs.append(df)\n",
    "# df = pd.concat(dfs)\n",
    "# df.to_csv(\"Final_Dem.csv\")\n",
    "\n",
    "# # Getting the first \"minimum\" number of tweets from each republican governor\n",
    "# dfs = []\n",
    "# for file in os.listdir(\"Cleaned_Rep\"):\n",
    "#     print(file)\n",
    "#     df = pd.read_csv(\"Cleaned_Rep/\"+file, index_col=0)\n",
    "#     df = df[:minimum]\n",
    "#     dfs.append(df)\n",
    "# df = pd.concat(dfs)\n",
    "# df.to_csv(\"Final_Rep.csv\")"
   ]
  },
  {
   "cell_type": "markdown",
   "metadata": {},
   "source": [
    "Finally, we import our CSVs and add a column for the length of the tweets for both the Democratic and Republican tweets. Also, we add a column called \"Party\" for each DataFrame and we remove an extra column from both DataFrames (this holds a duplicate indexing of each tweet that we do not need).\n",
    "\n",
    "The purpose of these two features specifically is for EDA, which uses the merged DataFrame \"df_all\" for visualizing the data as a whole from both parties."
   ]
  },
  {
   "cell_type": "code",
   "execution_count": 3,
   "metadata": {},
   "outputs": [],
   "source": [
    "# import data files (after cleaning)\n",
    "df_dems = pd.read_csv(\"Final_Dem.csv\")\n",
    "df_reps = pd.read_csv(\"Final_Rep.csv\")\n",
    "\n",
    "# Adding a column for the text length\n",
    "df_dems['Words Total'] = df_dems['Text'].str.split().str.len()\n",
    "df_reps['Words Total'] = df_reps['Text'].str.split().str.len()\n",
    "\n",
    "# Adding a column for political party for later analysis and merging\n",
    "df_add_Party_dems = df_dems\n",
    "df_add_Party_dems['Party'] = 'Dem'\n",
    "df_add_Party_reps = df_reps\n",
    "df_add_Party_reps['Party'] = 'Rep'\n",
    "\n",
    "# Removing a unnamed column\n",
    "df_dems = df_dems.drop(['Unnamed: 0'],axis=1)\n",
    "df_reps = df_reps.drop(['Unnamed: 0'],axis=1)\n",
    "\n",
    "# Combining into one dataset\n",
    "df_all = pd.concat([df_add_Party_dems,df_add_Party_reps]).reset_index().drop(['index','Unnamed: 0'],axis=1)"
   ]
  },
  {
   "cell_type": "markdown",
   "metadata": {},
   "source": [
    "# Data Analysis & Results"
   ]
  },
  {
   "cell_type": "markdown",
   "metadata": {},
   "source": [
    "## EDA:\n",
    "Let's take a look at the data and its properties. "
   ]
  },
  {
   "cell_type": "markdown",
   "metadata": {},
   "source": [
    "### Structure and Granularity\n",
    "Our data will be represented in a pandas dataframe as tabular data. As described before, there are 24 Democratic governors and 26 Republican governors. We gathered 377 tweets from each goveror, so in total:  \n",
    "  \n",
    "df_dems = 24 x 377 = 9048 rows  \n",
    "df_reps = 26 x 377 = 9802 rows  "
   ]
  },
  {
   "cell_type": "code",
   "execution_count": 4,
   "metadata": {},
   "outputs": [
    {
     "data": {
      "text/plain": [
       "Date           object\n",
       "Text           object\n",
       "Likes           int64\n",
       "ReTweets        int64\n",
       "State          object\n",
       "Followers       int64\n",
       "Words Total     int64\n",
       "Party          object\n",
       "dtype: object"
      ]
     },
     "execution_count": 4,
     "metadata": {},
     "output_type": "execute_result"
    }
   ],
   "source": [
    "# Below are the types of each column\n",
    "df_all.dtypes"
   ]
  },
  {
   "cell_type": "code",
   "execution_count": 5,
   "metadata": {},
   "outputs": [
    {
     "data": {
      "text/html": [
       "<div>\n",
       "<style scoped>\n",
       "    .dataframe tbody tr th:only-of-type {\n",
       "        vertical-align: middle;\n",
       "    }\n",
       "\n",
       "    .dataframe tbody tr th {\n",
       "        vertical-align: top;\n",
       "    }\n",
       "\n",
       "    .dataframe thead th {\n",
       "        text-align: right;\n",
       "    }\n",
       "</style>\n",
       "<table border=\"1\" class=\"dataframe\">\n",
       "  <thead>\n",
       "    <tr style=\"text-align: right;\">\n",
       "      <th></th>\n",
       "      <th>Date</th>\n",
       "      <th>Text</th>\n",
       "      <th>Likes</th>\n",
       "      <th>ReTweets</th>\n",
       "      <th>State</th>\n",
       "      <th>Followers</th>\n",
       "      <th>Words Total</th>\n",
       "      <th>Party</th>\n",
       "    </tr>\n",
       "  </thead>\n",
       "  <tbody>\n",
       "    <tr>\n",
       "      <th>0</th>\n",
       "      <td>2020-12-05 17:03:17</td>\n",
       "      <td>.@Ford led the way over a year ago and joined ...</td>\n",
       "      <td>938</td>\n",
       "      <td>82</td>\n",
       "      <td>California</td>\n",
       "      <td>1972301</td>\n",
       "      <td>45</td>\n",
       "      <td>Dem</td>\n",
       "    </tr>\n",
       "    <tr>\n",
       "      <th>1</th>\n",
       "      <td>2020-12-05 16:52:09</td>\n",
       "      <td>There is light at the end of the tunnel. A vac...</td>\n",
       "      <td>21262</td>\n",
       "      <td>1291</td>\n",
       "      <td>California</td>\n",
       "      <td>1972301</td>\n",
       "      <td>16</td>\n",
       "      <td>Dem</td>\n",
       "    </tr>\n",
       "    <tr>\n",
       "      <th>2</th>\n",
       "      <td>2020-12-05 03:21:58</td>\n",
       "      <td>The absolute honor of a lifetime to swear in J...</td>\n",
       "      <td>4180</td>\n",
       "      <td>300</td>\n",
       "      <td>California</td>\n",
       "      <td>1972301</td>\n",
       "      <td>46</td>\n",
       "      <td>Dem</td>\n",
       "    </tr>\n",
       "    <tr>\n",
       "      <th>3</th>\n",
       "      <td>2020-12-05 01:04:54</td>\n",
       "      <td>California’s results are official — @JoeBiden ...</td>\n",
       "      <td>31319</td>\n",
       "      <td>2992</td>\n",
       "      <td>California</td>\n",
       "      <td>1972301</td>\n",
       "      <td>16</td>\n",
       "      <td>Dem</td>\n",
       "    </tr>\n",
       "    <tr>\n",
       "      <th>4</th>\n",
       "      <td>2020-12-04 23:18:57</td>\n",
       "      <td>I see Mitch McConnell is trending. @senatemajl...</td>\n",
       "      <td>13803</td>\n",
       "      <td>2601</td>\n",
       "      <td>California</td>\n",
       "      <td>1972301</td>\n",
       "      <td>22</td>\n",
       "      <td>Dem</td>\n",
       "    </tr>\n",
       "    <tr>\n",
       "      <th>...</th>\n",
       "      <td>...</td>\n",
       "      <td>...</td>\n",
       "      <td>...</td>\n",
       "      <td>...</td>\n",
       "      <td>...</td>\n",
       "      <td>...</td>\n",
       "      <td>...</td>\n",
       "      <td>...</td>\n",
       "    </tr>\n",
       "    <tr>\n",
       "      <th>9043</th>\n",
       "      <td>2019-02-10 23:36:32</td>\n",
       "      <td>Got to spend yesterday visiting my mom and fam...</td>\n",
       "      <td>190</td>\n",
       "      <td>6</td>\n",
       "      <td>Nevada</td>\n",
       "      <td>35389</td>\n",
       "      <td>19</td>\n",
       "      <td>Dem</td>\n",
       "    </tr>\n",
       "    <tr>\n",
       "      <th>9044</th>\n",
       "      <td>2019-02-08 03:32:02</td>\n",
       "      <td>Back-to-back wins for the @GoldenKnights! #GoK...</td>\n",
       "      <td>40</td>\n",
       "      <td>3</td>\n",
       "      <td>Nevada</td>\n",
       "      <td>35389</td>\n",
       "      <td>7</td>\n",
       "      <td>Dem</td>\n",
       "    </tr>\n",
       "    <tr>\n",
       "      <th>9045</th>\n",
       "      <td>2019-02-06 03:39:17</td>\n",
       "      <td>Congratulations @GoldenKnights! Back on track ...</td>\n",
       "      <td>85</td>\n",
       "      <td>8</td>\n",
       "      <td>Nevada</td>\n",
       "      <td>35389</td>\n",
       "      <td>11</td>\n",
       "      <td>Dem</td>\n",
       "    </tr>\n",
       "    <tr>\n",
       "      <th>9046</th>\n",
       "      <td>2019-02-03 20:32:58</td>\n",
       "      <td>We need more of this. It gives me hope.</td>\n",
       "      <td>83</td>\n",
       "      <td>10</td>\n",
       "      <td>Nevada</td>\n",
       "      <td>35389</td>\n",
       "      <td>9</td>\n",
       "      <td>Dem</td>\n",
       "    </tr>\n",
       "    <tr>\n",
       "      <th>9047</th>\n",
       "      <td>2019-02-02 20:44:01</td>\n",
       "      <td>Just dropped the First Lady off @RenoAirport a...</td>\n",
       "      <td>57</td>\n",
       "      <td>6</td>\n",
       "      <td>Nevada</td>\n",
       "      <td>35389</td>\n",
       "      <td>22</td>\n",
       "      <td>Dem</td>\n",
       "    </tr>\n",
       "  </tbody>\n",
       "</table>\n",
       "<p>9048 rows × 8 columns</p>\n",
       "</div>"
      ],
      "text/plain": [
       "                     Date                                               Text  \\\n",
       "0     2020-12-05 17:03:17  .@Ford led the way over a year ago and joined ...   \n",
       "1     2020-12-05 16:52:09  There is light at the end of the tunnel. A vac...   \n",
       "2     2020-12-05 03:21:58  The absolute honor of a lifetime to swear in J...   \n",
       "3     2020-12-05 01:04:54  California’s results are official — @JoeBiden ...   \n",
       "4     2020-12-04 23:18:57  I see Mitch McConnell is trending. @senatemajl...   \n",
       "...                   ...                                                ...   \n",
       "9043  2019-02-10 23:36:32  Got to spend yesterday visiting my mom and fam...   \n",
       "9044  2019-02-08 03:32:02  Back-to-back wins for the @GoldenKnights! #GoK...   \n",
       "9045  2019-02-06 03:39:17  Congratulations @GoldenKnights! Back on track ...   \n",
       "9046  2019-02-03 20:32:58            We need more of this. It gives me hope.   \n",
       "9047  2019-02-02 20:44:01  Just dropped the First Lady off @RenoAirport a...   \n",
       "\n",
       "      Likes  ReTweets       State  Followers  Words Total Party  \n",
       "0       938        82  California    1972301           45   Dem  \n",
       "1     21262      1291  California    1972301           16   Dem  \n",
       "2      4180       300  California    1972301           46   Dem  \n",
       "3     31319      2992  California    1972301           16   Dem  \n",
       "4     13803      2601  California    1972301           22   Dem  \n",
       "...     ...       ...         ...        ...          ...   ...  \n",
       "9043    190         6      Nevada      35389           19   Dem  \n",
       "9044     40         3      Nevada      35389            7   Dem  \n",
       "9045     85         8      Nevada      35389           11   Dem  \n",
       "9046     83        10      Nevada      35389            9   Dem  \n",
       "9047     57         6      Nevada      35389           22   Dem  \n",
       "\n",
       "[9048 rows x 8 columns]"
      ]
     },
     "execution_count": 5,
     "metadata": {},
     "output_type": "execute_result"
    }
   ],
   "source": [
    "# Let's have a look at the 24 Democratic governors dataframe\n",
    "df_dems"
   ]
  },
  {
   "cell_type": "code",
   "execution_count": 6,
   "metadata": {},
   "outputs": [
    {
     "data": {
      "text/html": [
       "<div>\n",
       "<style scoped>\n",
       "    .dataframe tbody tr th:only-of-type {\n",
       "        vertical-align: middle;\n",
       "    }\n",
       "\n",
       "    .dataframe tbody tr th {\n",
       "        vertical-align: top;\n",
       "    }\n",
       "\n",
       "    .dataframe thead th {\n",
       "        text-align: right;\n",
       "    }\n",
       "</style>\n",
       "<table border=\"1\" class=\"dataframe\">\n",
       "  <thead>\n",
       "    <tr style=\"text-align: right;\">\n",
       "      <th></th>\n",
       "      <th>Date</th>\n",
       "      <th>Text</th>\n",
       "      <th>Likes</th>\n",
       "      <th>ReTweets</th>\n",
       "      <th>State</th>\n",
       "      <th>Followers</th>\n",
       "      <th>Words Total</th>\n",
       "      <th>Party</th>\n",
       "    </tr>\n",
       "  </thead>\n",
       "  <tbody>\n",
       "    <tr>\n",
       "      <th>0</th>\n",
       "      <td>2020-12-05 00:42:45</td>\n",
       "      <td>My statement on the U.S. Supreme Court’s decis...</td>\n",
       "      <td>44</td>\n",
       "      <td>7</td>\n",
       "      <td>Arkansas</td>\n",
       "      <td>88306</td>\n",
       "      <td>15</td>\n",
       "      <td>Rep</td>\n",
       "    </tr>\n",
       "    <tr>\n",
       "      <th>1</th>\n",
       "      <td>2020-12-04 22:48:10</td>\n",
       "      <td>In this week’s radio address, I talk about the...</td>\n",
       "      <td>13</td>\n",
       "      <td>5</td>\n",
       "      <td>Arkansas</td>\n",
       "      <td>88306</td>\n",
       "      <td>25</td>\n",
       "      <td>Rep</td>\n",
       "    </tr>\n",
       "    <tr>\n",
       "      <th>2</th>\n",
       "      <td>2020-12-04 21:00:45</td>\n",
       "      <td>Yesterday saw another record of new cases. We ...</td>\n",
       "      <td>46</td>\n",
       "      <td>15</td>\n",
       "      <td>Arkansas</td>\n",
       "      <td>88306</td>\n",
       "      <td>51</td>\n",
       "      <td>Rep</td>\n",
       "    </tr>\n",
       "    <tr>\n",
       "      <th>3</th>\n",
       "      <td>2020-12-04 18:41:37</td>\n",
       "      <td>I’m excited to appoint Bennie Westphal to the ...</td>\n",
       "      <td>24</td>\n",
       "      <td>3</td>\n",
       "      <td>Arkansas</td>\n",
       "      <td>88306</td>\n",
       "      <td>35</td>\n",
       "      <td>Rep</td>\n",
       "    </tr>\n",
       "    <tr>\n",
       "      <th>4</th>\n",
       "      <td>2020-12-04 17:55:21</td>\n",
       "      <td>In a recent White House Coronavirus Task Force...</td>\n",
       "      <td>95</td>\n",
       "      <td>20</td>\n",
       "      <td>Arkansas</td>\n",
       "      <td>88306</td>\n",
       "      <td>43</td>\n",
       "      <td>Rep</td>\n",
       "    </tr>\n",
       "    <tr>\n",
       "      <th>...</th>\n",
       "      <td>...</td>\n",
       "      <td>...</td>\n",
       "      <td>...</td>\n",
       "      <td>...</td>\n",
       "      <td>...</td>\n",
       "      <td>...</td>\n",
       "      <td>...</td>\n",
       "      <td>...</td>\n",
       "    </tr>\n",
       "    <tr>\n",
       "      <th>9797</th>\n",
       "      <td>2020-07-28 17:00:33</td>\n",
       "      <td>Properly wearing a face covering in public is ...</td>\n",
       "      <td>45</td>\n",
       "      <td>16</td>\n",
       "      <td>West Virginia</td>\n",
       "      <td>64341</td>\n",
       "      <td>39</td>\n",
       "      <td>Rep</td>\n",
       "    </tr>\n",
       "    <tr>\n",
       "      <th>9798</th>\n",
       "      <td>2020-07-27 23:30:03</td>\n",
       "      <td>Today I directed the West Virginia National Gu...</td>\n",
       "      <td>31</td>\n",
       "      <td>9</td>\n",
       "      <td>West Virginia</td>\n",
       "      <td>64341</td>\n",
       "      <td>32</td>\n",
       "      <td>Rep</td>\n",
       "    </tr>\n",
       "    <tr>\n",
       "      <th>9799</th>\n",
       "      <td>2020-07-27 16:49:23</td>\n",
       "      <td>LIVE: Justice Administration holds press brief...</td>\n",
       "      <td>16</td>\n",
       "      <td>17</td>\n",
       "      <td>West Virginia</td>\n",
       "      <td>64341</td>\n",
       "      <td>30</td>\n",
       "      <td>Rep</td>\n",
       "    </tr>\n",
       "    <tr>\n",
       "      <th>9800</th>\n",
       "      <td>2020-07-27 13:30:14</td>\n",
       "      <td>I will hold a virtual press briefing at 12:30 ...</td>\n",
       "      <td>14</td>\n",
       "      <td>14</td>\n",
       "      <td>West Virginia</td>\n",
       "      <td>64341</td>\n",
       "      <td>31</td>\n",
       "      <td>Rep</td>\n",
       "    </tr>\n",
       "    <tr>\n",
       "      <th>9801</th>\n",
       "      <td>2020-07-26 15:44:01</td>\n",
       "      <td>Have you visited our WV Strong Summer Food Ass...</td>\n",
       "      <td>8</td>\n",
       "      <td>8</td>\n",
       "      <td>West Virginia</td>\n",
       "      <td>64341</td>\n",
       "      <td>27</td>\n",
       "      <td>Rep</td>\n",
       "    </tr>\n",
       "  </tbody>\n",
       "</table>\n",
       "<p>9802 rows × 8 columns</p>\n",
       "</div>"
      ],
      "text/plain": [
       "                     Date                                               Text  \\\n",
       "0     2020-12-05 00:42:45  My statement on the U.S. Supreme Court’s decis...   \n",
       "1     2020-12-04 22:48:10  In this week’s radio address, I talk about the...   \n",
       "2     2020-12-04 21:00:45  Yesterday saw another record of new cases. We ...   \n",
       "3     2020-12-04 18:41:37  I’m excited to appoint Bennie Westphal to the ...   \n",
       "4     2020-12-04 17:55:21  In a recent White House Coronavirus Task Force...   \n",
       "...                   ...                                                ...   \n",
       "9797  2020-07-28 17:00:33  Properly wearing a face covering in public is ...   \n",
       "9798  2020-07-27 23:30:03  Today I directed the West Virginia National Gu...   \n",
       "9799  2020-07-27 16:49:23  LIVE: Justice Administration holds press brief...   \n",
       "9800  2020-07-27 13:30:14  I will hold a virtual press briefing at 12:30 ...   \n",
       "9801  2020-07-26 15:44:01  Have you visited our WV Strong Summer Food Ass...   \n",
       "\n",
       "      Likes  ReTweets          State  Followers  Words Total Party  \n",
       "0        44         7       Arkansas      88306           15   Rep  \n",
       "1        13         5       Arkansas      88306           25   Rep  \n",
       "2        46        15       Arkansas      88306           51   Rep  \n",
       "3        24         3       Arkansas      88306           35   Rep  \n",
       "4        95        20       Arkansas      88306           43   Rep  \n",
       "...     ...       ...            ...        ...          ...   ...  \n",
       "9797     45        16  West Virginia      64341           39   Rep  \n",
       "9798     31         9  West Virginia      64341           32   Rep  \n",
       "9799     16        17  West Virginia      64341           30   Rep  \n",
       "9800     14        14  West Virginia      64341           31   Rep  \n",
       "9801      8         8  West Virginia      64341           27   Rep  \n",
       "\n",
       "[9802 rows x 8 columns]"
      ]
     },
     "execution_count": 6,
     "metadata": {},
     "output_type": "execute_result"
    }
   ],
   "source": [
    "# And also a look at the 26 Republican governors dataframe\n",
    "df_reps"
   ]
  },
  {
   "cell_type": "markdown",
   "metadata": {},
   "source": [
    "### Temporality  \n",
    "The 'Date' column of our datasets represent the dates the tweets were published. The earliest scraped tweet in our dataset is from 6/14/2018, while the latest scraped tweet is from 12/5/2020, which is the day we collected all these tweets. The Twitter API stores these dates and times in GMT, and we did not change that when we scraped the tweets. Scraping tweets is very time-consuming. Therefore, we limited our scraping to at most 5,000 recent tweets per governor. That does make the earliest and latest tweet vary between each governor depending on how often they tweeted."
   ]
  },
  {
   "cell_type": "markdown",
   "metadata": {},
   "source": [
    "### Scope and Faithfulness\n",
    "***Missing Values:***  By this point, the nan rows should be replaced. The dataframes generated from accessing nan rows should be empty, meaning we don't have to worry about missing values."
   ]
  },
  {
   "cell_type": "code",
   "execution_count": 7,
   "metadata": {},
   "outputs": [
    {
     "name": "stdout",
     "output_type": "stream",
     "text": [
      "Everything's clear! No empty rows.\n"
     ]
    }
   ],
   "source": [
    "# Dem Governors\n",
    "null_rows_dems = df_dems.isnull().any(axis=1).sum()\n",
    "# Rep Governors\n",
    "null_rows_reps = df_reps.isnull().any(axis=1).sum()\n",
    "\n",
    "if null_rows_dems == 0 or null_rows_reps == 0:\n",
    "    print('Everything\\'s clear! No empty rows.')\n",
    "else:\n",
    "    print('Oh no! Something went wrong.')"
   ]
  },
  {
   "cell_type": "markdown",
   "metadata": {},
   "source": [
    "***Plots, Values, Outliers***"
   ]
  },
  {
   "cell_type": "code",
   "execution_count": 8,
   "metadata": {},
   "outputs": [
    {
     "data": {
      "text/html": [
       "<div>\n",
       "<style scoped>\n",
       "    .dataframe tbody tr th:only-of-type {\n",
       "        vertical-align: middle;\n",
       "    }\n",
       "\n",
       "    .dataframe tbody tr th {\n",
       "        vertical-align: top;\n",
       "    }\n",
       "\n",
       "    .dataframe thead th {\n",
       "        text-align: right;\n",
       "    }\n",
       "</style>\n",
       "<table border=\"1\" class=\"dataframe\">\n",
       "  <thead>\n",
       "    <tr style=\"text-align: right;\">\n",
       "      <th></th>\n",
       "      <th>Likes</th>\n",
       "      <th>ReTweets</th>\n",
       "      <th>Followers</th>\n",
       "      <th>Words Total</th>\n",
       "    </tr>\n",
       "  </thead>\n",
       "  <tbody>\n",
       "    <tr>\n",
       "      <th>count</th>\n",
       "      <td>9048.000000</td>\n",
       "      <td>9048.000000</td>\n",
       "      <td>9.048000e+03</td>\n",
       "      <td>9048.000000</td>\n",
       "    </tr>\n",
       "    <tr>\n",
       "      <th>mean</th>\n",
       "      <td>1502.208775</td>\n",
       "      <td>243.150309</td>\n",
       "      <td>3.263657e+05</td>\n",
       "      <td>32.016357</td>\n",
       "    </tr>\n",
       "    <tr>\n",
       "      <th>std</th>\n",
       "      <td>7516.884075</td>\n",
       "      <td>1473.983390</td>\n",
       "      <td>6.066870e+05</td>\n",
       "      <td>12.192333</td>\n",
       "    </tr>\n",
       "    <tr>\n",
       "      <th>min</th>\n",
       "      <td>0.000000</td>\n",
       "      <td>0.000000</td>\n",
       "      <td>1.661300e+04</td>\n",
       "      <td>1.000000</td>\n",
       "    </tr>\n",
       "    <tr>\n",
       "      <th>25%</th>\n",
       "      <td>44.000000</td>\n",
       "      <td>7.000000</td>\n",
       "      <td>4.398100e+04</td>\n",
       "      <td>24.000000</td>\n",
       "    </tr>\n",
       "    <tr>\n",
       "      <th>50%</th>\n",
       "      <td>153.000000</td>\n",
       "      <td>27.000000</td>\n",
       "      <td>1.289105e+05</td>\n",
       "      <td>35.000000</td>\n",
       "    </tr>\n",
       "    <tr>\n",
       "      <th>75%</th>\n",
       "      <td>598.000000</td>\n",
       "      <td>96.000000</td>\n",
       "      <td>2.328505e+05</td>\n",
       "      <td>42.000000</td>\n",
       "    </tr>\n",
       "    <tr>\n",
       "      <th>max</th>\n",
       "      <td>326317.000000</td>\n",
       "      <td>87713.000000</td>\n",
       "      <td>2.586447e+06</td>\n",
       "      <td>61.000000</td>\n",
       "    </tr>\n",
       "  </tbody>\n",
       "</table>\n",
       "</div>"
      ],
      "text/plain": [
       "               Likes      ReTweets     Followers  Words Total\n",
       "count    9048.000000   9048.000000  9.048000e+03  9048.000000\n",
       "mean     1502.208775    243.150309  3.263657e+05    32.016357\n",
       "std      7516.884075   1473.983390  6.066870e+05    12.192333\n",
       "min         0.000000      0.000000  1.661300e+04     1.000000\n",
       "25%        44.000000      7.000000  4.398100e+04    24.000000\n",
       "50%       153.000000     27.000000  1.289105e+05    35.000000\n",
       "75%       598.000000     96.000000  2.328505e+05    42.000000\n",
       "max    326317.000000  87713.000000  2.586447e+06    61.000000"
      ]
     },
     "execution_count": 8,
     "metadata": {},
     "output_type": "execute_result"
    }
   ],
   "source": [
    "# Let's look at the characteristics of the Dem Govs dataframe\n",
    "df_dems.describe()"
   ]
  },
  {
   "cell_type": "code",
   "execution_count": 9,
   "metadata": {},
   "outputs": [
    {
     "data": {
      "text/html": [
       "<div>\n",
       "<style scoped>\n",
       "    .dataframe tbody tr th:only-of-type {\n",
       "        vertical-align: middle;\n",
       "    }\n",
       "\n",
       "    .dataframe tbody tr th {\n",
       "        vertical-align: top;\n",
       "    }\n",
       "\n",
       "    .dataframe thead th {\n",
       "        text-align: right;\n",
       "    }\n",
       "</style>\n",
       "<table border=\"1\" class=\"dataframe\">\n",
       "  <thead>\n",
       "    <tr style=\"text-align: right;\">\n",
       "      <th></th>\n",
       "      <th>Likes</th>\n",
       "      <th>ReTweets</th>\n",
       "      <th>Followers</th>\n",
       "      <th>Words Total</th>\n",
       "    </tr>\n",
       "  </thead>\n",
       "  <tbody>\n",
       "    <tr>\n",
       "      <th>count</th>\n",
       "      <td>9802.000000</td>\n",
       "      <td>9802.000000</td>\n",
       "      <td>9802.000000</td>\n",
       "      <td>9802.000000</td>\n",
       "    </tr>\n",
       "    <tr>\n",
       "      <th>mean</th>\n",
       "      <td>868.483371</td>\n",
       "      <td>201.594164</td>\n",
       "      <td>129316.269231</td>\n",
       "      <td>30.662110</td>\n",
       "    </tr>\n",
       "    <tr>\n",
       "      <th>std</th>\n",
       "      <td>4946.790684</td>\n",
       "      <td>2043.326442</td>\n",
       "      <td>165459.361556</td>\n",
       "      <td>12.362881</td>\n",
       "    </tr>\n",
       "    <tr>\n",
       "      <th>min</th>\n",
       "      <td>0.000000</td>\n",
       "      <td>0.000000</td>\n",
       "      <td>6490.000000</td>\n",
       "      <td>1.000000</td>\n",
       "    </tr>\n",
       "    <tr>\n",
       "      <th>25%</th>\n",
       "      <td>22.000000</td>\n",
       "      <td>4.000000</td>\n",
       "      <td>34353.000000</td>\n",
       "      <td>22.000000</td>\n",
       "    </tr>\n",
       "    <tr>\n",
       "      <th>50%</th>\n",
       "      <td>59.000000</td>\n",
       "      <td>11.000000</td>\n",
       "      <td>61387.500000</td>\n",
       "      <td>33.000000</td>\n",
       "    </tr>\n",
       "    <tr>\n",
       "      <th>75%</th>\n",
       "      <td>218.000000</td>\n",
       "      <td>36.750000</td>\n",
       "      <td>131398.000000</td>\n",
       "      <td>40.000000</td>\n",
       "    </tr>\n",
       "    <tr>\n",
       "      <th>max</th>\n",
       "      <td>138545.000000</td>\n",
       "      <td>165276.000000</td>\n",
       "      <td>636107.000000</td>\n",
       "      <td>57.000000</td>\n",
       "    </tr>\n",
       "  </tbody>\n",
       "</table>\n",
       "</div>"
      ],
      "text/plain": [
       "               Likes       ReTweets      Followers  Words Total\n",
       "count    9802.000000    9802.000000    9802.000000  9802.000000\n",
       "mean      868.483371     201.594164  129316.269231    30.662110\n",
       "std      4946.790684    2043.326442  165459.361556    12.362881\n",
       "min         0.000000       0.000000    6490.000000     1.000000\n",
       "25%        22.000000       4.000000   34353.000000    22.000000\n",
       "50%        59.000000      11.000000   61387.500000    33.000000\n",
       "75%       218.000000      36.750000  131398.000000    40.000000\n",
       "max    138545.000000  165276.000000  636107.000000    57.000000"
      ]
     },
     "execution_count": 9,
     "metadata": {},
     "output_type": "execute_result"
    }
   ],
   "source": [
    "# Let's look at the characteristics of the Reps Govs dataframe\n",
    "df_reps.describe()"
   ]
  },
  {
   "cell_type": "markdown",
   "metadata": {},
   "source": [
    "  \n",
    "We begin plotting and comparing our data below."
   ]
  },
  {
   "cell_type": "markdown",
   "metadata": {},
   "source": [
    "### Party vs Likes, ReTweets, Followers, Words Total"
   ]
  },
  {
   "cell_type": "code",
   "execution_count": 10,
   "metadata": {},
   "outputs": [
    {
     "data": {
      "image/png": "[encoded data removed]",
      "text/plain": [
       "<Figure size 1800x1800 with 4 Axes>"
      ]
     },
     "metadata": {
      "needs_background": "light"
     },
     "output_type": "display_data"
    }
   ],
   "source": [
    "fig,axes=plt.subplots(2 , 2, figsize=(25,25))\n",
    "pal = {\"Dem\": \"#165bf0\", \"Rep\": \"#d62b2b\"}\n",
    "sns.boxplot(x='Party', y='Likes', data=df_all, palette=pal,ax=axes[0,0]).set_title('Likes vs Party')\n",
    "sns.boxplot(x='Party', y='ReTweets', data=df_all, palette=pal, ax=axes[0,1]).set_title('ReTweets vs Party')\n",
    "sns.boxplot(x='Party', y='Followers', data=df_all, palette=pal, ax=axes[1,0]).set_title('Followers vs Party')\n",
    "axes[1,0].ticklabel_format(style='plain', axis='y')\n",
    "sns.boxplot(x='Party', y='Words Total', data=df_all, palette=pal, ax=axes[1,1]).set_title('Words Total vs Party')\n",
    "plt.show()"
   ]
  },
  {
   "cell_type": "markdown",
   "metadata": {},
   "source": [
    "In the **Likes vs Party** graph, both Democratic governors and Republican governors seem to be *very* skewed. There seems to be a lot of outliers. \n",
    "  \n",
    "In the **ReTweets vs Party** graph, the data was also very skewed. There are also a lot of outliers, but there seems to be two outliers that stand out from the rest. The two tweets by either Dems or Reps seem to be greater than 75,000 retweets.  \n",
    "  \n",
    "In the **Followers vs Party** graph, some governors seem to have larger followings than others. The data is not as skewed as the likes and retweets graphs, and the outliers seem to be more identifiable. Outliers for Dems seem to be greater than 1,500,000 followers, and outliers for reps seem to be greater than 300,000 followers.  \n",
    "  \n",
    "In the **Words Total vs Party** graph, Dems and Reps have pretty similar distributions. The average words total for Dems is slightly higher."
   ]
  },
  {
   "cell_type": "markdown",
   "metadata": {},
   "source": [
    "**Outliers?**  \n",
    "The boxplots suggest that we have lots of outliers! We'll identify some of the most outstanding outliers."
   ]
  },
  {
   "cell_type": "code",
   "execution_count": 11,
   "metadata": {},
   "outputs": [
    {
     "name": "stdout",
     "output_type": "stream",
     "text": [
      "Dem Large Following: ['California' 'New York']\n",
      "Rep Large Following: ['South Dakota' 'Ohio' 'Florida' 'Texas' 'Massachusetts']\n"
     ]
    }
   ],
   "source": [
    "# We identify Dem Govs with large followings:\n",
    "df_large_dems = df_dems[df_dems['Followers'] > 1500000]\n",
    "print('Dem Large Following:', df_large_dems['State'].unique())\n",
    "\n",
    "# And, Rep Govs with large followings:\n",
    "df_large_reps = df_reps[df_reps['Followers'] > 300000]\n",
    "print('Rep Large Following:', df_large_reps['State'].unique())"
   ]
  },
  {
   "cell_type": "code",
   "execution_count": 12,
   "metadata": {},
   "outputs": [
    {
     "data": {
      "text/html": [
       "<div>\n",
       "<style scoped>\n",
       "    .dataframe tbody tr th:only-of-type {\n",
       "        vertical-align: middle;\n",
       "    }\n",
       "\n",
       "    .dataframe tbody tr th {\n",
       "        vertical-align: top;\n",
       "    }\n",
       "\n",
       "    .dataframe thead th {\n",
       "        text-align: right;\n",
       "    }\n",
       "</style>\n",
       "<table border=\"1\" class=\"dataframe\">\n",
       "  <thead>\n",
       "    <tr style=\"text-align: right;\">\n",
       "      <th></th>\n",
       "      <th>Date</th>\n",
       "      <th>Text</th>\n",
       "      <th>Likes</th>\n",
       "      <th>ReTweets</th>\n",
       "      <th>State</th>\n",
       "      <th>Followers</th>\n",
       "      <th>Words Total</th>\n",
       "      <th>Party</th>\n",
       "    </tr>\n",
       "  </thead>\n",
       "  <tbody>\n",
       "    <tr>\n",
       "      <th>6444</th>\n",
       "      <td>2020-10-17 22:14:34</td>\n",
       "      <td>This is exactly the rhetoric that has put me, ...</td>\n",
       "      <td>326317</td>\n",
       "      <td>87713</td>\n",
       "      <td>Michigan</td>\n",
       "      <td>442011</td>\n",
       "      <td>33</td>\n",
       "      <td>Dem</td>\n",
       "    </tr>\n",
       "    <tr>\n",
       "      <th>16973</th>\n",
       "      <td>2020-11-03 20:39:40</td>\n",
       "      <td>This Tweet from @KimReynoldsIA has been withhe...</td>\n",
       "      <td>0</td>\n",
       "      <td>165276</td>\n",
       "      <td>Iowa</td>\n",
       "      <td>34970</td>\n",
       "      <td>9</td>\n",
       "      <td>Rep</td>\n",
       "    </tr>\n",
       "  </tbody>\n",
       "</table>\n",
       "</div>"
      ],
      "text/plain": [
       "                      Date                                               Text  \\\n",
       "6444   2020-10-17 22:14:34  This is exactly the rhetoric that has put me, ...   \n",
       "16973  2020-11-03 20:39:40  This Tweet from @KimReynoldsIA has been withhe...   \n",
       "\n",
       "        Likes  ReTweets     State  Followers  Words Total Party  \n",
       "6444   326317     87713  Michigan     442011           33   Dem  \n",
       "16973       0    165276      Iowa      34970            9   Rep  "
      ]
     },
     "execution_count": 12,
     "metadata": {},
     "output_type": "execute_result"
    }
   ],
   "source": [
    "# There were some extreme outliers for retweets:\n",
    "df_retweets_extreme_outliers = df_all[df_all['ReTweets'] > 75000]\n",
    "df_retweets_extreme_outliers"
   ]
  },
  {
   "cell_type": "code",
   "execution_count": 13,
   "metadata": {},
   "outputs": [
    {
     "data": {
      "text/html": [
       "<div>\n",
       "<style scoped>\n",
       "    .dataframe tbody tr th:only-of-type {\n",
       "        vertical-align: middle;\n",
       "    }\n",
       "\n",
       "    .dataframe tbody tr th {\n",
       "        vertical-align: top;\n",
       "    }\n",
       "\n",
       "    .dataframe thead th {\n",
       "        text-align: right;\n",
       "    }\n",
       "</style>\n",
       "<table border=\"1\" class=\"dataframe\">\n",
       "  <thead>\n",
       "    <tr style=\"text-align: right;\">\n",
       "      <th></th>\n",
       "      <th>Date</th>\n",
       "      <th>Text</th>\n",
       "      <th>Likes</th>\n",
       "      <th>ReTweets</th>\n",
       "      <th>State</th>\n",
       "      <th>Followers</th>\n",
       "      <th>Words Total</th>\n",
       "      <th>Party</th>\n",
       "    </tr>\n",
       "  </thead>\n",
       "  <tbody>\n",
       "    <tr>\n",
       "      <th>16973</th>\n",
       "      <td>2020-11-03 20:39:40</td>\n",
       "      <td>This Tweet from @KimReynoldsIA has been withhe...</td>\n",
       "      <td>0</td>\n",
       "      <td>165276</td>\n",
       "      <td>Iowa</td>\n",
       "      <td>34970</td>\n",
       "      <td>9</td>\n",
       "      <td>Rep</td>\n",
       "    </tr>\n",
       "  </tbody>\n",
       "</table>\n",
       "</div>"
      ],
      "text/plain": [
       "                      Date                                               Text  \\\n",
       "16973  2020-11-03 20:39:40  This Tweet from @KimReynoldsIA has been withhe...   \n",
       "\n",
       "       Likes  ReTweets State  Followers  Words Total Party  \n",
       "16973      0    165276  Iowa      34970            9   Rep  "
      ]
     },
     "execution_count": 13,
     "metadata": {},
     "output_type": "execute_result"
    }
   ],
   "source": [
    "# Wait! There was something fishy at index 16973!\n",
    "df_withheld = df_all[df_all.Text.str.contains('This Tweet from')]\n",
    "\n",
    "df_withheld"
   ]
  },
  {
   "cell_type": "markdown",
   "metadata": {},
   "source": [
    "There seems to be withheld/deleted tweets that we didn't account for! This withheld tweet was found from looking at outliers, so we will remove these tweets now from our dataset. However, by running the code cell above, we see that the Iowa tweet was the only tweet in our dataset to be withheld. Therefore, we will only have to remove one row."
   ]
  },
  {
   "cell_type": "code",
   "execution_count": 14,
   "metadata": {},
   "outputs": [],
   "source": [
    "# Dropping the row identified in the EDA section\n",
    "df_all = df_all.drop([16973]).reset_index(drop=True)"
   ]
  },
  {
   "cell_type": "markdown",
   "metadata": {},
   "source": [
    "### State vs Follower Counts"
   ]
  },
  {
   "cell_type": "code",
   "execution_count": 15,
   "metadata": {},
   "outputs": [
    {
     "data": {
      "image/png": "[encoded data removed]",
      "text/plain": [
       "<Figure size 1800x1440 with 1 Axes>"
      ]
     },
     "metadata": {
      "needs_background": "light"
     },
     "output_type": "display_data"
    }
   ],
   "source": [
    "df_temp = df_all[['State','Followers','Party']]\n",
    "df_temp = df_temp.drop_duplicates(keep='first').reset_index()\n",
    "df_temp = df_temp.drop(['index'],axis=1)\n",
    "df_temp = df_temp.sort_values('Followers')\n",
    "\n",
    "df_temp.plot(kind='barh',x='State', y='Followers', figsize=(25,20),title='State vs Follower Count')\n",
    "plt.show()"
   ]
  },
  {
   "cell_type": "markdown",
   "metadata": {},
   "source": [
    "The New York and California governors have greater followings than any other state. But, we must recognize *that a governor's follower count most likely relies on factors such as state population and the date they assumed office.* In addition, having a greater follower count implies that they will have a greater likes and retweets average. Therefore, we will need to normalize likes and retweets based on follower count. This will be done in the TF-IDF portion of the notebook."
   ]
  },
  {
   "cell_type": "markdown",
   "metadata": {},
   "source": [
    "## Vader Sentiment"
   ]
  },
  {
   "cell_type": "markdown",
   "metadata": {},
   "source": [
    "In this portion of our analysis, we use VADER to create a distribution of the compound sentiment for Democratic and Republican tweets. This is done first by going through all tweets and calculating their compound sentiment using VADER. The compound sentiment is a \"normalized, weighted composite score\" such that a score greater than or above 0.05 indicates a positive sentiment, a score between -0.05 and 0.05 indicates a neutral sentiment, and a score less than or equal to -0.05 indicates a negative sentiment (4).\n",
    "\n",
    "After that, we will create a representation for the distribution of the compound sentiment for the Democratic and Republican tweets while also calculating basic statistics such as the mean and median of the sentiment for each party. We then use a Mann-Whitney U Test to see if the differences in the distributions are actually significant."
   ]
  },
  {
   "cell_type": "code",
   "execution_count": 16,
   "metadata": {},
   "outputs": [],
   "source": [
    "#Initialize VADER\n",
    "VADER = SentimentIntensityAnalyzer()"
   ]
  },
  {
   "cell_type": "code",
   "execution_count": 17,
   "metadata": {},
   "outputs": [],
   "source": [
    "#Calculate Sentiment Scores for Democrats\n",
    "\n",
    "#Add Column for Compound Sentiment Score\n",
    "df_dems[\"CompoundSentiment\"] = \"\"\n",
    "\n",
    "#Check if Anything Failed\n",
    "failed_dems = []\n",
    "\n",
    "for i in range(len(df_dems)):\n",
    "    tweet = df_dems.loc[i, \"Text\"]\n",
    "    try:\n",
    "        result = VADER.polarity_scores(tweet)\n",
    "        df_dems.loc[i, \"CompoundSentiment\"] = result[\"compound\"]\n",
    "    except BaseException as e:\n",
    "        failed_dems.append(i)\n",
    "        continue"
   ]
  },
  {
   "cell_type": "markdown",
   "metadata": {},
   "source": [
    "\n",
    "In this section, we add a blank column for compound sentiment in the Democratic DataFrame. After that, we simply run though each text tweet in the DataFrame and append the results of VADER's compound sentiment score into that row. If VADER cannot process the inputted text, we append it to a list called failed_dems. At the end, we will check that this is empty as it should be."
   ]
  },
  {
   "cell_type": "code",
   "execution_count": 18,
   "metadata": {},
   "outputs": [],
   "source": [
    "#Calculate Sentiment Scores for Republicans\n",
    "\n",
    "#Add Column for Compound Sentiment Score\n",
    "\n",
    "df_reps[\"CompoundSentiment\"] = \"\"\n",
    "\n",
    "#Check if Anything Failed\n",
    "failed_reps = []\n",
    "\n",
    "for i in range(len(df_reps)):\n",
    "    tweet = df_reps.loc[i, \"Text\"]\n",
    "    try:\n",
    "        result = VADER.polarity_scores(tweet)\n",
    "        df_reps.loc[i, \"CompoundSentiment\"] = result[\"compound\"]\n",
    "    except BaseException as e:\n",
    "        failed_reps.append(i)\n",
    "        continue"
   ]
  },
  {
   "cell_type": "markdown",
   "metadata": {},
   "source": [
    "This section does precisely the same thing except for the Republican tweets."
   ]
  },
  {
   "cell_type": "code",
   "execution_count": 19,
   "metadata": {},
   "outputs": [
    {
     "name": "stdout",
     "output_type": "stream",
     "text": [
      "Continue\n"
     ]
    }
   ],
   "source": [
    "#Check For Failure (Length of failed_dems/reps Should Be Zero)\n",
    "\n",
    "if(len(failed_dems) > 0 or len(failed_reps) > 0):\n",
    "    print(\"Error Happened\")\n",
    "else:\n",
    "    print(\"Continue\")"
   ]
  },
  {
   "cell_type": "markdown",
   "metadata": {},
   "source": [
    "After processing all tweets and adding their results into the DataFrame, we ensure that both failed_dems and failed_reps are empty. If so, we can continue with our analysis."
   ]
  },
  {
   "cell_type": "code",
   "execution_count": 20,
   "metadata": {},
   "outputs": [
    {
     "name": "stdout",
     "output_type": "stream",
     "text": [
      "Average Compound Sentiment for Democrats is: 0.3518109637488934.\n",
      "Median Compound Sentiment for Democrats is: 0.4754.\n",
      "Average Compound Sentiment for Republicans is: 0.39829964293001463.\n",
      "Median Compound Sentiment for Republicans is: 0.5179.\n"
     ]
    }
   ],
   "source": [
    "#Average and Median Sentiment for Democrats\n",
    "\n",
    "dem_average = df_dems[\"CompoundSentiment\"].mean()\n",
    "dem_median = df_dems[\"CompoundSentiment\"].median()\n",
    "\n",
    "#Average and Median Sentiment for Republicans\n",
    "\n",
    "rep_average = df_reps[\"CompoundSentiment\"].mean()\n",
    "rep_median = df_reps[\"CompoundSentiment\"].median()\n",
    "\n",
    "print(\"Average Compound Sentiment for Democrats is: {dem_average}.\".format(dem_average = dem_average))\n",
    "print(\"Median Compound Sentiment for Democrats is: {dem_median}.\".format(dem_median = dem_median))\n",
    "print(\"Average Compound Sentiment for Republicans is: {rep_average}.\".format(rep_average = rep_average))\n",
    "print(\"Median Compound Sentiment for Republicans is: {rep_median}.\".format(rep_median = rep_median))"
   ]
  },
  {
   "cell_type": "markdown",
   "metadata": {},
   "source": [
    "Here we simply calculate the average and median compound sentiment for each of the party's tweets.\n",
    "\n",
    "Based on first glance, these values are pretty close to each other. It seems that there isn't a very large disparity between the compound sentiment of the Republican governor tweets and the Democrat governor tweets. For now, there is a slight indication that Republican governors tend to tweet more positive tweets than Democrats. We can further investigate this by making a few visualizations."
   ]
  },
  {
   "cell_type": "markdown",
   "metadata": {},
   "source": [
    "### Dems vs Reps: Counts vs Compound Sentiment"
   ]
  },
  {
   "cell_type": "code",
   "execution_count": 21,
   "metadata": {},
   "outputs": [
    {
     "data": {
      "image/png": "[encoded data removed]",
      "text/plain": [
       "<Figure size 1440x504 with 2 Axes>"
      ]
     },
     "metadata": {
      "needs_background": "light"
     },
     "output_type": "display_data"
    }
   ],
   "source": [
    "fig,axes=plt.subplots(1 , 2, figsize=(20,7))\n",
    "sns.histplot(df_dems[\"CompoundSentiment\"],color='#165bf0',bins=50,ax=axes[0]).set(xlabel=\"Dems: CompoundSentiment\")\n",
    "sns.histplot(df_reps[\"CompoundSentiment\"],color='#d62b2b',bins=50,ax=axes[1]).set(xlabel=\"Reps: CompoundSentiment\")\n",
    "plt.show()"
   ]
  },
  {
   "cell_type": "markdown",
   "metadata": {},
   "source": [
    "\n",
    "Here we have two histograms that show the distribution of the compound sentiment for each party. We immediately notice that both parties have a massive spike around 0.0. This implies that a lot of the tweets from both parties do not carry much sentiment at all and are mostly neutral. Towards the right, we see an increase in positive tweets in both parties. On the left, we notice that the Democratic party has more negative sentiment tweets as opposed to the Republican party. As such, our visualizations suggest a very similar distribution between the two parties. However, we notice that the reason for the somewhat higher value for the average sentiment of the Republican governor tweets comes as a result of the Republican party having less negative tweets than the Democratic party."
   ]
  },
  {
   "cell_type": "code",
   "execution_count": 22,
   "metadata": {},
   "outputs": [
    {
     "name": "stdout",
     "output_type": "stream",
     "text": [
      "The p-value from the Mann-Whitney U Test is 1.1845152848175861e-09.\n",
      "\n",
      "Reject the null hypothesis. The distributions of the Democratic Tweet Compound Sentiment and Republican Tweet \n",
      "Compound Sentiment are different.\n"
     ]
    }
   ],
   "source": [
    "#Mann-Whitney U Test Results\n",
    "ranked = ranksums(df_dems[\"CompoundSentiment\"], df_reps[\"CompoundSentiment\"])\n",
    "p_val = ranked[1]\n",
    "print(\"The p-value from the Mann-Whitney U Test is {p_val}.\\n\".format(p_val = p_val))\n",
    "\n",
    "if(p_val < 0.05):\n",
    "    print(\"Reject the null hypothesis. The distributions of the Democratic Tweet Compound Sentiment and Republican Tweet \\nCompound Sentiment are different.\")"
   ]
  },
  {
   "cell_type": "markdown",
   "metadata": {},
   "source": [
    "To see whether or not these observed differences in the distribution are actually significant, we use a Mann-Whitney U Test which broadly speaking looks at the median of the two parties tweets and looks for significant differences. For sake of brevity, we have excluded the code that demonstrates that our distributions are not normal (otherwise we would have used a T-Test). This is why we are using the Mann-Whitney U Test instead."
   ]
  },
  {
   "cell_type": "markdown",
   "metadata": {},
   "source": [
    "## Interpretation of Results\n",
    "We notice that our p-value is much less than 0.05, suggesting that there does exist differences between the distributions of compound sentiment between the parties. However, we have to take these results with a grain of salt. Both from our calculated median and mean, and our graphical visualization, we can see that the distributions from each party are very similar and the mean/median are also similar. The p-value being so low is heavily influenced by how large the dataset actually is, so it is an incorrect interpretation to use that as a metric to suggest that Republicans and Democrats have very strongly different sentiment distributions.\n",
    "\n",
    "With this portion of our analysis done, we move forward to the second part of our project."
   ]
  },
  {
   "cell_type": "markdown",
   "metadata": {},
   "source": [
    "## TF-IDF"
   ]
  },
  {
   "cell_type": "markdown",
   "metadata": {},
   "source": [
    "In this section, we tried to find any relation between the most important words in a tweet vs. the most important words in high \"scoring\" tweets for each party. In an attempt to do so, we first had to determine what the most \"important\" words were in all of the tweets. This was determined by the TF-IDF algorithm. However, in order to use the algorithm, the data has to be formatted properly. Our dataset was the following:\n",
    "1. The total tweets in our original dataset from the Democratic party.\n",
    "2. The total tweets in our original dataset from the Republican party.\n",
    "\n",
    "To format the data properly we first had to clean the data (done by the help of a function borrowed from the specified source). The function only removed punctuation from the data since it is not useful in this case. Another important step was to remove the stop words. To do this, we tokenized the data using the word_tokenize function from NLTK, and the removed the words that were in the stop_words corpus. Finally, we stemmed the words to get their root form, so the algorithm could analyze how important each word was, contrary to how important the conjugation of the word was.\n",
    "\n",
    "We then performed TF-IDF on both sets of the data and extracted the top 15 most important words from each dataset (determined by the algorithm). We chose the number 15 in particular, as the higher the number that is chosen, the more insignificant the words are. At one point, the algorithms classifies the importance based on alphabetical order.\n",
    "\n",
    "We then used a way to score the data. Our scoring mechanism works as follows: normalize each tweet's likes and retweets by the number of followers of the person who tweeted. Then, add together the normalized likes and retweets. Next we had to determine what the highest scoring tweets were, so we sorted the tweets by their score. Then, we extracted the top 500 scored tweets and repeated the steps described above to get the 15 most important words in the top 500 scoring tweets."
   ]
  },
  {
   "cell_type": "code",
   "execution_count": 23,
   "metadata": {},
   "outputs": [],
   "source": [
    "# Reading in the democratic csv\n",
    "dem_df = pd.read_csv(\"Final_Dem.csv\").drop(\"Unnamed: 0\", axis=1)\n",
    "# Calculating a \"score\" for each tweets and adding it as a new column\n",
    "dem_df['Score'] = dem_df.apply(lambda row: (row.Likes/row.Followers+row.ReTweets/row.Followers), axis=1)\n",
    "# Sorting the tweets by the score\n",
    "dem_df = dem_df.sort_values(by=\"Score\", ascending=False)\n",
    "# Using top 500 scored tweets\n",
    "demtext = dem_df[\"Text\"][0:500]\n",
    "\n",
    "# Function taken from online source: https://www.kaggle.com/ragnisah/text-data-cleaning-tweets-analysis\n",
    "def remove_punct(text):\n",
    "    text  = \"\".join([char for char in text if char not in string.punctuation])\n",
    "    text = re.sub('[0-9]+', '', text)\n",
    "    return text\n",
    "\n",
    "# Creating a dataframe out of scored tweets\n",
    "dem_df = pd.DataFrame(demtext)\n",
    "# Applying cleaning algorithm to the text\n",
    "dem_df[\"Cleaned\"] = dem_df[\"Text\"].apply(lambda x:remove_punct(x))\n",
    "# Getting the stop words\n",
    "stop_words = set(stopwords.words('english')) \n",
    "# Tokenizing the cleaned tweets\n",
    "tokenized = [nltk.word_tokenize(x) for x in dem_df[\"Cleaned\"]]\n",
    "# Removing the stop words in the tweets\n",
    "for x in range(len(tokenized)):\n",
    "    tokenized[x] = [w for w in tokenized[x] if not w in stop_words]\n",
    "\n",
    "# New column for tokenized tweets\n",
    "dem_df[\"Tokenized\"] = tokenized\n",
    "\n",
    "# Using the PorterStemmer to stem each word\n",
    "total = []\n",
    "ps = PorterStemmer()\n",
    "for list_ in dem_df[\"Tokenized\"]:\n",
    "    flist = []\n",
    "    for w in list_:\n",
    "        flist.append(ps.stem(w))\n",
    "    total.append(flist)\n",
    "\n",
    "# New column for stemmed tweets\n",
    "dem_df[\"Stemmed\"] = total\n",
    "\n",
    "joined = []\n",
    "for x in dem_df[\"Stemmed\"]:\n",
    "    joined.append(\" \".join(x))\n",
    "\n",
    "# New column after joining the tokenized tweets\n",
    "dem_df[\"Joined\"] = joined\n",
    "\n",
    "# Vectorizing and transforming the tweets\n",
    "vectorizer = TfidfVectorizer()\n",
    "x = vectorizer.fit_transform(dem_df[\"Joined\"])\n",
    "\n",
    "# Getting the most important words from the top scored tweets\n",
    "dem_words = []\n",
    "features = vectorizer.get_feature_names()\n",
    "sorting = np.argsort(x.toarray()).flatten()[::-1]\n",
    "for i in range(50):\n",
    "    dem_words.append(features[sorting[i]])"
   ]
  },
  {
   "cell_type": "markdown",
   "metadata": {},
   "source": [
    "### Replicating the above process for scored republican tweets"
   ]
  },
  {
   "cell_type": "code",
   "execution_count": 24,
   "metadata": {},
   "outputs": [],
   "source": [
    "rep_df = pd.read_csv(\"Final_Rep.csv\").drop(\"Unnamed: 0\", axis=1)\n",
    "rep_df['Score'] = rep_df.apply(lambda row: (row.Likes/row.Followers+row.ReTweets/row.Followers), axis=1)\n",
    "rep_df = rep_df.sort_values(by=\"Score\", ascending=False)\n",
    "reptext = rep_df[\"Text\"][0:500]\n",
    "rep_df = pd.DataFrame(reptext)\n",
    "rep_df[\"Cleaned\"] = rep_df[\"Text\"].apply(lambda x:remove_punct(x))\n",
    "stop_words = set(stopwords.words('english')) \n",
    "tokenized = [nltk.word_tokenize(x) for x in rep_df[\"Cleaned\"]]\n",
    "for x in range(len(tokenized)):\n",
    "    tokenized[x] = [w for w in tokenized[x] if not w in stop_words]\n",
    "    \n",
    "rep_df[\"Tokenized\"] = tokenized\n",
    "\n",
    "total = []\n",
    "ps = PorterStemmer()\n",
    "for list_ in rep_df[\"Tokenized\"]:\n",
    "    flist = []\n",
    "    for w in list_:\n",
    "        flist.append(ps.stem(w))\n",
    "    total.append(flist)\n",
    "rep_df[\"Stemmed\"] = total\n",
    "joined = []\n",
    "for x in rep_df[\"Stemmed\"]:\n",
    "    joined.append(\" \".join(x))\n",
    "rep_df[\"Joined\"] = joined\n",
    "vectorizer = TfidfVectorizer()\n",
    "x = vectorizer.fit_transform(rep_df[\"Joined\"])\n",
    "rep_words = []\n",
    "features = vectorizer.get_feature_names()\n",
    "sorting = np.argsort(x.toarray()).flatten()[::-1]\n",
    "for i in range(500):\n",
    "    rep_words.append(features[sorting[i]])"
   ]
  },
  {
   "cell_type": "markdown",
   "metadata": {},
   "source": [
    "### Replicating the same process for all democratic tweets"
   ]
  },
  {
   "cell_type": "code",
   "execution_count": 25,
   "metadata": {},
   "outputs": [],
   "source": [
    "total_dem = pd.read_csv(\"Final_Dem.csv\", index_col=0)\n",
    "total_dem[\"Cleaned\"] = total_dem[\"Text\"].apply(lambda x:remove_punct(x))\n",
    "stop_words = set(stopwords.words('english')) \n",
    "tokenized = [nltk.word_tokenize(x) for x in total_dem[\"Cleaned\"]]\n",
    "for x in range(len(tokenized)):\n",
    "    tokenized[x] = [w for w in tokenized[x] if not w in stop_words]\n",
    "    \n",
    "total_dem[\"Tokenized\"] = tokenized\n",
    "\n",
    "total = []\n",
    "ps = PorterStemmer()\n",
    "for list_ in total_dem[\"Tokenized\"]:\n",
    "    flist = []\n",
    "    for w in list_:\n",
    "        flist.append(ps.stem(w))\n",
    "    total.append(flist)\n",
    "total_dem[\"Stemmed\"] = total\n",
    "joined = []\n",
    "for x in total_dem[\"Stemmed\"]:\n",
    "    joined.append(\" \".join(x))\n",
    "\n",
    "total_dem[\"Joined\"] = joined\n",
    "total_dem = total_dem.reset_index(drop=True)\n",
    "vectorizer = TfidfVectorizer()\n",
    "x = vectorizer.fit_transform(total_dem[\"Joined\"])\n",
    "total_dem_words = []\n",
    "features = vectorizer.get_feature_names()\n",
    "sorting = np.argsort(x.toarray()).flatten()[::-1]\n",
    "for i in range(16):\n",
    "    total_dem_words.append(features[sorting[i]])"
   ]
  },
  {
   "cell_type": "markdown",
   "metadata": {},
   "source": [
    "### Replicating the same process for all republican tweets"
   ]
  },
  {
   "cell_type": "code",
   "execution_count": 26,
   "metadata": {},
   "outputs": [],
   "source": [
    "total_rep = pd.read_csv(\"Final_Rep.csv\", index_col=0)\n",
    "total_rep[\"Cleaned\"] = total_rep[\"Text\"].apply(lambda x:remove_punct(x))\n",
    "stop_words = set(stopwords.words('english')) \n",
    "tokenized = [nltk.word_tokenize(x) for x in total_rep[\"Cleaned\"]]\n",
    "for x in range(len(tokenized)):\n",
    "    tokenized[x] = [w for w in tokenized[x] if not w in stop_words]\n",
    "    \n",
    "total_rep[\"Tokenized\"] = tokenized\n",
    "\n",
    "total = []\n",
    "ps = PorterStemmer()\n",
    "for list_ in total_rep[\"Tokenized\"]:\n",
    "    flist = []\n",
    "    for w in list_:\n",
    "        flist.append(ps.stem(w))\n",
    "    total.append(flist)\n",
    "total_rep[\"Stemmed\"] = total\n",
    "joined = []\n",
    "for x in total_rep[\"Stemmed\"]:\n",
    "    joined.append(\" \".join(x))\n",
    "\n",
    "total_rep[\"Joined\"] = joined\n",
    "vectorizer = TfidfVectorizer()\n",
    "x = vectorizer.fit_transform(total_rep[\"Joined\"])\n",
    "total_rep_words = []\n",
    "features = vectorizer.get_feature_names()\n",
    "sorting = np.argsort(x.toarray()).flatten()[::-1]\n",
    "for i in range(16):\n",
    "    total_rep_words.append(features[sorting[i]])\n",
    "del total_rep_words[2]"
   ]
  },
  {
   "cell_type": "markdown",
   "metadata": {},
   "source": [
    "## Interpretation of Results\n",
    "As seen in the results below for the Republican governors, there is a not-so-clear division in the type of words in each column. Looking at some of the words in the left column, we see examples such as food, assist, have, summer, etc. These are typical, even \"regular\", words that are used. Looking at the column on the right, we see words such as foxnews, twitter, nypost, football, etc. Considering these words came from popular republican tweets, it's evident why such words made the list. Fox News is a major conservative news outlet that may have garnered popularity. Similarly, the New York Post is also a conservative news outlet that appears in the list. Words like Twitter and football may be tied to common conservative opinions and news such as the use of free speech online and free protest at football games."
   ]
  },
  {
   "cell_type": "code",
   "execution_count": 27,
   "metadata": {},
   "outputs": [
    {
     "data": {
      "text/html": [
       "<div>\n",
       "<style scoped>\n",
       "    .dataframe tbody tr th:only-of-type {\n",
       "        vertical-align: middle;\n",
       "    }\n",
       "\n",
       "    .dataframe tbody tr th {\n",
       "        vertical-align: top;\n",
       "    }\n",
       "\n",
       "    .dataframe thead th {\n",
       "        text-align: right;\n",
       "    }\n",
       "</style>\n",
       "<table border=\"1\" class=\"dataframe\">\n",
       "  <thead>\n",
       "    <tr style=\"text-align: right;\">\n",
       "      <th></th>\n",
       "      <th>Most Important Words in All Tweets</th>\n",
       "      <th>Most Important Words in Popular Tweets</th>\n",
       "    </tr>\n",
       "  </thead>\n",
       "  <tbody>\n",
       "    <tr>\n",
       "      <th>0</th>\n",
       "      <td>food</td>\n",
       "      <td>came</td>\n",
       "    </tr>\n",
       "    <tr>\n",
       "      <th>1</th>\n",
       "      <td>assist</td>\n",
       "      <td>foxnew</td>\n",
       "    </tr>\n",
       "    <tr>\n",
       "      <th>2</th>\n",
       "      <td>have</td>\n",
       "      <td>then</td>\n",
       "    </tr>\n",
       "    <tr>\n",
       "      <th>3</th>\n",
       "      <td>summer</td>\n",
       "      <td>twitter</td>\n",
       "    </tr>\n",
       "    <tr>\n",
       "      <th>4</th>\n",
       "      <td>map</td>\n",
       "      <td>nypost</td>\n",
       "    </tr>\n",
       "    <tr>\n",
       "      <th>5</th>\n",
       "      <td>near</td>\n",
       "      <td>first</td>\n",
       "    </tr>\n",
       "    <tr>\n",
       "      <th>6</th>\n",
       "      <td>locat</td>\n",
       "      <td>look</td>\n",
       "    </tr>\n",
       "    <tr>\n",
       "      <th>7</th>\n",
       "      <td>wv</td>\n",
       "      <td>like</td>\n",
       "    </tr>\n",
       "    <tr>\n",
       "      <th>8</th>\n",
       "      <td>distribut</td>\n",
       "      <td>foolish</td>\n",
       "    </tr>\n",
       "    <tr>\n",
       "      <th>9</th>\n",
       "      <td>strong</td>\n",
       "      <td>forc</td>\n",
       "    </tr>\n",
       "    <tr>\n",
       "      <th>10</th>\n",
       "      <td>find</td>\n",
       "      <td>for</td>\n",
       "    </tr>\n",
       "    <tr>\n",
       "      <th>11</th>\n",
       "      <td>call</td>\n",
       "      <td>footbal</td>\n",
       "    </tr>\n",
       "    <tr>\n",
       "      <th>12</th>\n",
       "      <td>visit</td>\n",
       "      <td>follow</td>\n",
       "    </tr>\n",
       "    <tr>\n",
       "      <th>13</th>\n",
       "      <td>need</td>\n",
       "      <td>food</td>\n",
       "    </tr>\n",
       "    <tr>\n",
       "      <th>14</th>\n",
       "      <td>gun</td>\n",
       "      <td>forest</td>\n",
       "    </tr>\n",
       "  </tbody>\n",
       "</table>\n",
       "</div>"
      ],
      "text/plain": [
       "   Most Important Words in All Tweets Most Important Words in Popular Tweets\n",
       "0                                food                                   came\n",
       "1                              assist                                 foxnew\n",
       "2                                have                                   then\n",
       "3                              summer                                twitter\n",
       "4                                 map                                 nypost\n",
       "5                                near                                  first\n",
       "6                               locat                                   look\n",
       "7                                  wv                                   like\n",
       "8                           distribut                                foolish\n",
       "9                              strong                                   forc\n",
       "10                               find                                    for\n",
       "11                               call                                footbal\n",
       "12                              visit                                 follow\n",
       "13                               need                                   food\n",
       "14                                gun                                 forest"
      ]
     },
     "execution_count": 27,
     "metadata": {},
     "output_type": "execute_result"
    }
   ],
   "source": [
    "# Comparing the important scored words, with the total important words\n",
    "republicans = pd.DataFrame()\n",
    "republicans[\"Most Important Words in All Tweets\"] = total_rep_words\n",
    "republicans[\"Most Important Words in Popular Tweets\"] = rep_words[:15]\n",
    "republicans"
   ]
  },
  {
   "cell_type": "markdown",
   "metadata": {},
   "source": [
    "The results in the Democratic dataframe below parallel those of the Republican dataframe. Some of the most important words in all tweets include vino, renoairport, definitive, lunch, drop, etc. There is nothing special about these words except for maybe vino, which is wine, and the reno airport, which might have had a significant event, that we do not know about. On the other hand, some of the most important words in popular tweets include action, out of control, aggress, two week, oregon gov brown, etc. These words can be tied to strong liberal sentiments such as freedom of protest and the political unrest we saw earlier in the year, in which case action, out of control, and aggress seem to fit perfectly. Words like two week seem to make sense in the context of the coronavirus and quarantining for two weeks. We also see Mexico at index 12 in the table, which might be related to illegal immigration or the detaining of children near the border. These results are understandable and interpretable, but only under closer investigation and due to previous, relevant knowledge."
   ]
  },
  {
   "cell_type": "code",
   "execution_count": 28,
   "metadata": {},
   "outputs": [
    {
     "data": {
      "text/html": [
       "<div>\n",
       "<style scoped>\n",
       "    .dataframe tbody tr th:only-of-type {\n",
       "        vertical-align: middle;\n",
       "    }\n",
       "\n",
       "    .dataframe tbody tr th {\n",
       "        vertical-align: top;\n",
       "    }\n",
       "\n",
       "    .dataframe thead th {\n",
       "        text-align: right;\n",
       "    }\n",
       "</style>\n",
       "<table border=\"1\" class=\"dataframe\">\n",
       "  <thead>\n",
       "    <tr style=\"text-align: right;\">\n",
       "      <th></th>\n",
       "      <th>Most Important Words in All Tweets</th>\n",
       "      <th>Most Important Words in Popular Tweets</th>\n",
       "    </tr>\n",
       "  </thead>\n",
       "  <tbody>\n",
       "    <tr>\n",
       "      <th>0</th>\n",
       "      <td>vino</td>\n",
       "      <td>action</td>\n",
       "    </tr>\n",
       "    <tr>\n",
       "      <th>1</th>\n",
       "      <td>renoairport</td>\n",
       "      <td>outofcontrol</td>\n",
       "    </tr>\n",
       "    <tr>\n",
       "      <th>2</th>\n",
       "      <td>volo</td>\n",
       "      <td>aggress</td>\n",
       "    </tr>\n",
       "    <tr>\n",
       "      <th>3</th>\n",
       "      <td>definit</td>\n",
       "      <td>twoweek</td>\n",
       "    </tr>\n",
       "    <tr>\n",
       "      <th>4</th>\n",
       "      <td>lunch</td>\n",
       "      <td>oregongovbrown</td>\n",
       "    </tr>\n",
       "    <tr>\n",
       "      <th>5</th>\n",
       "      <td>worth</td>\n",
       "      <td>bold</td>\n",
       "    </tr>\n",
       "    <tr>\n",
       "      <th>6</th>\n",
       "      <td>ladi</td>\n",
       "      <td>blunt</td>\n",
       "    </tr>\n",
       "    <tr>\n",
       "      <th>7</th>\n",
       "      <td>just</td>\n",
       "      <td>resourc</td>\n",
       "    </tr>\n",
       "    <tr>\n",
       "      <th>8</th>\n",
       "      <td>tri</td>\n",
       "      <td>choic</td>\n",
       "    </tr>\n",
       "    <tr>\n",
       "      <th>9</th>\n",
       "      <td>drop</td>\n",
       "      <td>freez</td>\n",
       "    </tr>\n",
       "    <tr>\n",
       "      <th>10</th>\n",
       "      <td>give</td>\n",
       "      <td>emerg</td>\n",
       "    </tr>\n",
       "    <tr>\n",
       "      <th>11</th>\n",
       "      <td>great</td>\n",
       "      <td>requir</td>\n",
       "    </tr>\n",
       "    <tr>\n",
       "      <th>12</th>\n",
       "      <td>first</td>\n",
       "      <td>mexico</td>\n",
       "    </tr>\n",
       "    <tr>\n",
       "      <th>13</th>\n",
       "      <td>time</td>\n",
       "      <td>difficult</td>\n",
       "    </tr>\n",
       "    <tr>\n",
       "      <th>14</th>\n",
       "      <td>hafafarm</td>\n",
       "      <td>care</td>\n",
       "    </tr>\n",
       "  </tbody>\n",
       "</table>\n",
       "</div>"
      ],
      "text/plain": [
       "   Most Important Words in All Tweets Most Important Words in Popular Tweets\n",
       "0                                vino                                 action\n",
       "1                         renoairport                           outofcontrol\n",
       "2                                volo                                aggress\n",
       "3                             definit                                twoweek\n",
       "4                               lunch                         oregongovbrown\n",
       "5                               worth                                   bold\n",
       "6                                ladi                                  blunt\n",
       "7                                just                                resourc\n",
       "8                                 tri                                  choic\n",
       "9                                drop                                  freez\n",
       "10                               give                                  emerg\n",
       "11                              great                                 requir\n",
       "12                              first                                 mexico\n",
       "13                               time                              difficult\n",
       "14                           hafafarm                                   care"
      ]
     },
     "execution_count": 28,
     "metadata": {},
     "output_type": "execute_result"
    }
   ],
   "source": [
    "# Comparing the important scored words, with the total important words\n",
    "democrats = pd.DataFrame()\n",
    "democrats[\"Most Important Words in All Tweets\"] = total_dem_words[:15]\n",
    "democrats[\"Most Important Words in Popular Tweets\"] = dem_words[:15]\n",
    "democrats"
   ]
  },
  {
   "cell_type": "markdown",
   "metadata": {},
   "source": [
    "Our hypothesis does seem to match our results for both parties, as the type of words in each column do differ depending on the context."
   ]
  },
  {
   "cell_type": "markdown",
   "metadata": {},
   "source": [
    "# Ethics & Privacy"
   ]
  },
  {
   "cell_type": "markdown",
   "metadata": {},
   "source": [
    "The governors posted their tweets onto their public social media account, so privacy is not an issue as everyone has access to all their tweets and contents. In addition, it is public knowledge which political party the governor is a part of, so there is no privacy problem there either. We will not take any private tweets made by the governors, if there are any. In order to gather our data, we will be utilizing Twitter’s API to collect tweets. This will come with its own terms of use and other restrictions, that we will have to comply by.\n",
    "\n",
    "There are several ethical issues in our project that we need to address. Starting with our question, we face a source of bias if we potentially mix words like “positive” and “negative” with political affiliation. To address this, we relied on a standardized definition of sentiment that is brought by VADER. Admittedly, VADER’s own definitions may hold their own biases, however its esteemed status and widespread use is preferable to our own definitions. Our data that we have collected and used is subject to some biases. We simply used the 377 most recent tweets from each governor to streamline our process. However, if we had more time, we would go back and make sure that a fair proportion of each sentiment was represented in our data. \n",
    "\n",
    "As for the data itself, there is not a major source of bias as we are using the direct tweets from the governors and not retweets or anything like that. However, because of time restrictions and how long it took to scrape the tweets, we had to place a lot of faith into the VADER and TF-IDF algorithms. These algorithms carry their own set of biases, and future work should take that into account by verifying the results of the algorithms with a training set.\n",
    "\n",
    "During analysis, a significant ethical issue is seen in our sentiment analysis portion. As seen above, our result suggests that Republicans tend to tweet more positively on average than Democrats. Furthermore, the p-value of the Mann-Whitney Test was very small, indicating that the difference was significant. Hypothetically, these results and the small p-value specifically can be maliciously used to suggest that Democrats tweet way more negative things than Republicans. \n",
    "\n",
    "In reality, these significant differences speak to the large size of our dataset more than anything. Indeed, we also saw that the mean and median compound sentiment from both parties was actually very similar.\n",
    " \n"
   ]
  },
  {
   "cell_type": "markdown",
   "metadata": {},
   "source": [
    "# Conclusion & Discussion"
   ]
  },
  {
   "cell_type": "markdown",
   "metadata": {},
   "source": [
    "In this project, we aimed to see if there exists a relationship between the sentiment of the original tweets from US governors and their party affiliation. We also tried to see if there is a difference between the important words that appear in all tweets versus those that appear in popular tweets (based on the party). Our data was gathered using the Twitter API as we scraped tweets for every governor and then placed them all after a cleaning process into two separate DataFrames for each party.  \n",
    "  \n",
    "Based on our analysis, we can say that there exists a (weak) relationship between the sentiment of original US governor tweets and their party affiliation. We found that the Republican governors tend to tweet more positive tweets on average by a small margin. This stands in contrast to our hypothesis where we thought that the Democratic governors would tweet more positively on average. We have a few ideas why this might be the case. First, we consider how the current President is a Republican, thus potentially suggesting that Republicans will praise the current administration and will likely tweet more positive tweets whereas Democrats might tweet more negatively as they criticize the administration. This may explain why the dataset that had the tweets of presidential candidates from 2016 may have had more negative tweets from the Republican party as the president at the time was a Democrat. Secondly, we do not notice any massive shifts in sentiment from either party as it seems that governors in general tend to tweet a lot of things that are mostly neutral. This is potentially a notable difference from presidential candidate tweets.  \n",
    "  \n",
    "For the other part of our project, we found a difference in the kind of words used in all tweets compared to the kind of words used in the most popular tweets based on each party’s tweet corpus. When looking at the most important words in all the tweets (for each party) we find that most of the words lack any definitive, strong meanings. On the other hand, the important words that appear in the most popular tweets are correlated with current political events. We see this with Fox News in the popular Republican tweets and “twoweek” in the popular Democratic tweets (most likely referring to the 2 week quarantine period of COVID-19).  \n",
    "  \n",
    "Our project comes with several limitations. By default, our data is limited by the Twitter API as we could only go back to 2018 to get tweets. Because of time constraints and the tedious nature of gathering the tweets for all governors, we also had to place a lot of faith in the correctness of algorithms such as VADER and TF-IDF. Fundamentally, these algorithms are for general usage and might not necessarily be fully compatible with our dataset. With more time, we would definitely verify the results of these algorithms (with something like a training set) and also explore other algorithms that might be a better fit for our dataset. Secondly, there is a high potential for confounders in our results that we may not account for. In the context of the VADER portion of our project, tweet sentiment itself may not just correlate with political party but potentially with follower count for example. Similarly, the importance of a word (calculated by TF-IDF) to a given tweet might be affected by the sentiment of that tweet. These are two examples of how our results do not fully account for potential confounders in our dataset. The TF-IDF portion of our project also had the limitation of providing output that is difficult to interpret.\n",
    "  \n",
    "Our project’s impact on society is seen in how analyzing the semantics of American politics provides insight into how politicians interact with their constituents. As we mention in our background, we hope that this project will empower the reader with strategies to understand how each party goes about trying to gain voters as they go about informing themselves and others on different candidates that run for office."
   ]
  },
  {
   "cell_type": "markdown",
   "metadata": {},
   "source": [
    "# Team Contributions"
   ]
  },
  {
   "cell_type": "markdown",
   "metadata": {},
   "source": [
    "- Arjun: Topic research, TF-IDF\n",
    "- Audrey: EDA and merging notebook together from each\n",
    "- Eamon: VADER and editing/reviewing notebook\n",
    "- Likith: Cleaning/Scraping the dataset/TF-IDF, editing notebook\n",
    "- All: Scraping, drafting components of the final report"
   ]
  }
 ],
 "metadata": {
  "kernelspec": {
   "display_name": "Python 3",
   "language": "python",
   "name": "python3"
  },
  "language_info": {
   "codemirror_mode": {
    "name": "ipython",
    "version": 3
   },
   "file_extension": ".py",
   "mimetype": "text/x-python",
   "name": "python",
   "nbconvert_exporter": "python",
   "pygments_lexer": "ipython3",
   "version": "3.7.9"
  }
 },
 "nbformat": 4,
 "nbformat_minor": 2
}
