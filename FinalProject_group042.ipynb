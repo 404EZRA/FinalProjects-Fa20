{
 "cells": [
  {
   "cell_type": "markdown",
   "metadata": {},
   "source": [
    "# COGS 108 - Final Project "
   ]
  },
  {
   "cell_type": "markdown",
   "metadata": {},
   "source": [
    "# Overview"
   ]
  },
  {
   "cell_type": "markdown",
   "metadata": {},
   "source": [
    "In this project, we look for the correlation between COVID-19 cases in the U.S and the negative sentiment towards Asian Americans on Twitter. To do this, we use snscrape to scrape tweets based on keywords and train an SVM using TF-IDF to classify tweets based on their sentiment. In our findings, we discovered no strong correlation between these two variables, and attribute this to various limitations such as model inaccuracy."
   ]
  },
  {
   "cell_type": "markdown",
   "metadata": {},
   "source": [
    "# Names\n",
    "\n",
    "- Jeffrey Ha\n",
    "- David Ma\n",
    "- Mary Nguyen\n",
    "- Jason Win\n",
    "- Sidi Xu"
   ]
  },
  {
   "cell_type": "markdown",
   "metadata": {},
   "source": [
    "# Research Question"
   ]
  },
  {
   "cell_type": "markdown",
   "metadata": {},
   "source": [
    "What is the relationship between the rise of COVID-19 cases in the U.S. during the pandemic and the increase of negative sentiment, measured through tweet content and keywords, towards the Asian-American community on Twitter?"
   ]
  },
  {
   "cell_type": "markdown",
   "metadata": {},
   "source": [
    "## Background and Prior Work"
   ]
  },
  {
   "cell_type": "markdown",
   "metadata": {},
   "source": [
    "In the U.S, more than 10 million people have had confirmed cases of the coronavirus infections, with more than 240,000 deaths. \n",
    "During this ongoing pandemic, the COVID-19 outbreak has brought forward thousands of incidents pertaining to racism, discrimination, and violence against Asians. This is especially true in the United States where many hate crimes were committed towards Asian Americans. Ranging from racial slurs to being physically abused, it is most evident that there exists a connection between the COVID-19 virus and Asians due to the origins of the virus itself (Wuhan, China).\n",
    "\n",
    "These incidents are even extended to social media. According to a Washington Post article “As the coronavirus spreads, so does online racism targeting Asians, new research shows” by Craig Timberg and Allyson Chiu, this acute hatred for Asian Americans have caused misinformation to widely spread on social media. Most evidently on Instagram where a post had called for the shooting of every Asian encountered in New York City’s Chinatown because of the belief that this is the only way to destroy the epidemic of COVID-19.\n",
    "\n",
    "Seeing this increase in hatred, we wanted to focus our research question on whether social media has impacted the racialization of Asians in the United States. There was past research that was conducted on this topic. For example, the article by Frontier Media found that the more an individual believes news from their most used social media source is accurate, the more likely they are to believe that Asians pose a realistic threat to America, if not the entire world. Overall, we hope that our project is able to build upon past research and highlight how the racialization of COVID-19 has affected the Asian American community today.\n",
    "\n",
    "\n",
    "References (include links):\n",
    "- 1) https://www.frontiersin.org/articles/10.3389/fcomm.2020.00039/full\n",
    "- 2) https://www.washingtonpost.com/technology/2020/04/08/coronavirus-spreads-so-does-online-racism-targeting-asians-new-research-shows/\n",
    "- 3) https://www.npr.org/sections/health-shots/2020/09/01/816707182/map-tracking-the-spread-of-the-coronavirus-in-the-u-s"
   ]
  },
  {
   "cell_type": "markdown",
   "metadata": {},
   "source": [
    "# Hypothesis\n"
   ]
  },
  {
   "cell_type": "markdown",
   "metadata": {},
   "source": [
    "The rise in COVID-19 cases in the U.S. is correlated with an increase of negative sentiment towards the Asian American community. This is because we can see an increase of racially negative rhetoric on Twitter throughout the progression of COVID-19."
   ]
  },
  {
   "cell_type": "markdown",
   "metadata": {},
   "source": [
    "# Dataset(s)"
   ]
  },
  {
   "cell_type": "markdown",
   "metadata": {},
   "source": [
    "- **Dataset Name:** CDC Data for Case Daily Trends - United States\n",
    "- **Link to the dataset:** https://covid.cdc.gov/covid-data-tracker/#trends_dailytrendscases\n",
    "- **Number of observations:** 315\n",
    "- **Description:** This dataset contains the numbers of daily reported new COVID-19 cases in the United States as well as the 7-day moving average for all days from January 22, 2020 to present. The 7-day moving average for an observation is calculated by taking an average of the number of cases from the last 7 days from that date."
   ]
  },
  {
   "cell_type": "markdown",
   "metadata": {},
   "source": [
    "- **Dataset Name:** Labeled Tweets\n",
    "- **Link to the dataset:** http://claws.cc.gatech.edu/covid\n",
    "- **Number of observations:** ~2,000 Tweets\n",
    "- **Description:** This dataset contains tweets that were scraped and then hand-labeled by a research team based on their sentiment. The tweets were gathered during the pandemic and are labeled as one of the following: 'Hate', which specifically refers to hate towards Asian Americans, 'Non-Asian Aggression', 'Neutral', and 'Counterhate'. We used this set to train our SVM."
   ]
  },
  {
   "cell_type": "markdown",
   "metadata": {},
   "source": [
    "- **Dataset Name:** Scraped Tweets\n",
    "- **Link to the dataset:** https://drive.google.com/drive/u/0/folders/0ALQPpTiZHOcoUk9PVA\n",
    "- **Number of observations:** ~775,000\n",
    "- **Description:** This dataset contains tweets that were scraped during pandemic from January 22, 2020 to present. There are ~2,500 tweets scraped per day during this timeframe. Tweets were scraped by filtering tweet content for the top 5 pandemic-related keywords mentioned on Twitter, referenced from this scholarly article: https://www.mdpi.com/1660-4601/17/19/7032/pdf"
   ]
  },
  {
   "cell_type": "markdown",
   "metadata": {},
   "source": [
    "# Setup"
   ]
  },
  {
   "cell_type": "code",
   "execution_count": 1,
   "metadata": {},
   "outputs": [
    {
     "name": "stderr",
     "output_type": "stream",
     "text": [
      "[nltk_data] Downloading package punkt to\n",
      "[nltk_data]     C:\\Users\\jeffr\\AppData\\Roaming\\nltk_data...\n",
      "[nltk_data]   Package punkt is already up-to-date!\n"
     ]
    }
   ],
   "source": [
    "# import ds/plotting packages\n",
    "import numpy as np\n",
    "import pandas as pd\n",
    "import matplotlib.pyplot as plt\n",
    "import matplotlib.dates as mdates\n",
    "import seaborn as sns\n",
    "\n",
    "# Import nltk package \n",
    "import nltk\n",
    "from nltk.tokenize import word_tokenize\n",
    "from nltk.corpus import stopwords\n",
    "nltk.download('punkt')\n",
    "\n",
    "# import random for randomizing\n",
    "import random\n",
    "from sklearn.utils import shuffle\n",
    "\n",
    "# scikit-learn imports\n",
    "from sklearn.svm import SVC\n",
    "from sklearn.feature_extraction.text import TfidfVectorizer\n",
    "from sklearn.metrics import classification_report, precision_recall_fscore_support\n",
    "from sklearn.model_selection import train_test_split\n",
    "from sklearn.utils import class_weight\n",
    "\n",
    "# dumb model\n",
    "from textblob import TextBlob\n",
    "\n",
    "# silence warnings\n",
    "import warnings\n",
    "warnings.filterwarnings('ignore')\n",
    "\n",
    "# parsing / cleaning\n",
    "import html\n",
    "import datetime\n",
    "import snscrape.modules.twitter as sntwitter\n",
    "from urllib.parse import urlparse\n",
    "from textwrap import wrap"
   ]
  },
  {
   "cell_type": "code",
   "execution_count": 2,
   "metadata": {},
   "outputs": [],
   "source": [
    "# visualization configuration\n",
    "sns.set(rc={\"font.size\": 20, \"axes.titlesize\": 30, \"axes.labelsize\": 24})\n",
    "sns.set_style('ticks', {'axes.spines.right': False, 'axes.spines.top': False})\n",
    "plt.rc('xtick', labelsize=20)\n",
    "plt.rc('ytick', labelsize=20)\n",
    "plt.rc('figure', figsize=(16,9))\n",
    "\n",
    "# Don't display too many rows/cols of DataFrames\n",
    "pd.options.display.max_rows = 7\n",
    "pd.options.display.max_columns = 8\n",
    "\n",
    "# Round decimals when displaying DataFrames\n",
    "pd.set_option('precision', 2)"
   ]
  },
  {
   "cell_type": "markdown",
   "metadata": {},
   "source": [
    "# Data Cleaning"
   ]
  },
  {
   "cell_type": "markdown",
   "metadata": {},
   "source": [
    "#### Daily COVID-19 Cases Dataset"
   ]
  },
  {
   "cell_type": "markdown",
   "metadata": {},
   "source": [
    "The dataset of daily COVID-19 case trends was prepared by the CDC. The dataset has no missing values in any observations. We simply rename the columns for easier reference and modify the format of dates for processing and future sorting."
   ]
  },
  {
   "cell_type": "code",
   "execution_count": 3,
   "metadata": {},
   "outputs": [
    {
     "data": {
      "text/html": [
       "<div>\n",
       "<style scoped>\n",
       "    .dataframe tbody tr th:only-of-type {\n",
       "        vertical-align: middle;\n",
       "    }\n",
       "\n",
       "    .dataframe tbody tr th {\n",
       "        vertical-align: top;\n",
       "    }\n",
       "\n",
       "    .dataframe thead th {\n",
       "        text-align: right;\n",
       "    }\n",
       "</style>\n",
       "<table border=\"1\" class=\"dataframe\">\n",
       "  <thead>\n",
       "    <tr style=\"text-align: right;\">\n",
       "      <th></th>\n",
       "      <th>Date</th>\n",
       "      <th>New Cases</th>\n",
       "      <th>7-Day Moving Avg</th>\n",
       "    </tr>\n",
       "  </thead>\n",
       "  <tbody>\n",
       "    <tr>\n",
       "      <th>0</th>\n",
       "      <td>Dec 10 2020</td>\n",
       "      <td>203229</td>\n",
       "      <td>204766</td>\n",
       "    </tr>\n",
       "    <tr>\n",
       "      <th>1</th>\n",
       "      <td>Dec 9 2020</td>\n",
       "      <td>231396</td>\n",
       "      <td>207046</td>\n",
       "    </tr>\n",
       "    <tr>\n",
       "      <th>2</th>\n",
       "      <td>Dec 8 2020</td>\n",
       "      <td>217046</td>\n",
       "      <td>202021</td>\n",
       "    </tr>\n",
       "    <tr>\n",
       "      <th>...</th>\n",
       "      <td>...</td>\n",
       "      <td>...</td>\n",
       "      <td>...</td>\n",
       "    </tr>\n",
       "    <tr>\n",
       "      <th>321</th>\n",
       "      <td>Jan 24 2020</td>\n",
       "      <td>1</td>\n",
       "      <td>0</td>\n",
       "    </tr>\n",
       "    <tr>\n",
       "      <th>322</th>\n",
       "      <td>Jan 23 2020</td>\n",
       "      <td>0</td>\n",
       "      <td>0</td>\n",
       "    </tr>\n",
       "    <tr>\n",
       "      <th>323</th>\n",
       "      <td>Jan 22 2020</td>\n",
       "      <td>1</td>\n",
       "      <td>0</td>\n",
       "    </tr>\n",
       "  </tbody>\n",
       "</table>\n",
       "<p>324 rows × 3 columns</p>\n",
       "</div>"
      ],
      "text/plain": [
       "            Date  New Cases  7-Day Moving Avg\n",
       "0    Dec 10 2020     203229            204766\n",
       "1     Dec 9 2020     231396            207046\n",
       "2     Dec 8 2020     217046            202021\n",
       "..           ...        ...               ...\n",
       "321  Jan 24 2020          1                 0\n",
       "322  Jan 23 2020          0                 0\n",
       "323  Jan 22 2020          1                 0\n",
       "\n",
       "[324 rows x 3 columns]"
      ]
     },
     "execution_count": 3,
     "metadata": {},
     "output_type": "execute_result"
    }
   ],
   "source": [
    "# load our covid-19 dataset (https://covid.cdc.gov/covid-data-tracker/#trends_dailytrendscases)\n",
    "covid_df = pd.read_csv('case_daily_trends__united_states.csv')\n",
    "covid_df"
   ]
  },
  {
   "cell_type": "markdown",
   "metadata": {},
   "source": [
    "First, we rename the columns for friendlier accessibility when manipulating the dataframe."
   ]
  },
  {
   "cell_type": "code",
   "execution_count": 4,
   "metadata": {},
   "outputs": [
    {
     "data": {
      "text/html": [
       "<div>\n",
       "<style scoped>\n",
       "    .dataframe tbody tr th:only-of-type {\n",
       "        vertical-align: middle;\n",
       "    }\n",
       "\n",
       "    .dataframe tbody tr th {\n",
       "        vertical-align: top;\n",
       "    }\n",
       "\n",
       "    .dataframe thead th {\n",
       "        text-align: right;\n",
       "    }\n",
       "</style>\n",
       "<table border=\"1\" class=\"dataframe\">\n",
       "  <thead>\n",
       "    <tr style=\"text-align: right;\">\n",
       "      <th></th>\n",
       "      <th>date</th>\n",
       "      <th>new_cases</th>\n",
       "      <th>moving_avg</th>\n",
       "    </tr>\n",
       "  </thead>\n",
       "  <tbody>\n",
       "    <tr>\n",
       "      <th>0</th>\n",
       "      <td>Dec 10 2020</td>\n",
       "      <td>203229</td>\n",
       "      <td>204766</td>\n",
       "    </tr>\n",
       "    <tr>\n",
       "      <th>1</th>\n",
       "      <td>Dec 9 2020</td>\n",
       "      <td>231396</td>\n",
       "      <td>207046</td>\n",
       "    </tr>\n",
       "    <tr>\n",
       "      <th>2</th>\n",
       "      <td>Dec 8 2020</td>\n",
       "      <td>217046</td>\n",
       "      <td>202021</td>\n",
       "    </tr>\n",
       "    <tr>\n",
       "      <th>...</th>\n",
       "      <td>...</td>\n",
       "      <td>...</td>\n",
       "      <td>...</td>\n",
       "    </tr>\n",
       "    <tr>\n",
       "      <th>321</th>\n",
       "      <td>Jan 24 2020</td>\n",
       "      <td>1</td>\n",
       "      <td>0</td>\n",
       "    </tr>\n",
       "    <tr>\n",
       "      <th>322</th>\n",
       "      <td>Jan 23 2020</td>\n",
       "      <td>0</td>\n",
       "      <td>0</td>\n",
       "    </tr>\n",
       "    <tr>\n",
       "      <th>323</th>\n",
       "      <td>Jan 22 2020</td>\n",
       "      <td>1</td>\n",
       "      <td>0</td>\n",
       "    </tr>\n",
       "  </tbody>\n",
       "</table>\n",
       "<p>324 rows × 3 columns</p>\n",
       "</div>"
      ],
      "text/plain": [
       "            date  new_cases  moving_avg\n",
       "0    Dec 10 2020     203229      204766\n",
       "1     Dec 9 2020     231396      207046\n",
       "2     Dec 8 2020     217046      202021\n",
       "..           ...        ...         ...\n",
       "321  Jan 24 2020          1           0\n",
       "322  Jan 23 2020          0           0\n",
       "323  Jan 22 2020          1           0\n",
       "\n",
       "[324 rows x 3 columns]"
      ]
     },
     "execution_count": 4,
     "metadata": {},
     "output_type": "execute_result"
    }
   ],
   "source": [
    "covid_df.rename(columns={'Date': 'date', 'New Cases': 'new_cases', '7-Day Moving Avg': 'moving_avg'}, inplace=True)\n",
    "covid_df"
   ]
  },
  {
   "cell_type": "markdown",
   "metadata": {},
   "source": [
    "Next, we convert the date strings into actual date objects for processing using the Pandas package."
   ]
  },
  {
   "cell_type": "code",
   "execution_count": 5,
   "metadata": {},
   "outputs": [
    {
     "data": {
      "text/plain": [
       "date          datetime64[ns]\n",
       "new_cases              int64\n",
       "moving_avg             int64\n",
       "dtype: object"
      ]
     },
     "execution_count": 5,
     "metadata": {},
     "output_type": "execute_result"
    }
   ],
   "source": [
    "# Normalizing the dates to be used by the package\n",
    "covid_df['date'] = pd.to_datetime(covid_df['date'], format='%b %d %Y')\n",
    "covid_df.dtypes"
   ]
  },
  {
   "cell_type": "markdown",
   "metadata": {},
   "source": [
    "After cleaning up our daily trends dataframe, we can now scrape for tweets."
   ]
  },
  {
   "cell_type": "markdown",
   "metadata": {},
   "source": [
    "#### Scraped Tweets Dataset"
   ]
  },
  {
   "cell_type": "markdown",
   "metadata": {},
   "source": [
    "Given a list of keywords, we can scrape tweets using the keywords as queries. The methods below are used to search for tweets with our pandemic keywords from every date in our COVID dataframe."
   ]
  },
  {
   "cell_type": "code",
   "execution_count": 6,
   "metadata": {},
   "outputs": [],
   "source": [
    "tweets = [] # Stores every tweet from every query search\n",
    "idset = set() # Stores ids to avoid duplicates\n",
    "\n",
    "# Scrapes for tweets (max 500) with a given search query\n",
    "def search(query):\n",
    "    for i, tweet in enumerate(sntwitter.TwitterSearchScraper(query).get_items()):\n",
    "        if i >= 500:\n",
    "            break\n",
    "        \n",
    "        # Make sure we haven't encountered this tweet before\n",
    "        if (tweet.id in idset):\n",
    "            continue\n",
    "        \n",
    "        idset.add(tweet.id)\n",
    "        tweets.append([tweet.id, tweet.date, tweet.content])\n",
    "\n",
    "# Grabs every tweet from every single date in the daily trends data frame.\n",
    "def searchEveryDate(query):\n",
    "    for i in range(len(covid_df)):\n",
    "        date = covid_df.loc[i]['date']    \n",
    "        nextDate = date + pd.to_timedelta(1, unit='d') # increment by one day\n",
    "        q = '{searchQuery} -filter:retweets lang:\"en\" since:{since} until:{until}'.format(searchQuery=query, since=date.strftime('%Y-%m-%d'), until=nextDate.strftime('%Y-%m-%d'))  \n",
    "        search(q)"
   ]
  },
  {
   "cell_type": "markdown",
   "metadata": {},
   "source": [
    "Due to the high volume of tweets that we need to gather, we combined the tweets from each query and saved them to a csv file to reduce runtime. Below is the code used to gather the tweets.\n",
    "\n",
    "* Tweets were scraped by filtering tweet content for the **top 5** pandemic-related keywords mentioned on Twitter, referenced from this scholarly article: https://www.mdpi.com/1660-4601/17/19/7032/pdf"
   ]
  },
  {
   "cell_type": "code",
   "execution_count": 7,
   "metadata": {},
   "outputs": [],
   "source": [
    "# Running query on keywords\n",
    "keywords = ['virus', 'covid', 'chinese virus', 'quarantine', 'rona']\n",
    "\n",
    "#for keyword in keywords:\n",
    "#    searchEveryDate(keyword)\n",
    "#tpd = pd.DataFrame(tweets, columns=['id', 'created_at', 'contents'])\n",
    "#tpd.to_csv('tweets.csv')"
   ]
  },
  {
   "cell_type": "markdown",
   "metadata": {},
   "source": [
    "Now that we've compiled our tweets dataframe, we want to clean up the tweets' contents of emojis, URL, and other random html encoding, that will distract from the actual text in tweet bodies."
   ]
  },
  {
   "cell_type": "code",
   "execution_count": 9,
   "metadata": {},
   "outputs": [
    {
     "data": {
      "text/html": [
       "<div>\n",
       "<style scoped>\n",
       "    .dataframe tbody tr th:only-of-type {\n",
       "        vertical-align: middle;\n",
       "    }\n",
       "\n",
       "    .dataframe tbody tr th {\n",
       "        vertical-align: top;\n",
       "    }\n",
       "\n",
       "    .dataframe thead th {\n",
       "        text-align: right;\n",
       "    }\n",
       "</style>\n",
       "<table border=\"1\" class=\"dataframe\">\n",
       "  <thead>\n",
       "    <tr style=\"text-align: right;\">\n",
       "      <th></th>\n",
       "      <th>id</th>\n",
       "      <th>created_at</th>\n",
       "      <th>contents</th>\n",
       "    </tr>\n",
       "  </thead>\n",
       "  <tbody>\n",
       "    <tr>\n",
       "      <th>0</th>\n",
       "      <td>1337185315811860481</td>\n",
       "      <td>2020-12-10 23:59:57+00:00</td>\n",
       "      <td>@senseimitch @JaniceTXBlessed @kimfreethinker ...</td>\n",
       "    </tr>\n",
       "    <tr>\n",
       "      <th>1</th>\n",
       "      <td>1337185312628465667</td>\n",
       "      <td>2020-12-10 23:59:56+00:00</td>\n",
       "      <td>I was talking with a friend today and he said ...</td>\n",
       "    </tr>\n",
       "    <tr>\n",
       "      <th>2</th>\n",
       "      <td>1337185302134353923</td>\n",
       "      <td>2020-12-10 23:59:54+00:00</td>\n",
       "      <td>@donwinslow @Yahoo There is a virus not a pand...</td>\n",
       "    </tr>\n",
       "    <tr>\n",
       "      <th>...</th>\n",
       "      <td>...</td>\n",
       "      <td>...</td>\n",
       "      <td>...</td>\n",
       "    </tr>\n",
       "    <tr>\n",
       "      <th>774045</th>\n",
       "      <td>1220057393133957123</td>\n",
       "      <td>2020-01-22 18:55:24+00:00</td>\n",
       "      <td>@danielmarven Hey I Dannie and rona re an le d...</td>\n",
       "    </tr>\n",
       "    <tr>\n",
       "      <th>774046</th>\n",
       "      <td>1220056585797611520</td>\n",
       "      <td>2020-01-22 18:52:12+00:00</td>\n",
       "      <td>@KagisoMathole3 Hahaha. I held on till the fin...</td>\n",
       "    </tr>\n",
       "    <tr>\n",
       "      <th>774047</th>\n",
       "      <td>1220056351377772544</td>\n",
       "      <td>2020-01-22 18:51:16+00:00</td>\n",
       "      <td>RONA S &amp;#8211; XL Price: $ Link:</td>\n",
       "    </tr>\n",
       "  </tbody>\n",
       "</table>\n",
       "<p>774048 rows × 3 columns</p>\n",
       "</div>"
      ],
      "text/plain": [
       "                         id                 created_at  \\\n",
       "0       1337185315811860481  2020-12-10 23:59:57+00:00   \n",
       "1       1337185312628465667  2020-12-10 23:59:56+00:00   \n",
       "2       1337185302134353923  2020-12-10 23:59:54+00:00   \n",
       "...                     ...                        ...   \n",
       "774045  1220057393133957123  2020-01-22 18:55:24+00:00   \n",
       "774046  1220056585797611520  2020-01-22 18:52:12+00:00   \n",
       "774047  1220056351377772544  2020-01-22 18:51:16+00:00   \n",
       "\n",
       "                                                 contents  \n",
       "0       @senseimitch @JaniceTXBlessed @kimfreethinker ...  \n",
       "1       I was talking with a friend today and he said ...  \n",
       "2       @donwinslow @Yahoo There is a virus not a pand...  \n",
       "...                                                   ...  \n",
       "774045  @danielmarven Hey I Dannie and rona re an le d...  \n",
       "774046  @KagisoMathole3 Hahaha. I held on till the fin...  \n",
       "774047                   RONA S &#8211; XL Price: $ Link:  \n",
       "\n",
       "[774048 rows x 3 columns]"
      ]
     },
     "execution_count": 9,
     "metadata": {},
     "output_type": "execute_result"
    }
   ],
   "source": [
    "# Checks if text contains a url\n",
    "def is_url(url):\n",
    "    try:\n",
    "        result = urlparse(url)\n",
    "        return all([result.scheme, result.netloc])\n",
    "    except ValueError:\n",
    "        return False\n",
    "\n",
    "# Cleans emojis and URLs from the tweet content.\n",
    "tpd['contents'] = tpd['contents'].apply(lambda x: x.encode('ascii', 'ignore').decode('ascii'))\n",
    "tpd['contents'] = [' '.join(y for y in x.split() if not is_url(y)) for x in tpd['contents']]\n",
    "\n",
    "# HTML decode the contents\n",
    "tpd['contents'] = tpd['contents'].apply(html.unescape)\n",
    "\n",
    "tpd"
   ]
  },
  {
   "cell_type": "markdown",
   "metadata": {},
   "source": [
    "#### Prelabeled Tweets Dataset"
   ]
  },
  {
   "cell_type": "markdown",
   "metadata": {},
   "source": [
    "To clean the prelabeled tweets, we repeat the same process and remove the emojis, urls, and html encodings from the tweet content. Otherwise, we determined this dataset to be clean because it contains no personally identifiable information, null values, or duplicate tweets."
   ]
  },
  {
   "cell_type": "code",
   "execution_count": 10,
   "metadata": {},
   "outputs": [
    {
     "data": {
      "text/html": [
       "<div>\n",
       "<style scoped>\n",
       "    .dataframe tbody tr th:only-of-type {\n",
       "        vertical-align: middle;\n",
       "    }\n",
       "\n",
       "    .dataframe tbody tr th {\n",
       "        vertical-align: top;\n",
       "    }\n",
       "\n",
       "    .dataframe thead th {\n",
       "        text-align: right;\n",
       "    }\n",
       "</style>\n",
       "<table border=\"1\" class=\"dataframe\">\n",
       "  <thead>\n",
       "    <tr style=\"text-align: right;\">\n",
       "      <th></th>\n",
       "      <th>Text</th>\n",
       "      <th>Label</th>\n",
       "    </tr>\n",
       "  </thead>\n",
       "  <tbody>\n",
       "    <tr>\n",
       "      <th>0</th>\n",
       "      <td>@China_Amb_India Fucking piece of shit your wh...</td>\n",
       "      <td>Hate</td>\n",
       "    </tr>\n",
       "    <tr>\n",
       "      <th>1</th>\n",
       "      <td>I’m not being funny but #Coronavirus in....   ...</td>\n",
       "      <td>Neutral</td>\n",
       "    </tr>\n",
       "    <tr>\n",
       "      <th>2</th>\n",
       "      <td>Got on the Victoria Line today to seven sister...</td>\n",
       "      <td>Hate</td>\n",
       "    </tr>\n",
       "    <tr>\n",
       "      <th>3</th>\n",
       "      <td>It's appalling that the media &amp;amp; libtards b...</td>\n",
       "      <td>Hate</td>\n",
       "    </tr>\n",
       "    <tr>\n",
       "      <th>4</th>\n",
       "      <td>Dude fuck the Chinese man fuck em and if you t...</td>\n",
       "      <td>Hate</td>\n",
       "    </tr>\n",
       "  </tbody>\n",
       "</table>\n",
       "</div>"
      ],
      "text/plain": [
       "                                                Text    Label\n",
       "0  @China_Amb_India Fucking piece of shit your wh...     Hate\n",
       "1  I’m not being funny but #Coronavirus in....   ...  Neutral\n",
       "2  Got on the Victoria Line today to seven sister...     Hate\n",
       "3  It's appalling that the media &amp; libtards b...     Hate\n",
       "4  Dude fuck the Chinese man fuck em and if you t...     Hate"
      ]
     },
     "execution_count": 10,
     "metadata": {},
     "output_type": "execute_result"
    }
   ],
   "source": [
    "prelabeled = pd.read_csv('./annotations.csv')\n",
    "prelabeled.head()"
   ]
  },
  {
   "cell_type": "code",
   "execution_count": 11,
   "metadata": {},
   "outputs": [
    {
     "data": {
      "text/html": [
       "<div>\n",
       "<style scoped>\n",
       "    .dataframe tbody tr th:only-of-type {\n",
       "        vertical-align: middle;\n",
       "    }\n",
       "\n",
       "    .dataframe tbody tr th {\n",
       "        vertical-align: top;\n",
       "    }\n",
       "\n",
       "    .dataframe thead th {\n",
       "        text-align: right;\n",
       "    }\n",
       "</style>\n",
       "<table border=\"1\" class=\"dataframe\">\n",
       "  <thead>\n",
       "    <tr style=\"text-align: right;\">\n",
       "      <th></th>\n",
       "      <th>Text</th>\n",
       "      <th>Label</th>\n",
       "    </tr>\n",
       "  </thead>\n",
       "  <tbody>\n",
       "    <tr>\n",
       "      <th>0</th>\n",
       "      <td>@China_Amb_India Fucking piece of shit your wh...</td>\n",
       "      <td>Hate</td>\n",
       "    </tr>\n",
       "    <tr>\n",
       "      <th>1</th>\n",
       "      <td>Im not being funny but #Coronavirus in.... Chi...</td>\n",
       "      <td>Neutral</td>\n",
       "    </tr>\n",
       "    <tr>\n",
       "      <th>2</th>\n",
       "      <td>Got on the Victoria Line today to seven sister...</td>\n",
       "      <td>Hate</td>\n",
       "    </tr>\n",
       "    <tr>\n",
       "      <th>...</th>\n",
       "      <td>...</td>\n",
       "      <td>...</td>\n",
       "    </tr>\n",
       "    <tr>\n",
       "      <th>2316</th>\n",
       "      <td>During this COVID19 crisis, @onlywon &amp; I break...</td>\n",
       "      <td>Neutral</td>\n",
       "    </tr>\n",
       "    <tr>\n",
       "      <th>2317</th>\n",
       "      <td>Tune into @RadioCanadaInfo for stories from th...</td>\n",
       "      <td>Neutral</td>\n",
       "    </tr>\n",
       "    <tr>\n",
       "      <th>2318</th>\n",
       "      <td>Folks need to support and follow @becool2asian...</td>\n",
       "      <td>Counterhate</td>\n",
       "    </tr>\n",
       "  </tbody>\n",
       "</table>\n",
       "<p>2319 rows × 2 columns</p>\n",
       "</div>"
      ],
      "text/plain": [
       "                                                   Text        Label\n",
       "0     @China_Amb_India Fucking piece of shit your wh...         Hate\n",
       "1     Im not being funny but #Coronavirus in.... Chi...      Neutral\n",
       "2     Got on the Victoria Line today to seven sister...         Hate\n",
       "...                                                 ...          ...\n",
       "2316  During this COVID19 crisis, @onlywon & I break...      Neutral\n",
       "2317  Tune into @RadioCanadaInfo for stories from th...      Neutral\n",
       "2318  Folks need to support and follow @becool2asian...  Counterhate\n",
       "\n",
       "[2319 rows x 2 columns]"
      ]
     },
     "execution_count": 11,
     "metadata": {},
     "output_type": "execute_result"
    }
   ],
   "source": [
    "# Cleans emojis and URLs from the tweet content.\n",
    "prelabeled['Text'] = prelabeled['Text'].apply(lambda x: x.encode('ascii', 'ignore').decode('ascii'))\n",
    "prelabeled['Text'] = [' '.join(y for y in x.split() if not is_url(y)) for x in prelabeled['Text']]\n",
    "\n",
    "# HTML decode the contents\n",
    "prelabeled['Text'] = prelabeled['Text'].apply(html.unescape)\n",
    "\n",
    "prelabeled"
   ]
  },
  {
   "cell_type": "markdown",
   "metadata": {},
   "source": [
    "# Data Analysis & Results"
   ]
  },
  {
   "cell_type": "code",
   "execution_count": 12,
   "metadata": {},
   "outputs": [
    {
     "data": {
      "image/png": "[encoded data removed]",
      "text/plain": [
       "<Figure size 1152x648 with 1 Axes>"
      ]
     },
     "metadata": {},
     "output_type": "display_data"
    }
   ],
   "source": [
    "# plt.grid(b=None) # grid line\n",
    "ax = sns.lineplot(data=covid_df, x='date', y='moving_avg', lw=4)\n",
    "ax.xaxis.set_major_locator(mdates.MonthLocator(interval=2)) # display every 2 months\n",
    "ax.xaxis.set_major_formatter(mdates.DateFormatter('%b %d'))\n",
    "plt.xlabel('Date')\n",
    "plt.ylabel('Cases')\n",
    "plt.title('Daily Trends in Number of COVID-19 Cases in the US')\n",
    "plt.show()"
   ]
  },
  {
   "cell_type": "markdown",
   "metadata": {},
   "source": [
    "In viewing the trend of COVID cases between January and December, we want to analyze if there is a similar trend in the negative sentiment towards Asian Americans in the tweets that we gathered. We notice that there are noticeably large peaks near the end of March, end of June, and end of September, meaning that there were heavy spikes in the amount of reported COVID cases in the U.S. When we retrieve and process the sentiment of our scraped tweets, we are looking for peaks in negative sentiment around these times as well. Additionally, we notice that the largest exponential trend was around the end of September."
   ]
  },
  {
   "cell_type": "markdown",
   "metadata": {},
   "source": [
    "#### Initial Model (TextBlob)"
   ]
  },
  {
   "cell_type": "markdown",
   "metadata": {},
   "source": [
    "We first try to determine the sentiment of our tweets using an imported library, TextBlob, which then provides the means for common natural language processing and sentiment analysis through NLTK and test its accuracy on the prelabeled tweet data. We used this basic model because it was easy to extract the sentiment of any text."
   ]
  },
  {
   "cell_type": "code",
   "execution_count": 13,
   "metadata": {},
   "outputs": [
    {
     "data": {
      "text/html": [
       "<div>\n",
       "<style scoped>\n",
       "    .dataframe tbody tr th:only-of-type {\n",
       "        vertical-align: middle;\n",
       "    }\n",
       "\n",
       "    .dataframe tbody tr th {\n",
       "        vertical-align: top;\n",
       "    }\n",
       "\n",
       "    .dataframe thead th {\n",
       "        text-align: right;\n",
       "    }\n",
       "</style>\n",
       "<table border=\"1\" class=\"dataframe\">\n",
       "  <thead>\n",
       "    <tr style=\"text-align: right;\">\n",
       "      <th></th>\n",
       "      <th>Text</th>\n",
       "      <th>Label</th>\n",
       "    </tr>\n",
       "  </thead>\n",
       "  <tbody>\n",
       "    <tr>\n",
       "      <th>0</th>\n",
       "      <td>@China_Amb_India Fucking piece of shit your wh...</td>\n",
       "      <td>Hate</td>\n",
       "    </tr>\n",
       "    <tr>\n",
       "      <th>1</th>\n",
       "      <td>Im not being funny but #Coronavirus in.... Chi...</td>\n",
       "      <td>Neutral</td>\n",
       "    </tr>\n",
       "    <tr>\n",
       "      <th>2</th>\n",
       "      <td>Got on the Victoria Line today to seven sister...</td>\n",
       "      <td>Hate</td>\n",
       "    </tr>\n",
       "    <tr>\n",
       "      <th>...</th>\n",
       "      <td>...</td>\n",
       "      <td>...</td>\n",
       "    </tr>\n",
       "    <tr>\n",
       "      <th>2316</th>\n",
       "      <td>During this COVID19 crisis, @onlywon &amp; I break...</td>\n",
       "      <td>Neutral</td>\n",
       "    </tr>\n",
       "    <tr>\n",
       "      <th>2317</th>\n",
       "      <td>Tune into @RadioCanadaInfo for stories from th...</td>\n",
       "      <td>Neutral</td>\n",
       "    </tr>\n",
       "    <tr>\n",
       "      <th>2318</th>\n",
       "      <td>Folks need to support and follow @becool2asian...</td>\n",
       "      <td>Counterhate</td>\n",
       "    </tr>\n",
       "  </tbody>\n",
       "</table>\n",
       "<p>2319 rows × 2 columns</p>\n",
       "</div>"
      ],
      "text/plain": [
       "                                                   Text        Label\n",
       "0     @China_Amb_India Fucking piece of shit your wh...         Hate\n",
       "1     Im not being funny but #Coronavirus in.... Chi...      Neutral\n",
       "2     Got on the Victoria Line today to seven sister...         Hate\n",
       "...                                                 ...          ...\n",
       "2316  During this COVID19 crisis, @onlywon & I break...      Neutral\n",
       "2317  Tune into @RadioCanadaInfo for stories from th...      Neutral\n",
       "2318  Folks need to support and follow @becool2asian...  Counterhate\n",
       "\n",
       "[2319 rows x 2 columns]"
      ]
     },
     "execution_count": 13,
     "metadata": {},
     "output_type": "execute_result"
    }
   ],
   "source": [
    "tweet_dummy_df = prelabeled.copy() # deep copy so there's no reference to the original\n",
    "tweet_dummy_df.reset_index(inplace=True, drop=True)\n",
    "tweet_dummy_df"
   ]
  },
  {
   "cell_type": "markdown",
   "metadata": {},
   "source": [
    "Below is the method used to convert TextBlob's sentiment polarity score on a piece of text to the classes of neutral, positive, or negative."
   ]
  },
  {
   "cell_type": "code",
   "execution_count": 14,
   "metadata": {},
   "outputs": [],
   "source": [
    "def blobConvert(text):\n",
    "    test = TextBlob(text)\n",
    "    if test.sentiment.polarity == 0:\n",
    "        return 'Neutral'\n",
    "    elif test.sentiment.polarity > 0:\n",
    "        return 'Positive'\n",
    "    else:\n",
    "        return 'Negative'"
   ]
  },
  {
   "cell_type": "markdown",
   "metadata": {},
   "source": [
    "Next, we apply the method on the tweet content and create a separate column for each tweet's predicted TextBlob sentiment."
   ]
  },
  {
   "cell_type": "code",
   "execution_count": 15,
   "metadata": {},
   "outputs": [
    {
     "data": {
      "text/html": [
       "<div>\n",
       "<style scoped>\n",
       "    .dataframe tbody tr th:only-of-type {\n",
       "        vertical-align: middle;\n",
       "    }\n",
       "\n",
       "    .dataframe tbody tr th {\n",
       "        vertical-align: top;\n",
       "    }\n",
       "\n",
       "    .dataframe thead th {\n",
       "        text-align: right;\n",
       "    }\n",
       "</style>\n",
       "<table border=\"1\" class=\"dataframe\">\n",
       "  <thead>\n",
       "    <tr style=\"text-align: right;\">\n",
       "      <th></th>\n",
       "      <th>Text</th>\n",
       "      <th>Label</th>\n",
       "      <th>Dumb Labels</th>\n",
       "    </tr>\n",
       "  </thead>\n",
       "  <tbody>\n",
       "    <tr>\n",
       "      <th>0</th>\n",
       "      <td>@China_Amb_India Fucking piece of shit your wh...</td>\n",
       "      <td>Hate</td>\n",
       "      <td>Negative</td>\n",
       "    </tr>\n",
       "    <tr>\n",
       "      <th>1</th>\n",
       "      <td>Im not being funny but #Coronavirus in.... Chi...</td>\n",
       "      <td>Neutral</td>\n",
       "      <td>Negative</td>\n",
       "    </tr>\n",
       "    <tr>\n",
       "      <th>2</th>\n",
       "      <td>Got on the Victoria Line today to seven sister...</td>\n",
       "      <td>Hate</td>\n",
       "      <td>Neutral</td>\n",
       "    </tr>\n",
       "    <tr>\n",
       "      <th>...</th>\n",
       "      <td>...</td>\n",
       "      <td>...</td>\n",
       "      <td>...</td>\n",
       "    </tr>\n",
       "    <tr>\n",
       "      <th>2316</th>\n",
       "      <td>During this COVID19 crisis, @onlywon &amp; I break...</td>\n",
       "      <td>Neutral</td>\n",
       "      <td>Negative</td>\n",
       "    </tr>\n",
       "    <tr>\n",
       "      <th>2317</th>\n",
       "      <td>Tune into @RadioCanadaInfo for stories from th...</td>\n",
       "      <td>Neutral</td>\n",
       "      <td>Neutral</td>\n",
       "    </tr>\n",
       "    <tr>\n",
       "      <th>2318</th>\n",
       "      <td>Folks need to support and follow @becool2asian...</td>\n",
       "      <td>Counterhate</td>\n",
       "      <td>Negative</td>\n",
       "    </tr>\n",
       "  </tbody>\n",
       "</table>\n",
       "<p>2319 rows × 3 columns</p>\n",
       "</div>"
      ],
      "text/plain": [
       "                                                   Text        Label  \\\n",
       "0     @China_Amb_India Fucking piece of shit your wh...         Hate   \n",
       "1     Im not being funny but #Coronavirus in.... Chi...      Neutral   \n",
       "2     Got on the Victoria Line today to seven sister...         Hate   \n",
       "...                                                 ...          ...   \n",
       "2316  During this COVID19 crisis, @onlywon & I break...      Neutral   \n",
       "2317  Tune into @RadioCanadaInfo for stories from th...      Neutral   \n",
       "2318  Folks need to support and follow @becool2asian...  Counterhate   \n",
       "\n",
       "     Dumb Labels  \n",
       "0       Negative  \n",
       "1       Negative  \n",
       "2        Neutral  \n",
       "...          ...  \n",
       "2316    Negative  \n",
       "2317     Neutral  \n",
       "2318    Negative  \n",
       "\n",
       "[2319 rows x 3 columns]"
      ]
     },
     "execution_count": 15,
     "metadata": {},
     "output_type": "execute_result"
    }
   ],
   "source": [
    "tweet_dummy_df['Dumb Labels'] = tweet_dummy_df['Text'].apply(blobConvert)\n",
    "tweet_dummy_df"
   ]
  },
  {
   "cell_type": "markdown",
   "metadata": {},
   "source": [
    "Then, to compute the accuracy of the TextBlob analyzer, we wrote a method to compare the predicted labels to the actual hand-labelling done by researchers. We return a 1 if the predicted and actual labels match and a 0 otherwise. We save these values in new column named 'Accuracy'."
   ]
  },
  {
   "cell_type": "code",
   "execution_count": 16,
   "metadata": {},
   "outputs": [
    {
     "data": {
      "text/html": [
       "<div>\n",
       "<style scoped>\n",
       "    .dataframe tbody tr th:only-of-type {\n",
       "        vertical-align: middle;\n",
       "    }\n",
       "\n",
       "    .dataframe tbody tr th {\n",
       "        vertical-align: top;\n",
       "    }\n",
       "\n",
       "    .dataframe thead th {\n",
       "        text-align: right;\n",
       "    }\n",
       "</style>\n",
       "<table border=\"1\" class=\"dataframe\">\n",
       "  <thead>\n",
       "    <tr style=\"text-align: right;\">\n",
       "      <th></th>\n",
       "      <th>Text</th>\n",
       "      <th>Label</th>\n",
       "      <th>Dumb Labels</th>\n",
       "      <th>Accuracy</th>\n",
       "    </tr>\n",
       "  </thead>\n",
       "  <tbody>\n",
       "    <tr>\n",
       "      <th>0</th>\n",
       "      <td>@China_Amb_India Fucking piece of shit your wh...</td>\n",
       "      <td>Hate</td>\n",
       "      <td>Negative</td>\n",
       "      <td>1</td>\n",
       "    </tr>\n",
       "    <tr>\n",
       "      <th>1</th>\n",
       "      <td>Im not being funny but #Coronavirus in.... Chi...</td>\n",
       "      <td>Neutral</td>\n",
       "      <td>Negative</td>\n",
       "      <td>0</td>\n",
       "    </tr>\n",
       "    <tr>\n",
       "      <th>2</th>\n",
       "      <td>Got on the Victoria Line today to seven sister...</td>\n",
       "      <td>Hate</td>\n",
       "      <td>Neutral</td>\n",
       "      <td>0</td>\n",
       "    </tr>\n",
       "    <tr>\n",
       "      <th>...</th>\n",
       "      <td>...</td>\n",
       "      <td>...</td>\n",
       "      <td>...</td>\n",
       "      <td>...</td>\n",
       "    </tr>\n",
       "    <tr>\n",
       "      <th>2316</th>\n",
       "      <td>During this COVID19 crisis, @onlywon &amp; I break...</td>\n",
       "      <td>Neutral</td>\n",
       "      <td>Negative</td>\n",
       "      <td>0</td>\n",
       "    </tr>\n",
       "    <tr>\n",
       "      <th>2317</th>\n",
       "      <td>Tune into @RadioCanadaInfo for stories from th...</td>\n",
       "      <td>Neutral</td>\n",
       "      <td>Neutral</td>\n",
       "      <td>1</td>\n",
       "    </tr>\n",
       "    <tr>\n",
       "      <th>2318</th>\n",
       "      <td>Folks need to support and follow @becool2asian...</td>\n",
       "      <td>Counterhate</td>\n",
       "      <td>Negative</td>\n",
       "      <td>0</td>\n",
       "    </tr>\n",
       "  </tbody>\n",
       "</table>\n",
       "<p>2319 rows × 4 columns</p>\n",
       "</div>"
      ],
      "text/plain": [
       "                                                   Text        Label  \\\n",
       "0     @China_Amb_India Fucking piece of shit your wh...         Hate   \n",
       "1     Im not being funny but #Coronavirus in.... Chi...      Neutral   \n",
       "2     Got on the Victoria Line today to seven sister...         Hate   \n",
       "...                                                 ...          ...   \n",
       "2316  During this COVID19 crisis, @onlywon & I break...      Neutral   \n",
       "2317  Tune into @RadioCanadaInfo for stories from th...      Neutral   \n",
       "2318  Folks need to support and follow @becool2asian...  Counterhate   \n",
       "\n",
       "     Dumb Labels  Accuracy  \n",
       "0       Negative         1  \n",
       "1       Negative         0  \n",
       "2        Neutral         0  \n",
       "...          ...       ...  \n",
       "2316    Negative         0  \n",
       "2317     Neutral         1  \n",
       "2318    Negative         0  \n",
       "\n",
       "[2319 rows x 4 columns]"
      ]
     },
     "execution_count": 16,
     "metadata": {},
     "output_type": "execute_result"
    }
   ],
   "source": [
    "def computeAccuracy(df):\n",
    "    if (df['Label'] == 'Neutral' and df['Dumb Labels'] == 'Neutral'):\n",
    "        return 1\n",
    "    elif ((df['Label'] == 'Hate' or df['Label'] == 'Non-Asian Aggression') and df['Dumb Labels'] == 'Negative'):\n",
    "        return 1\n",
    "    elif (df['Label'] == 'Counterhate' and df['Dumb Labels'] == 'Positive'):\n",
    "        return 1\n",
    "    else:\n",
    "        return 0\n",
    "\n",
    "tweet_dummy_df['Accuracy'] = tweet_dummy_df.apply(computeAccuracy, axis = 1)\n",
    "tweet_dummy_df"
   ]
  },
  {
   "cell_type": "markdown",
   "metadata": {},
   "source": [
    "By summing the 'Accuracy' column, we can see how many matches that we have between the predicted and actual sentiment labels for all of the tweets in the dataset. We divide this by the total number of observations to compute a percentage for how many tweets were correctly labeled."
   ]
  },
  {
   "cell_type": "code",
   "execution_count": 17,
   "metadata": {},
   "outputs": [
    {
     "name": "stdout",
     "output_type": "stream",
     "text": [
      "42.99% accuracy\n"
     ]
    }
   ],
   "source": [
    "sum = tweet_dummy_df['Accuracy'].sum()\n",
    "accuracy = sum / len(tweet_dummy_df)\n",
    "print('{:.2%} accuracy'.format(accuracy)) # convert to percentage, rounded 2 decimals"
   ]
  },
  {
   "cell_type": "markdown",
   "metadata": {},
   "source": [
    "The TextBlob sentiment analyzer was only able to produce a **~43%** accuracy on our prelabeled data. Furthermore, TextBlob cannot specifically detect negative sentiment towards Asian Americans in the context of COVID-19, but only negativity in general (though not completely accurate). In order to achieve a higher accuracy, we then trained an SVM after performing TF-IDF on our tweets to more accurately classify tweet sentiment."
   ]
  },
  {
   "cell_type": "markdown",
   "metadata": {},
   "source": [
    "#### SVM Model"
   ]
  },
  {
   "cell_type": "markdown",
   "metadata": {},
   "source": [
    "We are using the same annotated dataset as before to train our SVM."
   ]
  },
  {
   "cell_type": "code",
   "execution_count": 18,
   "metadata": {},
   "outputs": [
    {
     "data": {
      "text/html": [
       "<div>\n",
       "<style scoped>\n",
       "    .dataframe tbody tr th:only-of-type {\n",
       "        vertical-align: middle;\n",
       "    }\n",
       "\n",
       "    .dataframe tbody tr th {\n",
       "        vertical-align: top;\n",
       "    }\n",
       "\n",
       "    .dataframe thead th {\n",
       "        text-align: right;\n",
       "    }\n",
       "</style>\n",
       "<table border=\"1\" class=\"dataframe\">\n",
       "  <thead>\n",
       "    <tr style=\"text-align: right;\">\n",
       "      <th></th>\n",
       "      <th>Text</th>\n",
       "      <th>Label</th>\n",
       "    </tr>\n",
       "  </thead>\n",
       "  <tbody>\n",
       "    <tr>\n",
       "      <th>0</th>\n",
       "      <td>@China_Amb_India Fucking piece of shit your wh...</td>\n",
       "      <td>Hate</td>\n",
       "    </tr>\n",
       "    <tr>\n",
       "      <th>1</th>\n",
       "      <td>Im not being funny but #Coronavirus in.... Chi...</td>\n",
       "      <td>Neutral</td>\n",
       "    </tr>\n",
       "    <tr>\n",
       "      <th>2</th>\n",
       "      <td>Got on the Victoria Line today to seven sister...</td>\n",
       "      <td>Hate</td>\n",
       "    </tr>\n",
       "    <tr>\n",
       "      <th>...</th>\n",
       "      <td>...</td>\n",
       "      <td>...</td>\n",
       "    </tr>\n",
       "    <tr>\n",
       "      <th>2316</th>\n",
       "      <td>During this COVID19 crisis, @onlywon &amp; I break...</td>\n",
       "      <td>Neutral</td>\n",
       "    </tr>\n",
       "    <tr>\n",
       "      <th>2317</th>\n",
       "      <td>Tune into @RadioCanadaInfo for stories from th...</td>\n",
       "      <td>Neutral</td>\n",
       "    </tr>\n",
       "    <tr>\n",
       "      <th>2318</th>\n",
       "      <td>Folks need to support and follow @becool2asian...</td>\n",
       "      <td>Counterhate</td>\n",
       "    </tr>\n",
       "  </tbody>\n",
       "</table>\n",
       "<p>2319 rows × 2 columns</p>\n",
       "</div>"
      ],
      "text/plain": [
       "                                                   Text        Label\n",
       "0     @China_Amb_India Fucking piece of shit your wh...         Hate\n",
       "1     Im not being funny but #Coronavirus in.... Chi...      Neutral\n",
       "2     Got on the Victoria Line today to seven sister...         Hate\n",
       "...                                                 ...          ...\n",
       "2316  During this COVID19 crisis, @onlywon & I break...      Neutral\n",
       "2317  Tune into @RadioCanadaInfo for stories from th...      Neutral\n",
       "2318  Folks need to support and follow @becool2asian...  Counterhate\n",
       "\n",
       "[2319 rows x 2 columns]"
      ]
     },
     "execution_count": 18,
     "metadata": {},
     "output_type": "execute_result"
    }
   ],
   "source": [
    "tweet_df = prelabeled\n",
    "tweet_df.reset_index(inplace=True, drop=True)\n",
    "tweet_df"
   ]
  },
  {
   "cell_type": "markdown",
   "metadata": {},
   "source": [
    "However, upon trial, we found that training the SVM purely on the annotated dataset produced very low accuracy, due to the dataset being extremely skewed in favor of the number of observations of 'Neutral' tweets, because there was a much higher ratio of 'Neutral' tweets in comparison to any other classification of tweets. In order to counteract these effects, we used the undersampling method on our training data. The undersampling method takes number of observations of the minority class (the class with the least number of observations in the dataset) and takes a random sample of the same size of each of the other classes in the dataset. "
   ]
  },
  {
   "cell_type": "code",
   "execution_count": 19,
   "metadata": {},
   "outputs": [],
   "source": [
    "# getting cound and indices of class with smallest amount of samples\n",
    "minority_class_len = len(tweet_df[tweet_df['Label'] == 'Non-Asian Aggression'])\n",
    "minority_samples = tweet_df[tweet_df['Label'] == 'Non-Asian Aggression'].index"
   ]
  },
  {
   "cell_type": "code",
   "execution_count": 20,
   "metadata": {},
   "outputs": [],
   "source": [
    "# taking random samples from each of the other classes, of the same size as the minority class\n",
    "neutral_class_indices = tweet_df[tweet_df['Label'] == 'Neutral'].index\n",
    "counterhate_class_indices = tweet_df[tweet_df['Label'] == 'Counterhate'].index\n",
    "hate_class_indices = tweet_df[tweet_df['Label'] == 'Hate'].index\n",
    "neutral_samples = np.random.choice(neutral_class_indices, minority_class_len, replace=False)\n",
    "counterhate_samples = np.random.choice(counterhate_class_indices, minority_class_len, replace=False)\n",
    "hate_samples = np.random.choice(hate_class_indices, minority_class_len, replace=False)"
   ]
  },
  {
   "cell_type": "markdown",
   "metadata": {},
   "source": [
    "After undersampling, we are left with a dataframe that has an equal number of samples from each of the label classes and can more fairly train the SVM."
   ]
  },
  {
   "cell_type": "code",
   "execution_count": 21,
   "metadata": {},
   "outputs": [],
   "source": [
    "# concatenate the samples into a dataframe\n",
    "under_sample_indices = np.concatenate([minority_samples, neutral_samples, counterhate_samples, hate_samples])\n",
    "under_sample = tweet_df.loc[under_sample_indices]"
   ]
  },
  {
   "cell_type": "code",
   "execution_count": 22,
   "metadata": {},
   "outputs": [
    {
     "data": {
      "text/plain": [
       "Non-Asian Aggression    321\n",
       "Neutral                 321\n",
       "Hate                    321\n",
       "Counterhate             321\n",
       "Name: Label, dtype: int64"
      ]
     },
     "execution_count": 22,
     "metadata": {},
     "output_type": "execute_result"
    }
   ],
   "source": [
    "under_sample['Label'].value_counts()"
   ]
  },
  {
   "cell_type": "markdown",
   "metadata": {},
   "source": [
    "Next, we have to convert each of the class labels into numerical values for the SVM classifier."
   ]
  },
  {
   "cell_type": "code",
   "execution_count": 23,
   "metadata": {},
   "outputs": [],
   "source": [
    "# Convert labels to numerical values\n",
    "def convert_label(label):\n",
    "     if label == 'Hate':\n",
    "        return 2.0\n",
    "     elif label == 'Non-Asian Aggression':\n",
    "        return 1.0\n",
    "     elif label == 'Neutral':\n",
    "        return 0.0\n",
    "     elif label == 'Counterhate':\n",
    "        return -1.0\n",
    "     else:\n",
    "        return label"
   ]
  },
  {
   "cell_type": "markdown",
   "metadata": {},
   "source": [
    "We must randomize the data to split it non-biasedly into training and test sets. We then apply the method to convert the labels into numerical values and save it into a new column. We will use this column to compute the accuracy of our model."
   ]
  },
  {
   "cell_type": "code",
   "execution_count": 24,
   "metadata": {},
   "outputs": [
    {
     "data": {
      "text/html": [
       "<div>\n",
       "<style scoped>\n",
       "    .dataframe tbody tr th:only-of-type {\n",
       "        vertical-align: middle;\n",
       "    }\n",
       "\n",
       "    .dataframe tbody tr th {\n",
       "        vertical-align: top;\n",
       "    }\n",
       "\n",
       "    .dataframe thead th {\n",
       "        text-align: right;\n",
       "    }\n",
       "</style>\n",
       "<table border=\"1\" class=\"dataframe\">\n",
       "  <thead>\n",
       "    <tr style=\"text-align: right;\">\n",
       "      <th></th>\n",
       "      <th>Text</th>\n",
       "      <th>Label</th>\n",
       "      <th>y</th>\n",
       "    </tr>\n",
       "  </thead>\n",
       "  <tbody>\n",
       "    <tr>\n",
       "      <th>0</th>\n",
       "      <td>DHS has admitted allowing people coming here f...</td>\n",
       "      <td>Non-Asian Aggression</td>\n",
       "      <td>1.0</td>\n",
       "    </tr>\n",
       "    <tr>\n",
       "      <th>1</th>\n",
       "      <td>@trishankkarthik Who cares how the Chinese coo...</td>\n",
       "      <td>Non-Asian Aggression</td>\n",
       "      <td>1.0</td>\n",
       "    </tr>\n",
       "    <tr>\n",
       "      <th>2</th>\n",
       "      <td>Inspired by recent events, Korean-Swedish arti...</td>\n",
       "      <td>Neutral</td>\n",
       "      <td>0.0</td>\n",
       "    </tr>\n",
       "    <tr>\n",
       "      <th>...</th>\n",
       "      <td>...</td>\n",
       "      <td>...</td>\n",
       "      <td>...</td>\n",
       "    </tr>\n",
       "    <tr>\n",
       "      <th>1281</th>\n",
       "      <td>@Ldw40920106 chink gook waverunner cunt eyes</td>\n",
       "      <td>Hate</td>\n",
       "      <td>2.0</td>\n",
       "    </tr>\n",
       "    <tr>\n",
       "      <th>1282</th>\n",
       "      <td>@StephenKing Many Asian friends have been the ...</td>\n",
       "      <td>Counterhate</td>\n",
       "      <td>-1.0</td>\n",
       "    </tr>\n",
       "    <tr>\n",
       "      <th>1283</th>\n",
       "      <td>Shoutout to all the fuck people saying Asians ...</td>\n",
       "      <td>Counterhate</td>\n",
       "      <td>-1.0</td>\n",
       "    </tr>\n",
       "  </tbody>\n",
       "</table>\n",
       "<p>1284 rows × 3 columns</p>\n",
       "</div>"
      ],
      "text/plain": [
       "                                                   Text                 Label  \\\n",
       "0     DHS has admitted allowing people coming here f...  Non-Asian Aggression   \n",
       "1     @trishankkarthik Who cares how the Chinese coo...  Non-Asian Aggression   \n",
       "2     Inspired by recent events, Korean-Swedish arti...               Neutral   \n",
       "...                                                 ...                   ...   \n",
       "1281       @Ldw40920106 chink gook waverunner cunt eyes                  Hate   \n",
       "1282  @StephenKing Many Asian friends have been the ...           Counterhate   \n",
       "1283  Shoutout to all the fuck people saying Asians ...           Counterhate   \n",
       "\n",
       "        y  \n",
       "0     1.0  \n",
       "1     1.0  \n",
       "2     0.0  \n",
       "...   ...  \n",
       "1281  2.0  \n",
       "1282 -1.0  \n",
       "1283 -1.0  \n",
       "\n",
       "[1284 rows x 3 columns]"
      ]
     },
     "execution_count": 24,
     "metadata": {},
     "output_type": "execute_result"
    }
   ],
   "source": [
    "tweet_df = shuffle(under_sample) # randomize\n",
    "tweet_df.reset_index(inplace=True, drop=True)\n",
    "tweet_df['y'] = tweet_df['Label'].apply(convert_label)\n",
    "tweet_df"
   ]
  },
  {
   "cell_type": "markdown",
   "metadata": {},
   "source": [
    "Next, we perform TF-IDF on the tweet contents to relatively weigh important words in our tweets. Out of the two natural language processing methods we learned in class, we chose to use TF-IDF over the Bag-Of-Words approach to better account for stop words.\n"
   ]
  },
  {
   "cell_type": "code",
   "execution_count": 25,
   "metadata": {},
   "outputs": [],
   "source": [
    "# create vectorizer & specify parameters\n",
    "tfidf = TfidfVectorizer(sublinear_tf=True, \n",
    "                        analyzer='word',   \n",
    "                        max_features=2000,\n",
    "                        tokenizer=word_tokenize,\n",
    "                        stop_words = 'english')\n",
    "\n",
    "tfidf_X = tfidf.fit_transform(tweet_df['Text']).toarray()\n",
    "# get IDF to visuzlize\n",
    "idf = tfidf.idf_\n",
    "rr = dict(zip(tfidf.fit(tweet_df['Text']).get_feature_names(), idf))\n",
    "\n",
    "token_weight = pd.DataFrame.from_dict(rr, orient='index').reset_index()\n",
    "token_weight.columns=('token','weight')\n",
    "token_weight = token_weight.sort_values(by='weight', ascending=False)"
   ]
  },
  {
   "cell_type": "markdown",
   "metadata": {},
   "source": [
    "We can then split our model into the training and test sets. For our model, we decided to use an 80:20 ratio of training to test sample sizes after testing across multiple splits and found that it gave us the best accuracy of the common splits that we tried."
   ]
  },
  {
   "cell_type": "code",
   "execution_count": 26,
   "metadata": {},
   "outputs": [],
   "source": [
    "tfidf_Y = np.array(tweet_df['y'])\n",
    "tfidf_train_X, tfidf_test_X, tfidf_train_Y, tfidf_test_Y = train_test_split(\n",
    "     tfidf_X, tfidf_Y, test_size=0.20\n",
    ")"
   ]
  },
  {
   "cell_type": "markdown",
   "metadata": {},
   "source": [
    "Finally, we can train and fit our model and test it on the training set followed by the test set."
   ]
  },
  {
   "cell_type": "code",
   "execution_count": 27,
   "metadata": {},
   "outputs": [],
   "source": [
    "def train_SVM(X, Y, kernel='linear'):\n",
    "    model = SVC(kernel=kernel, C=0.8, class_weight='balanced')\n",
    "    model.fit(X, Y)\n",
    "    return model"
   ]
  },
  {
   "cell_type": "code",
   "execution_count": 28,
   "metadata": {},
   "outputs": [],
   "source": [
    "svm_model = train_SVM(tfidf_train_X, tfidf_train_Y)"
   ]
  },
  {
   "cell_type": "code",
   "execution_count": 29,
   "metadata": {},
   "outputs": [],
   "source": [
    "df_predicted_train_Y = svm_model.predict(tfidf_train_X)\n",
    "df_predicted_test_Y = svm_model.predict(tfidf_test_X)"
   ]
  },
  {
   "cell_type": "code",
   "execution_count": 30,
   "metadata": {},
   "outputs": [
    {
     "name": "stdout",
     "output_type": "stream",
     "text": [
      "              precision    recall  f1-score   support\n",
      "\n",
      "        -1.0       0.89      0.89      0.89       264\n",
      "         0.0       0.93      0.82      0.87       251\n",
      "         1.0       0.84      0.92      0.88       253\n",
      "         2.0       0.91      0.92      0.91       259\n",
      "\n",
      "    accuracy                           0.89      1027\n",
      "   macro avg       0.89      0.89      0.89      1027\n",
      "weighted avg       0.89      0.89      0.89      1027\n",
      "\n"
     ]
    }
   ],
   "source": [
    "# prediction on training set\n",
    "print(classification_report(tfidf_train_Y, df_predicted_train_Y))"
   ]
  },
  {
   "cell_type": "markdown",
   "metadata": {},
   "source": [
    "On the training data, our model performed extremely well, with precisions averaging **89%** for each class as well as **89%** recall. However, high values are to be expected because we are predicting the labels for the same data that we trained on."
   ]
  },
  {
   "cell_type": "code",
   "execution_count": 31,
   "metadata": {},
   "outputs": [
    {
     "name": "stdout",
     "output_type": "stream",
     "text": [
      "              precision    recall  f1-score   support\n",
      "\n",
      "        -1.0       0.62      0.72      0.67        57\n",
      "         0.0       0.60      0.41      0.49        70\n",
      "         1.0       0.47      0.60      0.53        68\n",
      "         2.0       0.58      0.52      0.55        62\n",
      "\n",
      "    accuracy                           0.56       257\n",
      "   macro avg       0.57      0.56      0.56       257\n",
      "weighted avg       0.57      0.56      0.55       257\n",
      "\n"
     ]
    }
   ],
   "source": [
    "# prediction on test set\n",
    "print(classification_report(tfidf_test_Y, df_predicted_test_Y))"
   ]
  },
  {
   "cell_type": "markdown",
   "metadata": {},
   "source": [
    "On our test data, the model performed decently well, averaging **~50%** precision for each of the 4 classes. Although our model could be improved, we found that this was accuracy was pretty high, considering that we were trying to classify tweets into 4 different classes and would have expected to see about 25% accuracy for each class instead."
   ]
  },
  {
   "cell_type": "markdown",
   "metadata": {},
   "source": [
    "#### Testing on Scraped Tweets"
   ]
  },
  {
   "cell_type": "markdown",
   "metadata": {},
   "source": [
    "After training our model, we then predict the sentiment of our scraped tweets. We save these values into a new column in the dataframe so we can easily see the predicted sentiment for each tweet."
   ]
  },
  {
   "cell_type": "code",
   "execution_count": 33,
   "metadata": {},
   "outputs": [
    {
     "data": {
      "text/html": [
       "<div>\n",
       "<style scoped>\n",
       "    .dataframe tbody tr th:only-of-type {\n",
       "        vertical-align: middle;\n",
       "    }\n",
       "\n",
       "    .dataframe tbody tr th {\n",
       "        vertical-align: top;\n",
       "    }\n",
       "\n",
       "    .dataframe thead th {\n",
       "        text-align: right;\n",
       "    }\n",
       "</style>\n",
       "<table border=\"1\" class=\"dataframe\">\n",
       "  <thead>\n",
       "    <tr style=\"text-align: right;\">\n",
       "      <th></th>\n",
       "      <th>id</th>\n",
       "      <th>created_at</th>\n",
       "      <th>contents</th>\n",
       "      <th>sentiment</th>\n",
       "    </tr>\n",
       "  </thead>\n",
       "  <tbody>\n",
       "    <tr>\n",
       "      <th>0</th>\n",
       "      <td>1337185315811860481</td>\n",
       "      <td>2020-12-10 23:59:57+00:00</td>\n",
       "      <td>@senseimitch @JaniceTXBlessed @kimfreethinker ...</td>\n",
       "      <td>1.0</td>\n",
       "    </tr>\n",
       "    <tr>\n",
       "      <th>1</th>\n",
       "      <td>1337185312628465667</td>\n",
       "      <td>2020-12-10 23:59:56+00:00</td>\n",
       "      <td>I was talking with a friend today and he said ...</td>\n",
       "      <td>1.0</td>\n",
       "    </tr>\n",
       "    <tr>\n",
       "      <th>2</th>\n",
       "      <td>1337185302134353923</td>\n",
       "      <td>2020-12-10 23:59:54+00:00</td>\n",
       "      <td>@donwinslow @Yahoo There is a virus not a pand...</td>\n",
       "      <td>0.0</td>\n",
       "    </tr>\n",
       "    <tr>\n",
       "      <th>...</th>\n",
       "      <td>...</td>\n",
       "      <td>...</td>\n",
       "      <td>...</td>\n",
       "      <td>...</td>\n",
       "    </tr>\n",
       "    <tr>\n",
       "      <th>774045</th>\n",
       "      <td>1220057393133957123</td>\n",
       "      <td>2020-01-22 18:55:24+00:00</td>\n",
       "      <td>@danielmarven Hey I Dannie and rona re an le d...</td>\n",
       "      <td>1.0</td>\n",
       "    </tr>\n",
       "    <tr>\n",
       "      <th>774046</th>\n",
       "      <td>1220056585797611520</td>\n",
       "      <td>2020-01-22 18:52:12+00:00</td>\n",
       "      <td>@KagisoMathole3 Hahaha. I held on till the fin...</td>\n",
       "      <td>1.0</td>\n",
       "    </tr>\n",
       "    <tr>\n",
       "      <th>774047</th>\n",
       "      <td>1220056351377772544</td>\n",
       "      <td>2020-01-22 18:51:16+00:00</td>\n",
       "      <td>RONA S &amp;#8211; XL Price: $ Link:</td>\n",
       "      <td>1.0</td>\n",
       "    </tr>\n",
       "  </tbody>\n",
       "</table>\n",
       "<p>774048 rows × 4 columns</p>\n",
       "</div>"
      ],
      "text/plain": [
       "                         id                 created_at  \\\n",
       "0       1337185315811860481  2020-12-10 23:59:57+00:00   \n",
       "1       1337185312628465667  2020-12-10 23:59:56+00:00   \n",
       "2       1337185302134353923  2020-12-10 23:59:54+00:00   \n",
       "...                     ...                        ...   \n",
       "774045  1220057393133957123  2020-01-22 18:55:24+00:00   \n",
       "774046  1220056585797611520  2020-01-22 18:52:12+00:00   \n",
       "774047  1220056351377772544  2020-01-22 18:51:16+00:00   \n",
       "\n",
       "                                                 contents  sentiment  \n",
       "0       @senseimitch @JaniceTXBlessed @kimfreethinker ...        1.0  \n",
       "1       I was talking with a friend today and he said ...        1.0  \n",
       "2       @donwinslow @Yahoo There is a virus not a pand...        0.0  \n",
       "...                                                   ...        ...  \n",
       "774045  @danielmarven Hey I Dannie and rona re an le d...        1.0  \n",
       "774046  @KagisoMathole3 Hahaha. I held on till the fin...        1.0  \n",
       "774047                   RONA S &#8211; XL Price: $ Link:        1.0  \n",
       "\n",
       "[774048 rows x 4 columns]"
      ]
     },
     "execution_count": 33,
     "metadata": {},
     "output_type": "execute_result"
    }
   ],
   "source": [
    "# now to carry out tfidf on the actual scraped tweets dataframe\n",
    "tfidf_scraped_tweets = tfidf.fit_transform(tpd['contents']).toarray()\n",
    "df_predicted_scraped_tweets = svm_model.predict(tfidf_scraped_tweets)\n",
    "\n",
    "tpd['sentiment'] = df_predicted_scraped_tweets\n",
    "tpd"
   ]
  },
  {
   "cell_type": "markdown",
   "metadata": {},
   "source": [
    "We then filter out the tweets that were classified with the sentiment value 2.0 which corresponds to the 'Hate' class, meaning hate towards Asian Americans."
   ]
  },
  {
   "cell_type": "code",
   "execution_count": 34,
   "metadata": {},
   "outputs": [
    {
     "data": {
      "text/html": [
       "<div>\n",
       "<style scoped>\n",
       "    .dataframe tbody tr th:only-of-type {\n",
       "        vertical-align: middle;\n",
       "    }\n",
       "\n",
       "    .dataframe tbody tr th {\n",
       "        vertical-align: top;\n",
       "    }\n",
       "\n",
       "    .dataframe thead th {\n",
       "        text-align: right;\n",
       "    }\n",
       "</style>\n",
       "<table border=\"1\" class=\"dataframe\">\n",
       "  <thead>\n",
       "    <tr style=\"text-align: right;\">\n",
       "      <th></th>\n",
       "      <th>id</th>\n",
       "      <th>created_at</th>\n",
       "      <th>contents</th>\n",
       "      <th>sentiment</th>\n",
       "    </tr>\n",
       "  </thead>\n",
       "  <tbody>\n",
       "    <tr>\n",
       "      <th>0</th>\n",
       "      <td>1337185185759113216</td>\n",
       "      <td>2020-12-10 23:59:26+00:00</td>\n",
       "      <td>A North Little Rock state representative has t...</td>\n",
       "      <td>2.0</td>\n",
       "    </tr>\n",
       "    <tr>\n",
       "      <th>1</th>\n",
       "      <td>1337185096286277633</td>\n",
       "      <td>2020-12-10 23:59:05+00:00</td>\n",
       "      <td>We spend a lot of time on our electronic devic...</td>\n",
       "      <td>2.0</td>\n",
       "    </tr>\n",
       "    <tr>\n",
       "      <th>2</th>\n",
       "      <td>1337185050123784192</td>\n",
       "      <td>2020-12-10 23:58:54+00:00</td>\n",
       "      <td>I think Im going to get the vaccine before the...</td>\n",
       "      <td>2.0</td>\n",
       "    </tr>\n",
       "    <tr>\n",
       "      <th>...</th>\n",
       "      <td>...</td>\n",
       "      <td>...</td>\n",
       "      <td>...</td>\n",
       "      <td>...</td>\n",
       "    </tr>\n",
       "    <tr>\n",
       "      <th>29825</th>\n",
       "      <td>1220096606508388352</td>\n",
       "      <td>2020-01-22 21:31:13+00:00</td>\n",
       "      <td>Hypocrisy: Vindu,kamya,etc all was justifying ...</td>\n",
       "      <td>2.0</td>\n",
       "    </tr>\n",
       "    <tr>\n",
       "      <th>29826</th>\n",
       "      <td>1220081878427848706</td>\n",
       "      <td>2020-01-22 20:32:42+00:00</td>\n",
       "      <td>Cheap tactics! Shukla isse aapki soch aur gand...</td>\n",
       "      <td>2.0</td>\n",
       "    </tr>\n",
       "    <tr>\n",
       "      <th>29827</th>\n",
       "      <td>1220067559321604098</td>\n",
       "      <td>2020-01-22 19:35:48+00:00</td>\n",
       "      <td>@bcruz_1 Your name is Brandoob Cruz youre a 21...</td>\n",
       "      <td>2.0</td>\n",
       "    </tr>\n",
       "  </tbody>\n",
       "</table>\n",
       "<p>29828 rows × 4 columns</p>\n",
       "</div>"
      ],
      "text/plain": [
       "                        id                 created_at  \\\n",
       "0      1337185185759113216  2020-12-10 23:59:26+00:00   \n",
       "1      1337185096286277633  2020-12-10 23:59:05+00:00   \n",
       "2      1337185050123784192  2020-12-10 23:58:54+00:00   \n",
       "...                    ...                        ...   \n",
       "29825  1220096606508388352  2020-01-22 21:31:13+00:00   \n",
       "29826  1220081878427848706  2020-01-22 20:32:42+00:00   \n",
       "29827  1220067559321604098  2020-01-22 19:35:48+00:00   \n",
       "\n",
       "                                                contents  sentiment  \n",
       "0      A North Little Rock state representative has t...        2.0  \n",
       "1      We spend a lot of time on our electronic devic...        2.0  \n",
       "2      I think Im going to get the vaccine before the...        2.0  \n",
       "...                                                  ...        ...  \n",
       "29825  Hypocrisy: Vindu,kamya,etc all was justifying ...        2.0  \n",
       "29826  Cheap tactics! Shukla isse aapki soch aur gand...        2.0  \n",
       "29827  @bcruz_1 Your name is Brandoob Cruz youre a 21...        2.0  \n",
       "\n",
       "[29828 rows x 4 columns]"
      ]
     },
     "execution_count": 34,
     "metadata": {},
     "output_type": "execute_result"
    }
   ],
   "source": [
    "# getting the tweets that was classified as negative/hate\n",
    "hate_tweets = tpd[tpd['sentiment'] == 2.0]\n",
    "hate_tweets.reset_index(drop=True, inplace=True)\n",
    "hate_tweets"
   ]
  },
  {
   "cell_type": "markdown",
   "metadata": {},
   "source": [
    "We removed the time from the date format in the 'created_at' column to make it more apparent which tweets came from which date."
   ]
  },
  {
   "cell_type": "code",
   "execution_count": 35,
   "metadata": {},
   "outputs": [
    {
     "data": {
      "text/plain": [
       "2020-06-26    160\n",
       "2020-01-24    134\n",
       "2020-05-24    132\n",
       "             ... \n",
       "2020-02-06     49\n",
       "2020-02-05     44\n",
       "2020-10-27     41\n",
       "Name: created_at, Length: 324, dtype: int64"
      ]
     },
     "execution_count": 35,
     "metadata": {},
     "output_type": "execute_result"
    }
   ],
   "source": [
    "hate_tweets['created_at'] = pd.to_datetime(hate_tweets['created_at']).dt.date\n",
    "hate_tweets['created_at'].value_counts()"
   ]
  },
  {
   "cell_type": "markdown",
   "metadata": {},
   "source": [
    "We convert the occurrences of 'Hate' tweets into a dataframe, with the rows aggregated by date to get the total number of predicted hate tweets for each day, and then sort the observations in ascending order of the 'date' column for processing."
   ]
  },
  {
   "cell_type": "code",
   "execution_count": 36,
   "metadata": {},
   "outputs": [
    {
     "data": {
      "text/html": [
       "<div>\n",
       "<style scoped>\n",
       "    .dataframe tbody tr th:only-of-type {\n",
       "        vertical-align: middle;\n",
       "    }\n",
       "\n",
       "    .dataframe tbody tr th {\n",
       "        vertical-align: top;\n",
       "    }\n",
       "\n",
       "    .dataframe thead th {\n",
       "        text-align: right;\n",
       "    }\n",
       "</style>\n",
       "<table border=\"1\" class=\"dataframe\">\n",
       "  <thead>\n",
       "    <tr style=\"text-align: right;\">\n",
       "      <th></th>\n",
       "      <th>date</th>\n",
       "      <th>hate_count</th>\n",
       "    </tr>\n",
       "  </thead>\n",
       "  <tbody>\n",
       "    <tr>\n",
       "      <th>0</th>\n",
       "      <td>2020-01-22</td>\n",
       "      <td>84</td>\n",
       "    </tr>\n",
       "    <tr>\n",
       "      <th>1</th>\n",
       "      <td>2020-01-23</td>\n",
       "      <td>85</td>\n",
       "    </tr>\n",
       "    <tr>\n",
       "      <th>2</th>\n",
       "      <td>2020-01-24</td>\n",
       "      <td>134</td>\n",
       "    </tr>\n",
       "    <tr>\n",
       "      <th>...</th>\n",
       "      <td>...</td>\n",
       "      <td>...</td>\n",
       "    </tr>\n",
       "    <tr>\n",
       "      <th>321</th>\n",
       "      <td>2020-12-08</td>\n",
       "      <td>92</td>\n",
       "    </tr>\n",
       "    <tr>\n",
       "      <th>322</th>\n",
       "      <td>2020-12-09</td>\n",
       "      <td>82</td>\n",
       "    </tr>\n",
       "    <tr>\n",
       "      <th>323</th>\n",
       "      <td>2020-12-10</td>\n",
       "      <td>88</td>\n",
       "    </tr>\n",
       "  </tbody>\n",
       "</table>\n",
       "<p>324 rows × 2 columns</p>\n",
       "</div>"
      ],
      "text/plain": [
       "          date  hate_count\n",
       "0   2020-01-22          84\n",
       "1   2020-01-23          85\n",
       "2   2020-01-24         134\n",
       "..         ...         ...\n",
       "321 2020-12-08          92\n",
       "322 2020-12-09          82\n",
       "323 2020-12-10          88\n",
       "\n",
       "[324 rows x 2 columns]"
      ]
     },
     "execution_count": 36,
     "metadata": {},
     "output_type": "execute_result"
    }
   ],
   "source": [
    "# convert the series to a dataframe\n",
    "date_data = []\n",
    "for date, numTweets in hate_tweets['created_at'].value_counts().iteritems():\n",
    "    date_data.append([date, numTweets])\n",
    "\n",
    "avg_df = pd.DataFrame(date_data, columns=['date', 'hate_count'])\n",
    "\n",
    "# sort by earliest date\n",
    "avg_df['date'] = pd.to_datetime(avg_df['date'])\n",
    "avg_df.sort_values(by='date', inplace=True)\n",
    "avg_df.reset_index(drop=True, inplace=True)\n",
    "\n",
    "avg_df"
   ]
  },
  {
   "cell_type": "markdown",
   "metadata": {},
   "source": [
    "Below, we calculate the 7-day moving average of the number of predicted hate tweets in correspondence with the COVID-19 daily trends graph. After plotting, we can then analyze if there are any similarities in trends between the moving average of predicted negative sentiment and the moving average of COVID-19 cases."
   ]
  },
  {
   "cell_type": "code",
   "execution_count": 37,
   "metadata": {},
   "outputs": [
    {
     "data": {
      "text/html": [
       "<div>\n",
       "<style scoped>\n",
       "    .dataframe tbody tr th:only-of-type {\n",
       "        vertical-align: middle;\n",
       "    }\n",
       "\n",
       "    .dataframe tbody tr th {\n",
       "        vertical-align: top;\n",
       "    }\n",
       "\n",
       "    .dataframe thead th {\n",
       "        text-align: right;\n",
       "    }\n",
       "</style>\n",
       "<table border=\"1\" class=\"dataframe\">\n",
       "  <thead>\n",
       "    <tr style=\"text-align: right;\">\n",
       "      <th></th>\n",
       "      <th>date</th>\n",
       "      <th>hate_count</th>\n",
       "      <th>average</th>\n",
       "    </tr>\n",
       "  </thead>\n",
       "  <tbody>\n",
       "    <tr>\n",
       "      <th>0</th>\n",
       "      <td>2020-01-22</td>\n",
       "      <td>84</td>\n",
       "      <td>NaN</td>\n",
       "    </tr>\n",
       "    <tr>\n",
       "      <th>1</th>\n",
       "      <td>2020-01-23</td>\n",
       "      <td>85</td>\n",
       "      <td>NaN</td>\n",
       "    </tr>\n",
       "    <tr>\n",
       "      <th>2</th>\n",
       "      <td>2020-01-24</td>\n",
       "      <td>134</td>\n",
       "      <td>NaN</td>\n",
       "    </tr>\n",
       "    <tr>\n",
       "      <th>...</th>\n",
       "      <td>...</td>\n",
       "      <td>...</td>\n",
       "      <td>...</td>\n",
       "    </tr>\n",
       "    <tr>\n",
       "      <th>321</th>\n",
       "      <td>2020-12-08</td>\n",
       "      <td>92</td>\n",
       "      <td>90.29</td>\n",
       "    </tr>\n",
       "    <tr>\n",
       "      <th>322</th>\n",
       "      <td>2020-12-09</td>\n",
       "      <td>82</td>\n",
       "      <td>88.71</td>\n",
       "    </tr>\n",
       "    <tr>\n",
       "      <th>323</th>\n",
       "      <td>2020-12-10</td>\n",
       "      <td>88</td>\n",
       "      <td>89.57</td>\n",
       "    </tr>\n",
       "  </tbody>\n",
       "</table>\n",
       "<p>324 rows × 3 columns</p>\n",
       "</div>"
      ],
      "text/plain": [
       "          date  hate_count  average\n",
       "0   2020-01-22          84      NaN\n",
       "1   2020-01-23          85      NaN\n",
       "2   2020-01-24         134      NaN\n",
       "..         ...         ...      ...\n",
       "321 2020-12-08          92    90.29\n",
       "322 2020-12-09          82    88.71\n",
       "323 2020-12-10          88    89.57\n",
       "\n",
       "[324 rows x 3 columns]"
      ]
     },
     "execution_count": 37,
     "metadata": {},
     "output_type": "execute_result"
    }
   ],
   "source": [
    "# calculate moving average of 7 days\n",
    "avg_df['average'] = avg_df['hate_count'].rolling(window=7).mean()\n",
    "avg_df"
   ]
  },
  {
   "cell_type": "markdown",
   "metadata": {},
   "source": [
    "Since we're calculating the moving average of 7 days, the first 6 days in the data frame will not have an average, thus we can drop it from the frame."
   ]
  },
  {
   "cell_type": "code",
   "execution_count": 38,
   "metadata": {},
   "outputs": [
    {
     "data": {
      "text/html": [
       "<div>\n",
       "<style scoped>\n",
       "    .dataframe tbody tr th:only-of-type {\n",
       "        vertical-align: middle;\n",
       "    }\n",
       "\n",
       "    .dataframe tbody tr th {\n",
       "        vertical-align: top;\n",
       "    }\n",
       "\n",
       "    .dataframe thead th {\n",
       "        text-align: right;\n",
       "    }\n",
       "</style>\n",
       "<table border=\"1\" class=\"dataframe\">\n",
       "  <thead>\n",
       "    <tr style=\"text-align: right;\">\n",
       "      <th></th>\n",
       "      <th>date</th>\n",
       "      <th>hate_count</th>\n",
       "      <th>average</th>\n",
       "    </tr>\n",
       "  </thead>\n",
       "  <tbody>\n",
       "    <tr>\n",
       "      <th>0</th>\n",
       "      <td>2020-01-28</td>\n",
       "      <td>104</td>\n",
       "      <td>90.00</td>\n",
       "    </tr>\n",
       "    <tr>\n",
       "      <th>1</th>\n",
       "      <td>2020-01-29</td>\n",
       "      <td>94</td>\n",
       "      <td>91.43</td>\n",
       "    </tr>\n",
       "    <tr>\n",
       "      <th>2</th>\n",
       "      <td>2020-01-30</td>\n",
       "      <td>72</td>\n",
       "      <td>89.57</td>\n",
       "    </tr>\n",
       "    <tr>\n",
       "      <th>...</th>\n",
       "      <td>...</td>\n",
       "      <td>...</td>\n",
       "      <td>...</td>\n",
       "    </tr>\n",
       "    <tr>\n",
       "      <th>315</th>\n",
       "      <td>2020-12-08</td>\n",
       "      <td>92</td>\n",
       "      <td>90.29</td>\n",
       "    </tr>\n",
       "    <tr>\n",
       "      <th>316</th>\n",
       "      <td>2020-12-09</td>\n",
       "      <td>82</td>\n",
       "      <td>88.71</td>\n",
       "    </tr>\n",
       "    <tr>\n",
       "      <th>317</th>\n",
       "      <td>2020-12-10</td>\n",
       "      <td>88</td>\n",
       "      <td>89.57</td>\n",
       "    </tr>\n",
       "  </tbody>\n",
       "</table>\n",
       "<p>318 rows × 3 columns</p>\n",
       "</div>"
      ],
      "text/plain": [
       "          date  hate_count  average\n",
       "0   2020-01-28         104    90.00\n",
       "1   2020-01-29          94    91.43\n",
       "2   2020-01-30          72    89.57\n",
       "..         ...         ...      ...\n",
       "315 2020-12-08          92    90.29\n",
       "316 2020-12-09          82    88.71\n",
       "317 2020-12-10          88    89.57\n",
       "\n",
       "[318 rows x 3 columns]"
      ]
     },
     "execution_count": 38,
     "metadata": {},
     "output_type": "execute_result"
    }
   ],
   "source": [
    "# since the first 6 days won't have a moving average, we can't use it for the graph\n",
    "avg_df = avg_df[pd.notnull(avg_df['average'])]\n",
    "avg_df.reset_index(drop=True, inplace=True)\n",
    "\n",
    "avg_df"
   ]
  },
  {
   "cell_type": "code",
   "execution_count": 39,
   "metadata": {
    "scrolled": false
   },
   "outputs": [
    {
     "data": {
      "image/png": "[encoded data removed]",
      "text/plain": [
       "<Figure size 1152x648 with 1 Axes>"
      ]
     },
     "metadata": {},
     "output_type": "display_data"
    }
   ],
   "source": [
    "# plt.grid(b=None) # grid line\n",
    "ax = sns.lineplot(data=avg_df, x='date', y='average', lw=4)\n",
    "ax.xaxis.set_major_locator(mdates.MonthLocator(interval=2)) # display every 2 months\n",
    "ax.xaxis.set_major_formatter(mdates.DateFormatter('%b %d'))\n",
    "plt.xlabel('Date')\n",
    "plt.ylabel('Hate Tweets')\n",
    "plt.title('\\n'.join(wrap('Daily Trends in Predicted Number of Hate Tweets Toward Asian-Americans in the US')))\n",
    "\n",
    "# highlight the peaks of covid cases into this graph\n",
    "plt.axvspan('2020-03-01', '2020-04-19', alpha=0.3, color='y')\n",
    "plt.axvspan('2020-06-20', '2020-08-01', alpha=0.3, color='y')\n",
    "plt.axvspan('2020-09-14', '2020-11-26', alpha=0.3, color='y')\n",
    "plt.show()"
   ]
  },
  {
   "cell_type": "markdown",
   "metadata": {},
   "source": [
    "This graph depicts our model's predictions of how many hate tweets there are in a given day. The **highlighted** areas are where the daily trends in the amount of U.S. COVID-19 cases spiked. The first two highlighted regions are in line with our hypothesis; with a peak in COVID-19 cases, we can see that our model predicts an increase in the amount of anti-Asian tweets. However, our model predicts that there is no spike in the last highlighted region, contrasting the last two surges in COVID-19 cases. This suggests one of two things: the first being the model isn't entirely accurate. This could be due to the training set being too small (1200 tweets) for the amount of tweets that were scraped (~700k tweets). The second reason the model doesn't predict a spike in hate tweets here is due to the possiblity of the American mindset changing. The fluctuation of hate tweets over the last highlighted region suggests a shift in the American mindset about who to blame for COVID-19."
   ]
  },
  {
   "cell_type": "markdown",
   "metadata": {},
   "source": [
    "Next, we want to calculate which of the keywords that we searched for was most prevalent in our scraped tweets. Below, we calculate the number of occurrences of each keyword."
   ]
  },
  {
   "cell_type": "code",
   "execution_count": 40,
   "metadata": {},
   "outputs": [
    {
     "data": {
      "text/plain": [
       "{'virus': 4965,\n",
       " 'covid': 854,\n",
       " 'chinese virus': 67,\n",
       " 'quarantine': 7382,\n",
       " 'rona': 1280}"
      ]
     },
     "execution_count": 40,
     "metadata": {},
     "output_type": "execute_result"
    }
   ],
   "source": [
    "occurrences = {} # we want to see how many times were each keyword used\n",
    "\n",
    "# initialize our dictionary\n",
    "for word in keywords:\n",
    "    occurrences[word] = 0\n",
    "\n",
    "# iterate through every row to check tweet for any occurrences\n",
    "for i in range(len(hate_tweets)):\n",
    "    content = hate_tweets.loc[i]['contents']\n",
    "    words = content.split()\n",
    "    \n",
    "    # check if any of the keywords were used\n",
    "    for word in keywords:\n",
    "        if word in words:\n",
    "            occurrences[word] += 1\n",
    "\n",
    "# we need to account for keywords that are two words as well\n",
    "for i in range(len(hate_tweets)):\n",
    "    content = hate_tweets.loc[i]['contents']\n",
    "    words = content.split()\n",
    "    grouped_words = [' '.join(words[i: i + 2]) for i in range(0, len(words), 2)]\n",
    "    \n",
    "    for word in keywords:\n",
    "        if len(word.split()) == 2:\n",
    "            if word in grouped_words:\n",
    "                occurrences[word] += 1\n",
    "                \n",
    "occurrences"
   ]
  },
  {
   "cell_type": "markdown",
   "metadata": {},
   "source": [
    "Next, we convert the number of occurrences for each keyword into a dataframe for plotting purposes."
   ]
  },
  {
   "cell_type": "code",
   "execution_count": 41,
   "metadata": {},
   "outputs": [
    {
     "data": {
      "text/html": [
       "<div>\n",
       "<style scoped>\n",
       "    .dataframe tbody tr th:only-of-type {\n",
       "        vertical-align: middle;\n",
       "    }\n",
       "\n",
       "    .dataframe tbody tr th {\n",
       "        vertical-align: top;\n",
       "    }\n",
       "\n",
       "    .dataframe thead th {\n",
       "        text-align: right;\n",
       "    }\n",
       "</style>\n",
       "<table border=\"1\" class=\"dataframe\">\n",
       "  <thead>\n",
       "    <tr style=\"text-align: right;\">\n",
       "      <th></th>\n",
       "      <th>keyword</th>\n",
       "      <th>occurrences</th>\n",
       "    </tr>\n",
       "  </thead>\n",
       "  <tbody>\n",
       "    <tr>\n",
       "      <th>0</th>\n",
       "      <td>quarantine</td>\n",
       "      <td>7382</td>\n",
       "    </tr>\n",
       "    <tr>\n",
       "      <th>1</th>\n",
       "      <td>virus</td>\n",
       "      <td>4965</td>\n",
       "    </tr>\n",
       "    <tr>\n",
       "      <th>2</th>\n",
       "      <td>rona</td>\n",
       "      <td>1280</td>\n",
       "    </tr>\n",
       "    <tr>\n",
       "      <th>3</th>\n",
       "      <td>covid</td>\n",
       "      <td>854</td>\n",
       "    </tr>\n",
       "    <tr>\n",
       "      <th>4</th>\n",
       "      <td>chinese virus</td>\n",
       "      <td>67</td>\n",
       "    </tr>\n",
       "  </tbody>\n",
       "</table>\n",
       "</div>"
      ],
      "text/plain": [
       "         keyword  occurrences\n",
       "0     quarantine         7382\n",
       "1          virus         4965\n",
       "2           rona         1280\n",
       "3          covid          854\n",
       "4  chinese virus           67"
      ]
     },
     "execution_count": 41,
     "metadata": {},
     "output_type": "execute_result"
    }
   ],
   "source": [
    "# convert our dictionary to a dataframe\n",
    "frequent_data = []\n",
    "for keyword, numTweets in occurrences.items():\n",
    "    frequent_data.append([keyword, numTweets])\n",
    "\n",
    "frequent_df = pd.DataFrame(frequent_data, columns=['keyword', 'occurrences'])\n",
    "frequent_df.sort_values(by='occurrences', inplace=True, ascending=False)\n",
    "frequent_df.reset_index(drop=True, inplace=True)\n",
    "\n",
    "frequent_df"
   ]
  },
  {
   "cell_type": "code",
   "execution_count": 42,
   "metadata": {},
   "outputs": [
    {
     "data": {
      "image/png": "[encoded data removed]",
      "text/plain": [
       "<Figure size 1152x648 with 1 Axes>"
      ]
     },
     "metadata": {},
     "output_type": "display_data"
    }
   ],
   "source": [
    "# plt.grid(b=None) # grid line\n",
    "ax = sns.barplot(data=frequent_df, x='occurrences', y='keyword')\n",
    "plt.xlabel('Occurrences')\n",
    "plt.ylabel('Keyword')\n",
    "plt.title('Frequency of Keywords in Predicted Hate Tweets')\n",
    "\n",
    "plt.show()"
   ]
  },
  {
   "cell_type": "markdown",
   "metadata": {},
   "source": [
    "This visualization explicitly shows that the foremost keyword 'quarantine' had the most occurrences. Our model suggests that Americans may be projecting their dislike towards quarantine onto the Asian American community. Secondly, the next highest keywords of 'virus', 'rona', 'covid' could suggest Americans projecting their anxiety towards coronavirus onto the Asian American community."
   ]
  },
  {
   "cell_type": "markdown",
   "metadata": {},
   "source": [
    "# Ethics & Privacy"
   ]
  },
  {
   "cell_type": "markdown",
   "metadata": {},
   "source": [
    "This project uses publicly available data by scraping from the social media site Twitter. While there may be privacy concerns in terms of revealing personally identifiable information such as account names and other background information from users' biographies, those with public accounts have already consented to and made aware of within the social media' terms and conditions.\n",
    "\n",
    "Scraping tweets may be potentially biased in that social media sites often feature the most popular posts from the most interacted with accounts first, which may skew the data towards more popular, radicalized perspectives. These tweets may include racially charged sentiment with high numbers of engagements, causing increased measures of negativity and hate to be interpreted in the analysis. Additionally, the keywords that were used in searching for specific tweets to scrape from Twitter are originally referenced from a reputable source as to avoid subjectivity in the tweets that are analyzed. We have cited the articles we used in finding these keywords. Because we are specifically analyzing negative tweets, we knew that our data would involve sensitive and radical language. In the event that our scraped tweets show an inverse relationship (shows positive sentiment), it may involve Twitter’s role in “hiding” or deleting sensitive and flagged tweets.\n",
    "\n",
    "Finally, the intended purpose of this analysis is not to highlight or favor a single demographic but rather to perform general case study, as all groups—regardless of race—are impacted by COVID-19. In the event that our data portrays a great deal of racially negative comments, we recognize that this can cause more harmful effects towards not only Asian but all communities. This can be harmful because these negative tweets can shape one’s perspective towards another community and culture,  consequently creating implicit biases and stereotypes.  However, this is not what we intend for. We hope that this analysis could potentially and directly benefit the Twitter community and social media users in general as it would shed light on the harmful effects of racially charged sentiments. Consequently, this could make Twitter users more cognizant of how their words could be hurtful to a minority group and help spread their awareness to others. "
   ]
  },
  {
   "cell_type": "markdown",
   "metadata": {},
   "source": [
    "\n",
    "# Conclusion"
   ]
  },
  {
   "cell_type": "markdown",
   "metadata": {},
   "source": [
    "### Question: What is the relationship between the rise of COVID-19 cases in the U.S. during the pandemic and the increase of negative sentiment towards the Asian-American community on Twitter in the form of content and keywords?"
   ]
  },
  {
   "cell_type": "markdown",
   "metadata": {},
   "source": [
    "After an analysis of our model, there seems to not be a clear relationship between the rise of COVID-19 cases and the increase of negative sentiment towards the Asian-American community.\n",
    "\n",
    "Though we hypothesized that an increase in COVID cases would be correlated with an increase in negative sentiment towards Asian Americans on Twitter, we were surprised to see a large variance in tweet sentiment during the pandemic, even though negativity towards Asians seemed to be spotlighted in media."
   ]
  },
  {
   "cell_type": "markdown",
   "metadata": {},
   "source": [
    "### Limitations"
   ]
  },
  {
   "cell_type": "markdown",
   "metadata": {},
   "source": [
    "Our project has many limitations. This includes the inaccuracy of our model due to the size of our training data and that we used a linear kernel when the data may not be linearly classifiable. Furthermore, TF-IDF may have actually reduced the accuracy of our model because we scraped tweets based on certain keywords, meaning that they might have had higher frequency than other stopwords and be weighted less due to the inverse document frequency. In addition, due to limitiations in time it takes to scrape and computing power, our analysis is not entirely accurate because we only scraped ~500 tweets per day, with 5 keywords as our query, when in fact millions are posted a day. Thus, we have most likely not captured the actual overall sentiment of all tweets during the pandemic.\n",
    "\n"
   ]
  },
  {
   "cell_type": "markdown",
   "metadata": {},
   "source": [
    "### Final Thoughts"
   ]
  },
  {
   "cell_type": "markdown",
   "metadata": {},
   "source": [
    "Overall, we were not able to find a correlation between the rise of COVID-19 cases and the increase of negative sentiment towards the Asian-American community. Despite our findings, it is still important to realize the role social media has on the racialization of not only Asian Americans, but for any group of people. We realized that scraping and training a model to analyze sentiment was more complicated than we hypothesized and we hope that our attempted analysis can help others in developing a better model to analyze anti-Asian sentiment on Twitter and other social media platforms.\n",
    "\n"
   ]
  },
  {
   "cell_type": "markdown",
   "metadata": {},
   "source": [
    "# Team Contributions"
   ]
  },
  {
   "cell_type": "markdown",
   "metadata": {},
   "source": [
    "Jeffrey Ha\n",
    "- Tweet Scraping\n",
    "- Data Visualization\n",
    "\n",
    "David Ma\n",
    "- Research Question\n",
    "- Tweet Scraping\n",
    "- Visualization Analysis\n",
    "- Model Application\n",
    "\n",
    "Mary Nguyen\n",
    "- Model Training & Analysis\n",
    "- EDA\n",
    "\n",
    "Jason Win\n",
    "- Model Application\n",
    "- Tweet Scraping\n",
    "\n",
    "Sidi Xu\n",
    "- Model Training & Analysis\n",
    "- Visualization Analysis\n",
    "- EDA"
   ]
  }
 ],
 "metadata": {
  "kernelspec": {
   "display_name": "Python 3",
   "language": "python",
   "name": "python3"
  },
  "language_info": {
   "codemirror_mode": {
    "name": "ipython",
    "version": 3
   },
   "file_extension": ".py",
   "mimetype": "text/x-python",
   "name": "python",
   "nbconvert_exporter": "python",
   "pygments_lexer": "ipython3",
   "version": "3.7.9"
  }
 },
 "nbformat": 4,
 "nbformat_minor": 2
}
